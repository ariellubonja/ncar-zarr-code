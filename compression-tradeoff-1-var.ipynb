{
 "cells": [
  {
   "cell_type": "code",
   "execution_count": 13,
   "metadata": {},
   "outputs": [
    {
     "data": {
      "text/plain": [
       "'2.13.2'"
      ]
     },
     "execution_count": 13,
     "metadata": {},
     "output_type": "execute_result"
    }
   ],
   "source": [
    "import zarr # Check version\n",
    "import numpy as np\n",
    "\n",
    "zarr.__version__"
   ]
  },
  {
   "cell_type": "code",
   "execution_count": 14,
   "metadata": {},
   "outputs": [],
   "source": [
    "ncar_data = zarr.open(\"sciserver-experimental/ariel/tests\")"
   ]
  },
  {
   "cell_type": "code",
   "execution_count": 3,
   "metadata": {},
   "outputs": [
    {
     "data": {
      "text/html": [
       "<table class=\"zarr-info\"><tbody><tr><th style=\"text-align: left\">Name</th><td style=\"text-align: left\">/</td></tr><tr><th style=\"text-align: left\">Type</th><td style=\"text-align: left\">zarr.hierarchy.Group</td></tr><tr><th style=\"text-align: left\">Read-only</th><td style=\"text-align: left\">False</td></tr><tr><th style=\"text-align: left\">Store type</th><td style=\"text-align: left\">zarr.storage.DirectoryStore</td></tr><tr><th style=\"text-align: left\">No. members</th><td style=\"text-align: left\">6</td></tr><tr><th style=\"text-align: left\">No. arrays</th><td style=\"text-align: left\">6</td></tr><tr><th style=\"text-align: left\">No. groups</th><td style=\"text-align: left\">0</td></tr><tr><th style=\"text-align: left\">Arrays</th><td style=\"text-align: left\">e, p, t, u, v, w</td></tr></tbody></table>"
      ],
      "text/plain": [
       "Name        : /\n",
       "Type        : zarr.hierarchy.Group\n",
       "Read-only   : False\n",
       "Store type  : zarr.storage.DirectoryStore\n",
       "No. members : 6\n",
       "No. arrays  : 6\n",
       "No. groups  : 0\n",
       "Arrays      : e, p, t, u, v, w"
      ]
     },
     "execution_count": 3,
     "metadata": {},
     "output_type": "execute_result"
    }
   ],
   "source": [
    "ncar_data.info"
   ]
  },
  {
   "cell_type": "markdown",
   "metadata": {},
   "source": [
    "<font color=\"orange\">ok, the data is compressed. Let's test access time</font>"
   ]
  },
  {
   "cell_type": "code",
   "execution_count": null,
   "metadata": {},
   "outputs": [],
   "source": [
    "chunk_size = 2**i"
   ]
  },
  {
   "cell_type": "code",
   "execution_count": 17,
   "metadata": {},
   "outputs": [
    {
     "name": "stdout",
     "output_type": "stream",
     "text": [
      "Chunk Size:  16.0  MB\n"
     ]
    }
   ],
   "source": [
    "chunk_size = (256, 256, 256)\n",
    "print(\"Chunk Size: \", np.product(np.array(chunk_size)) / (1024**2), \" MB\")"
   ]
  },
  {
   "cell_type": "markdown",
   "metadata": {},
   "source": [
    "## Note: Chunk size = 256^3"
   ]
  },
  {
   "cell_type": "code",
   "execution_count": 18,
   "metadata": {},
   "outputs": [],
   "source": [
    "a = np.empty(shape=(chunk_size))"
   ]
  },
  {
   "cell_type": "code",
   "execution_count": 19,
   "metadata": {},
   "outputs": [
    {
     "name": "stdout",
     "output_type": "stream",
     "text": [
      "1.06 s ± 0 ns per loop (mean ± std. dev. of 1 run, 1 loop each)\n"
     ]
    },
    {
     "data": {
      "text/plain": [
       "<TimeitResult : 1.06 s ± 0 ns per loop (mean ± std. dev. of 1 run, 1 loop each)>"
      ]
     },
     "execution_count": 19,
     "metadata": {},
     "output_type": "execute_result"
    }
   ],
   "source": [
    "%%timeit -o -n 1 -r 1\n",
    "\n",
    "# _ = ncar_data['t'][:256,:256,:256]\n",
    "_ = ncar_data['e'][0,0,0]"
   ]
  },
  {
   "cell_type": "code",
   "execution_count": 20,
   "metadata": {},
   "outputs": [
    {
     "name": "stdout",
     "output_type": "stream",
     "text": [
      "162 ms ± 0 ns per loop (mean ± std. dev. of 1 run, 1 loop each)\n"
     ]
    },
    {
     "data": {
      "text/plain": [
       "<TimeitResult : 162 ms ± 0 ns per loop (mean ± std. dev. of 1 run, 1 loop each)>"
      ]
     },
     "execution_count": 20,
     "metadata": {},
     "output_type": "execute_result"
    }
   ],
   "source": [
    "%%timeit -o -n 1 -r 1\n",
    "\n",
    "# _ = ncar_data['t'][:256,:256,:256]\n",
    "_ = ncar_data['e'][0,0,0]"
   ]
  },
  {
   "cell_type": "markdown",
   "metadata": {},
   "source": [
    "## Cold Cache - Energy (2.5 Storage Ratio)"
   ]
  },
  {
   "cell_type": "code",
   "execution_count": 12,
   "metadata": {},
   "outputs": [
    {
     "name": "stdout",
     "output_type": "stream",
     "text": [
      "364 ms ± 0 ns per loop (mean ± std. dev. of 1 run, 1 loop each)\n"
     ]
    },
    {
     "data": {
      "text/plain": [
       "<TimeitResult : 364 ms ± 0 ns per loop (mean ± std. dev. of 1 run, 1 loop each)>"
      ]
     },
     "execution_count": 12,
     "metadata": {},
     "output_type": "execute_result"
    }
   ],
   "source": [
    "%%timeit -o -n 1 -r 1\n",
    "\n",
    "# _ = ncar_data['t'][:256,:256,:256]\n",
    "_ = ncar_data['e'][256:512,256:512,256:512]"
   ]
  },
  {
   "cell_type": "markdown",
   "metadata": {},
   "source": [
    "<font color=\"orange\">Make sure to only access across chunks if you want to</font>\n",
    "\n",
    "## Warm Access - Energy"
   ]
  },
  {
   "cell_type": "code",
   "execution_count": 21,
   "metadata": {},
   "outputs": [
    {
     "name": "stdout",
     "output_type": "stream",
     "text": [
      "75.8 ms ± 2.15 ms per loop (mean ± std. dev. of 7 runs, 1 loop each)\n"
     ]
    },
    {
     "data": {
      "text/plain": [
       "<TimeitResult : 75.8 ms ± 2.15 ms per loop (mean ± std. dev. of 7 runs, 1 loop each)>"
      ]
     },
     "execution_count": 21,
     "metadata": {},
     "output_type": "execute_result"
    }
   ],
   "source": [
    "%%timeit -o\n",
    "\n",
    "# _ = ncar_data['t'][:256,:256,:256]\n",
    "_ = ncar_data['e'][256:512,256:512,256:512]"
   ]
  },
  {
   "cell_type": "code",
   "execution_count": 22,
   "metadata": {},
   "outputs": [
    {
     "data": {
      "text/plain": [
       "[0.07929545198567212,\n",
       " 0.0744368489831686,\n",
       " 0.07887243898585439,\n",
       " 0.07347628800198436,\n",
       " 0.0744009199552238,\n",
       " 0.07455734792165458,\n",
       " 0.07582756597548723]"
      ]
     },
     "execution_count": 22,
     "metadata": {},
     "output_type": "execute_result"
    }
   ],
   "source": [
    "# _ gets previous output\n",
    "_.all_runs"
   ]
  },
  {
   "cell_type": "markdown",
   "metadata": {},
   "source": [
    "## Cold Cache - Temp (1.8 Storage Ratio)"
   ]
  },
  {
   "cell_type": "code",
   "execution_count": 3,
   "metadata": {},
   "outputs": [
    {
     "name": "stdout",
     "output_type": "stream",
     "text": [
      "728 ms ± 0 ns per loop (mean ± std. dev. of 1 run, 1 loop each)\n"
     ]
    },
    {
     "data": {
      "text/plain": [
       "<TimeitResult : 728 ms ± 0 ns per loop (mean ± std. dev. of 1 run, 1 loop each)>"
      ]
     },
     "execution_count": 3,
     "metadata": {},
     "output_type": "execute_result"
    }
   ],
   "source": [
    "%%timeit -o -n 1 -r 1\n",
    "\n",
    "a = ncar_data['t'][1024:1280,768:1024,512:768]"
   ]
  },
  {
   "cell_type": "markdown",
   "metadata": {},
   "source": [
    "## Warm access - Temp"
   ]
  },
  {
   "cell_type": "code",
   "execution_count": 4,
   "metadata": {},
   "outputs": [
    {
     "name": "stdout",
     "output_type": "stream",
     "text": [
      "40.1 ms ± 1.57 ms per loop (mean ± std. dev. of 7 runs, 10 loops each)\n"
     ]
    },
    {
     "data": {
      "text/plain": [
       "<TimeitResult : 40.1 ms ± 1.57 ms per loop (mean ± std. dev. of 7 runs, 10 loops each)>"
      ]
     },
     "execution_count": 4,
     "metadata": {},
     "output_type": "execute_result"
    }
   ],
   "source": [
    "%%timeit -o\n",
    "\n",
    "a = ncar_data['t'][1024:1280,768:1024,512:768]"
   ]
  },
  {
   "cell_type": "markdown",
   "metadata": {},
   "source": [
    "## Cold access - w (Storage Ratio 1.3)"
   ]
  },
  {
   "cell_type": "code",
   "execution_count": 5,
   "metadata": {},
   "outputs": [
    {
     "name": "stdout",
     "output_type": "stream",
     "text": [
      "434 ms ± 0 ns per loop (mean ± std. dev. of 1 run, 1 loop each)\n"
     ]
    },
    {
     "data": {
      "text/plain": [
       "<TimeitResult : 434 ms ± 0 ns per loop (mean ± std. dev. of 1 run, 1 loop each)>"
      ]
     },
     "execution_count": 5,
     "metadata": {},
     "output_type": "execute_result"
    }
   ],
   "source": [
    "%%timeit -o -n 1 -r 1\n",
    "\n",
    "_ = ncar_data['w'][:256,:256,:256]"
   ]
  },
  {
   "cell_type": "markdown",
   "metadata": {},
   "source": [
    "## Warm access - w"
   ]
  },
  {
   "cell_type": "code",
   "execution_count": 6,
   "metadata": {},
   "outputs": [
    {
     "name": "stdout",
     "output_type": "stream",
     "text": [
      "78.8 ms ± 1.9 ms per loop (mean ± std. dev. of 7 runs, 10 loops each)\n"
     ]
    },
    {
     "data": {
      "text/plain": [
       "<TimeitResult : 78.8 ms ± 1.9 ms per loop (mean ± std. dev. of 7 runs, 10 loops each)>"
      ]
     },
     "execution_count": 6,
     "metadata": {},
     "output_type": "execute_result"
    }
   ],
   "source": [
    "%%timeit -o\n",
    "\n",
    "_ = ncar_data['w'][:256,:256,:256]"
   ]
  },
  {
   "cell_type": "code",
   "execution_count": 53,
   "metadata": {},
   "outputs": [],
   "source": [
    "# Need to write uncompressed data - ignore in later runs\n",
    "# fsstore = zarr.storage.FSStore('ncar_zarr_uncompressed/e')"
   ]
  },
  {
   "cell_type": "code",
   "execution_count": 59,
   "metadata": {},
   "outputs": [],
   "source": [
    "# https://zarr.readthedocs.io/en/stable/api/creation.html#zarr.creation.array\n",
    "\n",
    "# e_arr = zarr.creation.array(ncar_data['e'], compressor=None)"
   ]
  },
  {
   "cell_type": "code",
   "execution_count": 7,
   "metadata": {},
   "outputs": [],
   "source": [
    "# e_arr.info"
   ]
  },
  {
   "cell_type": "code",
   "execution_count": 69,
   "metadata": {},
   "outputs": [],
   "source": [
    "# # https://github.com/zarr-developers/zarr-python/issues/472\n",
    "# zarr.save_array(\"ncar_zarr_uncompressed/e\", e_arr, compressor=None)"
   ]
  },
  {
   "cell_type": "code",
   "execution_count": 8,
   "metadata": {},
   "outputs": [],
   "source": [
    "ncar_e_uncompressed = zarr.open(\"ncar_zarr_uncompressed/e\")"
   ]
  },
  {
   "cell_type": "code",
   "execution_count": 9,
   "metadata": {},
   "outputs": [
    {
     "data": {
      "text/html": [
       "<table class=\"zarr-info\"><tbody><tr><th style=\"text-align: left\">Type</th><td style=\"text-align: left\">zarr.core.Array</td></tr><tr><th style=\"text-align: left\">Data type</th><td style=\"text-align: left\">float32</td></tr><tr><th style=\"text-align: left\">Shape</th><td style=\"text-align: left\">(2048, 2048, 2048)</td></tr><tr><th style=\"text-align: left\">Chunk shape</th><td style=\"text-align: left\">(256, 256, 256)</td></tr><tr><th style=\"text-align: left\">Order</th><td style=\"text-align: left\">C</td></tr><tr><th style=\"text-align: left\">Read-only</th><td style=\"text-align: left\">False</td></tr><tr><th style=\"text-align: left\">Compressor</th><td style=\"text-align: left\">None</td></tr><tr><th style=\"text-align: left\">Store type</th><td style=\"text-align: left\">zarr.storage.DirectoryStore</td></tr><tr><th style=\"text-align: left\">No. bytes</th><td style=\"text-align: left\">34359738368 (32.0G)</td></tr><tr><th style=\"text-align: left\">No. bytes stored</th><td style=\"text-align: left\">34359738622 (32.0G)</td></tr><tr><th style=\"text-align: left\">Storage ratio</th><td style=\"text-align: left\">1.0</td></tr><tr><th style=\"text-align: left\">Chunks initialized</th><td style=\"text-align: left\">512/512</td></tr></tbody></table>"
      ],
      "text/plain": [
       "Type               : zarr.core.Array\n",
       "Data type          : float32\n",
       "Shape              : (2048, 2048, 2048)\n",
       "Chunk shape        : (256, 256, 256)\n",
       "Order              : C\n",
       "Read-only          : False\n",
       "Compressor         : None\n",
       "Store type         : zarr.storage.DirectoryStore\n",
       "No. bytes          : 34359738368 (32.0G)\n",
       "No. bytes stored   : 34359738622 (32.0G)\n",
       "Storage ratio      : 1.0\n",
       "Chunks initialized : 512/512"
      ]
     },
     "execution_count": 9,
     "metadata": {},
     "output_type": "execute_result"
    }
   ],
   "source": [
    "ncar_e_uncompressed.info"
   ]
  },
  {
   "cell_type": "markdown",
   "metadata": {},
   "source": [
    "### Cold access - Energy Uncompressed\n",
    "\n",
    "<font color=\"orange\">Timeit runs multiple times. Filesystem should be able to cache better</font>"
   ]
  },
  {
   "cell_type": "code",
   "execution_count": 10,
   "metadata": {},
   "outputs": [
    {
     "name": "stdout",
     "output_type": "stream",
     "text": [
      "504 ms ± 0 ns per loop (mean ± std. dev. of 1 run, 1 loop each)\n"
     ]
    },
    {
     "data": {
      "text/plain": [
       "<TimeitResult : 504 ms ± 0 ns per loop (mean ± std. dev. of 1 run, 1 loop each)>"
      ]
     },
     "execution_count": 10,
     "metadata": {},
     "output_type": "execute_result"
    }
   ],
   "source": [
    "%%timeit -o -n 1 -r 1\n",
    "\n",
    "_ = ncar_e_uncompressed[:256,:256,:256]"
   ]
  },
  {
   "cell_type": "markdown",
   "metadata": {},
   "source": [
    "## Warm access - Energy Uncompressed"
   ]
  },
  {
   "cell_type": "code",
   "execution_count": 11,
   "metadata": {},
   "outputs": [
    {
     "name": "stdout",
     "output_type": "stream",
     "text": [
      "136 ms ± 586 µs per loop (mean ± std. dev. of 7 runs, 10 loops each)\n"
     ]
    },
    {
     "data": {
      "text/plain": [
       "<TimeitResult : 136 ms ± 586 µs per loop (mean ± std. dev. of 7 runs, 10 loops each)>"
      ]
     },
     "execution_count": 11,
     "metadata": {},
     "output_type": "execute_result"
    }
   ],
   "source": [
    "%%timeit -o\n",
    "\n",
    "_ = ncar_e_uncompressed[:256,:256,:256]"
   ]
  },
  {
   "cell_type": "code",
   "execution_count": 12,
   "metadata": {},
   "outputs": [
    {
     "data": {
      "text/plain": [
       "[1.3577309621032327,\n",
       " 1.3584185810759664,\n",
       " 1.364055837970227,\n",
       " 1.3720491729909554,\n",
       " 1.3634938159957528,\n",
       " 1.3642271049320698,\n",
       " 1.374529485940002]"
      ]
     },
     "execution_count": 12,
     "metadata": {},
     "output_type": "execute_result"
    }
   ],
   "source": [
    "_.all_runs"
   ]
  },
  {
   "cell_type": "markdown",
   "metadata": {},
   "source": [
    "## t-var. Uncompressed - Cold"
   ]
  },
  {
   "cell_type": "code",
   "execution_count": 120,
   "metadata": {},
   "outputs": [],
   "source": [
    "# https://github.com/zarr-developers/zarr-python/issues/472\n",
    "# zarr.save_array(\"ncar_zarr_uncompressed/t\", ncar_data['t'], compressor=None)"
   ]
  },
  {
   "cell_type": "code",
   "execution_count": 13,
   "metadata": {},
   "outputs": [
    {
     "data": {
      "text/html": [
       "<table class=\"zarr-info\"><tbody><tr><th style=\"text-align: left\">Type</th><td style=\"text-align: left\">zarr.core.Array</td></tr><tr><th style=\"text-align: left\">Data type</th><td style=\"text-align: left\">float32</td></tr><tr><th style=\"text-align: left\">Shape</th><td style=\"text-align: left\">(2048, 2048, 2048)</td></tr><tr><th style=\"text-align: left\">Chunk shape</th><td style=\"text-align: left\">(256, 256, 256)</td></tr><tr><th style=\"text-align: left\">Order</th><td style=\"text-align: left\">C</td></tr><tr><th style=\"text-align: left\">Read-only</th><td style=\"text-align: left\">False</td></tr><tr><th style=\"text-align: left\">Compressor</th><td style=\"text-align: left\">None</td></tr><tr><th style=\"text-align: left\">Store type</th><td style=\"text-align: left\">zarr.storage.DirectoryStore</td></tr><tr><th style=\"text-align: left\">No. bytes</th><td style=\"text-align: left\">34359738368 (32.0G)</td></tr><tr><th style=\"text-align: left\">No. bytes stored</th><td style=\"text-align: left\">34359738622 (32.0G)</td></tr><tr><th style=\"text-align: left\">Storage ratio</th><td style=\"text-align: left\">1.0</td></tr><tr><th style=\"text-align: left\">Chunks initialized</th><td style=\"text-align: left\">512/512</td></tr></tbody></table>"
      ],
      "text/plain": [
       "Type               : zarr.core.Array\n",
       "Data type          : float32\n",
       "Shape              : (2048, 2048, 2048)\n",
       "Chunk shape        : (256, 256, 256)\n",
       "Order              : C\n",
       "Read-only          : False\n",
       "Compressor         : None\n",
       "Store type         : zarr.storage.DirectoryStore\n",
       "No. bytes          : 34359738368 (32.0G)\n",
       "No. bytes stored   : 34359738622 (32.0G)\n",
       "Storage ratio      : 1.0\n",
       "Chunks initialized : 512/512"
      ]
     },
     "execution_count": 13,
     "metadata": {},
     "output_type": "execute_result"
    }
   ],
   "source": [
    "ncar_e_uncompressed = zarr.open(\"ncar_zarr_uncompressed/t\")\n",
    "ncar_e_uncompressed.info"
   ]
  },
  {
   "cell_type": "code",
   "execution_count": 14,
   "metadata": {},
   "outputs": [
    {
     "name": "stdout",
     "output_type": "stream",
     "text": [
      "397 ms ± 0 ns per loop (mean ± std. dev. of 1 run, 1 loop each)\n"
     ]
    },
    {
     "data": {
      "text/plain": [
       "<TimeitResult : 397 ms ± 0 ns per loop (mean ± std. dev. of 1 run, 1 loop each)>"
      ]
     },
     "execution_count": 14,
     "metadata": {},
     "output_type": "execute_result"
    }
   ],
   "source": [
    "%%timeit -o -n 1 -r 1\n",
    "\n",
    "_ = ncar_e_uncompressed[:256,:256,:256]"
   ]
  },
  {
   "cell_type": "markdown",
   "metadata": {},
   "source": [
    "## Warm access - Temp Uncompressed"
   ]
  },
  {
   "cell_type": "code",
   "execution_count": 15,
   "metadata": {},
   "outputs": [
    {
     "name": "stdout",
     "output_type": "stream",
     "text": [
      "138 ms ± 2.48 ms per loop (mean ± std. dev. of 7 runs, 10 loops each)\n"
     ]
    },
    {
     "data": {
      "text/plain": [
       "<TimeitResult : 138 ms ± 2.48 ms per loop (mean ± std. dev. of 7 runs, 10 loops each)>"
      ]
     },
     "execution_count": 15,
     "metadata": {},
     "output_type": "execute_result"
    }
   ],
   "source": [
    "%%timeit -o\n",
    "\n",
    "_ = ncar_e_uncompressed[:256,:256,:256]"
   ]
  },
  {
   "cell_type": "markdown",
   "metadata": {},
   "source": [
    "## w-var Uncompressed. Cold"
   ]
  },
  {
   "cell_type": "code",
   "execution_count": 110,
   "metadata": {},
   "outputs": [],
   "source": [
    "# # https://github.com/zarr-developers/zarr-python/issues/472\n",
    "# zarr.save_array(\"ncar_zarr_uncompressed/w\", ncar_data['w'], compressor=None)"
   ]
  },
  {
   "cell_type": "code",
   "execution_count": 16,
   "metadata": {},
   "outputs": [
    {
     "data": {
      "text/html": [
       "<table class=\"zarr-info\"><tbody><tr><th style=\"text-align: left\">Type</th><td style=\"text-align: left\">zarr.core.Array</td></tr><tr><th style=\"text-align: left\">Data type</th><td style=\"text-align: left\">float32</td></tr><tr><th style=\"text-align: left\">Shape</th><td style=\"text-align: left\">(2048, 2048, 2048)</td></tr><tr><th style=\"text-align: left\">Chunk shape</th><td style=\"text-align: left\">(256, 256, 256)</td></tr><tr><th style=\"text-align: left\">Order</th><td style=\"text-align: left\">C</td></tr><tr><th style=\"text-align: left\">Read-only</th><td style=\"text-align: left\">False</td></tr><tr><th style=\"text-align: left\">Compressor</th><td style=\"text-align: left\">None</td></tr><tr><th style=\"text-align: left\">Store type</th><td style=\"text-align: left\">zarr.storage.DirectoryStore</td></tr><tr><th style=\"text-align: left\">No. bytes</th><td style=\"text-align: left\">34359738368 (32.0G)</td></tr><tr><th style=\"text-align: left\">No. bytes stored</th><td style=\"text-align: left\">34359738622 (32.0G)</td></tr><tr><th style=\"text-align: left\">Storage ratio</th><td style=\"text-align: left\">1.0</td></tr><tr><th style=\"text-align: left\">Chunks initialized</th><td style=\"text-align: left\">512/512</td></tr></tbody></table>"
      ],
      "text/plain": [
       "Type               : zarr.core.Array\n",
       "Data type          : float32\n",
       "Shape              : (2048, 2048, 2048)\n",
       "Chunk shape        : (256, 256, 256)\n",
       "Order              : C\n",
       "Read-only          : False\n",
       "Compressor         : None\n",
       "Store type         : zarr.storage.DirectoryStore\n",
       "No. bytes          : 34359738368 (32.0G)\n",
       "No. bytes stored   : 34359738622 (32.0G)\n",
       "Storage ratio      : 1.0\n",
       "Chunks initialized : 512/512"
      ]
     },
     "execution_count": 16,
     "metadata": {},
     "output_type": "execute_result"
    }
   ],
   "source": [
    "ncar_e_uncompressed = zarr.open(\"ncar_zarr_uncompressed/w\")\n",
    "ncar_e_uncompressed.info"
   ]
  },
  {
   "cell_type": "code",
   "execution_count": 17,
   "metadata": {},
   "outputs": [
    {
     "name": "stdout",
     "output_type": "stream",
     "text": [
      "382 ms ± 0 ns per loop (mean ± std. dev. of 1 run, 1 loop each)\n"
     ]
    },
    {
     "data": {
      "text/plain": [
       "<TimeitResult : 382 ms ± 0 ns per loop (mean ± std. dev. of 1 run, 1 loop each)>"
      ]
     },
     "execution_count": 17,
     "metadata": {},
     "output_type": "execute_result"
    }
   ],
   "source": [
    "%%timeit -o -n 1 -r 1\n",
    "\n",
    "_ = ncar_e_uncompressed[:256,:256,:256]"
   ]
  },
  {
   "cell_type": "markdown",
   "metadata": {},
   "source": [
    "## W-var Warm"
   ]
  },
  {
   "cell_type": "code",
   "execution_count": 18,
   "metadata": {},
   "outputs": [
    {
     "name": "stdout",
     "output_type": "stream",
     "text": [
      "136 ms ± 141 µs per loop (mean ± std. dev. of 7 runs, 10 loops each)\n"
     ]
    },
    {
     "data": {
      "text/plain": [
       "<TimeitResult : 136 ms ± 141 µs per loop (mean ± std. dev. of 7 runs, 10 loops each)>"
      ]
     },
     "execution_count": 18,
     "metadata": {},
     "output_type": "execute_result"
    }
   ],
   "source": [
    "%%timeit -o\n",
    "\n",
    "_ = ncar_e_uncompressed[:256,:256,:256]"
   ]
  },
  {
   "cell_type": "markdown",
   "metadata": {},
   "source": [
    "## Results overall - milliseconds\n",
    "\n",
    "#### 256^3 access cube - 64MB\n",
    "\n",
    "<!-- <font color=\"orange\">  vs  - cold)  ------- Warm </font>\n",
    "\n",
    "e - 364, 504   ------- 72, 136\n",
    "\n",
    "t - 728, 397   ------- 40, 138\n",
    "\n",
    "w - 434, 382   -------  78, 136 -->\n",
    "\n",
    "<font color=\"orange\">Cold access</font>\n",
    "\n",
    "| Variable      | Compressed      | Uncompressed |\n",
    "| ----------- | ----------- | ----------- |\n",
    "| e           | 364      | 504       |\n",
    "| t   | 728   | 397        |\n",
    "| w   | 434   | 382        |\n",
    "\n",
    "\n",
    "<font color=\"orange\">Warm access</font>\n",
    "\n",
    "| Variable      | Compressed      | Uncompressed |\n",
    "| ----------- | ----------- | ----------- |\n",
    "| e           | 72      | 136       |\n",
    "| t   | 40   | 138        |\n",
    "| w   | 78   | 136        |"
   ]
  },
  {
   "cell_type": "code",
   "execution_count": 1,
   "metadata": {},
   "outputs": [],
   "source": [
    "from matplotlib import pyplot as plt"
   ]
  },
  {
   "cell_type": "code",
   "execution_count": 12,
   "metadata": {},
   "outputs": [
    {
     "data": {
      "text/plain": [
       "<matplotlib.legend.Legend at 0x7ffb835a64c0>"
      ]
     },
     "execution_count": 12,
     "metadata": {},
     "output_type": "execute_result"
    },
    {
     "data": {
      "image/png": "[encoded data removed]",
      "text/plain": [
       "<Figure size 864x576 with 1 Axes>"
      ]
     },
     "metadata": {
      "needs_background": "light"
     },
     "output_type": "display_data"
    }
   ],
   "source": [
    "cold_access_comp = [364, 728, 434]\n",
    "cold_access_uncomp = [504, 397, 382]\n",
    "\n",
    "warm_access_comp = [72,40,78]\n",
    "warm_access_uncomp = [136,138, 136]\n",
    "\n",
    "plt.figure(figsize=(12,8))\n",
    "\n",
    "plt.scatter(x=['e','t','w'], y=cold_access_comp, label=\"Cold Compressed\")\n",
    "plt.scatter(x=['e','t','w'], y=cold_access_uncomp, label=\"Cold UnCompressed\")\n",
    "\n",
    "plt.scatter(x=['e','t','w'], y=warm_access_comp, label=\"Warm Compressed\")\n",
    "plt.scatter(x=['e','t','w'], y=warm_access_uncomp, label=\"Warm UnCompressed\")\n",
    "\n",
    "plt.legend()"
   ]
  },
  {
   "cell_type": "markdown",
   "metadata": {},
   "source": [
    "# Better Experiments below - various access sizes, cache cleared"
   ]
  },
  {
   "cell_type": "markdown",
   "metadata": {},
   "source": [
    "## <font color=\"orange\"> Process for experiments </font>\n",
    "\n",
    "1. Cube sizes from $2^6$ to $2^{30}$, starting from biggest. Expressed as Cube Root\n",
    "\n",
    "2. Read 4GB of data from different variable to make sure cache is clear\n",
    "\n",
    "3. Pick a random starting point.\n",
    "\n",
    "4. Read a cube from this starting point (see #1). Cube not guaranteed to be in single chunk"
   ]
  },
  {
   "cell_type": "code",
   "execution_count": 30,
   "metadata": {},
   "outputs": [
    {
     "data": {
      "text/plain": [
       "'2.13.2'"
      ]
     },
     "execution_count": 30,
     "metadata": {},
     "output_type": "execute_result"
    }
   ],
   "source": [
    "import zarr # Check version\n",
    "import numpy as np\n",
    "from matplotlib import pyplot as plt\n",
    "from random import randint\n",
    "\n",
    "zarr.__version__"
   ]
  },
  {
   "cell_type": "code",
   "execution_count": 16,
   "metadata": {},
   "outputs": [],
   "source": [
    "chunk_sizes = [ 2**i for i in range(6,30)]"
   ]
  },
  {
   "cell_type": "code",
   "execution_count": 17,
   "metadata": {},
   "outputs": [
    {
     "data": {
      "text/plain": [
       "[3, 5, 6, 7, 10]"
      ]
     },
     "execution_count": 17,
     "metadata": {},
     "output_type": "execute_result"
    }
   ],
   "source": [
    "cube_root_size = [int(x ** (1. / 3)) for x in chunk_sizes]\n",
    "cube_root_size[:5]"
   ]
  },
  {
   "cell_type": "code",
   "execution_count": 18,
   "metadata": {},
   "outputs": [
    {
     "data": {
      "text/html": [
       "<table class=\"zarr-info\"><tbody><tr><th style=\"text-align: left\">Name</th><td style=\"text-align: left\">/</td></tr><tr><th style=\"text-align: left\">Type</th><td style=\"text-align: left\">zarr.hierarchy.Group</td></tr><tr><th style=\"text-align: left\">Read-only</th><td style=\"text-align: left\">False</td></tr><tr><th style=\"text-align: left\">Store type</th><td style=\"text-align: left\">zarr.storage.DirectoryStore</td></tr><tr><th style=\"text-align: left\">No. members</th><td style=\"text-align: left\">6</td></tr><tr><th style=\"text-align: left\">No. arrays</th><td style=\"text-align: left\">6</td></tr><tr><th style=\"text-align: left\">No. groups</th><td style=\"text-align: left\">0</td></tr><tr><th style=\"text-align: left\">Arrays</th><td style=\"text-align: left\">e, p, t, u, v, w</td></tr></tbody></table>"
      ],
      "text/plain": [
       "Name        : /\n",
       "Type        : zarr.hierarchy.Group\n",
       "Read-only   : False\n",
       "Store type  : zarr.storage.DirectoryStore\n",
       "No. members : 6\n",
       "No. arrays  : 6\n",
       "No. groups  : 0\n",
       "Arrays      : e, p, t, u, v, w"
      ]
     },
     "execution_count": 18,
     "metadata": {},
     "output_type": "execute_result"
    }
   ],
   "source": [
    "ncar_data = zarr.open(\"sciserver-experimental/ariel/tests\")\n",
    "ncar_data.info"
   ]
  },
  {
   "cell_type": "code",
   "execution_count": 53,
   "metadata": {},
   "outputs": [
    {
     "data": {
      "text/plain": [
       "array([  3,   5,   6,   7,  10,  12,  15,  20,  25,  31,  40,  50,  63,\n",
       "        80, 101, 127, 161, 203, 255, 322, 406, 511, 645, 812])"
      ]
     },
     "execution_count": 53,
     "metadata": {},
     "output_type": "execute_result"
    }
   ],
   "source": [
    "np.array(cube_root_size)"
   ]
  },
  {
   "cell_type": "markdown",
   "metadata": {},
   "source": [
    "# Compressed\n",
    "## Cold-cache access all chunk sizes 2^6 - 2^30"
   ]
  },
  {
   "cell_type": "code",
   "execution_count": 52,
   "metadata": {},
   "outputs": [
    {
     "data": {
      "text/html": [
       "<table class=\"zarr-info\"><tbody><tr><th style=\"text-align: left\">Name</th><td style=\"text-align: left\">/e</td></tr><tr><th style=\"text-align: left\">Type</th><td style=\"text-align: left\">zarr.core.Array</td></tr><tr><th style=\"text-align: left\">Data type</th><td style=\"text-align: left\">float32</td></tr><tr><th style=\"text-align: left\">Shape</th><td style=\"text-align: left\">(2048, 2048, 2048)</td></tr><tr><th style=\"text-align: left\">Chunk shape</th><td style=\"text-align: left\">(256, 256, 256)</td></tr><tr><th style=\"text-align: left\">Order</th><td style=\"text-align: left\">C</td></tr><tr><th style=\"text-align: left\">Read-only</th><td style=\"text-align: left\">False</td></tr><tr><th style=\"text-align: left\">Compressor</th><td style=\"text-align: left\">Blosc(cname='lz4', clevel=5, shuffle=SHUFFLE, blocksize=0)</td></tr><tr><th style=\"text-align: left\">Store type</th><td style=\"text-align: left\">zarr.storage.DirectoryStore</td></tr><tr><th style=\"text-align: left\">No. bytes</th><td style=\"text-align: left\">34359738368 (32.0G)</td></tr><tr><th style=\"text-align: left\">No. bytes stored</th><td style=\"text-align: left\">13989514907 (13.0G)</td></tr><tr><th style=\"text-align: left\">Storage ratio</th><td style=\"text-align: left\">2.5</td></tr><tr><th style=\"text-align: left\">Chunks initialized</th><td style=\"text-align: left\">512/512</td></tr></tbody></table>"
      ],
      "text/plain": [
       "Name               : /e\n",
       "Type               : zarr.core.Array\n",
       "Data type          : float32\n",
       "Shape              : (2048, 2048, 2048)\n",
       "Chunk shape        : (256, 256, 256)\n",
       "Order              : C\n",
       "Read-only          : False\n",
       "Compressor         : Blosc(cname='lz4', clevel=5, shuffle=SHUFFLE, blocksize=0)\n",
       "Store type         : zarr.storage.DirectoryStore\n",
       "No. bytes          : 34359738368 (32.0G)\n",
       "No. bytes stored   : 13989514907 (13.0G)\n",
       "Storage ratio      : 2.5\n",
       "Chunks initialized : 512/512"
      ]
     },
     "execution_count": 52,
     "metadata": {},
     "output_type": "execute_result"
    }
   ],
   "source": [
    "ncar_data['e'].info"
   ]
  },
  {
   "cell_type": "code",
   "execution_count": 78,
   "metadata": {
    "scrolled": true
   },
   "outputs": [
    {
     "name": "stdout",
     "output_type": "stream",
     "text": [
      "812\n",
      "24.2 s ± 0 ns per loop (mean ± std. dev. of 1 run, 1 loop each)\n",
      "645\n",
      "9.1 s ± 0 ns per loop (mean ± std. dev. of 1 run, 1 loop each)\n",
      "511\n",
      "3.93 s ± 0 ns per loop (mean ± std. dev. of 1 run, 1 loop each)\n",
      "406\n",
      "3.42 s ± 0 ns per loop (mean ± std. dev. of 1 run, 1 loop each)\n",
      "322\n",
      "1.08 s ± 0 ns per loop (mean ± std. dev. of 1 run, 1 loop each)\n",
      "255\n",
      "348 ms ± 0 ns per loop (mean ± std. dev. of 1 run, 1 loop each)\n",
      "203\n",
      "1.29 s ± 0 ns per loop (mean ± std. dev. of 1 run, 1 loop each)\n",
      "161\n",
      "1.41 s ± 0 ns per loop (mean ± std. dev. of 1 run, 1 loop each)\n",
      "127\n",
      "111 ms ± 0 ns per loop (mean ± std. dev. of 1 run, 1 loop each)\n",
      "101\n",
      "827 ms ± 0 ns per loop (mean ± std. dev. of 1 run, 1 loop each)\n",
      "80\n",
      "110 ms ± 0 ns per loop (mean ± std. dev. of 1 run, 1 loop each)\n",
      "63\n",
      "109 ms ± 0 ns per loop (mean ± std. dev. of 1 run, 1 loop each)\n",
      "50\n",
      "136 ms ± 0 ns per loop (mean ± std. dev. of 1 run, 1 loop each)\n",
      "40\n",
      "112 ms ± 0 ns per loop (mean ± std. dev. of 1 run, 1 loop each)\n",
      "31\n",
      "129 ms ± 0 ns per loop (mean ± std. dev. of 1 run, 1 loop each)\n",
      "25\n",
      "100 ms ± 0 ns per loop (mean ± std. dev. of 1 run, 1 loop each)\n",
      "20\n",
      "127 ms ± 0 ns per loop (mean ± std. dev. of 1 run, 1 loop each)\n",
      "15\n",
      "94.7 ms ± 0 ns per loop (mean ± std. dev. of 1 run, 1 loop each)\n",
      "12\n",
      "102 ms ± 0 ns per loop (mean ± std. dev. of 1 run, 1 loop each)\n",
      "10\n",
      "97.2 ms ± 0 ns per loop (mean ± std. dev. of 1 run, 1 loop each)\n",
      "7\n",
      "90.9 ms ± 0 ns per loop (mean ± std. dev. of 1 run, 1 loop each)\n",
      "6\n",
      "79.9 ms ± 0 ns per loop (mean ± std. dev. of 1 run, 1 loop each)\n",
      "5\n",
      "112 ms ± 0 ns per loop (mean ± std. dev. of 1 run, 1 loop each)\n",
      "3\n",
      "104 ms ± 0 ns per loop (mean ± std. dev. of 1 run, 1 loop each)\n"
     ]
    }
   ],
   "source": [
    "# Energy - 2.5 Compression Ratio\n",
    "for i in range(len(cube_root_size)-1,-1,-1): # From 31st to 0-th (inclusive)\n",
    "    _ = ncar_data['t'][0:1024,0:1024,0:1024]\n",
    "    print(cube_root_size[i])\n",
    "    \n",
    "    random_start_point = 64 * randint(0, 16)\n",
    "    %timeit -o -n 1 -r 1 ncar_data['e'][random_start_point:cube_root_size[i] + random_start_point,random_start_point:cube_root_size[i] + random_start_point,random_start_point:cube_root_size[i] + random_start_point]"
   ]
  },
  {
   "cell_type": "markdown",
   "metadata": {},
   "source": [
    "Spikes up/down in time are when access happens between chunks. Cross-chunk access needs decompressing of both chunks"
   ]
  },
  {
   "cell_type": "code",
   "execution_count": 84,
   "metadata": {
    "scrolled": false
   },
   "outputs": [],
   "source": [
    "ccc_e_times = [24900, 13200, 3080, 4080, 1280, 728, 1150, 982, 131, 175, 848, 97.6, 92, 118, 148, 115, 117, 123, 20.8, 110, 94.8, 103, 122, 190]\n",
    "# 2nd run = [24200, 9100, 3930, 3420, 1080, 348, 1290, 1410, 111, 827, 110, 109, 136, 112, 129, 100, 127, 94.7, 102, 97.2, 90.9, 79.9, 112, 104]\n",
    "ccc_e_times.reverse()"
   ]
  },
  {
   "cell_type": "code",
   "execution_count": 56,
   "metadata": {},
   "outputs": [
    {
     "data": {
      "text/html": [
       "<table class=\"zarr-info\"><tbody><tr><th style=\"text-align: left\">Name</th><td style=\"text-align: left\">/w</td></tr><tr><th style=\"text-align: left\">Type</th><td style=\"text-align: left\">zarr.core.Array</td></tr><tr><th style=\"text-align: left\">Data type</th><td style=\"text-align: left\">float32</td></tr><tr><th style=\"text-align: left\">Shape</th><td style=\"text-align: left\">(2048, 2048, 2048)</td></tr><tr><th style=\"text-align: left\">Chunk shape</th><td style=\"text-align: left\">(256, 256, 256)</td></tr><tr><th style=\"text-align: left\">Order</th><td style=\"text-align: left\">C</td></tr><tr><th style=\"text-align: left\">Read-only</th><td style=\"text-align: left\">False</td></tr><tr><th style=\"text-align: left\">Compressor</th><td style=\"text-align: left\">Blosc(cname='lz4', clevel=5, shuffle=SHUFFLE, blocksize=0)</td></tr><tr><th style=\"text-align: left\">Store type</th><td style=\"text-align: left\">zarr.storage.DirectoryStore</td></tr><tr><th style=\"text-align: left\">No. bytes</th><td style=\"text-align: left\">34359738368 (32.0G)</td></tr><tr><th style=\"text-align: left\">No. bytes stored</th><td style=\"text-align: left\">27329309819 (25.5G)</td></tr><tr><th style=\"text-align: left\">Storage ratio</th><td style=\"text-align: left\">1.3</td></tr><tr><th style=\"text-align: left\">Chunks initialized</th><td style=\"text-align: left\">512/512</td></tr></tbody></table>"
      ],
      "text/plain": [
       "Name               : /w\n",
       "Type               : zarr.core.Array\n",
       "Data type          : float32\n",
       "Shape              : (2048, 2048, 2048)\n",
       "Chunk shape        : (256, 256, 256)\n",
       "Order              : C\n",
       "Read-only          : False\n",
       "Compressor         : Blosc(cname='lz4', clevel=5, shuffle=SHUFFLE, blocksize=0)\n",
       "Store type         : zarr.storage.DirectoryStore\n",
       "No. bytes          : 34359738368 (32.0G)\n",
       "No. bytes stored   : 27329309819 (25.5G)\n",
       "Storage ratio      : 1.3\n",
       "Chunks initialized : 512/512"
      ]
     },
     "execution_count": 56,
     "metadata": {},
     "output_type": "execute_result"
    }
   ],
   "source": [
    "ncar_data['w'].info"
   ]
  },
  {
   "cell_type": "code",
   "execution_count": 77,
   "metadata": {},
   "outputs": [
    {
     "name": "stdout",
     "output_type": "stream",
     "text": [
      "22.1 s ± 0 ns per loop (mean ± std. dev. of 1 run, 1 loop each)\n",
      "10.1 s ± 0 ns per loop (mean ± std. dev. of 1 run, 1 loop each)\n",
      "7.46 s ± 0 ns per loop (mean ± std. dev. of 1 run, 1 loop each)\n",
      "3.01 s ± 0 ns per loop (mean ± std. dev. of 1 run, 1 loop each)\n",
      "1.2 s ± 0 ns per loop (mean ± std. dev. of 1 run, 1 loop each)\n",
      "276 ms ± 0 ns per loop (mean ± std. dev. of 1 run, 1 loop each)\n",
      "1.27 s ± 0 ns per loop (mean ± std. dev. of 1 run, 1 loop each)\n",
      "268 ms ± 0 ns per loop (mean ± std. dev. of 1 run, 1 loop each)\n",
      "1.28 s ± 0 ns per loop (mean ± std. dev. of 1 run, 1 loop each)\n",
      "99.9 ms ± 0 ns per loop (mean ± std. dev. of 1 run, 1 loop each)\n",
      "111 ms ± 0 ns per loop (mean ± std. dev. of 1 run, 1 loop each)\n",
      "140 ms ± 0 ns per loop (mean ± std. dev. of 1 run, 1 loop each)\n",
      "127 ms ± 0 ns per loop (mean ± std. dev. of 1 run, 1 loop each)\n",
      "100 ms ± 0 ns per loop (mean ± std. dev. of 1 run, 1 loop each)\n",
      "115 ms ± 0 ns per loop (mean ± std. dev. of 1 run, 1 loop each)\n",
      "171 ms ± 0 ns per loop (mean ± std. dev. of 1 run, 1 loop each)\n",
      "121 ms ± 0 ns per loop (mean ± std. dev. of 1 run, 1 loop each)\n",
      "89.6 ms ± 0 ns per loop (mean ± std. dev. of 1 run, 1 loop each)\n",
      "191 ms ± 0 ns per loop (mean ± std. dev. of 1 run, 1 loop each)\n",
      "122 ms ± 0 ns per loop (mean ± std. dev. of 1 run, 1 loop each)\n",
      "138 ms ± 0 ns per loop (mean ± std. dev. of 1 run, 1 loop each)\n",
      "143 ms ± 0 ns per loop (mean ± std. dev. of 1 run, 1 loop each)\n",
      "116 ms ± 0 ns per loop (mean ± std. dev. of 1 run, 1 loop each)\n",
      "148 ms ± 0 ns per loop (mean ± std. dev. of 1 run, 1 loop each)\n"
     ]
    }
   ],
   "source": [
    "# w velocity field\n",
    "# Cross-chunk\n",
    "for i in range(len(cube_root_size)-1,-1,-1): # From 31st to 0-th (inclusive)\n",
    "    _ = ncar_data['t'][0:1024,0:1024,0:1024]\n",
    "#     print(cube_root_size[i])\n",
    "    \n",
    "    random_start_point = 64 * randint(0, 16)\n",
    "    %timeit -o -n 1 -r 1 ncar_data['w'][random_start_point:cube_root_size[i] + random_start_point,random_start_point:cube_root_size[i] + random_start_point,random_start_point:cube_root_size[i] + random_start_point]"
   ]
  },
  {
   "cell_type": "code",
   "execution_count": 83,
   "metadata": {},
   "outputs": [],
   "source": [
    "# ccc = Cross-chunk compressed\n",
    "ccc_w_times = [31500, 54900, 9540, 9010, 2630, 2130, 2840, 2150, 2170, 322, 577, 693, 418, 341, 690, 276, 523, 401, 445, 338, 516, 385, 477, 483]\n",
    "# 2nd run = [22100, 10100, 7460, 3010, 1200, 276, 1270, 268, 1280, 99.9, 111, 140, 127, 100, 115, 171, 121, 89.6, 191, 122, 138, 143, 116, 148]\n",
    "ccc_w_times.reverse()"
   ]
  },
  {
   "cell_type": "code",
   "execution_count": 57,
   "metadata": {},
   "outputs": [
    {
     "data": {
      "text/html": [
       "<table class=\"zarr-info\"><tbody><tr><th style=\"text-align: left\">Name</th><td style=\"text-align: left\">/t</td></tr><tr><th style=\"text-align: left\">Type</th><td style=\"text-align: left\">zarr.core.Array</td></tr><tr><th style=\"text-align: left\">Data type</th><td style=\"text-align: left\">float32</td></tr><tr><th style=\"text-align: left\">Shape</th><td style=\"text-align: left\">(2048, 2048, 2048)</td></tr><tr><th style=\"text-align: left\">Chunk shape</th><td style=\"text-align: left\">(256, 256, 256)</td></tr><tr><th style=\"text-align: left\">Order</th><td style=\"text-align: left\">C</td></tr><tr><th style=\"text-align: left\">Read-only</th><td style=\"text-align: left\">False</td></tr><tr><th style=\"text-align: left\">Compressor</th><td style=\"text-align: left\">Blosc(cname='lz4', clevel=5, shuffle=SHUFFLE, blocksize=0)</td></tr><tr><th style=\"text-align: left\">Store type</th><td style=\"text-align: left\">zarr.storage.DirectoryStore</td></tr><tr><th style=\"text-align: left\">No. bytes</th><td style=\"text-align: left\">34359738368 (32.0G)</td></tr><tr><th style=\"text-align: left\">No. bytes stored</th><td style=\"text-align: left\">19025554335 (17.7G)</td></tr><tr><th style=\"text-align: left\">Storage ratio</th><td style=\"text-align: left\">1.8</td></tr><tr><th style=\"text-align: left\">Chunks initialized</th><td style=\"text-align: left\">512/512</td></tr></tbody></table>"
      ],
      "text/plain": [
       "Name               : /t\n",
       "Type               : zarr.core.Array\n",
       "Data type          : float32\n",
       "Shape              : (2048, 2048, 2048)\n",
       "Chunk shape        : (256, 256, 256)\n",
       "Order              : C\n",
       "Read-only          : False\n",
       "Compressor         : Blosc(cname='lz4', clevel=5, shuffle=SHUFFLE, blocksize=0)\n",
       "Store type         : zarr.storage.DirectoryStore\n",
       "No. bytes          : 34359738368 (32.0G)\n",
       "No. bytes stored   : 19025554335 (17.7G)\n",
       "Storage ratio      : 1.8\n",
       "Chunks initialized : 512/512"
      ]
     },
     "execution_count": 57,
     "metadata": {},
     "output_type": "execute_result"
    }
   ],
   "source": [
    "ncar_data['t'].info"
   ]
  },
  {
   "cell_type": "code",
   "execution_count": 76,
   "metadata": {
    "scrolled": true
   },
   "outputs": [
    {
     "name": "stdout",
     "output_type": "stream",
     "text": [
      "26.1 s ± 0 ns per loop (mean ± std. dev. of 1 run, 1 loop each)\n",
      "8.32 s ± 0 ns per loop (mean ± std. dev. of 1 run, 1 loop each)\n",
      "2.61 s ± 0 ns per loop (mean ± std. dev. of 1 run, 1 loop each)\n",
      "1.59 s ± 0 ns per loop (mean ± std. dev. of 1 run, 1 loop each)\n",
      "1.45 s ± 0 ns per loop (mean ± std. dev. of 1 run, 1 loop each)\n",
      "976 ms ± 0 ns per loop (mean ± std. dev. of 1 run, 1 loop each)\n",
      "833 ms ± 0 ns per loop (mean ± std. dev. of 1 run, 1 loop each)\n",
      "779 ms ± 0 ns per loop (mean ± std. dev. of 1 run, 1 loop each)\n",
      "85.9 ms ± 0 ns per loop (mean ± std. dev. of 1 run, 1 loop each)\n",
      "1.95 s ± 0 ns per loop (mean ± std. dev. of 1 run, 1 loop each)\n",
      "89.6 ms ± 0 ns per loop (mean ± std. dev. of 1 run, 1 loop each)\n",
      "83 ms ± 0 ns per loop (mean ± std. dev. of 1 run, 1 loop each)\n",
      "78.6 ms ± 0 ns per loop (mean ± std. dev. of 1 run, 1 loop each)\n",
      "104 ms ± 0 ns per loop (mean ± std. dev. of 1 run, 1 loop each)\n",
      "110 ms ± 0 ns per loop (mean ± std. dev. of 1 run, 1 loop each)\n",
      "103 ms ± 0 ns per loop (mean ± std. dev. of 1 run, 1 loop each)\n",
      "74 ms ± 0 ns per loop (mean ± std. dev. of 1 run, 1 loop each)\n",
      "89 ms ± 0 ns per loop (mean ± std. dev. of 1 run, 1 loop each)\n",
      "87.3 ms ± 0 ns per loop (mean ± std. dev. of 1 run, 1 loop each)\n",
      "112 ms ± 0 ns per loop (mean ± std. dev. of 1 run, 1 loop each)\n",
      "79.6 ms ± 0 ns per loop (mean ± std. dev. of 1 run, 1 loop each)\n",
      "84 ms ± 0 ns per loop (mean ± std. dev. of 1 run, 1 loop each)\n",
      "89.2 ms ± 0 ns per loop (mean ± std. dev. of 1 run, 1 loop each)\n",
      "134 ms ± 0 ns per loop (mean ± std. dev. of 1 run, 1 loop each)\n"
     ]
    }
   ],
   "source": [
    "# Temperature\n",
    "for i in range(len(cube_root_size)-1,-1,-1): # From 31st to 0-th (inclusive)\n",
    "    _ = ncar_data['w'][0:1024,0:1024,0:1024]\n",
    "#     print(cube_root_size[i])\n",
    "    \n",
    "    random_start_point = 64 * randint(0, 16)\n",
    "    %timeit -o -n 1 -r 1 ncar_data['t'][random_start_point:cube_root_size[i] + random_start_point,random_start_point:cube_root_size[i] + random_start_point,random_start_point:cube_root_size[i] + random_start_point]"
   ]
  },
  {
   "cell_type": "markdown",
   "metadata": {},
   "source": [
    "I think outliers (too fast) in 2nd run are by chance if random starting point is the same for both?"
   ]
  },
  {
   "cell_type": "code",
   "execution_count": 85,
   "metadata": {},
   "outputs": [],
   "source": [
    "ccc_t_times = [48300, 18600, 3840, 3520, 2120, 1510, 2070, 414, 242, 184, 302, 230, 290, 301, 425, 294, 273, 248, 227, 286, 170, 234, 257, 266]\n",
    "# These runs were not sequential. Other cells were run in between\n",
    "\n",
    "# 2nd run = [26100, 8320, 2610, 1590, 1450, 976, 833, 779, 85.9, 1950, 89.6, 83, 78.6, 104, 110, 103, 74, 89, 87.3, 112, 79.6, 84, 89.2, 134]\n",
    "ccc_t_times.reverse()"
   ]
  },
  {
   "cell_type": "markdown",
   "metadata": {},
   "source": [
    "# Uncompressed\n",
    "## Cold-cache access all chunk sizes 2^6 - 2^30"
   ]
  },
  {
   "cell_type": "code",
   "execution_count": 58,
   "metadata": {},
   "outputs": [
    {
     "data": {
      "text/html": [
       "<table class=\"zarr-info\"><tbody><tr><th style=\"text-align: left\">Name</th><td style=\"text-align: left\">/</td></tr><tr><th style=\"text-align: left\">Type</th><td style=\"text-align: left\">zarr.hierarchy.Group</td></tr><tr><th style=\"text-align: left\">Read-only</th><td style=\"text-align: left\">False</td></tr><tr><th style=\"text-align: left\">Store type</th><td style=\"text-align: left\">zarr.storage.DirectoryStore</td></tr><tr><th style=\"text-align: left\">No. members</th><td style=\"text-align: left\">3</td></tr><tr><th style=\"text-align: left\">No. arrays</th><td style=\"text-align: left\">3</td></tr><tr><th style=\"text-align: left\">No. groups</th><td style=\"text-align: left\">0</td></tr><tr><th style=\"text-align: left\">Arrays</th><td style=\"text-align: left\">e, t, w</td></tr></tbody></table>"
      ],
      "text/plain": [
       "Name        : /\n",
       "Type        : zarr.hierarchy.Group\n",
       "Read-only   : False\n",
       "Store type  : zarr.storage.DirectoryStore\n",
       "No. members : 3\n",
       "No. arrays  : 3\n",
       "No. groups  : 0\n",
       "Arrays      : e, t, w"
      ]
     },
     "execution_count": 58,
     "metadata": {},
     "output_type": "execute_result"
    }
   ],
   "source": [
    "ncar_uncompressed = zarr.open(\"ncar_zarr_uncompressed\")\n",
    "ncar_uncompressed.info"
   ]
  },
  {
   "cell_type": "code",
   "execution_count": 61,
   "metadata": {},
   "outputs": [
    {
     "data": {
      "text/html": [
       "<table class=\"zarr-info\"><tbody><tr><th style=\"text-align: left\">Name</th><td style=\"text-align: left\">/e</td></tr><tr><th style=\"text-align: left\">Type</th><td style=\"text-align: left\">zarr.core.Array</td></tr><tr><th style=\"text-align: left\">Data type</th><td style=\"text-align: left\">float32</td></tr><tr><th style=\"text-align: left\">Shape</th><td style=\"text-align: left\">(2048, 2048, 2048)</td></tr><tr><th style=\"text-align: left\">Chunk shape</th><td style=\"text-align: left\">(256, 256, 256)</td></tr><tr><th style=\"text-align: left\">Order</th><td style=\"text-align: left\">C</td></tr><tr><th style=\"text-align: left\">Read-only</th><td style=\"text-align: left\">False</td></tr><tr><th style=\"text-align: left\">Compressor</th><td style=\"text-align: left\">None</td></tr><tr><th style=\"text-align: left\">Store type</th><td style=\"text-align: left\">zarr.storage.DirectoryStore</td></tr><tr><th style=\"text-align: left\">No. bytes</th><td style=\"text-align: left\">34359738368 (32.0G)</td></tr><tr><th style=\"text-align: left\">No. bytes stored</th><td style=\"text-align: left\">34359738622 (32.0G)</td></tr><tr><th style=\"text-align: left\">Storage ratio</th><td style=\"text-align: left\">1.0</td></tr><tr><th style=\"text-align: left\">Chunks initialized</th><td style=\"text-align: left\">512/512</td></tr></tbody></table>"
      ],
      "text/plain": [
       "Name               : /e\n",
       "Type               : zarr.core.Array\n",
       "Data type          : float32\n",
       "Shape              : (2048, 2048, 2048)\n",
       "Chunk shape        : (256, 256, 256)\n",
       "Order              : C\n",
       "Read-only          : False\n",
       "Compressor         : None\n",
       "Store type         : zarr.storage.DirectoryStore\n",
       "No. bytes          : 34359738368 (32.0G)\n",
       "No. bytes stored   : 34359738622 (32.0G)\n",
       "Storage ratio      : 1.0\n",
       "Chunks initialized : 512/512"
      ]
     },
     "execution_count": 61,
     "metadata": {},
     "output_type": "execute_result"
    }
   ],
   "source": [
    "ncar_uncompressed['e'].info"
   ]
  },
  {
   "cell_type": "code",
   "execution_count": 75,
   "metadata": {
    "scrolled": true
   },
   "outputs": [
    {
     "name": "stdout",
     "output_type": "stream",
     "text": [
      "812\n",
      "31.2 s ± 0 ns per loop (mean ± std. dev. of 1 run, 1 loop each)\n",
      "645\n",
      "13.2 s ± 0 ns per loop (mean ± std. dev. of 1 run, 1 loop each)\n",
      "511\n",
      "5.42 s ± 0 ns per loop (mean ± std. dev. of 1 run, 1 loop each)\n",
      "406\n",
      "4.48 s ± 0 ns per loop (mean ± std. dev. of 1 run, 1 loop each)\n",
      "322\n",
      "1.33 s ± 0 ns per loop (mean ± std. dev. of 1 run, 1 loop each)\n",
      "255\n",
      "1.49 s ± 0 ns per loop (mean ± std. dev. of 1 run, 1 loop each)\n",
      "203\n",
      "281 ms ± 0 ns per loop (mean ± std. dev. of 1 run, 1 loop each)\n",
      "161\n",
      "1.18 s ± 0 ns per loop (mean ± std. dev. of 1 run, 1 loop each)\n",
      "127\n",
      "163 ms ± 0 ns per loop (mean ± std. dev. of 1 run, 1 loop each)\n",
      "101\n",
      "127 ms ± 0 ns per loop (mean ± std. dev. of 1 run, 1 loop each)\n",
      "80\n",
      "141 ms ± 0 ns per loop (mean ± std. dev. of 1 run, 1 loop each)\n",
      "63\n",
      "281 ms ± 0 ns per loop (mean ± std. dev. of 1 run, 1 loop each)\n",
      "50\n",
      "143 ms ± 0 ns per loop (mean ± std. dev. of 1 run, 1 loop each)\n",
      "40\n",
      "131 ms ± 0 ns per loop (mean ± std. dev. of 1 run, 1 loop each)\n",
      "31\n",
      "134 ms ± 0 ns per loop (mean ± std. dev. of 1 run, 1 loop each)\n",
      "25\n",
      "144 ms ± 0 ns per loop (mean ± std. dev. of 1 run, 1 loop each)\n",
      "20\n",
      "129 ms ± 0 ns per loop (mean ± std. dev. of 1 run, 1 loop each)\n",
      "15\n",
      "138 ms ± 0 ns per loop (mean ± std. dev. of 1 run, 1 loop each)\n",
      "12\n",
      "206 ms ± 0 ns per loop (mean ± std. dev. of 1 run, 1 loop each)\n",
      "10\n",
      "137 ms ± 0 ns per loop (mean ± std. dev. of 1 run, 1 loop each)\n",
      "7\n",
      "220 ms ± 0 ns per loop (mean ± std. dev. of 1 run, 1 loop each)\n",
      "6\n",
      "157 ms ± 0 ns per loop (mean ± std. dev. of 1 run, 1 loop each)\n",
      "5\n",
      "132 ms ± 0 ns per loop (mean ± std. dev. of 1 run, 1 loop each)\n",
      "3\n",
      "177 ms ± 0 ns per loop (mean ± std. dev. of 1 run, 1 loop each)\n"
     ]
    }
   ],
   "source": [
    "# Energy field\n",
    "for i in range(len(cube_root_size)-1,-1,-1): # From 31st to 0-th (inclusive)\n",
    "    _ = ncar_uncompressed['t'][0:1024,0:1024,0:1024]\n",
    "    print(cube_root_size[i])\n",
    "    \n",
    "    random_start_point = 64 * randint(0, 16)\n",
    "    %timeit -o -n 1 -r 1 ncar_uncompressed['e'][random_start_point:cube_root_size[i] + random_start_point,random_start_point:cube_root_size[i] + random_start_point,random_start_point:cube_root_size[i] + random_start_point]"
   ]
  },
  {
   "cell_type": "code",
   "execution_count": 86,
   "metadata": {},
   "outputs": [],
   "source": [
    "# ccu - cross-chunk uncompressed\n",
    "ccu_e_times = [64000, 23600, 15500, 44800,3960,3210, 2690, 3960,324,509, 235, 483, 569, 654, 567, 789, 473, 1270, 410, 650, 322, 570, 852]\n",
    "\n",
    "ccu_e_times.reverse()\n",
    "# 2nd run = [31200, 13200, 5420, 4480, 1330, 1490, 281, 1180, 163, 127, 141, 281, 1180, 163, 127, 141, 281, 143, 131, 134, 144, 129, 138, 206, 137, 220, 157, 132, 177]"
   ]
  },
  {
   "cell_type": "code",
   "execution_count": 62,
   "metadata": {},
   "outputs": [
    {
     "data": {
      "text/html": [
       "<table class=\"zarr-info\"><tbody><tr><th style=\"text-align: left\">Name</th><td style=\"text-align: left\">/w</td></tr><tr><th style=\"text-align: left\">Type</th><td style=\"text-align: left\">zarr.core.Array</td></tr><tr><th style=\"text-align: left\">Data type</th><td style=\"text-align: left\">float32</td></tr><tr><th style=\"text-align: left\">Shape</th><td style=\"text-align: left\">(2048, 2048, 2048)</td></tr><tr><th style=\"text-align: left\">Chunk shape</th><td style=\"text-align: left\">(256, 256, 256)</td></tr><tr><th style=\"text-align: left\">Order</th><td style=\"text-align: left\">C</td></tr><tr><th style=\"text-align: left\">Read-only</th><td style=\"text-align: left\">False</td></tr><tr><th style=\"text-align: left\">Compressor</th><td style=\"text-align: left\">None</td></tr><tr><th style=\"text-align: left\">Store type</th><td style=\"text-align: left\">zarr.storage.DirectoryStore</td></tr><tr><th style=\"text-align: left\">No. bytes</th><td style=\"text-align: left\">34359738368 (32.0G)</td></tr><tr><th style=\"text-align: left\">No. bytes stored</th><td style=\"text-align: left\">34359738622 (32.0G)</td></tr><tr><th style=\"text-align: left\">Storage ratio</th><td style=\"text-align: left\">1.0</td></tr><tr><th style=\"text-align: left\">Chunks initialized</th><td style=\"text-align: left\">512/512</td></tr></tbody></table>"
      ],
      "text/plain": [
       "Name               : /w\n",
       "Type               : zarr.core.Array\n",
       "Data type          : float32\n",
       "Shape              : (2048, 2048, 2048)\n",
       "Chunk shape        : (256, 256, 256)\n",
       "Order              : C\n",
       "Read-only          : False\n",
       "Compressor         : None\n",
       "Store type         : zarr.storage.DirectoryStore\n",
       "No. bytes          : 34359738368 (32.0G)\n",
       "No. bytes stored   : 34359738622 (32.0G)\n",
       "Storage ratio      : 1.0\n",
       "Chunks initialized : 512/512"
      ]
     },
     "execution_count": 62,
     "metadata": {},
     "output_type": "execute_result"
    }
   ],
   "source": [
    "ncar_uncompressed['w'].info"
   ]
  },
  {
   "cell_type": "code",
   "execution_count": 74,
   "metadata": {
    "scrolled": true
   },
   "outputs": [
    {
     "name": "stdout",
     "output_type": "stream",
     "text": [
      "812\n",
      "21.6 s ± 0 ns per loop (mean ± std. dev. of 1 run, 1 loop each)\n",
      "645\n",
      "9.18 s ± 0 ns per loop (mean ± std. dev. of 1 run, 1 loop each)\n",
      "511\n",
      "2.53 s ± 0 ns per loop (mean ± std. dev. of 1 run, 1 loop each)\n",
      "406\n",
      "4.43 s ± 0 ns per loop (mean ± std. dev. of 1 run, 1 loop each)\n",
      "322\n",
      "1.47 s ± 0 ns per loop (mean ± std. dev. of 1 run, 1 loop each)\n",
      "255\n",
      "1.17 s ± 0 ns per loop (mean ± std. dev. of 1 run, 1 loop each)\n",
      "203\n",
      "1.2 s ± 0 ns per loop (mean ± std. dev. of 1 run, 1 loop each)\n",
      "161\n",
      "148 ms ± 0 ns per loop (mean ± std. dev. of 1 run, 1 loop each)\n",
      "127\n",
      "131 ms ± 0 ns per loop (mean ± std. dev. of 1 run, 1 loop each)\n",
      "101\n",
      "1.1 s ± 0 ns per loop (mean ± std. dev. of 1 run, 1 loop each)\n",
      "80\n",
      "939 ms ± 0 ns per loop (mean ± std. dev. of 1 run, 1 loop each)\n",
      "63\n",
      "126 ms ± 0 ns per loop (mean ± std. dev. of 1 run, 1 loop each)\n",
      "50\n",
      "212 ms ± 0 ns per loop (mean ± std. dev. of 1 run, 1 loop each)\n",
      "40\n",
      "138 ms ± 0 ns per loop (mean ± std. dev. of 1 run, 1 loop each)\n",
      "31\n",
      "135 ms ± 0 ns per loop (mean ± std. dev. of 1 run, 1 loop each)\n",
      "25\n",
      "123 ms ± 0 ns per loop (mean ± std. dev. of 1 run, 1 loop each)\n",
      "20\n",
      "173 ms ± 0 ns per loop (mean ± std. dev. of 1 run, 1 loop each)\n",
      "15\n",
      "158 ms ± 0 ns per loop (mean ± std. dev. of 1 run, 1 loop each)\n",
      "12\n",
      "123 ms ± 0 ns per loop (mean ± std. dev. of 1 run, 1 loop each)\n",
      "10\n",
      "155 ms ± 0 ns per loop (mean ± std. dev. of 1 run, 1 loop each)\n",
      "7\n",
      "167 ms ± 0 ns per loop (mean ± std. dev. of 1 run, 1 loop each)\n",
      "6\n",
      "133 ms ± 0 ns per loop (mean ± std. dev. of 1 run, 1 loop each)\n",
      "5\n",
      "183 ms ± 0 ns per loop (mean ± std. dev. of 1 run, 1 loop each)\n",
      "3\n",
      "133 ms ± 0 ns per loop (mean ± std. dev. of 1 run, 1 loop each)\n"
     ]
    }
   ],
   "source": [
    "# w velocity field\n",
    "for i in range(len(cube_root_size)-1,-1,-1): # From 31st to 0-th (inclusive)\n",
    "    _ = ncar_uncompressed['t'][0:1024,0:1024,0:1024]\n",
    "    print(cube_root_size[i])\n",
    "    \n",
    "    random_start_point = 64 * randint(0, 16)\n",
    "    %timeit -o -n 1 -r 1 ncar_uncompressed['w'][random_start_point:cube_root_size[i] + random_start_point,random_start_point:cube_root_size[i] + random_start_point,random_start_point:cube_root_size[i] + random_start_point]"
   ]
  },
  {
   "cell_type": "code",
   "execution_count": 87,
   "metadata": {},
   "outputs": [],
   "source": [
    "ccu_w_times = [59900, 18500, 16700, 17200, 3450, 4390, 4280, 800, 724, 864, 480, 696, 605, 2120, 700, 677, 591, 489, 445, 372, 542, 727, 859, 429]\n",
    "ccu_w_times.reverse()\n",
    "# 2nd run = [21600, 9180, 2530, 4430, 1470, 1170, 1200, 148, 131, 1100, 939, 126, 212, 138, 135, 123, 173, 158, 123, 155, 167, 133, 183, 133]"
   ]
  },
  {
   "cell_type": "code",
   "execution_count": 63,
   "metadata": {},
   "outputs": [
    {
     "data": {
      "text/html": [
       "<table class=\"zarr-info\"><tbody><tr><th style=\"text-align: left\">Name</th><td style=\"text-align: left\">/t</td></tr><tr><th style=\"text-align: left\">Type</th><td style=\"text-align: left\">zarr.core.Array</td></tr><tr><th style=\"text-align: left\">Data type</th><td style=\"text-align: left\">float32</td></tr><tr><th style=\"text-align: left\">Shape</th><td style=\"text-align: left\">(2048, 2048, 2048)</td></tr><tr><th style=\"text-align: left\">Chunk shape</th><td style=\"text-align: left\">(256, 256, 256)</td></tr><tr><th style=\"text-align: left\">Order</th><td style=\"text-align: left\">C</td></tr><tr><th style=\"text-align: left\">Read-only</th><td style=\"text-align: left\">False</td></tr><tr><th style=\"text-align: left\">Compressor</th><td style=\"text-align: left\">None</td></tr><tr><th style=\"text-align: left\">Store type</th><td style=\"text-align: left\">zarr.storage.DirectoryStore</td></tr><tr><th style=\"text-align: left\">No. bytes</th><td style=\"text-align: left\">34359738368 (32.0G)</td></tr><tr><th style=\"text-align: left\">No. bytes stored</th><td style=\"text-align: left\">34359738622 (32.0G)</td></tr><tr><th style=\"text-align: left\">Storage ratio</th><td style=\"text-align: left\">1.0</td></tr><tr><th style=\"text-align: left\">Chunks initialized</th><td style=\"text-align: left\">512/512</td></tr></tbody></table>"
      ],
      "text/plain": [
       "Name               : /t\n",
       "Type               : zarr.core.Array\n",
       "Data type          : float32\n",
       "Shape              : (2048, 2048, 2048)\n",
       "Chunk shape        : (256, 256, 256)\n",
       "Order              : C\n",
       "Read-only          : False\n",
       "Compressor         : None\n",
       "Store type         : zarr.storage.DirectoryStore\n",
       "No. bytes          : 34359738368 (32.0G)\n",
       "No. bytes stored   : 34359738622 (32.0G)\n",
       "Storage ratio      : 1.0\n",
       "Chunks initialized : 512/512"
      ]
     },
     "execution_count": 63,
     "metadata": {},
     "output_type": "execute_result"
    }
   ],
   "source": [
    "ncar_uncompressed['t'].info"
   ]
  },
  {
   "cell_type": "code",
   "execution_count": 67,
   "metadata": {
    "scrolled": true
   },
   "outputs": [
    {
     "name": "stdout",
     "output_type": "stream",
     "text": [
      "812\n",
      "1min 24s ± 0 ns per loop (mean ± std. dev. of 1 run, 1 loop each)\n",
      "645\n",
      "17.3 s ± 0 ns per loop (mean ± std. dev. of 1 run, 1 loop each)\n",
      "511\n",
      "19.9 s ± 0 ns per loop (mean ± std. dev. of 1 run, 1 loop each)\n",
      "406\n",
      "13.5 s ± 0 ns per loop (mean ± std. dev. of 1 run, 1 loop each)\n",
      "322\n",
      "10.4 s ± 0 ns per loop (mean ± std. dev. of 1 run, 1 loop each)\n",
      "255\n",
      "7.39 s ± 0 ns per loop (mean ± std. dev. of 1 run, 1 loop each)\n",
      "203\n",
      "878 ms ± 0 ns per loop (mean ± std. dev. of 1 run, 1 loop each)\n",
      "161\n",
      "480 ms ± 0 ns per loop (mean ± std. dev. of 1 run, 1 loop each)\n",
      "127\n",
      "2.87 s ± 0 ns per loop (mean ± std. dev. of 1 run, 1 loop each)\n",
      "101\n",
      "698 ms ± 0 ns per loop (mean ± std. dev. of 1 run, 1 loop each)\n",
      "80\n",
      "316 ms ± 0 ns per loop (mean ± std. dev. of 1 run, 1 loop each)\n",
      "63\n",
      "364 ms ± 0 ns per loop (mean ± std. dev. of 1 run, 1 loop each)\n",
      "50\n",
      "373 ms ± 0 ns per loop (mean ± std. dev. of 1 run, 1 loop each)\n",
      "40\n",
      "395 ms ± 0 ns per loop (mean ± std. dev. of 1 run, 1 loop each)\n",
      "31\n",
      "987 ms ± 0 ns per loop (mean ± std. dev. of 1 run, 1 loop each)\n",
      "25\n",
      "992 ms ± 0 ns per loop (mean ± std. dev. of 1 run, 1 loop each)\n",
      "20\n",
      "412 ms ± 0 ns per loop (mean ± std. dev. of 1 run, 1 loop each)\n",
      "15\n",
      "390 ms ± 0 ns per loop (mean ± std. dev. of 1 run, 1 loop each)\n",
      "12\n",
      "340 ms ± 0 ns per loop (mean ± std. dev. of 1 run, 1 loop each)\n",
      "10\n",
      "528 ms ± 0 ns per loop (mean ± std. dev. of 1 run, 1 loop each)\n",
      "7\n",
      "430 ms ± 0 ns per loop (mean ± std. dev. of 1 run, 1 loop each)\n",
      "6\n",
      "444 ms ± 0 ns per loop (mean ± std. dev. of 1 run, 1 loop each)\n",
      "5\n",
      "490 ms ± 0 ns per loop (mean ± std. dev. of 1 run, 1 loop each)\n",
      "3\n",
      "374 ms ± 0 ns per loop (mean ± std. dev. of 1 run, 1 loop each)\n"
     ]
    }
   ],
   "source": [
    "# temperature field\n",
    "for i in range(len(cube_root_size)-1,-1,-1): # From 31st to 0-th (inclusive)\n",
    "    _ = ncar_uncompressed['w'][0:1024,0:1024,0:1024]\n",
    "    print(cube_root_size[i])\n",
    "    \n",
    "    random_start_point = 64 * randint(0, 16)\n",
    "    %timeit -o -n 1 -r 1 ncar_uncompressed['t'][random_start_point:cube_root_size[i] + random_start_point,random_start_point:cube_root_size[i] + random_start_point,random_start_point:cube_root_size[i] + random_start_point]"
   ]
  },
  {
   "cell_type": "code",
   "execution_count": 88,
   "metadata": {},
   "outputs": [],
   "source": [
    "ccu_t_times = [84000, 17300, 19900, 13500, 10400, 7390, 878, 480, 2870, 698, 316, 364, 373, 395, 987, 992, 412, 390, 340, 528, 430, 444, 490, 374]\n",
    "ccu_t_times.reverse()"
   ]
  },
  {
   "cell_type": "code",
   "execution_count": 104,
   "metadata": {},
   "outputs": [
    {
     "data": {
      "image/png": "[encoded data removed]",
      "text/plain": [
       "<Figure size 1008x720 with 1 Axes>"
      ]
     },
     "metadata": {},
     "output_type": "display_data"
    }
   ],
   "source": [
    "import seaborn as sns\n",
    "sns.set(rc={'figure.figsize':(14,10)})\n",
    "\n",
    "# Energy compressed\n",
    "ax = sns.scatterplot(x=cube_root_size, y=ccc_e_times, label=\"Energy Compressed\").set(xlabel='Cube Root Length', ylabel='Access time (ms)')\n",
    "#ax.set(xlabel='Cube Root Length', ylabel='Access time (ms)')\n",
    "\n",
    "# https://stackoverflow.com/questions/31632637/label-axes-on-seaborn-barplot\n",
    "mymodel = np.poly1d(np.polyfit(cube_root_size, ccc_e_times, 2))\n",
    "myline = np.linspace(1, cube_root_size[len(cube_root_size)-1], 1000)\n",
    "plt.plot(myline, mymodel(myline), label=\"Deg. 2 Polynomial Regression\")#, color=\"orange\")\n",
    "\n",
    "# w-velocity compressed\n",
    "ax = sns.scatterplot(x=cube_root_size, y=ccc_w_times, label=\"w-Velocity Compressed\")\n",
    "\n",
    "mymodel_w = np.poly1d(np.polyfit(cube_root_size, ccc_w_times, 2))\n",
    "myline_w = np.linspace(1, cube_root_size[len(cube_root_size)-1], 1000)\n",
    "plt.plot(myline_w, mymodel_w(myline_w))\n",
    "\n",
    "\n",
    "# Temperature compressed\n",
    "ax = sns.scatterplot(x=cube_root_size, y=ccc_w_times, label=\"Temperature Compressed\")\n",
    "\n",
    "mymodel_t = np.poly1d(np.polyfit(cube_root_size, ccc_t_times, 2))\n",
    "myline_t = np.linspace(1, cube_root_size[len(cube_root_size)-1], 1000)\n",
    "plt.plot(myline_t, mymodel_t(myline_t))\n",
    "\n",
    "\n",
    "plt.title(\"Cold Sequential Access Times\")\n",
    "plt.show()"
   ]
  },
  {
   "cell_type": "code",
   "execution_count": 106,
   "metadata": {},
   "outputs": [],
   "source": [
    "access_sizes_log = [i for i in range(6,30)]"
   ]
  },
  {
   "cell_type": "markdown",
   "metadata": {},
   "source": [
    "Log-Linear scale looks horrible with regression line - don't show it here"
   ]
  },
  {
   "cell_type": "code",
   "execution_count": 117,
   "metadata": {},
   "outputs": [
    {
     "data": {
      "image/png": "[encoded data removed]",
      "text/plain": [
       "<Figure size 1008x720 with 1 Axes>"
      ]
     },
     "metadata": {},
     "output_type": "display_data"
    }
   ],
   "source": [
    "import seaborn as sns\n",
    "sns.set(rc={'figure.figsize':(14,10)})\n",
    "\n",
    "# Energy compressed\n",
    "ax = sns.scatterplot(x=access_sizes_log, y=ccc_e_times, label=\"Energy Compressed\").set(xlabel='log(nr. points accessed)', ylabel='Access time (ms)')\n",
    "#ax.set(xlabel='Cube Root Length', ylabel='Access time (ms)')\n",
    "\n",
    "# https://stackoverflow.com/questions/31632637/label-axes-on-seaborn-barplot\n",
    "# mymodel = np.poly1d(np.polyfit(access_sizes_log, ccc_e_times, 2))\n",
    "# myline = np.linspace(1, access_sizes_log[len(access_sizes_log)-1], 1000)\n",
    "# plt.plot(myline, mymodel(myline))#, color=\"orange\")\n",
    "\n",
    "# w-velocity compressed\n",
    "ax = sns.scatterplot(x=access_sizes_log, y=ccc_w_times, label=\"w-Velocity Compressed\")\n",
    "\n",
    "# mymodel_w = np.poly1d(np.polyfit(access_sizes_log, ccc_w_times, 2))\n",
    "# myline_w = np.linspace(1, access_sizes_log[len(access_sizes_log)-1], 1000)\n",
    "# plt.plot(myline_w, mymodel_w(myline_w))\n",
    "\n",
    "\n",
    "# Temperature compressed\n",
    "ax = sns.scatterplot(x=access_sizes_log, y=ccc_t_times, label=\"Temperature Compressed\")\n",
    "\n",
    "# mymodel_t = np.poly1d(np.polyfit(access_sizes_log, ccc_t_times, 2))\n",
    "# myline_t = np.linspace(1, access_sizes_log[len(access_sizes_log)-1], 1000)\n",
    "# plt.plot(myline_t, mymodel_t(myline_t))\n",
    "\n",
    "\n",
    "plt.title(\"Cold Sequential Access Times\")\n",
    "plt.show()"
   ]
  },
  {
   "cell_type": "markdown",
   "metadata": {},
   "source": [
    "# Cold - Minimizing nr. chunks hit\n",
    "\n",
    "<font color=\"orange\">In above, random initialization means the number of chunks accessed at each run is non-deterministic</font>\n",
    "\n",
    "Below, I run experiments starting always from the first point (0,0,0) in a randomly chosen chunk"
   ]
  },
  {
   "cell_type": "markdown",
   "metadata": {},
   "source": [
    "## Compressed"
   ]
  },
  {
   "cell_type": "code",
   "execution_count": 70,
   "metadata": {},
   "outputs": [],
   "source": [
    "chunk_size = 256"
   ]
  },
  {
   "cell_type": "code",
   "execution_count": 71,
   "metadata": {
    "scrolled": true
   },
   "outputs": [
    {
     "name": "stdout",
     "output_type": "stream",
     "text": [
      "812\n",
      "36.4 s ± 0 ns per loop (mean ± std. dev. of 1 run, 1 loop each)\n",
      "645\n",
      "8.07 s ± 0 ns per loop (mean ± std. dev. of 1 run, 1 loop each)\n",
      "511\n",
      "2.66 s ± 0 ns per loop (mean ± std. dev. of 1 run, 1 loop each)\n",
      "406\n",
      "1.88 s ± 0 ns per loop (mean ± std. dev. of 1 run, 1 loop each)\n",
      "322\n",
      "1.51 s ± 0 ns per loop (mean ± std. dev. of 1 run, 1 loop each)\n",
      "255\n",
      "761 ms ± 0 ns per loop (mean ± std. dev. of 1 run, 1 loop each)\n",
      "203\n",
      "300 ms ± 0 ns per loop (mean ± std. dev. of 1 run, 1 loop each)\n",
      "161\n",
      "186 ms ± 0 ns per loop (mean ± std. dev. of 1 run, 1 loop each)\n",
      "127\n",
      "241 ms ± 0 ns per loop (mean ± std. dev. of 1 run, 1 loop each)\n",
      "101\n",
      "173 ms ± 0 ns per loop (mean ± std. dev. of 1 run, 1 loop each)\n",
      "80\n",
      "162 ms ± 0 ns per loop (mean ± std. dev. of 1 run, 1 loop each)\n",
      "63\n",
      "164 ms ± 0 ns per loop (mean ± std. dev. of 1 run, 1 loop each)\n",
      "50\n",
      "154 ms ± 0 ns per loop (mean ± std. dev. of 1 run, 1 loop each)\n",
      "40\n",
      "385 ms ± 0 ns per loop (mean ± std. dev. of 1 run, 1 loop each)\n",
      "31\n",
      "166 ms ± 0 ns per loop (mean ± std. dev. of 1 run, 1 loop each)\n",
      "25\n",
      "189 ms ± 0 ns per loop (mean ± std. dev. of 1 run, 1 loop each)\n",
      "20\n",
      "200 ms ± 0 ns per loop (mean ± std. dev. of 1 run, 1 loop each)\n",
      "15\n",
      "163 ms ± 0 ns per loop (mean ± std. dev. of 1 run, 1 loop each)\n",
      "12\n",
      "146 ms ± 0 ns per loop (mean ± std. dev. of 1 run, 1 loop each)\n",
      "10\n",
      "210 ms ± 0 ns per loop (mean ± std. dev. of 1 run, 1 loop each)\n",
      "7\n",
      "175 ms ± 0 ns per loop (mean ± std. dev. of 1 run, 1 loop each)\n",
      "6\n",
      "314 ms ± 0 ns per loop (mean ± std. dev. of 1 run, 1 loop each)\n",
      "5\n",
      "180 ms ± 0 ns per loop (mean ± std. dev. of 1 run, 1 loop each)\n",
      "3\n",
      "167 ms ± 0 ns per loop (mean ± std. dev. of 1 run, 1 loop each)\n"
     ]
    }
   ],
   "source": [
    "# Energy field\n",
    "for i in range(len(cube_root_size)-1,-1,-1): # From 31st to 0-th (inclusive)\n",
    "    _ = ncar_uncompressed['t'][0:1024,0:1024,0:1024]\n",
    "    print(cube_root_size[i])\n",
    "    \n",
    "    random_start_point = chunk_size * randint(0, 4)\n",
    "    %timeit -o -n 1 -r 1 ncar_uncompressed['e'][random_start_point:cube_root_size[i] + random_start_point,random_start_point:cube_root_size[i] + random_start_point,random_start_point:cube_root_size[i] + random_start_point]"
   ]
  },
  {
   "cell_type": "code",
   "execution_count": 119,
   "metadata": {},
   "outputs": [],
   "source": [
    "# MCC - min nr. chunks accessed per nr. points. MCC = min chunk compressed\n",
    "mcc_e = [36400, 8070, 2660, 1880, 1510, 761, 300, 186, 241, 173, 162, 164, 154, 385, 166, 189, 200, 163, 146, 210, 175, 314, 180, 167]\n",
    "mcc_e.reverse()"
   ]
  },
  {
   "cell_type": "code",
   "execution_count": 72,
   "metadata": {
    "scrolled": true
   },
   "outputs": [
    {
     "name": "stdout",
     "output_type": "stream",
     "text": [
      "812\n",
      "30.4 s ± 0 ns per loop (mean ± std. dev. of 1 run, 1 loop each)\n",
      "645\n",
      "13.7 s ± 0 ns per loop (mean ± std. dev. of 1 run, 1 loop each)\n",
      "511\n",
      "4.22 s ± 0 ns per loop (mean ± std. dev. of 1 run, 1 loop each)\n",
      "406\n",
      "1.93 s ± 0 ns per loop (mean ± std. dev. of 1 run, 1 loop each)\n",
      "322\n",
      "1.45 s ± 0 ns per loop (mean ± std. dev. of 1 run, 1 loop each)\n",
      "255\n",
      "350 ms ± 0 ns per loop (mean ± std. dev. of 1 run, 1 loop each)\n",
      "203\n",
      "271 ms ± 0 ns per loop (mean ± std. dev. of 1 run, 1 loop each)\n",
      "161\n",
      "147 ms ± 0 ns per loop (mean ± std. dev. of 1 run, 1 loop each)\n",
      "127\n",
      "566 ms ± 0 ns per loop (mean ± std. dev. of 1 run, 1 loop each)\n",
      "101\n",
      "145 ms ± 0 ns per loop (mean ± std. dev. of 1 run, 1 loop each)\n",
      "80\n",
      "157 ms ± 0 ns per loop (mean ± std. dev. of 1 run, 1 loop each)\n",
      "63\n",
      "160 ms ± 0 ns per loop (mean ± std. dev. of 1 run, 1 loop each)\n",
      "50\n",
      "150 ms ± 0 ns per loop (mean ± std. dev. of 1 run, 1 loop each)\n",
      "40\n",
      "136 ms ± 0 ns per loop (mean ± std. dev. of 1 run, 1 loop each)\n",
      "31\n",
      "188 ms ± 0 ns per loop (mean ± std. dev. of 1 run, 1 loop each)\n",
      "25\n",
      "161 ms ± 0 ns per loop (mean ± std. dev. of 1 run, 1 loop each)\n",
      "20\n",
      "136 ms ± 0 ns per loop (mean ± std. dev. of 1 run, 1 loop each)\n",
      "15\n",
      "138 ms ± 0 ns per loop (mean ± std. dev. of 1 run, 1 loop each)\n",
      "12\n",
      "157 ms ± 0 ns per loop (mean ± std. dev. of 1 run, 1 loop each)\n",
      "10\n",
      "151 ms ± 0 ns per loop (mean ± std. dev. of 1 run, 1 loop each)\n",
      "7\n",
      "159 ms ± 0 ns per loop (mean ± std. dev. of 1 run, 1 loop each)\n",
      "6\n",
      "120 ms ± 0 ns per loop (mean ± std. dev. of 1 run, 1 loop each)\n",
      "5\n",
      "156 ms ± 0 ns per loop (mean ± std. dev. of 1 run, 1 loop each)\n",
      "3\n",
      "119 ms ± 0 ns per loop (mean ± std. dev. of 1 run, 1 loop each)\n"
     ]
    }
   ],
   "source": [
    "# w velocity field\n",
    "for i in range(len(cube_root_size)-1,-1,-1): # From 31st to 0-th (inclusive)\n",
    "    _ = ncar_uncompressed['t'][0:1024,0:1024,0:1024]\n",
    "    print(cube_root_size[i])\n",
    "    \n",
    "    random_start_point = chunk_size * randint(0, 4)\n",
    "    %timeit -o -n 1 -r 1 ncar_uncompressed['w'][random_start_point:cube_root_size[i] + random_start_point,random_start_point:cube_root_size[i] + random_start_point,random_start_point:cube_root_size[i] + random_start_point]"
   ]
  },
  {
   "cell_type": "code",
   "execution_count": 118,
   "metadata": {},
   "outputs": [],
   "source": [
    "# Outlier at cube_root=127\n",
    "mcc_w = [30400, 13700, 4220, 1930, 1450, 350, 271, 147, 566, 145, 157, 160, 150, 136, 188, 161, 136, 138, 157, 151, 159, 120, 156, 119]\n",
    "mcc_w.reverse()"
   ]
  },
  {
   "cell_type": "code",
   "execution_count": 73,
   "metadata": {
    "scrolled": true
   },
   "outputs": [
    {
     "name": "stdout",
     "output_type": "stream",
     "text": [
      "812\n",
      "21.9 s ± 0 ns per loop (mean ± std. dev. of 1 run, 1 loop each)\n",
      "645\n",
      "6.56 s ± 0 ns per loop (mean ± std. dev. of 1 run, 1 loop each)\n",
      "511\n",
      "2.37 s ± 0 ns per loop (mean ± std. dev. of 1 run, 1 loop each)\n",
      "406\n",
      "1.8 s ± 0 ns per loop (mean ± std. dev. of 1 run, 1 loop each)\n",
      "322\n",
      "1.41 s ± 0 ns per loop (mean ± std. dev. of 1 run, 1 loop each)\n",
      "255\n",
      "320 ms ± 0 ns per loop (mean ± std. dev. of 1 run, 1 loop each)\n",
      "203\n",
      "204 ms ± 0 ns per loop (mean ± std. dev. of 1 run, 1 loop each)\n",
      "161\n",
      "141 ms ± 0 ns per loop (mean ± std. dev. of 1 run, 1 loop each)\n",
      "127\n",
      "130 ms ± 0 ns per loop (mean ± std. dev. of 1 run, 1 loop each)\n",
      "101\n",
      "150 ms ± 0 ns per loop (mean ± std. dev. of 1 run, 1 loop each)\n",
      "80\n",
      "120 ms ± 0 ns per loop (mean ± std. dev. of 1 run, 1 loop each)\n",
      "63\n",
      "173 ms ± 0 ns per loop (mean ± std. dev. of 1 run, 1 loop each)\n",
      "50\n",
      "422 ms ± 0 ns per loop (mean ± std. dev. of 1 run, 1 loop each)\n",
      "40\n",
      "173 ms ± 0 ns per loop (mean ± std. dev. of 1 run, 1 loop each)\n",
      "31\n",
      "132 ms ± 0 ns per loop (mean ± std. dev. of 1 run, 1 loop each)\n",
      "25\n",
      "155 ms ± 0 ns per loop (mean ± std. dev. of 1 run, 1 loop each)\n",
      "20\n",
      "132 ms ± 0 ns per loop (mean ± std. dev. of 1 run, 1 loop each)\n",
      "15\n",
      "143 ms ± 0 ns per loop (mean ± std. dev. of 1 run, 1 loop each)\n",
      "12\n",
      "124 ms ± 0 ns per loop (mean ± std. dev. of 1 run, 1 loop each)\n",
      "10\n",
      "131 ms ± 0 ns per loop (mean ± std. dev. of 1 run, 1 loop each)\n",
      "7\n",
      "127 ms ± 0 ns per loop (mean ± std. dev. of 1 run, 1 loop each)\n",
      "6\n",
      "130 ms ± 0 ns per loop (mean ± std. dev. of 1 run, 1 loop each)\n",
      "5\n",
      "151 ms ± 0 ns per loop (mean ± std. dev. of 1 run, 1 loop each)\n",
      "3\n",
      "127 ms ± 0 ns per loop (mean ± std. dev. of 1 run, 1 loop each)\n"
     ]
    }
   ],
   "source": [
    "# Temperature field\n",
    "for i in range(len(cube_root_size)-1,-1,-1): # From 31st to 0-th (inclusive)\n",
    "    _ = ncar_uncompressed['w'][0:1024,0:1024,0:1024]\n",
    "    print(cube_root_size[i])\n",
    "    \n",
    "    random_start_point = chunk_size * randint(0, 4)\n",
    "    %timeit -o -n 1 -r 1 ncar_uncompressed['t'][random_start_point:cube_root_size[i] + random_start_point,random_start_point:cube_root_size[i] + random_start_point,random_start_point:cube_root_size[i] + random_start_point]"
   ]
  },
  {
   "cell_type": "code",
   "execution_count": 121,
   "metadata": {},
   "outputs": [],
   "source": [
    "# 1st is >768 => need to read 4 chunks\n",
    "# 2nd =645 (>512) so 3 chunks. Then 2, and so on\n",
    "# Outlier at cube size=50. Why?\n",
    "mcc_t = [21900, 6560, 2370, 1800, 1410, 320, 204, 141, 130, 150, 120, 173, 422, 173, 132, 155, 132, 143, 124, 131, 127, 130, 151, 127]\n",
    "mcc_t.reverse()"
   ]
  },
  {
   "cell_type": "code",
   "execution_count": 123,
   "metadata": {},
   "outputs": [
    {
     "data": {
      "image/png": "[encoded data removed]",
      "text/plain": [
       "<Figure size 1008x720 with 1 Axes>"
      ]
     },
     "metadata": {},
     "output_type": "display_data"
    }
   ],
   "source": [
    "import seaborn as sns\n",
    "sns.set(rc={'figure.figsize':(14,10)})\n",
    "\n",
    "# Energy compressed\n",
    "ax = sns.scatterplot(x=cube_root_size, y=mcc_e, label=\"Energy Compressed\").set(xlabel='Cube Root Length', ylabel='Access time (ms)')\n",
    "#ax.set(xlabel='Cube Root Length', ylabel='Access time (ms)')\n",
    "\n",
    "# https://stackoverflow.com/questions/31632637/label-axes-on-seaborn-barplot\n",
    "mymodel = np.poly1d(np.polyfit(cube_root_size, mcc_e, 2))\n",
    "myline = np.linspace(1, cube_root_size[len(cube_root_size)-1], 1000)\n",
    "plt.plot(myline, mymodel(myline), label=\"Deg. 2 Polynomial Regression\")#, color=\"orange\")\n",
    "\n",
    "# w-velocity compressed\n",
    "ax = sns.scatterplot(x=cube_root_size, y=mcc_w, label=\"w-Velocity Compressed\")\n",
    "\n",
    "mymodel_w = np.poly1d(np.polyfit(cube_root_size, mcc_w, 2))\n",
    "myline_w = np.linspace(1, cube_root_size[len(cube_root_size)-1], 1000)\n",
    "plt.plot(myline_w, mymodel_w(myline_w))\n",
    "\n",
    "\n",
    "# Temperature compressed\n",
    "ax = sns.scatterplot(x=cube_root_size, y=mcc_t, label=\"Temperature Compressed\")\n",
    "\n",
    "mymodel_t = np.poly1d(np.polyfit(cube_root_size, mcc_t, 2))\n",
    "myline_t = np.linspace(1, cube_root_size[len(cube_root_size)-1], 1000)\n",
    "plt.plot(myline_t, mymodel_t(myline_t))\n",
    "\n",
    "\n",
    "plt.title(\"Cold Chunk-Aligned Access Times\")\n",
    "plt.show()"
   ]
  },
  {
   "cell_type": "markdown",
   "metadata": {},
   "source": [
    "# Uncompressed"
   ]
  },
  {
   "cell_type": "code",
   "execution_count": 79,
   "metadata": {},
   "outputs": [
    {
     "name": "stdout",
     "output_type": "stream",
     "text": [
      "812\n",
      "37.9 s ± 0 ns per loop (mean ± std. dev. of 1 run, 1 loop each)\n",
      "645\n",
      "13.9 s ± 0 ns per loop (mean ± std. dev. of 1 run, 1 loop each)\n",
      "511\n",
      "2.48 s ± 0 ns per loop (mean ± std. dev. of 1 run, 1 loop each)\n",
      "406\n",
      "1.85 s ± 0 ns per loop (mean ± std. dev. of 1 run, 1 loop each)\n",
      "322\n",
      "1.45 s ± 0 ns per loop (mean ± std. dev. of 1 run, 1 loop each)\n",
      "255\n",
      "303 ms ± 0 ns per loop (mean ± std. dev. of 1 run, 1 loop each)\n",
      "203\n",
      "297 ms ± 0 ns per loop (mean ± std. dev. of 1 run, 1 loop each)\n",
      "161\n",
      "187 ms ± 0 ns per loop (mean ± std. dev. of 1 run, 1 loop each)\n",
      "127\n",
      "142 ms ± 0 ns per loop (mean ± std. dev. of 1 run, 1 loop each)\n",
      "101\n",
      "192 ms ± 0 ns per loop (mean ± std. dev. of 1 run, 1 loop each)\n",
      "80\n",
      "146 ms ± 0 ns per loop (mean ± std. dev. of 1 run, 1 loop each)\n",
      "63\n",
      "131 ms ± 0 ns per loop (mean ± std. dev. of 1 run, 1 loop each)\n",
      "50\n",
      "215 ms ± 0 ns per loop (mean ± std. dev. of 1 run, 1 loop each)\n",
      "40\n",
      "147 ms ± 0 ns per loop (mean ± std. dev. of 1 run, 1 loop each)\n",
      "31\n",
      "145 ms ± 0 ns per loop (mean ± std. dev. of 1 run, 1 loop each)\n",
      "25\n",
      "155 ms ± 0 ns per loop (mean ± std. dev. of 1 run, 1 loop each)\n",
      "20\n",
      "224 ms ± 0 ns per loop (mean ± std. dev. of 1 run, 1 loop each)\n",
      "15\n",
      "167 ms ± 0 ns per loop (mean ± std. dev. of 1 run, 1 loop each)\n",
      "12\n",
      "206 ms ± 0 ns per loop (mean ± std. dev. of 1 run, 1 loop each)\n",
      "10\n",
      "144 ms ± 0 ns per loop (mean ± std. dev. of 1 run, 1 loop each)\n",
      "7\n",
      "117 ms ± 0 ns per loop (mean ± std. dev. of 1 run, 1 loop each)\n",
      "6\n",
      "138 ms ± 0 ns per loop (mean ± std. dev. of 1 run, 1 loop each)\n",
      "5\n",
      "157 ms ± 0 ns per loop (mean ± std. dev. of 1 run, 1 loop each)\n",
      "3\n",
      "142 ms ± 0 ns per loop (mean ± std. dev. of 1 run, 1 loop each)\n"
     ]
    }
   ],
   "source": [
    "# Energy field\n",
    "for i in range(len(cube_root_size)-1,-1,-1): # From 31st to 0-th (inclusive)\n",
    "    _ = ncar_uncompressed['t'][0:1024,0:1024,0:1024]\n",
    "    print(cube_root_size[i])\n",
    "    \n",
    "    random_start_point = chunk_size * randint(0, 4)\n",
    "    %timeit -o -n 1 -r 1 ncar_uncompressed['e'][random_start_point:cube_root_size[i] + random_start_point,random_start_point:cube_root_size[i] + random_start_point,random_start_point:cube_root_size[i] + random_start_point]"
   ]
  },
  {
   "cell_type": "code",
   "execution_count": null,
   "metadata": {},
   "outputs": [],
   "source": [
    "# MCU - Minimum chunk uncompressed. See above what Minimum chunk means\n",
    "mcu_e = [37900, 13900, 2480, 1850, 1450, 303, 297, 187, 142, 192, 146, 131, 215, 147, 145, 155, 224, 167, 206, 144, 117, 138, 157, 142]\n",
    "mcu_e.reverse()"
   ]
  },
  {
   "cell_type": "code",
   "execution_count": 124,
   "metadata": {},
   "outputs": [
    {
     "name": "stdout",
     "output_type": "stream",
     "text": [
      "812\n",
      "44 s ± 0 ns per loop (mean ± std. dev. of 1 run, 1 loop each)\n",
      "645\n",
      "11.9 s ± 0 ns per loop (mean ± std. dev. of 1 run, 1 loop each)\n",
      "511\n",
      "4.25 s ± 0 ns per loop (mean ± std. dev. of 1 run, 1 loop each)\n",
      "406\n",
      "3.79 s ± 0 ns per loop (mean ± std. dev. of 1 run, 1 loop each)\n",
      "322\n",
      "2.78 s ± 0 ns per loop (mean ± std. dev. of 1 run, 1 loop each)\n",
      "255\n",
      "342 ms ± 0 ns per loop (mean ± std. dev. of 1 run, 1 loop each)\n",
      "203\n",
      "273 ms ± 0 ns per loop (mean ± std. dev. of 1 run, 1 loop each)\n",
      "161\n",
      "218 ms ± 0 ns per loop (mean ± std. dev. of 1 run, 1 loop each)\n",
      "127\n",
      "188 ms ± 0 ns per loop (mean ± std. dev. of 1 run, 1 loop each)\n",
      "101\n",
      "182 ms ± 0 ns per loop (mean ± std. dev. of 1 run, 1 loop each)\n",
      "80\n",
      "223 ms ± 0 ns per loop (mean ± std. dev. of 1 run, 1 loop each)\n",
      "63\n",
      "148 ms ± 0 ns per loop (mean ± std. dev. of 1 run, 1 loop each)\n",
      "50\n",
      "167 ms ± 0 ns per loop (mean ± std. dev. of 1 run, 1 loop each)\n",
      "40\n",
      "154 ms ± 0 ns per loop (mean ± std. dev. of 1 run, 1 loop each)\n",
      "31\n",
      "160 ms ± 0 ns per loop (mean ± std. dev. of 1 run, 1 loop each)\n",
      "25\n",
      "145 ms ± 0 ns per loop (mean ± std. dev. of 1 run, 1 loop each)\n",
      "20\n",
      "149 ms ± 0 ns per loop (mean ± std. dev. of 1 run, 1 loop each)\n",
      "15\n",
      "170 ms ± 0 ns per loop (mean ± std. dev. of 1 run, 1 loop each)\n",
      "12\n",
      "152 ms ± 0 ns per loop (mean ± std. dev. of 1 run, 1 loop each)\n",
      "10\n",
      "216 ms ± 0 ns per loop (mean ± std. dev. of 1 run, 1 loop each)\n",
      "7\n",
      "164 ms ± 0 ns per loop (mean ± std. dev. of 1 run, 1 loop each)\n",
      "6\n",
      "139 ms ± 0 ns per loop (mean ± std. dev. of 1 run, 1 loop each)\n",
      "5\n",
      "179 ms ± 0 ns per loop (mean ± std. dev. of 1 run, 1 loop each)\n",
      "3\n",
      "164 ms ± 0 ns per loop (mean ± std. dev. of 1 run, 1 loop each)\n"
     ]
    }
   ],
   "source": [
    "# w velocity field\n",
    "for i in range(len(cube_root_size)-1,-1,-1): # From 31st to 0-th (inclusive)\n",
    "    _ = ncar_uncompressed['t'][0:1024,0:1024,0:1024]\n",
    "    print(cube_root_size[i])\n",
    "    \n",
    "    random_start_point = chunk_size * randint(0, 4)\n",
    "    %timeit -o -n 1 -r 1 ncar_uncompressed['w'][random_start_point:cube_root_size[i] + random_start_point,random_start_point:cube_root_size[i] + random_start_point,random_start_point:cube_root_size[i] + random_start_point]"
   ]
  },
  {
   "cell_type": "code",
   "execution_count": null,
   "metadata": {},
   "outputs": [],
   "source": [
    "mcu_w = [44000, 11900, 4250, 3790, 2780, 342, 273, 218, 188, 182, 223, 148, 167, 154, 160, 145, 149, 170, 152, 216, 164, 139, 179, 164]\n",
    "mcu_w.reverse()"
   ]
  },
  {
   "cell_type": "code",
   "execution_count": null,
   "metadata": {},
   "outputs": [
    {
     "name": "stdout",
     "output_type": "stream",
     "text": [
      "812\n",
      "30.3 s ± 0 ns per loop (mean ± std. dev. of 1 run, 1 loop each)\n",
      "645\n",
      "7.74 s ± 0 ns per loop (mean ± std. dev. of 1 run, 1 loop each)\n",
      "511\n",
      "2.55 s ± 0 ns per loop (mean ± std. dev. of 1 run, 1 loop each)\n",
      "406\n",
      "1.85 s ± 0 ns per loop (mean ± std. dev. of 1 run, 1 loop each)\n",
      "322\n",
      "1.63 s ± 0 ns per loop (mean ± std. dev. of 1 run, 1 loop each)\n",
      "255\n",
      "307 ms ± 0 ns per loop (mean ± std. dev. of 1 run, 1 loop each)\n",
      "203\n",
      "263 ms ± 0 ns per loop (mean ± std. dev. of 1 run, 1 loop each)\n",
      "161\n",
      "164 ms ± 0 ns per loop (mean ± std. dev. of 1 run, 1 loop each)\n",
      "127\n",
      "161 ms ± 0 ns per loop (mean ± std. dev. of 1 run, 1 loop each)\n",
      "101\n",
      "151 ms ± 0 ns per loop (mean ± std. dev. of 1 run, 1 loop each)\n"
     ]
    }
   ],
   "source": [
    "# temperature field\n",
    "for i in range(len(cube_root_size)-1,-1,-1): # From 31st to 0-th (inclusive)\n",
    "    _ = ncar_uncompressed['w'][0:1024,0:1024,0:1024]\n",
    "    print(cube_root_size[i])\n",
    "    \n",
    "    random_start_point = chunk_size * randint(0, 4)\n",
    "    %timeit -o -n 1 -r 1 ncar_uncompressed['t'][random_start_point:cube_root_size[i] + random_start_point,random_start_point:cube_root_size[i] + random_start_point,random_start_point:cube_root_size[i] + random_start_point]"
   ]
  },
  {
   "cell_type": "code",
   "execution_count": null,
   "metadata": {},
   "outputs": [],
   "source": [
    "min_chunk_uncomp_t = [30300, 7740, 2550, 1850, 1630, 307, 263, 164, 161, 151, ]"
   ]
  },
  {
   "cell_type": "markdown",
   "metadata": {},
   "source": [
    "## Warm-cache access all chunk sizes 2^6 - 2^30"
   ]
  },
  {
   "cell_type": "code",
   "execution_count": null,
   "metadata": {},
   "outputs": [],
   "source": [
    "for i in range(len(cube_root_size)):\n",
    "#     _ = ncar_data['t'][0:2048,0:2048,0:2048]\n",
    "    print(cube_root_size[i])\n",
    "    %timeit -o ncar_data['e'][0:cube_root_size[i],0:cube_root_size[i],0:cube_root_size[i]]"
   ]
  },
  {
   "cell_type": "code",
   "execution_count": null,
   "metadata": {},
   "outputs": [],
   "source": [
    "for i in range(len(cube_root_size)):\n",
    "#     _ = ncar_data['t'][0:2048,0:2048,0:2048]\n",
    "    print(cube_root_size[i])\n",
    "    %timeit -o ncar_data['w'][0:cube_root_size[i],0:cube_root_size[i],0:cube_root_size[i]]"
   ]
  },
  {
   "cell_type": "code",
   "execution_count": null,
   "metadata": {},
   "outputs": [],
   "source": [
    "for i in range(len(cube_root_size)):\n",
    "#     _ = ncar_data['t'][0:2048,0:2048,0:2048]\n",
    "    print(cube_root_size[i])\n",
    "    %timeit -o ncar_data['t'][0:cube_root_size[i],0:cube_root_size[i],0:cube_root_size[i]]"
   ]
  },
  {
   "cell_type": "markdown",
   "metadata": {},
   "source": [
    "# <font color=\"red\">Uncompressed</font>"
   ]
  },
  {
   "cell_type": "code",
   "execution_count": null,
   "metadata": {},
   "outputs": [],
   "source": [
    "ncar_e_uncompressed = zarr.open(\"ncar_zarr_uncompressed/e\")\n",
    "ncar_e_uncompressed.info"
   ]
  },
  {
   "cell_type": "markdown",
   "metadata": {},
   "source": [
    "## Cold-cache access all chunk sizes 2^6 - 2^30"
   ]
  }
 ],
 "metadata": {
  "kernelspec": {
   "display_name": "Python 3.8 (py38)",
   "language": "python",
   "name": "py38"
  },
  "language_info": {
   "codemirror_mode": {
    "name": "ipython",
    "version": 3
   },
   "file_extension": ".py",
   "mimetype": "text/x-python",
   "name": "python",
   "nbconvert_exporter": "python",
   "pygments_lexer": "ipython3",
   "version": "3.8.5"
  }
 },
 "nbformat": 4,
 "nbformat_minor": 4
}
