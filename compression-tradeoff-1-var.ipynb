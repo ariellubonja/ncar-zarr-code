{
 "cells": [
  {
   "cell_type": "markdown",
   "metadata": {},
   "source": [
    "# various access sizes, cache cleared"
   ]
  },
  {
   "cell_type": "markdown",
   "metadata": {},
   "source": [
    "## <font color=\"orange\"> Process for experiments </font>\n",
    "\n",
    "1. Cube sizes from $2^6$ to $2^{30}$, starting from biggest. Expressed as Cube Root\n",
    "\n",
    "2. Read 4GB of data from different variable to make sure cache is clear\n",
    "\n",
    "3. Pick a random starting point.\n",
    "\n",
    "4. Read a cube from this starting point (see #1). Cube not guaranteed to be in single chunk"
   ]
  },
  {
   "cell_type": "code",
   "execution_count": 1,
   "metadata": {},
   "outputs": [
    {
     "data": {
      "text/plain": [
       "'2.13.2'"
      ]
     },
     "execution_count": 1,
     "metadata": {},
     "output_type": "execute_result"
    }
   ],
   "source": [
    "import zarr # Check version\n",
    "import numpy as np\n",
    "from matplotlib import pyplot as plt\n",
    "from random import randint\n",
    "\n",
    "zarr.__version__"
   ]
  },
  {
   "cell_type": "code",
   "execution_count": 2,
   "metadata": {},
   "outputs": [],
   "source": [
    "chunk_sizes = [ 2**i for i in range(6,30)]"
   ]
  },
  {
   "cell_type": "code",
   "execution_count": 3,
   "metadata": {},
   "outputs": [
    {
     "data": {
      "text/plain": [
       "[3, 5, 6, 7, 10]"
      ]
     },
     "execution_count": 3,
     "metadata": {},
     "output_type": "execute_result"
    }
   ],
   "source": [
    "cube_root_size = [int(x ** (1. / 3)) for x in chunk_sizes]\n",
    "cube_root_size[:5]"
   ]
  },
  {
   "cell_type": "code",
   "execution_count": 4,
   "metadata": {},
   "outputs": [
    {
     "data": {
      "text/html": [
       "<table class=\"zarr-info\"><tbody><tr><th style=\"text-align: left\">Name</th><td style=\"text-align: left\">/</td></tr><tr><th style=\"text-align: left\">Type</th><td style=\"text-align: left\">zarr.hierarchy.Group</td></tr><tr><th style=\"text-align: left\">Read-only</th><td style=\"text-align: left\">False</td></tr><tr><th style=\"text-align: left\">Store type</th><td style=\"text-align: left\">zarr.storage.DirectoryStore</td></tr><tr><th style=\"text-align: left\">No. members</th><td style=\"text-align: left\">6</td></tr><tr><th style=\"text-align: left\">No. arrays</th><td style=\"text-align: left\">6</td></tr><tr><th style=\"text-align: left\">No. groups</th><td style=\"text-align: left\">0</td></tr><tr><th style=\"text-align: left\">Arrays</th><td style=\"text-align: left\">e, p, t, u, v, w</td></tr></tbody></table>"
      ],
      "text/plain": [
       "Name        : /\n",
       "Type        : zarr.hierarchy.Group\n",
       "Read-only   : False\n",
       "Store type  : zarr.storage.DirectoryStore\n",
       "No. members : 6\n",
       "No. arrays  : 6\n",
       "No. groups  : 0\n",
       "Arrays      : e, p, t, u, v, w"
      ]
     },
     "execution_count": 4,
     "metadata": {},
     "output_type": "execute_result"
    }
   ],
   "source": [
    "ncar_data = zarr.open(\"sciserver-experimental/ariel/tests\")\n",
    "ncar_data.info"
   ]
  },
  {
   "cell_type": "markdown",
   "metadata": {},
   "source": [
    "# Compressed\n",
    "## Cold-cache access all chunk sizes 2^6 - 2^30"
   ]
  },
  {
   "cell_type": "code",
   "execution_count": 52,
   "metadata": {},
   "outputs": [
    {
     "data": {
      "text/html": [
       "<table class=\"zarr-info\"><tbody><tr><th style=\"text-align: left\">Name</th><td style=\"text-align: left\">/e</td></tr><tr><th style=\"text-align: left\">Type</th><td style=\"text-align: left\">zarr.core.Array</td></tr><tr><th style=\"text-align: left\">Data type</th><td style=\"text-align: left\">float32</td></tr><tr><th style=\"text-align: left\">Shape</th><td style=\"text-align: left\">(2048, 2048, 2048)</td></tr><tr><th style=\"text-align: left\">Chunk shape</th><td style=\"text-align: left\">(256, 256, 256)</td></tr><tr><th style=\"text-align: left\">Order</th><td style=\"text-align: left\">C</td></tr><tr><th style=\"text-align: left\">Read-only</th><td style=\"text-align: left\">False</td></tr><tr><th style=\"text-align: left\">Compressor</th><td style=\"text-align: left\">Blosc(cname='lz4', clevel=5, shuffle=SHUFFLE, blocksize=0)</td></tr><tr><th style=\"text-align: left\">Store type</th><td style=\"text-align: left\">zarr.storage.DirectoryStore</td></tr><tr><th style=\"text-align: left\">No. bytes</th><td style=\"text-align: left\">34359738368 (32.0G)</td></tr><tr><th style=\"text-align: left\">No. bytes stored</th><td style=\"text-align: left\">13989514907 (13.0G)</td></tr><tr><th style=\"text-align: left\">Storage ratio</th><td style=\"text-align: left\">2.5</td></tr><tr><th style=\"text-align: left\">Chunks initialized</th><td style=\"text-align: left\">512/512</td></tr></tbody></table>"
      ],
      "text/plain": [
       "Name               : /e\n",
       "Type               : zarr.core.Array\n",
       "Data type          : float32\n",
       "Shape              : (2048, 2048, 2048)\n",
       "Chunk shape        : (256, 256, 256)\n",
       "Order              : C\n",
       "Read-only          : False\n",
       "Compressor         : Blosc(cname='lz4', clevel=5, shuffle=SHUFFLE, blocksize=0)\n",
       "Store type         : zarr.storage.DirectoryStore\n",
       "No. bytes          : 34359738368 (32.0G)\n",
       "No. bytes stored   : 13989514907 (13.0G)\n",
       "Storage ratio      : 2.5\n",
       "Chunks initialized : 512/512"
      ]
     },
     "execution_count": 52,
     "metadata": {},
     "output_type": "execute_result"
    }
   ],
   "source": [
    "ncar_data['e'].info"
   ]
  },
  {
   "cell_type": "code",
   "execution_count": 143,
   "metadata": {
    "scrolled": true
   },
   "outputs": [
    {
     "name": "stdout",
     "output_type": "stream",
     "text": [
      "812\n",
      "18.3 s ± 0 ns per loop (mean ± std. dev. of 1 run, 1 loop each)\n",
      "645\n",
      "16.3 s ± 0 ns per loop (mean ± std. dev. of 1 run, 1 loop each)\n",
      "511\n",
      "7.66 s ± 0 ns per loop (mean ± std. dev. of 1 run, 1 loop each)\n",
      "406\n",
      "14.3 s ± 0 ns per loop (mean ± std. dev. of 1 run, 1 loop each)\n",
      "322\n",
      "14.1 s ± 0 ns per loop (mean ± std. dev. of 1 run, 1 loop each)\n",
      "255\n",
      "2.68 s ± 0 ns per loop (mean ± std. dev. of 1 run, 1 loop each)\n",
      "203\n",
      "1.98 s ± 0 ns per loop (mean ± std. dev. of 1 run, 1 loop each)\n",
      "161\n",
      "1.41 s ± 0 ns per loop (mean ± std. dev. of 1 run, 1 loop each)\n",
      "127\n",
      "504 ms ± 0 ns per loop (mean ± std. dev. of 1 run, 1 loop each)\n",
      "101\n",
      "1.32 s ± 0 ns per loop (mean ± std. dev. of 1 run, 1 loop each)\n",
      "80\n",
      "486 ms ± 0 ns per loop (mean ± std. dev. of 1 run, 1 loop each)\n",
      "63\n",
      "96.9 ms ± 0 ns per loop (mean ± std. dev. of 1 run, 1 loop each)\n",
      "50\n",
      "469 ms ± 0 ns per loop (mean ± std. dev. of 1 run, 1 loop each)\n",
      "40\n",
      "442 ms ± 0 ns per loop (mean ± std. dev. of 1 run, 1 loop each)\n",
      "31\n",
      "380 ms ± 0 ns per loop (mean ± std. dev. of 1 run, 1 loop each)\n",
      "25\n",
      "465 ms ± 0 ns per loop (mean ± std. dev. of 1 run, 1 loop each)\n",
      "20\n",
      "232 ms ± 0 ns per loop (mean ± std. dev. of 1 run, 1 loop each)\n",
      "15\n",
      "470 ms ± 0 ns per loop (mean ± std. dev. of 1 run, 1 loop each)\n",
      "12\n",
      "242 ms ± 0 ns per loop (mean ± std. dev. of 1 run, 1 loop each)\n",
      "10\n",
      "473 ms ± 0 ns per loop (mean ± std. dev. of 1 run, 1 loop each)\n",
      "7\n",
      "421 ms ± 0 ns per loop (mean ± std. dev. of 1 run, 1 loop each)\n",
      "6\n",
      "485 ms ± 0 ns per loop (mean ± std. dev. of 1 run, 1 loop each)\n",
      "5\n",
      "454 ms ± 0 ns per loop (mean ± std. dev. of 1 run, 1 loop each)\n",
      "3\n",
      "371 ms ± 0 ns per loop (mean ± std. dev. of 1 run, 1 loop each)\n"
     ]
    }
   ],
   "source": [
    "# Energy - 2.5 Compression Ratio\n",
    "for i in range(len(cube_root_size)-1,-1,-1): # From 31st to 0-th (inclusive)\n",
    "#     _ = ncar_uncompressed['w'][0:1024,0:1024,0:1024]\n",
    "    _ = ncar_uncompressed['t'][0:2048,0:2048,0:2048]\n",
    "    print(cube_root_size[i])\n",
    "    \n",
    "    random_start_point = 64 * randint(0, 16)\n",
    "    %timeit -o -n 1 -r 1 ncar_data['e'][random_start_point:cube_root_size[i] + random_start_point,random_start_point:cube_root_size[i] + random_start_point,random_start_point:cube_root_size[i] + random_start_point]"
   ]
  },
  {
   "cell_type": "markdown",
   "metadata": {},
   "source": [
    "Spikes up/down in time are when access happens between chunks. Cross-chunk access needs decompressing of both chunks"
   ]
  },
  {
   "cell_type": "code",
   "execution_count": 84,
   "metadata": {
    "scrolled": false
   },
   "outputs": [],
   "source": [
    "ccc_e_times = [24900, 13200, 3080, 4080, 1280, 728, 1150, 982, 131, 175, 848, 97.6, 92, 118, 148, 115, 117, 123, 20.8, 110, 94.8, 103, 122, 190]\n",
    "# 2nd run = [24200, 9100, 3930, 3420, 1080, 348, 1290, 1410, 111, 827, 110, 109, 136, 112, 129, 100, 127, 94.7, 102, 97.2, 90.9, 79.9, 112, 104]\n",
    "# 2048-run = [18300, 16300, 7660, 14300, 14100, 2680, 1980, 1410, 504, 1320, 486, 96.9, 469, 442, 380, 465, 232, 470, 242, 473, 421, 485, 454, 371]\n",
    "ccc_e_times.reverse()"
   ]
  },
  {
   "cell_type": "code",
   "execution_count": 56,
   "metadata": {},
   "outputs": [
    {
     "data": {
      "text/html": [
       "<table class=\"zarr-info\"><tbody><tr><th style=\"text-align: left\">Name</th><td style=\"text-align: left\">/w</td></tr><tr><th style=\"text-align: left\">Type</th><td style=\"text-align: left\">zarr.core.Array</td></tr><tr><th style=\"text-align: left\">Data type</th><td style=\"text-align: left\">float32</td></tr><tr><th style=\"text-align: left\">Shape</th><td style=\"text-align: left\">(2048, 2048, 2048)</td></tr><tr><th style=\"text-align: left\">Chunk shape</th><td style=\"text-align: left\">(256, 256, 256)</td></tr><tr><th style=\"text-align: left\">Order</th><td style=\"text-align: left\">C</td></tr><tr><th style=\"text-align: left\">Read-only</th><td style=\"text-align: left\">False</td></tr><tr><th style=\"text-align: left\">Compressor</th><td style=\"text-align: left\">Blosc(cname='lz4', clevel=5, shuffle=SHUFFLE, blocksize=0)</td></tr><tr><th style=\"text-align: left\">Store type</th><td style=\"text-align: left\">zarr.storage.DirectoryStore</td></tr><tr><th style=\"text-align: left\">No. bytes</th><td style=\"text-align: left\">34359738368 (32.0G)</td></tr><tr><th style=\"text-align: left\">No. bytes stored</th><td style=\"text-align: left\">27329309819 (25.5G)</td></tr><tr><th style=\"text-align: left\">Storage ratio</th><td style=\"text-align: left\">1.3</td></tr><tr><th style=\"text-align: left\">Chunks initialized</th><td style=\"text-align: left\">512/512</td></tr></tbody></table>"
      ],
      "text/plain": [
       "Name               : /w\n",
       "Type               : zarr.core.Array\n",
       "Data type          : float32\n",
       "Shape              : (2048, 2048, 2048)\n",
       "Chunk shape        : (256, 256, 256)\n",
       "Order              : C\n",
       "Read-only          : False\n",
       "Compressor         : Blosc(cname='lz4', clevel=5, shuffle=SHUFFLE, blocksize=0)\n",
       "Store type         : zarr.storage.DirectoryStore\n",
       "No. bytes          : 34359738368 (32.0G)\n",
       "No. bytes stored   : 27329309819 (25.5G)\n",
       "Storage ratio      : 1.3\n",
       "Chunks initialized : 512/512"
      ]
     },
     "execution_count": 56,
     "metadata": {},
     "output_type": "execute_result"
    }
   ],
   "source": [
    "ncar_data['w'].info"
   ]
  },
  {
   "cell_type": "code",
   "execution_count": 144,
   "metadata": {
    "scrolled": true
   },
   "outputs": [
    {
     "name": "stdout",
     "output_type": "stream",
     "text": [
      "52.2 s ± 0 ns per loop (mean ± std. dev. of 1 run, 1 loop each)\n",
      "20.7 s ± 0 ns per loop (mean ± std. dev. of 1 run, 1 loop each)\n",
      "4.5 s ± 0 ns per loop (mean ± std. dev. of 1 run, 1 loop each)\n",
      "3.21 s ± 0 ns per loop (mean ± std. dev. of 1 run, 1 loop each)\n",
      "3.04 s ± 0 ns per loop (mean ± std. dev. of 1 run, 1 loop each)\n",
      "3.09 s ± 0 ns per loop (mean ± std. dev. of 1 run, 1 loop each)\n",
      "573 ms ± 0 ns per loop (mean ± std. dev. of 1 run, 1 loop each)\n",
      "399 ms ± 0 ns per loop (mean ± std. dev. of 1 run, 1 loop each)\n",
      "497 ms ± 0 ns per loop (mean ± std. dev. of 1 run, 1 loop each)\n",
      "559 ms ± 0 ns per loop (mean ± std. dev. of 1 run, 1 loop each)\n",
      "862 ms ± 0 ns per loop (mean ± std. dev. of 1 run, 1 loop each)\n",
      "450 ms ± 0 ns per loop (mean ± std. dev. of 1 run, 1 loop each)\n",
      "457 ms ± 0 ns per loop (mean ± std. dev. of 1 run, 1 loop each)\n",
      "332 ms ± 0 ns per loop (mean ± std. dev. of 1 run, 1 loop each)\n",
      "380 ms ± 0 ns per loop (mean ± std. dev. of 1 run, 1 loop each)\n",
      "372 ms ± 0 ns per loop (mean ± std. dev. of 1 run, 1 loop each)\n",
      "433 ms ± 0 ns per loop (mean ± std. dev. of 1 run, 1 loop each)\n",
      "503 ms ± 0 ns per loop (mean ± std. dev. of 1 run, 1 loop each)\n",
      "412 ms ± 0 ns per loop (mean ± std. dev. of 1 run, 1 loop each)\n",
      "643 ms ± 0 ns per loop (mean ± std. dev. of 1 run, 1 loop each)\n",
      "502 ms ± 0 ns per loop (mean ± std. dev. of 1 run, 1 loop each)\n",
      "428 ms ± 0 ns per loop (mean ± std. dev. of 1 run, 1 loop each)\n",
      "458 ms ± 0 ns per loop (mean ± std. dev. of 1 run, 1 loop each)\n",
      "563 ms ± 0 ns per loop (mean ± std. dev. of 1 run, 1 loop each)\n"
     ]
    }
   ],
   "source": [
    "# w velocity field\n",
    "# Cross-chunk\n",
    "for i in range(len(cube_root_size)-1,-1,-1): # From 31st to 0-th (inclusive)\n",
    "#     _ = ncar_uncompressed['w'][0:1024,0:1024,0:1024]\n",
    "    _ = ncar_uncompressed['e'][0:2048,0:2048,0:2048]\n",
    "#     print(cube_root_size[i])\n",
    "    \n",
    "    random_start_point = 64 * randint(0, 16)\n",
    "    %timeit -o -n 1 -r 1 ncar_data['w'][random_start_point:cube_root_size[i] + random_start_point,random_start_point:cube_root_size[i] + random_start_point,random_start_point:cube_root_size[i] + random_start_point]"
   ]
  },
  {
   "cell_type": "code",
   "execution_count": 83,
   "metadata": {},
   "outputs": [],
   "source": [
    "# ccc = Cross-chunk compressed\n",
    "ccc_w_times = [31500, 54900, 9540, 9010, 2630, 2130, 2840, 2150, 2170, 322, 577, 693, 418, 341, 690, 276, 523, 401, 445, 338, 516, 385, 477, 483]\n",
    "# 2nd run = [22100, 10100, 7460, 3010, 1200, 276, 1270, 268, 1280, 99.9, 111, 140, 127, 100, 115, 171, 121, 89.6, 191, 122, 138, 143, 116, 148]\n",
    "# 2048-run = [52200, 20700, 4500, 3210, 3040, 3090, 573, 399, 497, 559, 862, 450, 457, 332, 380, 372, 433, 503, 412, 643, 502, 428, 458, 563]\n",
    "ccc_w_times.reverse()"
   ]
  },
  {
   "cell_type": "code",
   "execution_count": 57,
   "metadata": {},
   "outputs": [
    {
     "data": {
      "text/html": [
       "<table class=\"zarr-info\"><tbody><tr><th style=\"text-align: left\">Name</th><td style=\"text-align: left\">/t</td></tr><tr><th style=\"text-align: left\">Type</th><td style=\"text-align: left\">zarr.core.Array</td></tr><tr><th style=\"text-align: left\">Data type</th><td style=\"text-align: left\">float32</td></tr><tr><th style=\"text-align: left\">Shape</th><td style=\"text-align: left\">(2048, 2048, 2048)</td></tr><tr><th style=\"text-align: left\">Chunk shape</th><td style=\"text-align: left\">(256, 256, 256)</td></tr><tr><th style=\"text-align: left\">Order</th><td style=\"text-align: left\">C</td></tr><tr><th style=\"text-align: left\">Read-only</th><td style=\"text-align: left\">False</td></tr><tr><th style=\"text-align: left\">Compressor</th><td style=\"text-align: left\">Blosc(cname='lz4', clevel=5, shuffle=SHUFFLE, blocksize=0)</td></tr><tr><th style=\"text-align: left\">Store type</th><td style=\"text-align: left\">zarr.storage.DirectoryStore</td></tr><tr><th style=\"text-align: left\">No. bytes</th><td style=\"text-align: left\">34359738368 (32.0G)</td></tr><tr><th style=\"text-align: left\">No. bytes stored</th><td style=\"text-align: left\">19025554335 (17.7G)</td></tr><tr><th style=\"text-align: left\">Storage ratio</th><td style=\"text-align: left\">1.8</td></tr><tr><th style=\"text-align: left\">Chunks initialized</th><td style=\"text-align: left\">512/512</td></tr></tbody></table>"
      ],
      "text/plain": [
       "Name               : /t\n",
       "Type               : zarr.core.Array\n",
       "Data type          : float32\n",
       "Shape              : (2048, 2048, 2048)\n",
       "Chunk shape        : (256, 256, 256)\n",
       "Order              : C\n",
       "Read-only          : False\n",
       "Compressor         : Blosc(cname='lz4', clevel=5, shuffle=SHUFFLE, blocksize=0)\n",
       "Store type         : zarr.storage.DirectoryStore\n",
       "No. bytes          : 34359738368 (32.0G)\n",
       "No. bytes stored   : 19025554335 (17.7G)\n",
       "Storage ratio      : 1.8\n",
       "Chunks initialized : 512/512"
      ]
     },
     "execution_count": 57,
     "metadata": {},
     "output_type": "execute_result"
    }
   ],
   "source": [
    "ncar_data['t'].info"
   ]
  },
  {
   "cell_type": "code",
   "execution_count": 145,
   "metadata": {
    "scrolled": true
   },
   "outputs": [
    {
     "name": "stdout",
     "output_type": "stream",
     "text": [
      "45.5 s ± 0 ns per loop (mean ± std. dev. of 1 run, 1 loop each)\n",
      "10.6 s ± 0 ns per loop (mean ± std. dev. of 1 run, 1 loop each)\n",
      "7.21 s ± 0 ns per loop (mean ± std. dev. of 1 run, 1 loop each)\n",
      "3.09 s ± 0 ns per loop (mean ± std. dev. of 1 run, 1 loop each)\n",
      "2.24 s ± 0 ns per loop (mean ± std. dev. of 1 run, 1 loop each)\n",
      "2.01 s ± 0 ns per loop (mean ± std. dev. of 1 run, 1 loop each)\n",
      "2.13 s ± 0 ns per loop (mean ± std. dev. of 1 run, 1 loop each)\n",
      "1.59 s ± 0 ns per loop (mean ± std. dev. of 1 run, 1 loop each)\n",
      "698 ms ± 0 ns per loop (mean ± std. dev. of 1 run, 1 loop each)\n",
      "413 ms ± 0 ns per loop (mean ± std. dev. of 1 run, 1 loop each)\n",
      "316 ms ± 0 ns per loop (mean ± std. dev. of 1 run, 1 loop each)\n",
      "484 ms ± 0 ns per loop (mean ± std. dev. of 1 run, 1 loop each)\n",
      "564 ms ± 0 ns per loop (mean ± std. dev. of 1 run, 1 loop each)\n",
      "311 ms ± 0 ns per loop (mean ± std. dev. of 1 run, 1 loop each)\n",
      "359 ms ± 0 ns per loop (mean ± std. dev. of 1 run, 1 loop each)\n",
      "315 ms ± 0 ns per loop (mean ± std. dev. of 1 run, 1 loop each)\n",
      "275 ms ± 0 ns per loop (mean ± std. dev. of 1 run, 1 loop each)\n",
      "398 ms ± 0 ns per loop (mean ± std. dev. of 1 run, 1 loop each)\n",
      "282 ms ± 0 ns per loop (mean ± std. dev. of 1 run, 1 loop each)\n",
      "391 ms ± 0 ns per loop (mean ± std. dev. of 1 run, 1 loop each)\n",
      "352 ms ± 0 ns per loop (mean ± std. dev. of 1 run, 1 loop each)\n",
      "352 ms ± 0 ns per loop (mean ± std. dev. of 1 run, 1 loop each)\n",
      "290 ms ± 0 ns per loop (mean ± std. dev. of 1 run, 1 loop each)\n",
      "265 ms ± 0 ns per loop (mean ± std. dev. of 1 run, 1 loop each)\n"
     ]
    }
   ],
   "source": [
    "# Temperature\n",
    "for i in range(len(cube_root_size)-1,-1,-1): # From 31st to 0-th (inclusive)\n",
    "#     _ = ncar_uncompressed['w'][0:1024,0:1024,0:1024]\n",
    "    _ = ncar_uncompressed['w'][0:2048,0:2048,0:2048]\n",
    "#     print(cube_root_size[i])\n",
    "    \n",
    "    random_start_point = 64 * randint(0, 16)\n",
    "    %timeit -o -n 1 -r 1 ncar_data['t'][random_start_point:cube_root_size[i] + random_start_point,random_start_point:cube_root_size[i] + random_start_point,random_start_point:cube_root_size[i] + random_start_point]"
   ]
  },
  {
   "cell_type": "markdown",
   "metadata": {},
   "source": [
    "I think outliers (too fast) in 2nd run are by chance if random starting point is the same for both?"
   ]
  },
  {
   "cell_type": "code",
   "execution_count": 85,
   "metadata": {},
   "outputs": [],
   "source": [
    "ccc_t_times = [48300, 18600, 3840, 3520, 2120, 1510, 2070, 414, 242, 184, 302, 230, 290, 301, 425, 294, 273, 248, 227, 286, 170, 234, 257, 266]\n",
    "# These runs were not sequential. Other cells were run in between\n",
    "\n",
    "# 2nd run = [26100, 8320, 2610, 1590, 1450, 976, 833, 779, 85.9, 1950, 89.6, 83, 78.6, 104, 110, 103, 74, 89, 87.3, 112, 79.6, 84, 89.2, 134]\n",
    "# 2048-run = [45500, 10600, 7210, 3090, 2240, 2010, 2130, 1590, 698, 413, 316, 484, 564, 311, 359, 315, 275, 398, 282, 391, 352, 352, 290, 265]\n",
    "ccc_t_times.reverse()"
   ]
  },
  {
   "cell_type": "markdown",
   "metadata": {},
   "source": [
    "# Uncompressed\n",
    "## Cold-cache access all chunk sizes 2^6 - 2^30"
   ]
  },
  {
   "cell_type": "code",
   "execution_count": 6,
   "metadata": {},
   "outputs": [
    {
     "data": {
      "text/html": [
       "<table class=\"zarr-info\"><tbody><tr><th style=\"text-align: left\">Name</th><td style=\"text-align: left\">/</td></tr><tr><th style=\"text-align: left\">Type</th><td style=\"text-align: left\">zarr.hierarchy.Group</td></tr><tr><th style=\"text-align: left\">Read-only</th><td style=\"text-align: left\">False</td></tr><tr><th style=\"text-align: left\">Store type</th><td style=\"text-align: left\">zarr.storage.DirectoryStore</td></tr><tr><th style=\"text-align: left\">No. members</th><td style=\"text-align: left\">3</td></tr><tr><th style=\"text-align: left\">No. arrays</th><td style=\"text-align: left\">3</td></tr><tr><th style=\"text-align: left\">No. groups</th><td style=\"text-align: left\">0</td></tr><tr><th style=\"text-align: left\">Arrays</th><td style=\"text-align: left\">e, t, w</td></tr></tbody></table>"
      ],
      "text/plain": [
       "Name        : /\n",
       "Type        : zarr.hierarchy.Group\n",
       "Read-only   : False\n",
       "Store type  : zarr.storage.DirectoryStore\n",
       "No. members : 3\n",
       "No. arrays  : 3\n",
       "No. groups  : 0\n",
       "Arrays      : e, t, w"
      ]
     },
     "execution_count": 6,
     "metadata": {},
     "output_type": "execute_result"
    }
   ],
   "source": [
    "ncar_uncompressed = zarr.open(\"ncar_zarr_uncompressed\")\n",
    "ncar_uncompressed.info"
   ]
  },
  {
   "cell_type": "code",
   "execution_count": 61,
   "metadata": {},
   "outputs": [
    {
     "data": {
      "text/html": [
       "<table class=\"zarr-info\"><tbody><tr><th style=\"text-align: left\">Name</th><td style=\"text-align: left\">/e</td></tr><tr><th style=\"text-align: left\">Type</th><td style=\"text-align: left\">zarr.core.Array</td></tr><tr><th style=\"text-align: left\">Data type</th><td style=\"text-align: left\">float32</td></tr><tr><th style=\"text-align: left\">Shape</th><td style=\"text-align: left\">(2048, 2048, 2048)</td></tr><tr><th style=\"text-align: left\">Chunk shape</th><td style=\"text-align: left\">(256, 256, 256)</td></tr><tr><th style=\"text-align: left\">Order</th><td style=\"text-align: left\">C</td></tr><tr><th style=\"text-align: left\">Read-only</th><td style=\"text-align: left\">False</td></tr><tr><th style=\"text-align: left\">Compressor</th><td style=\"text-align: left\">None</td></tr><tr><th style=\"text-align: left\">Store type</th><td style=\"text-align: left\">zarr.storage.DirectoryStore</td></tr><tr><th style=\"text-align: left\">No. bytes</th><td style=\"text-align: left\">34359738368 (32.0G)</td></tr><tr><th style=\"text-align: left\">No. bytes stored</th><td style=\"text-align: left\">34359738622 (32.0G)</td></tr><tr><th style=\"text-align: left\">Storage ratio</th><td style=\"text-align: left\">1.0</td></tr><tr><th style=\"text-align: left\">Chunks initialized</th><td style=\"text-align: left\">512/512</td></tr></tbody></table>"
      ],
      "text/plain": [
       "Name               : /e\n",
       "Type               : zarr.core.Array\n",
       "Data type          : float32\n",
       "Shape              : (2048, 2048, 2048)\n",
       "Chunk shape        : (256, 256, 256)\n",
       "Order              : C\n",
       "Read-only          : False\n",
       "Compressor         : None\n",
       "Store type         : zarr.storage.DirectoryStore\n",
       "No. bytes          : 34359738368 (32.0G)\n",
       "No. bytes stored   : 34359738622 (32.0G)\n",
       "Storage ratio      : 1.0\n",
       "Chunks initialized : 512/512"
      ]
     },
     "execution_count": 61,
     "metadata": {},
     "output_type": "execute_result"
    }
   ],
   "source": [
    "ncar_uncompressed['e'].info"
   ]
  },
  {
   "cell_type": "code",
   "execution_count": 146,
   "metadata": {
    "scrolled": true
   },
   "outputs": [
    {
     "name": "stdout",
     "output_type": "stream",
     "text": [
      "812\n",
      "39.8 s ± 0 ns per loop (mean ± std. dev. of 1 run, 1 loop each)\n",
      "645\n",
      "30 s ± 0 ns per loop (mean ± std. dev. of 1 run, 1 loop each)\n",
      "511\n",
      "13.5 s ± 0 ns per loop (mean ± std. dev. of 1 run, 1 loop each)\n",
      "406\n",
      "8.37 s ± 0 ns per loop (mean ± std. dev. of 1 run, 1 loop each)\n",
      "322\n",
      "9.68 s ± 0 ns per loop (mean ± std. dev. of 1 run, 1 loop each)\n",
      "255\n",
      "572 ms ± 0 ns per loop (mean ± std. dev. of 1 run, 1 loop each)\n",
      "203\n",
      "2.32 s ± 0 ns per loop (mean ± std. dev. of 1 run, 1 loop each)\n",
      "161\n",
      "402 ms ± 0 ns per loop (mean ± std. dev. of 1 run, 1 loop each)\n",
      "127\n",
      "369 ms ± 0 ns per loop (mean ± std. dev. of 1 run, 1 loop each)\n",
      "101\n",
      "2.23 s ± 0 ns per loop (mean ± std. dev. of 1 run, 1 loop each)\n",
      "80\n",
      "321 ms ± 0 ns per loop (mean ± std. dev. of 1 run, 1 loop each)\n",
      "63\n",
      "335 ms ± 0 ns per loop (mean ± std. dev. of 1 run, 1 loop each)\n",
      "50\n",
      "311 ms ± 0 ns per loop (mean ± std. dev. of 1 run, 1 loop each)\n",
      "40\n",
      "353 ms ± 0 ns per loop (mean ± std. dev. of 1 run, 1 loop each)\n",
      "31\n",
      "379 ms ± 0 ns per loop (mean ± std. dev. of 1 run, 1 loop each)\n",
      "25\n",
      "465 ms ± 0 ns per loop (mean ± std. dev. of 1 run, 1 loop each)\n",
      "20\n",
      "343 ms ± 0 ns per loop (mean ± std. dev. of 1 run, 1 loop each)\n",
      "15\n",
      "364 ms ± 0 ns per loop (mean ± std. dev. of 1 run, 1 loop each)\n",
      "12\n",
      "287 ms ± 0 ns per loop (mean ± std. dev. of 1 run, 1 loop each)\n",
      "10\n",
      "319 ms ± 0 ns per loop (mean ± std. dev. of 1 run, 1 loop each)\n",
      "7\n",
      "298 ms ± 0 ns per loop (mean ± std. dev. of 1 run, 1 loop each)\n",
      "6\n",
      "301 ms ± 0 ns per loop (mean ± std. dev. of 1 run, 1 loop each)\n",
      "5\n",
      "359 ms ± 0 ns per loop (mean ± std. dev. of 1 run, 1 loop each)\n",
      "3\n",
      "355 ms ± 0 ns per loop (mean ± std. dev. of 1 run, 1 loop each)\n"
     ]
    }
   ],
   "source": [
    "# Energy field\n",
    "for i in range(len(cube_root_size)-1,-1,-1): # From 31st to 0-th (inclusive)\n",
    "#     _ = ncar_uncompressed['w'][0:1024,0:1024,0:1024]\n",
    "    _ = ncar_uncompressed['t'][0:2048,0:2048,0:2048]\n",
    "    print(cube_root_size[i])\n",
    "    \n",
    "    random_start_point = 64 * randint(0, 16)\n",
    "    %timeit -o -n 1 -r 1 ncar_uncompressed['e'][random_start_point:cube_root_size[i] + random_start_point,random_start_point:cube_root_size[i] + random_start_point,random_start_point:cube_root_size[i] + random_start_point]"
   ]
  },
  {
   "cell_type": "code",
   "execution_count": 86,
   "metadata": {},
   "outputs": [],
   "source": [
    "# ccu - cross-chunk uncompressed\n",
    "ccu_e_times = [64000, 23600, 15500, 44800,3960,3210, 2690, 3960,324,509, 235, 483, 569, 654, 567, 789, 473, 1270, 410, 650, 322, 570, 852]\n",
    "\n",
    "ccu_e_times.reverse()\n",
    "# 2nd run = [31200, 13200, 5420, 4480, 1330, 1490, 281, 1180, 163, 127, 141, 281, 1180, 163, 127, 141, 281, 143, 131, 134, 144, 129, 138, 206, 137, 220, 157, 132, 177]\n",
    "# 2048-time = [39800, 30000, 13500, 8370, 9680, 572, 2320, 402, 369, 2230, 321, 335, 311, 353, 379, 465, 343, 364, 287, 319, 298, 301, 359, 355]"
   ]
  },
  {
   "cell_type": "code",
   "execution_count": 62,
   "metadata": {},
   "outputs": [
    {
     "data": {
      "text/html": [
       "<table class=\"zarr-info\"><tbody><tr><th style=\"text-align: left\">Name</th><td style=\"text-align: left\">/w</td></tr><tr><th style=\"text-align: left\">Type</th><td style=\"text-align: left\">zarr.core.Array</td></tr><tr><th style=\"text-align: left\">Data type</th><td style=\"text-align: left\">float32</td></tr><tr><th style=\"text-align: left\">Shape</th><td style=\"text-align: left\">(2048, 2048, 2048)</td></tr><tr><th style=\"text-align: left\">Chunk shape</th><td style=\"text-align: left\">(256, 256, 256)</td></tr><tr><th style=\"text-align: left\">Order</th><td style=\"text-align: left\">C</td></tr><tr><th style=\"text-align: left\">Read-only</th><td style=\"text-align: left\">False</td></tr><tr><th style=\"text-align: left\">Compressor</th><td style=\"text-align: left\">None</td></tr><tr><th style=\"text-align: left\">Store type</th><td style=\"text-align: left\">zarr.storage.DirectoryStore</td></tr><tr><th style=\"text-align: left\">No. bytes</th><td style=\"text-align: left\">34359738368 (32.0G)</td></tr><tr><th style=\"text-align: left\">No. bytes stored</th><td style=\"text-align: left\">34359738622 (32.0G)</td></tr><tr><th style=\"text-align: left\">Storage ratio</th><td style=\"text-align: left\">1.0</td></tr><tr><th style=\"text-align: left\">Chunks initialized</th><td style=\"text-align: left\">512/512</td></tr></tbody></table>"
      ],
      "text/plain": [
       "Name               : /w\n",
       "Type               : zarr.core.Array\n",
       "Data type          : float32\n",
       "Shape              : (2048, 2048, 2048)\n",
       "Chunk shape        : (256, 256, 256)\n",
       "Order              : C\n",
       "Read-only          : False\n",
       "Compressor         : None\n",
       "Store type         : zarr.storage.DirectoryStore\n",
       "No. bytes          : 34359738368 (32.0G)\n",
       "No. bytes stored   : 34359738622 (32.0G)\n",
       "Storage ratio      : 1.0\n",
       "Chunks initialized : 512/512"
      ]
     },
     "execution_count": 62,
     "metadata": {},
     "output_type": "execute_result"
    }
   ],
   "source": [
    "ncar_uncompressed['w'].info"
   ]
  },
  {
   "cell_type": "code",
   "execution_count": 147,
   "metadata": {
    "scrolled": true
   },
   "outputs": [
    {
     "name": "stdout",
     "output_type": "stream",
     "text": [
      "812\n",
      "37.4 s ± 0 ns per loop (mean ± std. dev. of 1 run, 1 loop each)\n",
      "645\n",
      "29.4 s ± 0 ns per loop (mean ± std. dev. of 1 run, 1 loop each)\n",
      "511\n",
      "9.74 s ± 0 ns per loop (mean ± std. dev. of 1 run, 1 loop each)\n",
      "406\n",
      "11.2 s ± 0 ns per loop (mean ± std. dev. of 1 run, 1 loop each)\n",
      "322\n",
      "2.9 s ± 0 ns per loop (mean ± std. dev. of 1 run, 1 loop each)\n",
      "255\n",
      "2.18 s ± 0 ns per loop (mean ± std. dev. of 1 run, 1 loop each)\n",
      "203\n",
      "2.24 s ± 0 ns per loop (mean ± std. dev. of 1 run, 1 loop each)\n",
      "161\n",
      "382 ms ± 0 ns per loop (mean ± std. dev. of 1 run, 1 loop each)\n",
      "127\n",
      "349 ms ± 0 ns per loop (mean ± std. dev. of 1 run, 1 loop each)\n",
      "101\n",
      "2.1 s ± 0 ns per loop (mean ± std. dev. of 1 run, 1 loop each)\n",
      "80\n",
      "409 ms ± 0 ns per loop (mean ± std. dev. of 1 run, 1 loop each)\n",
      "63\n",
      "290 ms ± 0 ns per loop (mean ± std. dev. of 1 run, 1 loop each)\n",
      "50\n",
      "363 ms ± 0 ns per loop (mean ± std. dev. of 1 run, 1 loop each)\n",
      "40\n",
      "321 ms ± 0 ns per loop (mean ± std. dev. of 1 run, 1 loop each)\n",
      "31\n",
      "259 ms ± 0 ns per loop (mean ± std. dev. of 1 run, 1 loop each)\n",
      "25\n",
      "315 ms ± 0 ns per loop (mean ± std. dev. of 1 run, 1 loop each)\n",
      "20\n",
      "363 ms ± 0 ns per loop (mean ± std. dev. of 1 run, 1 loop each)\n",
      "15\n",
      "294 ms ± 0 ns per loop (mean ± std. dev. of 1 run, 1 loop each)\n",
      "12\n",
      "387 ms ± 0 ns per loop (mean ± std. dev. of 1 run, 1 loop each)\n",
      "10\n",
      "379 ms ± 0 ns per loop (mean ± std. dev. of 1 run, 1 loop each)\n",
      "7\n",
      "323 ms ± 0 ns per loop (mean ± std. dev. of 1 run, 1 loop each)\n",
      "6\n",
      "318 ms ± 0 ns per loop (mean ± std. dev. of 1 run, 1 loop each)\n",
      "5\n",
      "317 ms ± 0 ns per loop (mean ± std. dev. of 1 run, 1 loop each)\n",
      "3\n",
      "311 ms ± 0 ns per loop (mean ± std. dev. of 1 run, 1 loop each)\n"
     ]
    }
   ],
   "source": [
    "# w velocity field\n",
    "for i in range(len(cube_root_size)-1,-1,-1): # From 31st to 0-th (inclusive)\n",
    "#     _ = ncar_uncompressed['w'][0:1024,0:1024,0:1024]\n",
    "    _ = ncar_uncompressed['e'][0:2048,0:2048,0:2048]\n",
    "    print(cube_root_size[i])\n",
    "    \n",
    "    random_start_point = 64 * randint(0, 16)\n",
    "    %timeit -o -n 1 -r 1 ncar_uncompressed['w'][random_start_point:cube_root_size[i] + random_start_point,random_start_point:cube_root_size[i] + random_start_point,random_start_point:cube_root_size[i] + random_start_point]"
   ]
  },
  {
   "cell_type": "code",
   "execution_count": 87,
   "metadata": {},
   "outputs": [],
   "source": [
    "ccu_w_times = [59900, 18500, 16700, 17200, 3450, 4390, 4280, 800, 724, 864, 480, 696, 605, 2120, 700, 677, 591, 489, 445, 372, 542, 727, 859, 429]\n",
    "ccu_w_times.reverse()\n",
    "# 2nd run = [21600, 9180, 2530, 4430, 1470, 1170, 1200, 148, 131, 1100, 939, 126, 212, 138, 135, 123, 173, 158, 123, 155, 167, 133, 183, 133]\n",
    "# 2048-time = [37400, 29400, 9740, 11200, 2900, 2180, 2240, 382, 349, 2100, 409, 290, 363, 321, 259, 315, 363, 294, 387, 379, 323, 318, 317, 311]"
   ]
  },
  {
   "cell_type": "code",
   "execution_count": 63,
   "metadata": {},
   "outputs": [
    {
     "data": {
      "text/html": [
       "<table class=\"zarr-info\"><tbody><tr><th style=\"text-align: left\">Name</th><td style=\"text-align: left\">/t</td></tr><tr><th style=\"text-align: left\">Type</th><td style=\"text-align: left\">zarr.core.Array</td></tr><tr><th style=\"text-align: left\">Data type</th><td style=\"text-align: left\">float32</td></tr><tr><th style=\"text-align: left\">Shape</th><td style=\"text-align: left\">(2048, 2048, 2048)</td></tr><tr><th style=\"text-align: left\">Chunk shape</th><td style=\"text-align: left\">(256, 256, 256)</td></tr><tr><th style=\"text-align: left\">Order</th><td style=\"text-align: left\">C</td></tr><tr><th style=\"text-align: left\">Read-only</th><td style=\"text-align: left\">False</td></tr><tr><th style=\"text-align: left\">Compressor</th><td style=\"text-align: left\">None</td></tr><tr><th style=\"text-align: left\">Store type</th><td style=\"text-align: left\">zarr.storage.DirectoryStore</td></tr><tr><th style=\"text-align: left\">No. bytes</th><td style=\"text-align: left\">34359738368 (32.0G)</td></tr><tr><th style=\"text-align: left\">No. bytes stored</th><td style=\"text-align: left\">34359738622 (32.0G)</td></tr><tr><th style=\"text-align: left\">Storage ratio</th><td style=\"text-align: left\">1.0</td></tr><tr><th style=\"text-align: left\">Chunks initialized</th><td style=\"text-align: left\">512/512</td></tr></tbody></table>"
      ],
      "text/plain": [
       "Name               : /t\n",
       "Type               : zarr.core.Array\n",
       "Data type          : float32\n",
       "Shape              : (2048, 2048, 2048)\n",
       "Chunk shape        : (256, 256, 256)\n",
       "Order              : C\n",
       "Read-only          : False\n",
       "Compressor         : None\n",
       "Store type         : zarr.storage.DirectoryStore\n",
       "No. bytes          : 34359738368 (32.0G)\n",
       "No. bytes stored   : 34359738622 (32.0G)\n",
       "Storage ratio      : 1.0\n",
       "Chunks initialized : 512/512"
      ]
     },
     "execution_count": 63,
     "metadata": {},
     "output_type": "execute_result"
    }
   ],
   "source": [
    "ncar_uncompressed['t'].info"
   ]
  },
  {
   "cell_type": "code",
   "execution_count": 148,
   "metadata": {
    "scrolled": true
   },
   "outputs": [
    {
     "name": "stdout",
     "output_type": "stream",
     "text": [
      "812\n",
      "31.2 s ± 0 ns per loop (mean ± std. dev. of 1 run, 1 loop each)\n",
      "645\n",
      "12.3 s ± 0 ns per loop (mean ± std. dev. of 1 run, 1 loop each)\n",
      "511\n",
      "11.3 s ± 0 ns per loop (mean ± std. dev. of 1 run, 1 loop each)\n",
      "406\n",
      "9.84 s ± 0 ns per loop (mean ± std. dev. of 1 run, 1 loop each)\n",
      "322\n",
      "2.8 s ± 0 ns per loop (mean ± std. dev. of 1 run, 1 loop each)\n",
      "255\n",
      "2.45 s ± 0 ns per loop (mean ± std. dev. of 1 run, 1 loop each)\n",
      "203\n",
      "2.28 s ± 0 ns per loop (mean ± std. dev. of 1 run, 1 loop each)\n",
      "161\n",
      "2.16 s ± 0 ns per loop (mean ± std. dev. of 1 run, 1 loop each)\n",
      "127\n",
      "339 ms ± 0 ns per loop (mean ± std. dev. of 1 run, 1 loop each)\n",
      "101\n",
      "2.46 s ± 0 ns per loop (mean ± std. dev. of 1 run, 1 loop each)\n",
      "80\n",
      "373 ms ± 0 ns per loop (mean ± std. dev. of 1 run, 1 loop each)\n",
      "63\n",
      "354 ms ± 0 ns per loop (mean ± std. dev. of 1 run, 1 loop each)\n",
      "50\n",
      "366 ms ± 0 ns per loop (mean ± std. dev. of 1 run, 1 loop each)\n",
      "40\n",
      "326 ms ± 0 ns per loop (mean ± std. dev. of 1 run, 1 loop each)\n",
      "31\n",
      "353 ms ± 0 ns per loop (mean ± std. dev. of 1 run, 1 loop each)\n",
      "25\n",
      "354 ms ± 0 ns per loop (mean ± std. dev. of 1 run, 1 loop each)\n",
      "20\n",
      "349 ms ± 0 ns per loop (mean ± std. dev. of 1 run, 1 loop each)\n",
      "15\n",
      "359 ms ± 0 ns per loop (mean ± std. dev. of 1 run, 1 loop each)\n",
      "12\n",
      "301 ms ± 0 ns per loop (mean ± std. dev. of 1 run, 1 loop each)\n",
      "10\n",
      "368 ms ± 0 ns per loop (mean ± std. dev. of 1 run, 1 loop each)\n",
      "7\n",
      "308 ms ± 0 ns per loop (mean ± std. dev. of 1 run, 1 loop each)\n",
      "6\n",
      "333 ms ± 0 ns per loop (mean ± std. dev. of 1 run, 1 loop each)\n",
      "5\n",
      "322 ms ± 0 ns per loop (mean ± std. dev. of 1 run, 1 loop each)\n",
      "3\n",
      "346 ms ± 0 ns per loop (mean ± std. dev. of 1 run, 1 loop each)\n"
     ]
    }
   ],
   "source": [
    "# temperature field\n",
    "for i in range(len(cube_root_size)-1,-1,-1): # From 31st to 0-th (inclusive)\n",
    "#     _ = ncar_uncompressed['w'][0:1024,0:1024,0:1024]\n",
    "    _ = ncar_uncompressed['e'][0:2048,0:2048,0:2048]\n",
    "    print(cube_root_size[i])\n",
    "    \n",
    "    random_start_point = 64 * randint(0, 16)\n",
    "    %timeit -o -n 1 -r 1 ncar_uncompressed['t'][random_start_point:cube_root_size[i] + random_start_point,random_start_point:cube_root_size[i] + random_start_point,random_start_point:cube_root_size[i] + random_start_point]"
   ]
  },
  {
   "cell_type": "code",
   "execution_count": 88,
   "metadata": {},
   "outputs": [],
   "source": [
    "ccu_t_times = [84000, 17300, 19900, 13500, 10400, 7390, 878, 480, 2870, 698, 316, 364, 373, 395, 987, 992, 412, 390, 340, 528, 430, 444, 490, 374]\n",
    "# 2048-time = [31200, 12300, 11300, 9840, 2800, 2450, 2280, 2160, 339, 2460, 373, 354, 366, 326, 353, 354, 349, 359, 301, 368, 308, 333, 322, 346]\n",
    "ccu_t_times.reverse()"
   ]
  },
  {
   "cell_type": "code",
   "execution_count": 104,
   "metadata": {},
   "outputs": [
    {
     "data": {
      "image/png": "[encoded data removed]",
      "text/plain": [
       "<Figure size 1008x720 with 1 Axes>"
      ]
     },
     "metadata": {},
     "output_type": "display_data"
    }
   ],
   "source": [
    "import seaborn as sns\n",
    "sns.set(rc={'figure.figsize':(14,10)})\n",
    "\n",
    "# Energy compressed\n",
    "ax = sns.scatterplot(x=cube_root_size, y=ccc_e_times, label=\"Energy Compressed\").set(xlabel='Cube Root Length', ylabel='Access time (ms)')\n",
    "#ax.set(xlabel='Cube Root Length', ylabel='Access time (ms)')\n",
    "\n",
    "# https://stackoverflow.com/questions/31632637/label-axes-on-seaborn-barplot\n",
    "mymodel = np.poly1d(np.polyfit(cube_root_size, ccc_e_times, 2))\n",
    "myline = np.linspace(1, cube_root_size[len(cube_root_size)-1], 1000)\n",
    "plt.plot(myline, mymodel(myline), label=\"Deg. 2 Polynomial Regression\")#, color=\"orange\")\n",
    "\n",
    "# w-velocity compressed\n",
    "ax = sns.scatterplot(x=cube_root_size, y=ccc_w_times, label=\"w-Velocity Compressed\")\n",
    "\n",
    "mymodel_w = np.poly1d(np.polyfit(cube_root_size, ccc_w_times, 2))\n",
    "myline_w = np.linspace(1, cube_root_size[len(cube_root_size)-1], 1000)\n",
    "plt.plot(myline_w, mymodel_w(myline_w))\n",
    "\n",
    "\n",
    "# Temperature compressed\n",
    "ax = sns.scatterplot(x=cube_root_size, y=ccc_w_times, label=\"Temperature Compressed\")\n",
    "\n",
    "mymodel_t = np.poly1d(np.polyfit(cube_root_size, ccc_t_times, 2))\n",
    "myline_t = np.linspace(1, cube_root_size[len(cube_root_size)-1], 1000)\n",
    "plt.plot(myline_t, mymodel_t(myline_t))\n",
    "\n",
    "\n",
    "plt.title(\"Cold Sequential Access Times\")\n",
    "plt.show()"
   ]
  },
  {
   "cell_type": "code",
   "execution_count": 106,
   "metadata": {},
   "outputs": [],
   "source": [
    "access_sizes_log = [i for i in range(6,30)]"
   ]
  },
  {
   "cell_type": "markdown",
   "metadata": {},
   "source": [
    "Log-Linear scale looks horrible with regression line - don't show it here"
   ]
  },
  {
   "cell_type": "code",
   "execution_count": 117,
   "metadata": {},
   "outputs": [
    {
     "data": {
      "image/png": "[encoded data removed]",
      "text/plain": [
       "<Figure size 1008x720 with 1 Axes>"
      ]
     },
     "metadata": {},
     "output_type": "display_data"
    }
   ],
   "source": [
    "import seaborn as sns\n",
    "sns.set(rc={'figure.figsize':(14,10)})\n",
    "\n",
    "# Energy compressed\n",
    "ax = sns.scatterplot(x=access_sizes_log, y=ccc_e_times, label=\"Energy Compressed\").set(xlabel='log(nr. points accessed)', ylabel='Access time (ms)')\n",
    "#ax.set(xlabel='Cube Root Length', ylabel='Access time (ms)')\n",
    "\n",
    "# https://stackoverflow.com/questions/31632637/label-axes-on-seaborn-barplot\n",
    "# mymodel = np.poly1d(np.polyfit(access_sizes_log, ccc_e_times, 2))\n",
    "# myline = np.linspace(1, access_sizes_log[len(access_sizes_log)-1], 1000)\n",
    "# plt.plot(myline, mymodel(myline))#, color=\"orange\")\n",
    "\n",
    "# w-velocity compressed\n",
    "ax = sns.scatterplot(x=access_sizes_log, y=ccc_w_times, label=\"w-Velocity Compressed\")\n",
    "\n",
    "# mymodel_w = np.poly1d(np.polyfit(access_sizes_log, ccc_w_times, 2))\n",
    "# myline_w = np.linspace(1, access_sizes_log[len(access_sizes_log)-1], 1000)\n",
    "# plt.plot(myline_w, mymodel_w(myline_w))\n",
    "\n",
    "\n",
    "# Temperature compressed\n",
    "ax = sns.scatterplot(x=access_sizes_log, y=ccc_t_times, label=\"Temperature Compressed\")\n",
    "\n",
    "# mymodel_t = np.poly1d(np.polyfit(access_sizes_log, ccc_t_times, 2))\n",
    "# myline_t = np.linspace(1, access_sizes_log[len(access_sizes_log)-1], 1000)\n",
    "# plt.plot(myline_t, mymodel_t(myline_t))\n",
    "\n",
    "\n",
    "plt.title(\"Cold Sequential Access Times\")\n",
    "plt.show()"
   ]
  },
  {
   "cell_type": "markdown",
   "metadata": {},
   "source": [
    "# Cold - Minimizing nr. chunks hit\n",
    "\n",
    "<font color=\"orange\">In above, random initialization means the number of chunks accessed at each run is non-deterministic</font>\n",
    "\n",
    "Below, I run experiments starting always from the first point (0,0,0) in a randomly chosen chunk"
   ]
  },
  {
   "cell_type": "markdown",
   "metadata": {},
   "source": [
    "# Compressed"
   ]
  },
  {
   "cell_type": "code",
   "execution_count": 5,
   "metadata": {},
   "outputs": [],
   "source": [
    "chunk_size = 256"
   ]
  },
  {
   "cell_type": "code",
   "execution_count": null,
   "metadata": {
    "scrolled": true
   },
   "outputs": [
    {
     "name": "stdout",
     "output_type": "stream",
     "text": [
      "812\n",
      "27.6 s ± 0 ns per loop (mean ± std. dev. of 1 run, 1 loop each)\n",
      "645\n",
      "7.37 s ± 0 ns per loop (mean ± std. dev. of 1 run, 1 loop each)\n"
     ]
    }
   ],
   "source": [
    "# Energy field\n",
    "for i in range(len(cube_root_size)-1,-1,-1): # From 31st to 0-th (inclusive)\n",
    "#     _ = ncar_uncompressed['w'][0:1024,0:1024,0:1024]\n",
    "    _ = ncar_uncompressed['t'][0:2048,0:2048,0:2048]\n",
    "    print(cube_root_size[i])\n",
    "    \n",
    "    random_start_point = chunk_size * randint(0, 4)\n",
    "    %timeit -o -n 1 -r 1 ncar_data['e'][random_start_point:cube_root_size[i] + random_start_point,random_start_point:cube_root_size[i] + random_start_point,random_start_point:cube_root_size[i] + random_start_point]"
   ]
  },
  {
   "cell_type": "code",
   "execution_count": null,
   "metadata": {},
   "outputs": [],
   "source": [
    "# MCU - Minimum chunk uncompressed. See above what Minimum chunk means\n",
    "mcc_e = [37900, 13900, 2480, 1850, 1450, 303, 297, 187, 142, 192, 146, 131, 215, 147, 145, 155, 224, 167, 206, 144, 117, 138, 157, 142]\n",
    "# 2048_mcu_e = []\n",
    "mcc_e.reverse()"
   ]
  },
  {
   "cell_type": "code",
   "execution_count": 10,
   "metadata": {
    "scrolled": true
   },
   "outputs": [
    {
     "name": "stdout",
     "output_type": "stream",
     "text": [
      "812\n",
      "56.9 s ± 0 ns per loop (mean ± std. dev. of 1 run, 1 loop each)\n",
      "645\n",
      "21.5 s ± 0 ns per loop (mean ± std. dev. of 1 run, 1 loop each)\n",
      "511\n",
      "3.85 s ± 0 ns per loop (mean ± std. dev. of 1 run, 1 loop each)\n",
      "406\n",
      "6.06 s ± 0 ns per loop (mean ± std. dev. of 1 run, 1 loop each)\n",
      "322\n",
      "3.09 s ± 0 ns per loop (mean ± std. dev. of 1 run, 1 loop each)\n",
      "255\n",
      "600 ms ± 0 ns per loop (mean ± std. dev. of 1 run, 1 loop each)\n",
      "203\n",
      "586 ms ± 0 ns per loop (mean ± std. dev. of 1 run, 1 loop each)\n",
      "161\n",
      "420 ms ± 0 ns per loop (mean ± std. dev. of 1 run, 1 loop each)\n",
      "127\n",
      "383 ms ± 0 ns per loop (mean ± std. dev. of 1 run, 1 loop each)\n",
      "101\n",
      "499 ms ± 0 ns per loop (mean ± std. dev. of 1 run, 1 loop each)\n",
      "80\n",
      "370 ms ± 0 ns per loop (mean ± std. dev. of 1 run, 1 loop each)\n",
      "63\n",
      "382 ms ± 0 ns per loop (mean ± std. dev. of 1 run, 1 loop each)\n",
      "50\n",
      "389 ms ± 0 ns per loop (mean ± std. dev. of 1 run, 1 loop each)\n",
      "40\n",
      "470 ms ± 0 ns per loop (mean ± std. dev. of 1 run, 1 loop each)\n",
      "31\n",
      "339 ms ± 0 ns per loop (mean ± std. dev. of 1 run, 1 loop each)\n",
      "25\n",
      "443 ms ± 0 ns per loop (mean ± std. dev. of 1 run, 1 loop each)\n",
      "20\n",
      "366 ms ± 0 ns per loop (mean ± std. dev. of 1 run, 1 loop each)\n",
      "15\n",
      "385 ms ± 0 ns per loop (mean ± std. dev. of 1 run, 1 loop each)\n",
      "12\n",
      "351 ms ± 0 ns per loop (mean ± std. dev. of 1 run, 1 loop each)\n",
      "10\n",
      "500 ms ± 0 ns per loop (mean ± std. dev. of 1 run, 1 loop each)\n",
      "7\n",
      "481 ms ± 0 ns per loop (mean ± std. dev. of 1 run, 1 loop each)\n",
      "6\n",
      "298 ms ± 0 ns per loop (mean ± std. dev. of 1 run, 1 loop each)\n",
      "5\n",
      "330 ms ± 0 ns per loop (mean ± std. dev. of 1 run, 1 loop each)\n",
      "3\n",
      "335 ms ± 0 ns per loop (mean ± std. dev. of 1 run, 1 loop each)\n"
     ]
    }
   ],
   "source": [
    "# w velocity field\n",
    "for i in range(len(cube_root_size)-1,-1,-1): # From 31st to 0-th (inclusive)\n",
    "#     _ = ncar_uncompressed['w'][0:1024,0:1024,0:1024]\n",
    "    _ = ncar_uncompressed['e'][0:2048,0:2048,0:2048]\n",
    "    print(cube_root_size[i])\n",
    "    \n",
    "    random_start_point = chunk_size * randint(0, 4)\n",
    "    %timeit -o -n 1 -r 1 ncar_data['w'][random_start_point:cube_root_size[i] + random_start_point,random_start_point:cube_root_size[i] + random_start_point,random_start_point:cube_root_size[i] + random_start_point]"
   ]
  },
  {
   "cell_type": "code",
   "execution_count": 127,
   "metadata": {},
   "outputs": [],
   "source": [
    "mcc_w = [44000, 11900, 4250, 3790, 2780, 342, 273, 218, 188, 182, 223, 148, 167, 154, 160, 145, 149, 170, 152, 216, 164, 139, 179, 164]\n",
    "# mcu_w_2048 = [56900, 21500, 3850, 6060, 3090, 600, 586, 420, 383, 499, 370, 382, 389, 470, 339, 443, 366, 385, 351, 500, 481, 298, 330, 335]\n",
    "mcc_w.reverse()"
   ]
  },
  {
   "cell_type": "code",
   "execution_count": 11,
   "metadata": {
    "scrolled": true
   },
   "outputs": [
    {
     "name": "stdout",
     "output_type": "stream",
     "text": [
      "812\n",
      "41.6 s ± 0 ns per loop (mean ± std. dev. of 1 run, 1 loop each)\n",
      "645\n",
      "16.2 s ± 0 ns per loop (mean ± std. dev. of 1 run, 1 loop each)\n",
      "511\n",
      "4.7 s ± 0 ns per loop (mean ± std. dev. of 1 run, 1 loop each)\n",
      "406\n",
      "3.23 s ± 0 ns per loop (mean ± std. dev. of 1 run, 1 loop each)\n",
      "322\n",
      "2.72 s ± 0 ns per loop (mean ± std. dev. of 1 run, 1 loop each)\n",
      "255\n",
      "575 ms ± 0 ns per loop (mean ± std. dev. of 1 run, 1 loop each)\n",
      "203\n",
      "429 ms ± 0 ns per loop (mean ± std. dev. of 1 run, 1 loop each)\n",
      "161\n",
      "249 ms ± 0 ns per loop (mean ± std. dev. of 1 run, 1 loop each)\n",
      "127\n",
      "337 ms ± 0 ns per loop (mean ± std. dev. of 1 run, 1 loop each)\n",
      "101\n",
      "370 ms ± 0 ns per loop (mean ± std. dev. of 1 run, 1 loop each)\n",
      "80\n",
      "340 ms ± 0 ns per loop (mean ± std. dev. of 1 run, 1 loop each)\n",
      "63\n",
      "294 ms ± 0 ns per loop (mean ± std. dev. of 1 run, 1 loop each)\n",
      "50\n",
      "416 ms ± 0 ns per loop (mean ± std. dev. of 1 run, 1 loop each)\n",
      "40\n",
      "334 ms ± 0 ns per loop (mean ± std. dev. of 1 run, 1 loop each)\n",
      "31\n",
      "255 ms ± 0 ns per loop (mean ± std. dev. of 1 run, 1 loop each)\n",
      "25\n",
      "224 ms ± 0 ns per loop (mean ± std. dev. of 1 run, 1 loop each)\n",
      "20\n",
      "184 ms ± 0 ns per loop (mean ± std. dev. of 1 run, 1 loop each)\n",
      "15\n",
      "290 ms ± 0 ns per loop (mean ± std. dev. of 1 run, 1 loop each)\n",
      "12\n",
      "167 ms ± 0 ns per loop (mean ± std. dev. of 1 run, 1 loop each)\n",
      "10\n",
      "171 ms ± 0 ns per loop (mean ± std. dev. of 1 run, 1 loop each)\n",
      "7\n",
      "315 ms ± 0 ns per loop (mean ± std. dev. of 1 run, 1 loop each)\n",
      "6\n",
      "630 ms ± 0 ns per loop (mean ± std. dev. of 1 run, 1 loop each)\n",
      "5\n",
      "235 ms ± 0 ns per loop (mean ± std. dev. of 1 run, 1 loop each)\n",
      "3\n",
      "283 ms ± 0 ns per loop (mean ± std. dev. of 1 run, 1 loop each)\n"
     ]
    }
   ],
   "source": [
    "# temperature field\n",
    "for i in range(len(cube_root_size)-1,-1,-1): # From 31st to 0-th (inclusive)\n",
    "#     _ = ncar_uncompressed['w'][0:1024,0:1024,0:1024]\n",
    "    _ = ncar_uncompressed['w'][0:2048,0:2048,0:2048]\n",
    "    print(cube_root_size[i])\n",
    "    \n",
    "    random_start_point = chunk_size * randint(0, 4)\n",
    "    %timeit -o -n 1 -r 1 ncar_data['t'][random_start_point:cube_root_size[i] + random_start_point,random_start_point:cube_root_size[i] + random_start_point,random_start_point:cube_root_size[i] + random_start_point]"
   ]
  },
  {
   "cell_type": "code",
   "execution_count": 128,
   "metadata": {},
   "outputs": [],
   "source": [
    "mcc_t = [30300, 7740, 2550, 1850, 1630, 307, 263, 164, 161, 151, 142, 157, 139, 144, 139, 131, 202, 137, 159, 140, 194, 154, 154, 152]\n",
    "# 2048-cache-clean-results = [41600, 16200, 4700, 3230, 2720, 575, 429, 249, 337, 370, 340, 294, 416, 334, 255, 224, 184, 290, 167, 171, 315, 630, 235, 283]\n",
    "mcc_t.reverse()"
   ]
  },
  {
   "cell_type": "markdown",
   "metadata": {},
   "source": [
    "## Uncompressed"
   ]
  },
  {
   "cell_type": "code",
   "execution_count": 149,
   "metadata": {
    "scrolled": true
   },
   "outputs": [
    {
     "name": "stdout",
     "output_type": "stream",
     "text": [
      "812\n",
      "27.3 s ± 0 ns per loop (mean ± std. dev. of 1 run, 1 loop each)\n",
      "645\n",
      "12.8 s ± 0 ns per loop (mean ± std. dev. of 1 run, 1 loop each)\n",
      "511\n",
      "4.25 s ± 0 ns per loop (mean ± std. dev. of 1 run, 1 loop each)\n",
      "406\n",
      "3.58 s ± 0 ns per loop (mean ± std. dev. of 1 run, 1 loop each)\n",
      "322\n",
      "2.49 s ± 0 ns per loop (mean ± std. dev. of 1 run, 1 loop each)\n",
      "255\n",
      "1.15 s ± 0 ns per loop (mean ± std. dev. of 1 run, 1 loop each)\n",
      "203\n",
      "449 ms ± 0 ns per loop (mean ± std. dev. of 1 run, 1 loop each)\n",
      "161\n",
      "399 ms ± 0 ns per loop (mean ± std. dev. of 1 run, 1 loop each)\n",
      "127\n",
      "483 ms ± 0 ns per loop (mean ± std. dev. of 1 run, 1 loop each)\n",
      "101\n",
      "344 ms ± 0 ns per loop (mean ± std. dev. of 1 run, 1 loop each)\n",
      "80\n",
      "539 ms ± 0 ns per loop (mean ± std. dev. of 1 run, 1 loop each)\n",
      "63\n",
      "388 ms ± 0 ns per loop (mean ± std. dev. of 1 run, 1 loop each)\n",
      "50\n",
      "309 ms ± 0 ns per loop (mean ± std. dev. of 1 run, 1 loop each)\n",
      "40\n",
      "288 ms ± 0 ns per loop (mean ± std. dev. of 1 run, 1 loop each)\n",
      "31\n",
      "348 ms ± 0 ns per loop (mean ± std. dev. of 1 run, 1 loop each)\n",
      "25\n",
      "325 ms ± 0 ns per loop (mean ± std. dev. of 1 run, 1 loop each)\n",
      "20\n",
      "1.46 s ± 0 ns per loop (mean ± std. dev. of 1 run, 1 loop each)\n",
      "15\n",
      "354 ms ± 0 ns per loop (mean ± std. dev. of 1 run, 1 loop each)\n",
      "12\n",
      "367 ms ± 0 ns per loop (mean ± std. dev. of 1 run, 1 loop each)\n",
      "10\n",
      "379 ms ± 0 ns per loop (mean ± std. dev. of 1 run, 1 loop each)\n",
      "7\n",
      "337 ms ± 0 ns per loop (mean ± std. dev. of 1 run, 1 loop each)\n",
      "6\n",
      "355 ms ± 0 ns per loop (mean ± std. dev. of 1 run, 1 loop each)\n",
      "5\n",
      "399 ms ± 0 ns per loop (mean ± std. dev. of 1 run, 1 loop each)\n",
      "3\n",
      "289 ms ± 0 ns per loop (mean ± std. dev. of 1 run, 1 loop each)\n"
     ]
    }
   ],
   "source": [
    "# Energy field\n",
    "for i in range(len(cube_root_size)-1,-1,-1): # From 31st to 0-th (inclusive)\n",
    "#     _ = ncar_uncompressed['w'][0:1024,0:1024,0:1024]\n",
    "    _ = ncar_uncompressed['t'][0:2048,0:2048,0:2048]\n",
    "    print(cube_root_size[i])\n",
    "    \n",
    "    random_start_point = chunk_size * randint(0, 4)\n",
    "    %timeit -o -n 1 -r 1 ncar_uncompressed['e'][random_start_point:cube_root_size[i] + random_start_point,random_start_point:cube_root_size[i] + random_start_point,random_start_point:cube_root_size[i] + random_start_point]"
   ]
  },
  {
   "cell_type": "code",
   "execution_count": 119,
   "metadata": {},
   "outputs": [],
   "source": [
    "# MCC - min nr. chunks accessed per nr. points. MCC = min chunk compressed\n",
    "mcu_e = [36400, 8070, 2660, 1880, 1510, 761, 300, 186, 241, 173, 162, 164, 154, 385, 166, 189, 200, 163, 146, 210, 175, 314, 180, 167]\n",
    "# 2048-run = [27300, 12800, 4250, 3580, 2490, 1150, 449, 399, 483, 344, 539, 388, 309, 288, 348, 325, 1460, 354, 379, 337, 355, 399, 289]\n",
    "mcu_e.reverse()"
   ]
  },
  {
   "cell_type": "code",
   "execution_count": 150,
   "metadata": {
    "scrolled": true
   },
   "outputs": [
    {
     "name": "stdout",
     "output_type": "stream",
     "text": [
      "812\n",
      "35 s ± 0 ns per loop (mean ± std. dev. of 1 run, 1 loop each)\n",
      "645\n",
      "12.4 s ± 0 ns per loop (mean ± std. dev. of 1 run, 1 loop each)\n",
      "511\n",
      "6.17 s ± 0 ns per loop (mean ± std. dev. of 1 run, 1 loop each)\n",
      "406\n",
      "2.87 s ± 0 ns per loop (mean ± std. dev. of 1 run, 1 loop each)\n",
      "322\n",
      "2.77 s ± 0 ns per loop (mean ± std. dev. of 1 run, 1 loop each)\n",
      "255\n",
      "682 ms ± 0 ns per loop (mean ± std. dev. of 1 run, 1 loop each)\n",
      "203\n",
      "490 ms ± 0 ns per loop (mean ± std. dev. of 1 run, 1 loop each)\n",
      "161\n",
      "586 ms ± 0 ns per loop (mean ± std. dev. of 1 run, 1 loop each)\n",
      "127\n",
      "384 ms ± 0 ns per loop (mean ± std. dev. of 1 run, 1 loop each)\n",
      "101\n",
      "325 ms ± 0 ns per loop (mean ± std. dev. of 1 run, 1 loop each)\n",
      "80\n",
      "404 ms ± 0 ns per loop (mean ± std. dev. of 1 run, 1 loop each)\n",
      "63\n",
      "430 ms ± 0 ns per loop (mean ± std. dev. of 1 run, 1 loop each)\n",
      "50\n",
      "324 ms ± 0 ns per loop (mean ± std. dev. of 1 run, 1 loop each)\n",
      "40\n",
      "341 ms ± 0 ns per loop (mean ± std. dev. of 1 run, 1 loop each)\n",
      "31\n",
      "321 ms ± 0 ns per loop (mean ± std. dev. of 1 run, 1 loop each)\n",
      "25\n",
      "406 ms ± 0 ns per loop (mean ± std. dev. of 1 run, 1 loop each)\n",
      "20\n",
      "6.71 s ± 0 ns per loop (mean ± std. dev. of 1 run, 1 loop each)\n",
      "15\n",
      "397 ms ± 0 ns per loop (mean ± std. dev. of 1 run, 1 loop each)\n",
      "12\n",
      "339 ms ± 0 ns per loop (mean ± std. dev. of 1 run, 1 loop each)\n",
      "10\n",
      "378 ms ± 0 ns per loop (mean ± std. dev. of 1 run, 1 loop each)\n",
      "7\n",
      "575 ms ± 0 ns per loop (mean ± std. dev. of 1 run, 1 loop each)\n",
      "6\n",
      "355 ms ± 0 ns per loop (mean ± std. dev. of 1 run, 1 loop each)\n",
      "5\n",
      "311 ms ± 0 ns per loop (mean ± std. dev. of 1 run, 1 loop each)\n",
      "3\n",
      "366 ms ± 0 ns per loop (mean ± std. dev. of 1 run, 1 loop each)\n"
     ]
    }
   ],
   "source": [
    "# w velocity field\n",
    "for i in range(len(cube_root_size)-1,-1,-1): # From 31st to 0-th (inclusive)\n",
    "#     _ = ncar_uncompressed['w'][0:1024,0:1024,0:1024]\n",
    "    _ = ncar_uncompressed['e'][0:2048,0:2048,0:2048]\n",
    "    print(cube_root_size[i])\n",
    "    \n",
    "    random_start_point = chunk_size * randint(0, 4)\n",
    "    %timeit -o -n 1 -r 1 ncar_uncompressed['w'][random_start_point:cube_root_size[i] + random_start_point,random_start_point:cube_root_size[i] + random_start_point,random_start_point:cube_root_size[i] + random_start_point]"
   ]
  },
  {
   "cell_type": "code",
   "execution_count": 118,
   "metadata": {},
   "outputs": [],
   "source": [
    "# Outlier at cube_root=127\n",
    "mcu_w = [30400, 13700, 4220, 1930, 1450, 350, 271, 147, 566, 145, 157, 160, 150, 136, 188, 161, 136, 138, 157, 151, 159, 120, 156, 119]\n",
    "# 2048-run = [35000, 12400, 6170, 2870, 2770, 682, 490, 586, 384, 325, 404, 430, 324, 341, 321, 406, 6710, 397, 339, 378, 575, 355, 311, 366]\n",
    "mcu_w.reverse()"
   ]
  },
  {
   "cell_type": "code",
   "execution_count": 7,
   "metadata": {},
   "outputs": [
    {
     "data": {
      "text/plain": [
       "array([  3,   5,   6,   7,  10,  12,  15,  20,  25,  31,  40,  50,  63,\n",
       "        80, 101, 127, 161, 203, 255, 322, 406, 511, 645, 812])"
      ]
     },
     "execution_count": 7,
     "metadata": {},
     "output_type": "execute_result"
    }
   ],
   "source": [
    "np.array(cube_root_size)"
   ]
  },
  {
   "cell_type": "code",
   "execution_count": 8,
   "metadata": {
    "scrolled": true
   },
   "outputs": [
    {
     "name": "stdout",
     "output_type": "stream",
     "text": [
      "7\n",
      "258 ms ± 0 ns per loop (mean ± std. dev. of 1 run, 1 loop each)\n",
      "6\n",
      "361 ms ± 0 ns per loop (mean ± std. dev. of 1 run, 1 loop each)\n",
      "5\n",
      "311 ms ± 0 ns per loop (mean ± std. dev. of 1 run, 1 loop each)\n",
      "3\n",
      "291 ms ± 0 ns per loop (mean ± std. dev. of 1 run, 1 loop each)\n"
     ]
    }
   ],
   "source": [
    "# Temperature field\n",
    "# for i in range(len(cube_root_size)-1,-1,-1): # From 31st to 0-th (inclusive)\n",
    "for i in range(3,-1,-1): # TODO undo this\n",
    "#     _ = ncar_uncompressed['w'][0:1024,0:1024,0:1024]\n",
    "    _ = ncar_uncompressed['e'][0:2048,0:2048,0:2048]\n",
    "    print(cube_root_size[i])\n",
    "    \n",
    "    random_start_point = chunk_size * randint(0, 4)\n",
    "    %timeit -o -n 1 -r 1 ncar_uncompressed['t'][random_start_point:cube_root_size[i] + random_start_point,random_start_point:cube_root_size[i] + random_start_point,random_start_point:cube_root_size[i] + random_start_point]"
   ]
  },
  {
   "cell_type": "code",
   "execution_count": 121,
   "metadata": {},
   "outputs": [],
   "source": [
    "# 1st is >768 => need to read 4 chunks\n",
    "# 2nd =645 (>512) so 3 chunks. Then 2, and so on\n",
    "# Outlier at cube size=50. Why?\n",
    "mcu_t = [21900, 6560, 2370, 1800, 1410, 320, 204, 141, 130, 150, 120, 173, 422, 173, 132, 155, 132, 143, 124, 131, 127, 130, 151, 127]\n",
    "# 2048-run = [44200, 15100, 4680, 2780, 2260, 454, 413, 419, 259, 213, 308, 319, 352, 241, 313, 383, 236, 410, 336, 277, 258, 361, 311, 291]\n",
    "mcu_t.reverse()"
   ]
  },
  {
   "cell_type": "code",
   "execution_count": 141,
   "metadata": {},
   "outputs": [
    {
     "data": {
      "image/png": "[encoded data removed]",
      "text/plain": [
       "<Figure size 1152x864 with 1 Axes>"
      ]
     },
     "metadata": {},
     "output_type": "display_data"
    }
   ],
   "source": [
    "import seaborn as sns\n",
    "sns.set(rc={'figure.figsize':(16,12)})\n",
    "\n",
    "# Energy compressed\n",
    "var = mcc_e\n",
    "\n",
    "\n",
    "# Diverging Palettes - https://www.codecademy.com/article/seaborn-design-ii\n",
    "sns.set_palette(\"RdBu\")\n",
    "\n",
    "ax = sns.scatterplot(x=cube_root_size, y=var, label=\"Energy Compressed\").set(xlabel='Cube Root Length', ylabel='Access time (ms)')\n",
    "#ax.set(xlabel='Cube Root Length', ylabel='Access time (ms)')\n",
    "\n",
    "# https://stackoverflow.com/questions/31632637/label-axes-on-seaborn-barplot\n",
    "mymodel = np.poly1d(np.polyfit(cube_root_size, var, 2))\n",
    "myline = np.linspace(1, cube_root_size[len(cube_root_size)-1], 1000)\n",
    "plt.plot(myline, mymodel(myline), label=\"Energy Compressed Deg. 2 Polynomial Regression Line\")#, color=\"orange\")\n",
    "\n",
    "# w-velocity compressed\n",
    "var = mcc_w\n",
    "\n",
    "ax = sns.scatterplot(x=cube_root_size, y=var, label=\"w-Velocity Compressed\")\n",
    "\n",
    "mymodel_w = np.poly1d(np.polyfit(cube_root_size, var, 2))\n",
    "myline_w = np.linspace(1, cube_root_size[len(cube_root_size)-1], 1000)\n",
    "plt.plot(myline_w, mymodel_w(myline_w), label=\"w-Velocity Compressed Regrs.\")\n",
    "\n",
    "\n",
    "# Temperature compressed\n",
    "var = mcc_t\n",
    "\n",
    "ax = sns.scatterplot(x=cube_root_size, y=var, label=\"Temperature Compressed\")\n",
    "\n",
    "mymodel_t = np.poly1d(np.polyfit(cube_root_size, var, 2))\n",
    "myline_t = np.linspace(1, cube_root_size[len(cube_root_size)-1], 1000)\n",
    "plt.plot(myline_t, mymodel_t(myline_t), label=\"Temperature Compressed Regrs.\")\n",
    "\n",
    "\n",
    "# sns.set_palette(\"dark\") # This has no effect for some reason\n",
    "\n",
    "\n",
    "# Energy Uncompressed\n",
    "var = mcu_e\n",
    "ax = sns.scatterplot(x=cube_root_size, y=var, label=\"Energy Uncompressed\", palette=[\"red\"])\n",
    "#ax.set(xlabel='Cube Root Length', ylabel='Access time (ms)')\n",
    "\n",
    "mymodel = np.poly1d(np.polyfit(cube_root_size, var, 2))\n",
    "myline = np.linspace(1, cube_root_size[len(cube_root_size)-1], 1000)\n",
    "plt.plot(myline, mymodel(myline), label=\"Energy Uncompressed Reg. Line\")#, color=\"orange\")\n",
    "\n",
    "# w-velocity Uncompressed\n",
    "var = mcu_w\n",
    "ax = sns.scatterplot(x=cube_root_size, y=var, label=\"w-Velocity Uncompressed\", palette=['dark'])\n",
    "\n",
    "mymodel_w = np.poly1d(np.polyfit(cube_root_size, var, 2))\n",
    "myline_w = np.linspace(1, cube_root_size[len(cube_root_size)-1], 1000)\n",
    "plt.plot(myline_w, mymodel_w(myline_w))\n",
    "\n",
    "\n",
    "# Temperature Uncompressed\n",
    "var = mcu_t\n",
    "ax = sns.scatterplot(x=cube_root_size, y=var, label=\"Temperature Uncompressed\")\n",
    "\n",
    "mymodel_t = np.poly1d(np.polyfit(cube_root_size, var, 2))\n",
    "myline_t = np.linspace(1, cube_root_size[len(cube_root_size)-1], 1000)\n",
    "plt.plot(myline_t, mymodel_t(myline_t))\n",
    "\n",
    "\n",
    "plt.title(\"Cold Chunk-Aligned Access Times\")\n",
    "plt.show()"
   ]
  },
  {
   "cell_type": "markdown",
   "metadata": {},
   "source": [
    "## Warm-cache access all chunk sizes 2^6 - 2^30"
   ]
  },
  {
   "cell_type": "code",
   "execution_count": null,
   "metadata": {},
   "outputs": [],
   "source": [
    "for i in range(len(cube_root_size)):\n",
    "#     _ = ncar_data['t'][0:2048,0:2048,0:2048]\n",
    "    print(cube_root_size[i])\n",
    "    %timeit -o ncar_data['e'][0:cube_root_size[i],0:cube_root_size[i],0:cube_root_size[i]]"
   ]
  },
  {
   "cell_type": "code",
   "execution_count": null,
   "metadata": {},
   "outputs": [],
   "source": [
    "for i in range(len(cube_root_size)):\n",
    "#     _ = ncar_data['t'][0:2048,0:2048,0:2048]\n",
    "    print(cube_root_size[i])\n",
    "    %timeit -o ncar_data['w'][0:cube_root_size[i],0:cube_root_size[i],0:cube_root_size[i]]"
   ]
  },
  {
   "cell_type": "code",
   "execution_count": null,
   "metadata": {},
   "outputs": [],
   "source": [
    "for i in range(len(cube_root_size)):\n",
    "#     _ = ncar_data['t'][0:2048,0:2048,0:2048]\n",
    "    print(cube_root_size[i])\n",
    "    %timeit -o ncar_data['t'][0:cube_root_size[i],0:cube_root_size[i],0:cube_root_size[i]]"
   ]
  },
  {
   "cell_type": "markdown",
   "metadata": {},
   "source": [
    "# <font color=\"red\">Uncompressed</font>"
   ]
  },
  {
   "cell_type": "code",
   "execution_count": null,
   "metadata": {},
   "outputs": [],
   "source": [
    "ncar_e_uncompressed = zarr.open(\"ncar_zarr_uncompressed/e\")\n",
    "ncar_e_uncompressed.info"
   ]
  },
  {
   "cell_type": "markdown",
   "metadata": {},
   "source": [
    "## Cold-cache access all chunk sizes 2^6 - 2^30"
   ]
  }
 ],
 "metadata": {
  "kernelspec": {
   "display_name": "Python 3.8 (py38)",
   "language": "python",
   "name": "py38"
  },
  "language_info": {
   "codemirror_mode": {
    "name": "ipython",
    "version": 3
   },
   "file_extension": ".py",
   "mimetype": "text/x-python",
   "name": "python",
   "nbconvert_exporter": "python",
   "pygments_lexer": "ipython3",
   "version": "3.8.5"
  }
 },
 "nbformat": 4,
 "nbformat_minor": 4
}
