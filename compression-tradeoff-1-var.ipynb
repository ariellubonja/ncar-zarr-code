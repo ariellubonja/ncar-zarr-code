{
 "cells": [
  {
   "cell_type": "code",
   "execution_count": 13,
   "metadata": {},
   "outputs": [
    {
     "data": {
      "text/plain": [
       "'2.13.2'"
      ]
     },
     "execution_count": 13,
     "metadata": {},
     "output_type": "execute_result"
    }
   ],
   "source": [
    "import zarr # Check version\n",
    "import numpy as np\n",
    "\n",
    "zarr.__version__"
   ]
  },
  {
   "cell_type": "code",
   "execution_count": 14,
   "metadata": {},
   "outputs": [],
   "source": [
    "ncar_data = zarr.open(\"sciserver-experimental/ariel/tests\")"
   ]
  },
  {
   "cell_type": "code",
   "execution_count": 3,
   "metadata": {},
   "outputs": [
    {
     "data": {
      "text/html": [
       "<table class=\"zarr-info\"><tbody><tr><th style=\"text-align: left\">Name</th><td style=\"text-align: left\">/</td></tr><tr><th style=\"text-align: left\">Type</th><td style=\"text-align: left\">zarr.hierarchy.Group</td></tr><tr><th style=\"text-align: left\">Read-only</th><td style=\"text-align: left\">False</td></tr><tr><th style=\"text-align: left\">Store type</th><td style=\"text-align: left\">zarr.storage.DirectoryStore</td></tr><tr><th style=\"text-align: left\">No. members</th><td style=\"text-align: left\">6</td></tr><tr><th style=\"text-align: left\">No. arrays</th><td style=\"text-align: left\">6</td></tr><tr><th style=\"text-align: left\">No. groups</th><td style=\"text-align: left\">0</td></tr><tr><th style=\"text-align: left\">Arrays</th><td style=\"text-align: left\">e, p, t, u, v, w</td></tr></tbody></table>"
      ],
      "text/plain": [
       "Name        : /\n",
       "Type        : zarr.hierarchy.Group\n",
       "Read-only   : False\n",
       "Store type  : zarr.storage.DirectoryStore\n",
       "No. members : 6\n",
       "No. arrays  : 6\n",
       "No. groups  : 0\n",
       "Arrays      : e, p, t, u, v, w"
      ]
     },
     "execution_count": 3,
     "metadata": {},
     "output_type": "execute_result"
    }
   ],
   "source": [
    "ncar_data.info"
   ]
  },
  {
   "cell_type": "markdown",
   "metadata": {},
   "source": [
    "<font color=\"orange\">ok, the data is compressed. Let's test access time</font>"
   ]
  },
  {
   "cell_type": "code",
   "execution_count": null,
   "metadata": {},
   "outputs": [],
   "source": [
    "chunk_size = 2**i"
   ]
  },
  {
   "cell_type": "code",
   "execution_count": 17,
   "metadata": {},
   "outputs": [
    {
     "name": "stdout",
     "output_type": "stream",
     "text": [
      "Chunk Size:  16.0  MB\n"
     ]
    }
   ],
   "source": [
    "chunk_size = (256, 256, 256)\n",
    "print(\"Chunk Size: \", np.product(np.array(chunk_size)) / (1024**2), \" MB\")"
   ]
  },
  {
   "cell_type": "markdown",
   "metadata": {},
   "source": [
    "## Note: Chunk size = 256^3"
   ]
  },
  {
   "cell_type": "code",
   "execution_count": 18,
   "metadata": {},
   "outputs": [],
   "source": [
    "a = np.empty(shape=(chunk_size))"
   ]
  },
  {
   "cell_type": "code",
   "execution_count": 19,
   "metadata": {},
   "outputs": [
    {
     "name": "stdout",
     "output_type": "stream",
     "text": [
      "1.06 s ± 0 ns per loop (mean ± std. dev. of 1 run, 1 loop each)\n"
     ]
    },
    {
     "data": {
      "text/plain": [
       "<TimeitResult : 1.06 s ± 0 ns per loop (mean ± std. dev. of 1 run, 1 loop each)>"
      ]
     },
     "execution_count": 19,
     "metadata": {},
     "output_type": "execute_result"
    }
   ],
   "source": [
    "%%timeit -o -n 1 -r 1\n",
    "\n",
    "# _ = ncar_data['t'][:256,:256,:256]\n",
    "_ = ncar_data['e'][0,0,0]"
   ]
  },
  {
   "cell_type": "code",
   "execution_count": 20,
   "metadata": {},
   "outputs": [
    {
     "name": "stdout",
     "output_type": "stream",
     "text": [
      "162 ms ± 0 ns per loop (mean ± std. dev. of 1 run, 1 loop each)\n"
     ]
    },
    {
     "data": {
      "text/plain": [
       "<TimeitResult : 162 ms ± 0 ns per loop (mean ± std. dev. of 1 run, 1 loop each)>"
      ]
     },
     "execution_count": 20,
     "metadata": {},
     "output_type": "execute_result"
    }
   ],
   "source": [
    "%%timeit -o -n 1 -r 1\n",
    "\n",
    "# _ = ncar_data['t'][:256,:256,:256]\n",
    "_ = ncar_data['e'][0,0,0]"
   ]
  },
  {
   "cell_type": "markdown",
   "metadata": {},
   "source": [
    "## Cold Cache - Energy (2.5 Storage Ratio)"
   ]
  },
  {
   "cell_type": "code",
   "execution_count": 12,
   "metadata": {},
   "outputs": [
    {
     "name": "stdout",
     "output_type": "stream",
     "text": [
      "364 ms ± 0 ns per loop (mean ± std. dev. of 1 run, 1 loop each)\n"
     ]
    },
    {
     "data": {
      "text/plain": [
       "<TimeitResult : 364 ms ± 0 ns per loop (mean ± std. dev. of 1 run, 1 loop each)>"
      ]
     },
     "execution_count": 12,
     "metadata": {},
     "output_type": "execute_result"
    }
   ],
   "source": [
    "%%timeit -o -n 1 -r 1\n",
    "\n",
    "# _ = ncar_data['t'][:256,:256,:256]\n",
    "_ = ncar_data['e'][256:512,256:512,256:512]"
   ]
  },
  {
   "cell_type": "markdown",
   "metadata": {},
   "source": [
    "<font color=\"orange\">Make sure to only access across chunks if you want to</font>\n",
    "\n",
    "## Warm Access - Energy"
   ]
  },
  {
   "cell_type": "code",
   "execution_count": 21,
   "metadata": {},
   "outputs": [
    {
     "name": "stdout",
     "output_type": "stream",
     "text": [
      "75.8 ms ± 2.15 ms per loop (mean ± std. dev. of 7 runs, 1 loop each)\n"
     ]
    },
    {
     "data": {
      "text/plain": [
       "<TimeitResult : 75.8 ms ± 2.15 ms per loop (mean ± std. dev. of 7 runs, 1 loop each)>"
      ]
     },
     "execution_count": 21,
     "metadata": {},
     "output_type": "execute_result"
    }
   ],
   "source": [
    "%%timeit -o\n",
    "\n",
    "# _ = ncar_data['t'][:256,:256,:256]\n",
    "_ = ncar_data['e'][256:512,256:512,256:512]"
   ]
  },
  {
   "cell_type": "code",
   "execution_count": 22,
   "metadata": {},
   "outputs": [
    {
     "data": {
      "text/plain": [
       "[0.07929545198567212,\n",
       " 0.0744368489831686,\n",
       " 0.07887243898585439,\n",
       " 0.07347628800198436,\n",
       " 0.0744009199552238,\n",
       " 0.07455734792165458,\n",
       " 0.07582756597548723]"
      ]
     },
     "execution_count": 22,
     "metadata": {},
     "output_type": "execute_result"
    }
   ],
   "source": [
    "# _ gets previous output\n",
    "_.all_runs"
   ]
  },
  {
   "cell_type": "markdown",
   "metadata": {},
   "source": [
    "## Cold Cache - Temp (1.8 Storage Ratio)"
   ]
  },
  {
   "cell_type": "code",
   "execution_count": 3,
   "metadata": {},
   "outputs": [
    {
     "name": "stdout",
     "output_type": "stream",
     "text": [
      "728 ms ± 0 ns per loop (mean ± std. dev. of 1 run, 1 loop each)\n"
     ]
    },
    {
     "data": {
      "text/plain": [
       "<TimeitResult : 728 ms ± 0 ns per loop (mean ± std. dev. of 1 run, 1 loop each)>"
      ]
     },
     "execution_count": 3,
     "metadata": {},
     "output_type": "execute_result"
    }
   ],
   "source": [
    "%%timeit -o -n 1 -r 1\n",
    "\n",
    "a = ncar_data['t'][1024:1280,768:1024,512:768]"
   ]
  },
  {
   "cell_type": "markdown",
   "metadata": {},
   "source": [
    "## Warm access - Temp"
   ]
  },
  {
   "cell_type": "code",
   "execution_count": 4,
   "metadata": {},
   "outputs": [
    {
     "name": "stdout",
     "output_type": "stream",
     "text": [
      "40.1 ms ± 1.57 ms per loop (mean ± std. dev. of 7 runs, 10 loops each)\n"
     ]
    },
    {
     "data": {
      "text/plain": [
       "<TimeitResult : 40.1 ms ± 1.57 ms per loop (mean ± std. dev. of 7 runs, 10 loops each)>"
      ]
     },
     "execution_count": 4,
     "metadata": {},
     "output_type": "execute_result"
    }
   ],
   "source": [
    "%%timeit -o\n",
    "\n",
    "a = ncar_data['t'][1024:1280,768:1024,512:768]"
   ]
  },
  {
   "cell_type": "markdown",
   "metadata": {},
   "source": [
    "## Cold access - w (Storage Ratio 1.3)"
   ]
  },
  {
   "cell_type": "code",
   "execution_count": 5,
   "metadata": {},
   "outputs": [
    {
     "name": "stdout",
     "output_type": "stream",
     "text": [
      "434 ms ± 0 ns per loop (mean ± std. dev. of 1 run, 1 loop each)\n"
     ]
    },
    {
     "data": {
      "text/plain": [
       "<TimeitResult : 434 ms ± 0 ns per loop (mean ± std. dev. of 1 run, 1 loop each)>"
      ]
     },
     "execution_count": 5,
     "metadata": {},
     "output_type": "execute_result"
    }
   ],
   "source": [
    "%%timeit -o -n 1 -r 1\n",
    "\n",
    "_ = ncar_data['w'][:256,:256,:256]"
   ]
  },
  {
   "cell_type": "markdown",
   "metadata": {},
   "source": [
    "## Warm access - w"
   ]
  },
  {
   "cell_type": "code",
   "execution_count": 6,
   "metadata": {},
   "outputs": [
    {
     "name": "stdout",
     "output_type": "stream",
     "text": [
      "78.8 ms ± 1.9 ms per loop (mean ± std. dev. of 7 runs, 10 loops each)\n"
     ]
    },
    {
     "data": {
      "text/plain": [
       "<TimeitResult : 78.8 ms ± 1.9 ms per loop (mean ± std. dev. of 7 runs, 10 loops each)>"
      ]
     },
     "execution_count": 6,
     "metadata": {},
     "output_type": "execute_result"
    }
   ],
   "source": [
    "%%timeit -o\n",
    "\n",
    "_ = ncar_data['w'][:256,:256,:256]"
   ]
  },
  {
   "cell_type": "code",
   "execution_count": 53,
   "metadata": {},
   "outputs": [],
   "source": [
    "# Need to write uncompressed data - ignore in later runs\n",
    "# fsstore = zarr.storage.FSStore('ncar_zarr_uncompressed/e')"
   ]
  },
  {
   "cell_type": "code",
   "execution_count": 59,
   "metadata": {},
   "outputs": [],
   "source": [
    "# https://zarr.readthedocs.io/en/stable/api/creation.html#zarr.creation.array\n",
    "\n",
    "# e_arr = zarr.creation.array(ncar_data['e'], compressor=None)"
   ]
  },
  {
   "cell_type": "code",
   "execution_count": 7,
   "metadata": {},
   "outputs": [],
   "source": [
    "# e_arr.info"
   ]
  },
  {
   "cell_type": "code",
   "execution_count": 69,
   "metadata": {},
   "outputs": [],
   "source": [
    "# # https://github.com/zarr-developers/zarr-python/issues/472\n",
    "# zarr.save_array(\"ncar_zarr_uncompressed/e\", e_arr, compressor=None)"
   ]
  },
  {
   "cell_type": "code",
   "execution_count": 8,
   "metadata": {},
   "outputs": [],
   "source": [
    "ncar_e_uncompressed = zarr.open(\"ncar_zarr_uncompressed/e\")"
   ]
  },
  {
   "cell_type": "code",
   "execution_count": 9,
   "metadata": {},
   "outputs": [
    {
     "data": {
      "text/html": [
       "<table class=\"zarr-info\"><tbody><tr><th style=\"text-align: left\">Type</th><td style=\"text-align: left\">zarr.core.Array</td></tr><tr><th style=\"text-align: left\">Data type</th><td style=\"text-align: left\">float32</td></tr><tr><th style=\"text-align: left\">Shape</th><td style=\"text-align: left\">(2048, 2048, 2048)</td></tr><tr><th style=\"text-align: left\">Chunk shape</th><td style=\"text-align: left\">(256, 256, 256)</td></tr><tr><th style=\"text-align: left\">Order</th><td style=\"text-align: left\">C</td></tr><tr><th style=\"text-align: left\">Read-only</th><td style=\"text-align: left\">False</td></tr><tr><th style=\"text-align: left\">Compressor</th><td style=\"text-align: left\">None</td></tr><tr><th style=\"text-align: left\">Store type</th><td style=\"text-align: left\">zarr.storage.DirectoryStore</td></tr><tr><th style=\"text-align: left\">No. bytes</th><td style=\"text-align: left\">34359738368 (32.0G)</td></tr><tr><th style=\"text-align: left\">No. bytes stored</th><td style=\"text-align: left\">34359738622 (32.0G)</td></tr><tr><th style=\"text-align: left\">Storage ratio</th><td style=\"text-align: left\">1.0</td></tr><tr><th style=\"text-align: left\">Chunks initialized</th><td style=\"text-align: left\">512/512</td></tr></tbody></table>"
      ],
      "text/plain": [
       "Type               : zarr.core.Array\n",
       "Data type          : float32\n",
       "Shape              : (2048, 2048, 2048)\n",
       "Chunk shape        : (256, 256, 256)\n",
       "Order              : C\n",
       "Read-only          : False\n",
       "Compressor         : None\n",
       "Store type         : zarr.storage.DirectoryStore\n",
       "No. bytes          : 34359738368 (32.0G)\n",
       "No. bytes stored   : 34359738622 (32.0G)\n",
       "Storage ratio      : 1.0\n",
       "Chunks initialized : 512/512"
      ]
     },
     "execution_count": 9,
     "metadata": {},
     "output_type": "execute_result"
    }
   ],
   "source": [
    "ncar_e_uncompressed.info"
   ]
  },
  {
   "cell_type": "markdown",
   "metadata": {},
   "source": [
    "### Cold access - Energy Uncompressed\n",
    "\n",
    "<font color=\"orange\">Timeit runs multiple times. Filesystem should be able to cache better</font>"
   ]
  },
  {
   "cell_type": "code",
   "execution_count": 10,
   "metadata": {},
   "outputs": [
    {
     "name": "stdout",
     "output_type": "stream",
     "text": [
      "504 ms ± 0 ns per loop (mean ± std. dev. of 1 run, 1 loop each)\n"
     ]
    },
    {
     "data": {
      "text/plain": [
       "<TimeitResult : 504 ms ± 0 ns per loop (mean ± std. dev. of 1 run, 1 loop each)>"
      ]
     },
     "execution_count": 10,
     "metadata": {},
     "output_type": "execute_result"
    }
   ],
   "source": [
    "%%timeit -o -n 1 -r 1\n",
    "\n",
    "_ = ncar_e_uncompressed[:256,:256,:256]"
   ]
  },
  {
   "cell_type": "markdown",
   "metadata": {},
   "source": [
    "## Warm access - Energy Uncompressed"
   ]
  },
  {
   "cell_type": "code",
   "execution_count": 11,
   "metadata": {},
   "outputs": [
    {
     "name": "stdout",
     "output_type": "stream",
     "text": [
      "136 ms ± 586 µs per loop (mean ± std. dev. of 7 runs, 10 loops each)\n"
     ]
    },
    {
     "data": {
      "text/plain": [
       "<TimeitResult : 136 ms ± 586 µs per loop (mean ± std. dev. of 7 runs, 10 loops each)>"
      ]
     },
     "execution_count": 11,
     "metadata": {},
     "output_type": "execute_result"
    }
   ],
   "source": [
    "%%timeit -o\n",
    "\n",
    "_ = ncar_e_uncompressed[:256,:256,:256]"
   ]
  },
  {
   "cell_type": "code",
   "execution_count": 12,
   "metadata": {},
   "outputs": [
    {
     "data": {
      "text/plain": [
       "[1.3577309621032327,\n",
       " 1.3584185810759664,\n",
       " 1.364055837970227,\n",
       " 1.3720491729909554,\n",
       " 1.3634938159957528,\n",
       " 1.3642271049320698,\n",
       " 1.374529485940002]"
      ]
     },
     "execution_count": 12,
     "metadata": {},
     "output_type": "execute_result"
    }
   ],
   "source": [
    "_.all_runs"
   ]
  },
  {
   "cell_type": "markdown",
   "metadata": {},
   "source": [
    "## t-var. Uncompressed - Cold"
   ]
  },
  {
   "cell_type": "code",
   "execution_count": 120,
   "metadata": {},
   "outputs": [],
   "source": [
    "# https://github.com/zarr-developers/zarr-python/issues/472\n",
    "# zarr.save_array(\"ncar_zarr_uncompressed/t\", ncar_data['t'], compressor=None)"
   ]
  },
  {
   "cell_type": "code",
   "execution_count": 13,
   "metadata": {},
   "outputs": [
    {
     "data": {
      "text/html": [
       "<table class=\"zarr-info\"><tbody><tr><th style=\"text-align: left\">Type</th><td style=\"text-align: left\">zarr.core.Array</td></tr><tr><th style=\"text-align: left\">Data type</th><td style=\"text-align: left\">float32</td></tr><tr><th style=\"text-align: left\">Shape</th><td style=\"text-align: left\">(2048, 2048, 2048)</td></tr><tr><th style=\"text-align: left\">Chunk shape</th><td style=\"text-align: left\">(256, 256, 256)</td></tr><tr><th style=\"text-align: left\">Order</th><td style=\"text-align: left\">C</td></tr><tr><th style=\"text-align: left\">Read-only</th><td style=\"text-align: left\">False</td></tr><tr><th style=\"text-align: left\">Compressor</th><td style=\"text-align: left\">None</td></tr><tr><th style=\"text-align: left\">Store type</th><td style=\"text-align: left\">zarr.storage.DirectoryStore</td></tr><tr><th style=\"text-align: left\">No. bytes</th><td style=\"text-align: left\">34359738368 (32.0G)</td></tr><tr><th style=\"text-align: left\">No. bytes stored</th><td style=\"text-align: left\">34359738622 (32.0G)</td></tr><tr><th style=\"text-align: left\">Storage ratio</th><td style=\"text-align: left\">1.0</td></tr><tr><th style=\"text-align: left\">Chunks initialized</th><td style=\"text-align: left\">512/512</td></tr></tbody></table>"
      ],
      "text/plain": [
       "Type               : zarr.core.Array\n",
       "Data type          : float32\n",
       "Shape              : (2048, 2048, 2048)\n",
       "Chunk shape        : (256, 256, 256)\n",
       "Order              : C\n",
       "Read-only          : False\n",
       "Compressor         : None\n",
       "Store type         : zarr.storage.DirectoryStore\n",
       "No. bytes          : 34359738368 (32.0G)\n",
       "No. bytes stored   : 34359738622 (32.0G)\n",
       "Storage ratio      : 1.0\n",
       "Chunks initialized : 512/512"
      ]
     },
     "execution_count": 13,
     "metadata": {},
     "output_type": "execute_result"
    }
   ],
   "source": [
    "ncar_e_uncompressed = zarr.open(\"ncar_zarr_uncompressed/t\")\n",
    "ncar_e_uncompressed.info"
   ]
  },
  {
   "cell_type": "code",
   "execution_count": 14,
   "metadata": {},
   "outputs": [
    {
     "name": "stdout",
     "output_type": "stream",
     "text": [
      "397 ms ± 0 ns per loop (mean ± std. dev. of 1 run, 1 loop each)\n"
     ]
    },
    {
     "data": {
      "text/plain": [
       "<TimeitResult : 397 ms ± 0 ns per loop (mean ± std. dev. of 1 run, 1 loop each)>"
      ]
     },
     "execution_count": 14,
     "metadata": {},
     "output_type": "execute_result"
    }
   ],
   "source": [
    "%%timeit -o -n 1 -r 1\n",
    "\n",
    "_ = ncar_e_uncompressed[:256,:256,:256]"
   ]
  },
  {
   "cell_type": "markdown",
   "metadata": {},
   "source": [
    "## Warm access - Temp Uncompressed"
   ]
  },
  {
   "cell_type": "code",
   "execution_count": 15,
   "metadata": {},
   "outputs": [
    {
     "name": "stdout",
     "output_type": "stream",
     "text": [
      "138 ms ± 2.48 ms per loop (mean ± std. dev. of 7 runs, 10 loops each)\n"
     ]
    },
    {
     "data": {
      "text/plain": [
       "<TimeitResult : 138 ms ± 2.48 ms per loop (mean ± std. dev. of 7 runs, 10 loops each)>"
      ]
     },
     "execution_count": 15,
     "metadata": {},
     "output_type": "execute_result"
    }
   ],
   "source": [
    "%%timeit -o\n",
    "\n",
    "_ = ncar_e_uncompressed[:256,:256,:256]"
   ]
  },
  {
   "cell_type": "markdown",
   "metadata": {},
   "source": [
    "## w-var Uncompressed. Cold"
   ]
  },
  {
   "cell_type": "code",
   "execution_count": 110,
   "metadata": {},
   "outputs": [],
   "source": [
    "# # https://github.com/zarr-developers/zarr-python/issues/472\n",
    "# zarr.save_array(\"ncar_zarr_uncompressed/w\", ncar_data['w'], compressor=None)"
   ]
  },
  {
   "cell_type": "code",
   "execution_count": 16,
   "metadata": {},
   "outputs": [
    {
     "data": {
      "text/html": [
       "<table class=\"zarr-info\"><tbody><tr><th style=\"text-align: left\">Type</th><td style=\"text-align: left\">zarr.core.Array</td></tr><tr><th style=\"text-align: left\">Data type</th><td style=\"text-align: left\">float32</td></tr><tr><th style=\"text-align: left\">Shape</th><td style=\"text-align: left\">(2048, 2048, 2048)</td></tr><tr><th style=\"text-align: left\">Chunk shape</th><td style=\"text-align: left\">(256, 256, 256)</td></tr><tr><th style=\"text-align: left\">Order</th><td style=\"text-align: left\">C</td></tr><tr><th style=\"text-align: left\">Read-only</th><td style=\"text-align: left\">False</td></tr><tr><th style=\"text-align: left\">Compressor</th><td style=\"text-align: left\">None</td></tr><tr><th style=\"text-align: left\">Store type</th><td style=\"text-align: left\">zarr.storage.DirectoryStore</td></tr><tr><th style=\"text-align: left\">No. bytes</th><td style=\"text-align: left\">34359738368 (32.0G)</td></tr><tr><th style=\"text-align: left\">No. bytes stored</th><td style=\"text-align: left\">34359738622 (32.0G)</td></tr><tr><th style=\"text-align: left\">Storage ratio</th><td style=\"text-align: left\">1.0</td></tr><tr><th style=\"text-align: left\">Chunks initialized</th><td style=\"text-align: left\">512/512</td></tr></tbody></table>"
      ],
      "text/plain": [
       "Type               : zarr.core.Array\n",
       "Data type          : float32\n",
       "Shape              : (2048, 2048, 2048)\n",
       "Chunk shape        : (256, 256, 256)\n",
       "Order              : C\n",
       "Read-only          : False\n",
       "Compressor         : None\n",
       "Store type         : zarr.storage.DirectoryStore\n",
       "No. bytes          : 34359738368 (32.0G)\n",
       "No. bytes stored   : 34359738622 (32.0G)\n",
       "Storage ratio      : 1.0\n",
       "Chunks initialized : 512/512"
      ]
     },
     "execution_count": 16,
     "metadata": {},
     "output_type": "execute_result"
    }
   ],
   "source": [
    "ncar_e_uncompressed = zarr.open(\"ncar_zarr_uncompressed/w\")\n",
    "ncar_e_uncompressed.info"
   ]
  },
  {
   "cell_type": "code",
   "execution_count": 17,
   "metadata": {},
   "outputs": [
    {
     "name": "stdout",
     "output_type": "stream",
     "text": [
      "382 ms ± 0 ns per loop (mean ± std. dev. of 1 run, 1 loop each)\n"
     ]
    },
    {
     "data": {
      "text/plain": [
       "<TimeitResult : 382 ms ± 0 ns per loop (mean ± std. dev. of 1 run, 1 loop each)>"
      ]
     },
     "execution_count": 17,
     "metadata": {},
     "output_type": "execute_result"
    }
   ],
   "source": [
    "%%timeit -o -n 1 -r 1\n",
    "\n",
    "_ = ncar_e_uncompressed[:256,:256,:256]"
   ]
  },
  {
   "cell_type": "markdown",
   "metadata": {},
   "source": [
    "## W-var Warm"
   ]
  },
  {
   "cell_type": "code",
   "execution_count": 18,
   "metadata": {},
   "outputs": [
    {
     "name": "stdout",
     "output_type": "stream",
     "text": [
      "136 ms ± 141 µs per loop (mean ± std. dev. of 7 runs, 10 loops each)\n"
     ]
    },
    {
     "data": {
      "text/plain": [
       "<TimeitResult : 136 ms ± 141 µs per loop (mean ± std. dev. of 7 runs, 10 loops each)>"
      ]
     },
     "execution_count": 18,
     "metadata": {},
     "output_type": "execute_result"
    }
   ],
   "source": [
    "%%timeit -o\n",
    "\n",
    "_ = ncar_e_uncompressed[:256,:256,:256]"
   ]
  },
  {
   "cell_type": "markdown",
   "metadata": {},
   "source": [
    "## Results overall - milliseconds\n",
    "\n",
    "#### 256^3 access cube - 64MB\n",
    "\n",
    "<!-- <font color=\"orange\">  vs  - cold)  ------- Warm </font>\n",
    "\n",
    "e - 364, 504   ------- 72, 136\n",
    "\n",
    "t - 728, 397   ------- 40, 138\n",
    "\n",
    "w - 434, 382   -------  78, 136 -->\n",
    "\n",
    "<font color=\"orange\">Cold access</font>\n",
    "\n",
    "| Variable      | Compressed      | Uncompressed |\n",
    "| ----------- | ----------- | ----------- |\n",
    "| e           | 364      | 504       |\n",
    "| t   | 728   | 397        |\n",
    "| w   | 434   | 382        |\n",
    "\n",
    "\n",
    "<font color=\"orange\">Warm access</font>\n",
    "\n",
    "| Variable      | Compressed      | Uncompressed |\n",
    "| ----------- | ----------- | ----------- |\n",
    "| e           | 72      | 136       |\n",
    "| t   | 40   | 138        |\n",
    "| w   | 78   | 136        |"
   ]
  },
  {
   "cell_type": "code",
   "execution_count": 1,
   "metadata": {},
   "outputs": [],
   "source": [
    "from matplotlib import pyplot as plt"
   ]
  },
  {
   "cell_type": "code",
   "execution_count": 12,
   "metadata": {},
   "outputs": [
    {
     "data": {
      "text/plain": [
       "<matplotlib.legend.Legend at 0x7ffb835a64c0>"
      ]
     },
     "execution_count": 12,
     "metadata": {},
     "output_type": "execute_result"
    },
    {
     "data": {
      "image/png": "[encoded data removed]",
      "text/plain": [
       "<Figure size 864x576 with 1 Axes>"
      ]
     },
     "metadata": {
      "needs_background": "light"
     },
     "output_type": "display_data"
    }
   ],
   "source": [
    "cold_access_comp = [364, 728, 434]\n",
    "cold_access_uncomp = [504, 397, 382]\n",
    "\n",
    "warm_access_comp = [72,40,78]\n",
    "warm_access_uncomp = [136,138, 136]\n",
    "\n",
    "plt.figure(figsize=(12,8))\n",
    "\n",
    "plt.scatter(x=['e','t','w'], y=cold_access_comp, label=\"Cold Compressed\")\n",
    "plt.scatter(x=['e','t','w'], y=cold_access_uncomp, label=\"Cold UnCompressed\")\n",
    "\n",
    "plt.scatter(x=['e','t','w'], y=warm_access_comp, label=\"Warm Compressed\")\n",
    "plt.scatter(x=['e','t','w'], y=warm_access_uncomp, label=\"Warm UnCompressed\")\n",
    "\n",
    "plt.legend()"
   ]
  },
  {
   "cell_type": "markdown",
   "metadata": {},
   "source": [
    "# Better Experiments below - various access sizes, cache cleared"
   ]
  },
  {
   "cell_type": "markdown",
   "metadata": {},
   "source": [
    "## <font color=\"orange\"> Process for experiments </font>\n",
    "\n",
    "1. Cube sizes from $2^6$ to $2^{32}$, starting from biggest. Expressed as Cube Root\n",
    "\n",
    "2. Read 4GB of data from different variable to make sure cache is clear\n",
    "\n",
    "3. Pick a random starting point.\n",
    "\n",
    "4. Read a cube from this starting point (see #1). Cube not guaranteed to be in single chunk"
   ]
  },
  {
   "cell_type": "code",
   "execution_count": 30,
   "metadata": {},
   "outputs": [
    {
     "data": {
      "text/plain": [
       "'2.13.2'"
      ]
     },
     "execution_count": 30,
     "metadata": {},
     "output_type": "execute_result"
    }
   ],
   "source": [
    "import zarr # Check version\n",
    "import numpy as np\n",
    "from matplotlib import pyplot as plt\n",
    "from random import randint\n",
    "\n",
    "zarr.__version__"
   ]
  },
  {
   "cell_type": "code",
   "execution_count": 16,
   "metadata": {},
   "outputs": [],
   "source": [
    "chunk_sizes = [ 2**i for i in range(6,30)]"
   ]
  },
  {
   "cell_type": "code",
   "execution_count": 17,
   "metadata": {},
   "outputs": [
    {
     "data": {
      "text/plain": [
       "[3, 5, 6, 7, 10]"
      ]
     },
     "execution_count": 17,
     "metadata": {},
     "output_type": "execute_result"
    }
   ],
   "source": [
    "cube_root_size = [int(x ** (1. / 3)) for x in chunk_sizes]\n",
    "cube_root_size[:5]"
   ]
  },
  {
   "cell_type": "code",
   "execution_count": 18,
   "metadata": {},
   "outputs": [
    {
     "data": {
      "text/html": [
       "<table class=\"zarr-info\"><tbody><tr><th style=\"text-align: left\">Name</th><td style=\"text-align: left\">/</td></tr><tr><th style=\"text-align: left\">Type</th><td style=\"text-align: left\">zarr.hierarchy.Group</td></tr><tr><th style=\"text-align: left\">Read-only</th><td style=\"text-align: left\">False</td></tr><tr><th style=\"text-align: left\">Store type</th><td style=\"text-align: left\">zarr.storage.DirectoryStore</td></tr><tr><th style=\"text-align: left\">No. members</th><td style=\"text-align: left\">6</td></tr><tr><th style=\"text-align: left\">No. arrays</th><td style=\"text-align: left\">6</td></tr><tr><th style=\"text-align: left\">No. groups</th><td style=\"text-align: left\">0</td></tr><tr><th style=\"text-align: left\">Arrays</th><td style=\"text-align: left\">e, p, t, u, v, w</td></tr></tbody></table>"
      ],
      "text/plain": [
       "Name        : /\n",
       "Type        : zarr.hierarchy.Group\n",
       "Read-only   : False\n",
       "Store type  : zarr.storage.DirectoryStore\n",
       "No. members : 6\n",
       "No. arrays  : 6\n",
       "No. groups  : 0\n",
       "Arrays      : e, p, t, u, v, w"
      ]
     },
     "execution_count": 18,
     "metadata": {},
     "output_type": "execute_result"
    }
   ],
   "source": [
    "ncar_data = zarr.open(\"sciserver-experimental/ariel/tests\")\n",
    "ncar_data.info"
   ]
  },
  {
   "cell_type": "code",
   "execution_count": 53,
   "metadata": {},
   "outputs": [
    {
     "data": {
      "text/plain": [
       "array([  3,   5,   6,   7,  10,  12,  15,  20,  25,  31,  40,  50,  63,\n",
       "        80, 101, 127, 161, 203, 255, 322, 406, 511, 645, 812])"
      ]
     },
     "execution_count": 53,
     "metadata": {},
     "output_type": "execute_result"
    }
   ],
   "source": [
    "np.array(cube_root_size)"
   ]
  },
  {
   "cell_type": "markdown",
   "metadata": {},
   "source": [
    "# Compressed\n",
    "## Cold-cache access all chunk sizes 2^6 - 2^30"
   ]
  },
  {
   "cell_type": "code",
   "execution_count": 52,
   "metadata": {},
   "outputs": [
    {
     "data": {
      "text/html": [
       "<table class=\"zarr-info\"><tbody><tr><th style=\"text-align: left\">Name</th><td style=\"text-align: left\">/e</td></tr><tr><th style=\"text-align: left\">Type</th><td style=\"text-align: left\">zarr.core.Array</td></tr><tr><th style=\"text-align: left\">Data type</th><td style=\"text-align: left\">float32</td></tr><tr><th style=\"text-align: left\">Shape</th><td style=\"text-align: left\">(2048, 2048, 2048)</td></tr><tr><th style=\"text-align: left\">Chunk shape</th><td style=\"text-align: left\">(256, 256, 256)</td></tr><tr><th style=\"text-align: left\">Order</th><td style=\"text-align: left\">C</td></tr><tr><th style=\"text-align: left\">Read-only</th><td style=\"text-align: left\">False</td></tr><tr><th style=\"text-align: left\">Compressor</th><td style=\"text-align: left\">Blosc(cname='lz4', clevel=5, shuffle=SHUFFLE, blocksize=0)</td></tr><tr><th style=\"text-align: left\">Store type</th><td style=\"text-align: left\">zarr.storage.DirectoryStore</td></tr><tr><th style=\"text-align: left\">No. bytes</th><td style=\"text-align: left\">34359738368 (32.0G)</td></tr><tr><th style=\"text-align: left\">No. bytes stored</th><td style=\"text-align: left\">13989514907 (13.0G)</td></tr><tr><th style=\"text-align: left\">Storage ratio</th><td style=\"text-align: left\">2.5</td></tr><tr><th style=\"text-align: left\">Chunks initialized</th><td style=\"text-align: left\">512/512</td></tr></tbody></table>"
      ],
      "text/plain": [
       "Name               : /e\n",
       "Type               : zarr.core.Array\n",
       "Data type          : float32\n",
       "Shape              : (2048, 2048, 2048)\n",
       "Chunk shape        : (256, 256, 256)\n",
       "Order              : C\n",
       "Read-only          : False\n",
       "Compressor         : Blosc(cname='lz4', clevel=5, shuffle=SHUFFLE, blocksize=0)\n",
       "Store type         : zarr.storage.DirectoryStore\n",
       "No. bytes          : 34359738368 (32.0G)\n",
       "No. bytes stored   : 13989514907 (13.0G)\n",
       "Storage ratio      : 2.5\n",
       "Chunks initialized : 512/512"
      ]
     },
     "execution_count": 52,
     "metadata": {},
     "output_type": "execute_result"
    }
   ],
   "source": [
    "ncar_data['e'].info"
   ]
  },
  {
   "cell_type": "code",
   "execution_count": 24,
   "metadata": {
    "scrolled": true
   },
   "outputs": [
    {
     "name": "stdout",
     "output_type": "stream",
     "text": [
      "812\n",
      "24.9 s ± 0 ns per loop (mean ± std. dev. of 1 run, 1 loop each)\n",
      "645\n",
      "13.2 s ± 0 ns per loop (mean ± std. dev. of 1 run, 1 loop each)\n",
      "511\n",
      "3.08 s ± 0 ns per loop (mean ± std. dev. of 1 run, 1 loop each)\n",
      "406\n",
      "4.08 s ± 0 ns per loop (mean ± std. dev. of 1 run, 1 loop each)\n",
      "322\n",
      "1.28 s ± 0 ns per loop (mean ± std. dev. of 1 run, 1 loop each)\n",
      "255\n",
      "728 ms ± 0 ns per loop (mean ± std. dev. of 1 run, 1 loop each)\n",
      "203\n",
      "1.15 s ± 0 ns per loop (mean ± std. dev. of 1 run, 1 loop each)\n",
      "161\n",
      "982 ms ± 0 ns per loop (mean ± std. dev. of 1 run, 1 loop each)\n",
      "127\n",
      "131 ms ± 0 ns per loop (mean ± std. dev. of 1 run, 1 loop each)\n",
      "101\n",
      "175 ms ± 0 ns per loop (mean ± std. dev. of 1 run, 1 loop each)\n",
      "80\n",
      "848 ms ± 0 ns per loop (mean ± std. dev. of 1 run, 1 loop each)\n",
      "63\n",
      "97.6 ms ± 0 ns per loop (mean ± std. dev. of 1 run, 1 loop each)\n",
      "50\n",
      "92 ms ± 0 ns per loop (mean ± std. dev. of 1 run, 1 loop each)\n",
      "40\n",
      "118 ms ± 0 ns per loop (mean ± std. dev. of 1 run, 1 loop each)\n",
      "31\n",
      "148 ms ± 0 ns per loop (mean ± std. dev. of 1 run, 1 loop each)\n",
      "25\n",
      "115 ms ± 0 ns per loop (mean ± std. dev. of 1 run, 1 loop each)\n",
      "20\n",
      "117 ms ± 0 ns per loop (mean ± std. dev. of 1 run, 1 loop each)\n",
      "15\n",
      "123 ms ± 0 ns per loop (mean ± std. dev. of 1 run, 1 loop each)\n",
      "12\n",
      "20.8 ms ± 0 ns per loop (mean ± std. dev. of 1 run, 1 loop each)\n",
      "10\n",
      "110 ms ± 0 ns per loop (mean ± std. dev. of 1 run, 1 loop each)\n",
      "7\n",
      "94.8 ms ± 0 ns per loop (mean ± std. dev. of 1 run, 1 loop each)\n",
      "6\n",
      "103 ms ± 0 ns per loop (mean ± std. dev. of 1 run, 1 loop each)\n",
      "5\n",
      "122 ms ± 0 ns per loop (mean ± std. dev. of 1 run, 1 loop each)\n",
      "3\n",
      "190 ms ± 0 ns per loop (mean ± std. dev. of 1 run, 1 loop each)\n"
     ]
    }
   ],
   "source": [
    "# Energy - 2.5 Compression Ratio\n",
    "for i in range(len(cube_root_size)-1,-1,-1): # From 31st to 0-th (inclusive)\n",
    "    _ = ncar_data['t'][0:1024,0:1024,0:1024]\n",
    "    print(cube_root_size[i])\n",
    "    \n",
    "    random_start_point = 64 * randint(0, 16)\n",
    "    %timeit -o -n 1 -r 1 ncar_data['e'][random_start_point:cube_root_size[i] + random_start_point,random_start_point:cube_root_size[i] + random_start_point,random_start_point:cube_root_size[i] + random_start_point]"
   ]
  },
  {
   "cell_type": "markdown",
   "metadata": {},
   "source": [
    "Spikes up/down in time are when access happens between chunks. Cross-chunk access needs decompressing of both chunks"
   ]
  },
  {
   "cell_type": "code",
   "execution_count": 51,
   "metadata": {
    "scrolled": false
   },
   "outputs": [],
   "source": [
    "e_times = [24900, 13200, 3080, 4080, 1280, 728, 1150, 982, 131, 175, 848, 97.6, 92, 118, 148, 115, 117, 123, 20.8, 110, 94.8, 103, 122, 190]\n",
    "e_times.reverse()"
   ]
  },
  {
   "cell_type": "code",
   "execution_count": 56,
   "metadata": {},
   "outputs": [
    {
     "data": {
      "text/html": [
       "<table class=\"zarr-info\"><tbody><tr><th style=\"text-align: left\">Name</th><td style=\"text-align: left\">/w</td></tr><tr><th style=\"text-align: left\">Type</th><td style=\"text-align: left\">zarr.core.Array</td></tr><tr><th style=\"text-align: left\">Data type</th><td style=\"text-align: left\">float32</td></tr><tr><th style=\"text-align: left\">Shape</th><td style=\"text-align: left\">(2048, 2048, 2048)</td></tr><tr><th style=\"text-align: left\">Chunk shape</th><td style=\"text-align: left\">(256, 256, 256)</td></tr><tr><th style=\"text-align: left\">Order</th><td style=\"text-align: left\">C</td></tr><tr><th style=\"text-align: left\">Read-only</th><td style=\"text-align: left\">False</td></tr><tr><th style=\"text-align: left\">Compressor</th><td style=\"text-align: left\">Blosc(cname='lz4', clevel=5, shuffle=SHUFFLE, blocksize=0)</td></tr><tr><th style=\"text-align: left\">Store type</th><td style=\"text-align: left\">zarr.storage.DirectoryStore</td></tr><tr><th style=\"text-align: left\">No. bytes</th><td style=\"text-align: left\">34359738368 (32.0G)</td></tr><tr><th style=\"text-align: left\">No. bytes stored</th><td style=\"text-align: left\">27329309819 (25.5G)</td></tr><tr><th style=\"text-align: left\">Storage ratio</th><td style=\"text-align: left\">1.3</td></tr><tr><th style=\"text-align: left\">Chunks initialized</th><td style=\"text-align: left\">512/512</td></tr></tbody></table>"
      ],
      "text/plain": [
       "Name               : /w\n",
       "Type               : zarr.core.Array\n",
       "Data type          : float32\n",
       "Shape              : (2048, 2048, 2048)\n",
       "Chunk shape        : (256, 256, 256)\n",
       "Order              : C\n",
       "Read-only          : False\n",
       "Compressor         : Blosc(cname='lz4', clevel=5, shuffle=SHUFFLE, blocksize=0)\n",
       "Store type         : zarr.storage.DirectoryStore\n",
       "No. bytes          : 34359738368 (32.0G)\n",
       "No. bytes stored   : 27329309819 (25.5G)\n",
       "Storage ratio      : 1.3\n",
       "Chunks initialized : 512/512"
      ]
     },
     "execution_count": 56,
     "metadata": {},
     "output_type": "execute_result"
    }
   ],
   "source": [
    "ncar_data['w'].info"
   ]
  },
  {
   "cell_type": "code",
   "execution_count": 48,
   "metadata": {},
   "outputs": [
    {
     "name": "stdout",
     "output_type": "stream",
     "text": [
      "31.5 s ± 0 ns per loop (mean ± std. dev. of 1 run, 1 loop each)\n",
      "54.9 s ± 0 ns per loop (mean ± std. dev. of 1 run, 1 loop each)\n",
      "9.54 s ± 0 ns per loop (mean ± std. dev. of 1 run, 1 loop each)\n",
      "9.01 s ± 0 ns per loop (mean ± std. dev. of 1 run, 1 loop each)\n",
      "2.63 s ± 0 ns per loop (mean ± std. dev. of 1 run, 1 loop each)\n",
      "2.13 s ± 0 ns per loop (mean ± std. dev. of 1 run, 1 loop each)\n",
      "2.84 s ± 0 ns per loop (mean ± std. dev. of 1 run, 1 loop each)\n",
      "2.15 s ± 0 ns per loop (mean ± std. dev. of 1 run, 1 loop each)\n",
      "2.17 s ± 0 ns per loop (mean ± std. dev. of 1 run, 1 loop each)\n",
      "322 ms ± 0 ns per loop (mean ± std. dev. of 1 run, 1 loop each)\n",
      "577 ms ± 0 ns per loop (mean ± std. dev. of 1 run, 1 loop each)\n",
      "693 ms ± 0 ns per loop (mean ± std. dev. of 1 run, 1 loop each)\n",
      "418 ms ± 0 ns per loop (mean ± std. dev. of 1 run, 1 loop each)\n",
      "341 ms ± 0 ns per loop (mean ± std. dev. of 1 run, 1 loop each)\n",
      "690 ms ± 0 ns per loop (mean ± std. dev. of 1 run, 1 loop each)\n",
      "276 ms ± 0 ns per loop (mean ± std. dev. of 1 run, 1 loop each)\n",
      "523 ms ± 0 ns per loop (mean ± std. dev. of 1 run, 1 loop each)\n",
      "401 ms ± 0 ns per loop (mean ± std. dev. of 1 run, 1 loop each)\n",
      "445 ms ± 0 ns per loop (mean ± std. dev. of 1 run, 1 loop each)\n",
      "338 ms ± 0 ns per loop (mean ± std. dev. of 1 run, 1 loop each)\n",
      "516 ms ± 0 ns per loop (mean ± std. dev. of 1 run, 1 loop each)\n",
      "385 ms ± 0 ns per loop (mean ± std. dev. of 1 run, 1 loop each)\n",
      "477 ms ± 0 ns per loop (mean ± std. dev. of 1 run, 1 loop each)\n",
      "483 ms ± 0 ns per loop (mean ± std. dev. of 1 run, 1 loop each)\n"
     ]
    }
   ],
   "source": [
    "# w velocity field\n",
    "# Cross-chunk\n",
    "for i in range(len(cube_root_size)-1,-1,-1): # From 31st to 0-th (inclusive)\n",
    "    _ = ncar_data['t'][0:1024,0:1024,0:1024]\n",
    "#     print(cube_root_size[i])\n",
    "    \n",
    "    random_start_point = 64 * randint(0, 16)\n",
    "    %timeit -o -n 1 -r 1 ncar_data['w'][random_start_point:cube_root_size[i] + random_start_point,random_start_point:cube_root_size[i] + random_start_point,random_start_point:cube_root_size[i] + random_start_point]"
   ]
  },
  {
   "cell_type": "code",
   "execution_count": 54,
   "metadata": {},
   "outputs": [],
   "source": [
    "cross_chunk_w_times = [31500, 54900, 9540, 9010, 2630, 2130, 2840, 2150, 2170, 322, 577, 693, 418, 341, 690, 276, 523, 401, 445, 338, 516, 385, 477, 483]\n",
    "cross_chunk_w_times.reverse()"
   ]
  },
  {
   "cell_type": "code",
   "execution_count": 57,
   "metadata": {},
   "outputs": [
    {
     "data": {
      "text/html": [
       "<table class=\"zarr-info\"><tbody><tr><th style=\"text-align: left\">Name</th><td style=\"text-align: left\">/t</td></tr><tr><th style=\"text-align: left\">Type</th><td style=\"text-align: left\">zarr.core.Array</td></tr><tr><th style=\"text-align: left\">Data type</th><td style=\"text-align: left\">float32</td></tr><tr><th style=\"text-align: left\">Shape</th><td style=\"text-align: left\">(2048, 2048, 2048)</td></tr><tr><th style=\"text-align: left\">Chunk shape</th><td style=\"text-align: left\">(256, 256, 256)</td></tr><tr><th style=\"text-align: left\">Order</th><td style=\"text-align: left\">C</td></tr><tr><th style=\"text-align: left\">Read-only</th><td style=\"text-align: left\">False</td></tr><tr><th style=\"text-align: left\">Compressor</th><td style=\"text-align: left\">Blosc(cname='lz4', clevel=5, shuffle=SHUFFLE, blocksize=0)</td></tr><tr><th style=\"text-align: left\">Store type</th><td style=\"text-align: left\">zarr.storage.DirectoryStore</td></tr><tr><th style=\"text-align: left\">No. bytes</th><td style=\"text-align: left\">34359738368 (32.0G)</td></tr><tr><th style=\"text-align: left\">No. bytes stored</th><td style=\"text-align: left\">19025554335 (17.7G)</td></tr><tr><th style=\"text-align: left\">Storage ratio</th><td style=\"text-align: left\">1.8</td></tr><tr><th style=\"text-align: left\">Chunks initialized</th><td style=\"text-align: left\">512/512</td></tr></tbody></table>"
      ],
      "text/plain": [
       "Name               : /t\n",
       "Type               : zarr.core.Array\n",
       "Data type          : float32\n",
       "Shape              : (2048, 2048, 2048)\n",
       "Chunk shape        : (256, 256, 256)\n",
       "Order              : C\n",
       "Read-only          : False\n",
       "Compressor         : Blosc(cname='lz4', clevel=5, shuffle=SHUFFLE, blocksize=0)\n",
       "Store type         : zarr.storage.DirectoryStore\n",
       "No. bytes          : 34359738368 (32.0G)\n",
       "No. bytes stored   : 19025554335 (17.7G)\n",
       "Storage ratio      : 1.8\n",
       "Chunks initialized : 512/512"
      ]
     },
     "execution_count": 57,
     "metadata": {},
     "output_type": "execute_result"
    }
   ],
   "source": [
    "ncar_data['t'].info"
   ]
  },
  {
   "cell_type": "code",
   "execution_count": 55,
   "metadata": {
    "scrolled": true
   },
   "outputs": [
    {
     "name": "stdout",
     "output_type": "stream",
     "text": [
      "812\n",
      "48.3 s ± 0 ns per loop (mean ± std. dev. of 1 run, 1 loop each)\n",
      "645\n",
      "18.6 s ± 0 ns per loop (mean ± std. dev. of 1 run, 1 loop each)\n",
      "511\n",
      "3.84 s ± 0 ns per loop (mean ± std. dev. of 1 run, 1 loop each)\n",
      "406\n",
      "3.52 s ± 0 ns per loop (mean ± std. dev. of 1 run, 1 loop each)\n",
      "322\n",
      "2.12 s ± 0 ns per loop (mean ± std. dev. of 1 run, 1 loop each)\n",
      "255\n",
      "1.51 s ± 0 ns per loop (mean ± std. dev. of 1 run, 1 loop each)\n",
      "203\n",
      "2.07 s ± 0 ns per loop (mean ± std. dev. of 1 run, 1 loop each)\n",
      "161\n",
      "414 ms ± 0 ns per loop (mean ± std. dev. of 1 run, 1 loop each)\n",
      "127\n",
      "242 ms ± 0 ns per loop (mean ± std. dev. of 1 run, 1 loop each)\n",
      "101\n",
      "184 ms ± 0 ns per loop (mean ± std. dev. of 1 run, 1 loop each)\n",
      "80\n",
      "302 ms ± 0 ns per loop (mean ± std. dev. of 1 run, 1 loop each)\n",
      "63\n",
      "230 ms ± 0 ns per loop (mean ± std. dev. of 1 run, 1 loop each)\n",
      "50\n",
      "290 ms ± 0 ns per loop (mean ± std. dev. of 1 run, 1 loop each)\n",
      "40\n",
      "301 ms ± 0 ns per loop (mean ± std. dev. of 1 run, 1 loop each)\n",
      "31\n",
      "425 ms ± 0 ns per loop (mean ± std. dev. of 1 run, 1 loop each)\n",
      "25\n",
      "294 ms ± 0 ns per loop (mean ± std. dev. of 1 run, 1 loop each)\n",
      "20\n",
      "273 ms ± 0 ns per loop (mean ± std. dev. of 1 run, 1 loop each)\n",
      "15\n",
      "248 ms ± 0 ns per loop (mean ± std. dev. of 1 run, 1 loop each)\n",
      "12\n",
      "227 ms ± 0 ns per loop (mean ± std. dev. of 1 run, 1 loop each)\n",
      "10\n",
      "286 ms ± 0 ns per loop (mean ± std. dev. of 1 run, 1 loop each)\n",
      "7\n",
      "170 ms ± 0 ns per loop (mean ± std. dev. of 1 run, 1 loop each)\n",
      "6\n",
      "234 ms ± 0 ns per loop (mean ± std. dev. of 1 run, 1 loop each)\n",
      "5\n",
      "257 ms ± 0 ns per loop (mean ± std. dev. of 1 run, 1 loop each)\n",
      "3\n",
      "266 ms ± 0 ns per loop (mean ± std. dev. of 1 run, 1 loop each)\n"
     ]
    }
   ],
   "source": [
    "# Temperature\n",
    "for i in range(len(cube_root_size)-1,-1,-1): # From 31st to 0-th (inclusive)\n",
    "    _ = ncar_data['w'][0:1024,0:1024,0:1024]\n",
    "#     print(cube_root_size[i])\n",
    "    \n",
    "    random_start_point = 64 * randint(0, 16)\n",
    "    %timeit -o -n 1 -r 1 ncar_data['t'][random_start_point:cube_root_size[i] + random_start_point,random_start_point:cube_root_size[i] + random_start_point,random_start_point:cube_root_size[i] + random_start_point]"
   ]
  },
  {
   "cell_type": "code",
   "execution_count": null,
   "metadata": {},
   "outputs": [],
   "source": [
    "t_times = [48300, 18600, 3840, 3520, 2120, 1510, 2070, 414, 242, 184, 302, 230, 290, 301, 425, 294, 273, 248, 227, 286, 170, 234, 257, 266]\n",
    "t_times.reverse()"
   ]
  },
  {
   "cell_type": "markdown",
   "metadata": {},
   "source": [
    "# Uncompressed\n",
    "## Cold-cache access all chunk sizes 2^6 - 2^30"
   ]
  },
  {
   "cell_type": "code",
   "execution_count": 58,
   "metadata": {},
   "outputs": [
    {
     "data": {
      "text/html": [
       "<table class=\"zarr-info\"><tbody><tr><th style=\"text-align: left\">Name</th><td style=\"text-align: left\">/</td></tr><tr><th style=\"text-align: left\">Type</th><td style=\"text-align: left\">zarr.hierarchy.Group</td></tr><tr><th style=\"text-align: left\">Read-only</th><td style=\"text-align: left\">False</td></tr><tr><th style=\"text-align: left\">Store type</th><td style=\"text-align: left\">zarr.storage.DirectoryStore</td></tr><tr><th style=\"text-align: left\">No. members</th><td style=\"text-align: left\">3</td></tr><tr><th style=\"text-align: left\">No. arrays</th><td style=\"text-align: left\">3</td></tr><tr><th style=\"text-align: left\">No. groups</th><td style=\"text-align: left\">0</td></tr><tr><th style=\"text-align: left\">Arrays</th><td style=\"text-align: left\">e, t, w</td></tr></tbody></table>"
      ],
      "text/plain": [
       "Name        : /\n",
       "Type        : zarr.hierarchy.Group\n",
       "Read-only   : False\n",
       "Store type  : zarr.storage.DirectoryStore\n",
       "No. members : 3\n",
       "No. arrays  : 3\n",
       "No. groups  : 0\n",
       "Arrays      : e, t, w"
      ]
     },
     "execution_count": 58,
     "metadata": {},
     "output_type": "execute_result"
    }
   ],
   "source": [
    "ncar_uncompressed = zarr.open(\"ncar_zarr_uncompressed\")\n",
    "ncar_uncompressed.info"
   ]
  },
  {
   "cell_type": "code",
   "execution_count": null,
   "metadata": {},
   "outputs": [],
   "source": [
    "ncar_uncompressed['e'].info"
   ]
  },
  {
   "cell_type": "code",
   "execution_count": null,
   "metadata": {},
   "outputs": [
    {
     "name": "stdout",
     "output_type": "stream",
     "text": [
      "812\n",
      "1min 4s ± 0 ns per loop (mean ± std. dev. of 1 run, 1 loop each)\n",
      "645\n",
      "23.6 s ± 0 ns per loop (mean ± std. dev. of 1 run, 1 loop each)\n",
      "511\n",
      "15.5 s ± 0 ns per loop (mean ± std. dev. of 1 run, 1 loop each)\n",
      "406\n",
      "44.8 s ± 0 ns per loop (mean ± std. dev. of 1 run, 1 loop each)\n",
      "322\n",
      "3.96 s ± 0 ns per loop (mean ± std. dev. of 1 run, 1 loop each)\n"
     ]
    }
   ],
   "source": [
    "# Energy field\n",
    "for i in range(len(cube_root_size)-1,-1,-1): # From 31st to 0-th (inclusive)\n",
    "    _ = ncar_uncompressed['t'][0:1024,0:1024,0:1024]\n",
    "    print(cube_root_size[i])\n",
    "    \n",
    "    random_start_point = 64 * randint(0, 16)\n",
    "    %timeit -o -n 1 -r 1 ncar_uncompressed['e'][random_start_point:cube_root_size[i] + random_start_point,random_start_point:cube_root_size[i] + random_start_point,random_start_point:cube_root_size[i] + random_start_point]"
   ]
  },
  {
   "cell_type": "code",
   "execution_count": null,
   "metadata": {},
   "outputs": [],
   "source": [
    "e_uncomp_times = [64000, 23600, 15500, 44800,3960,]"
   ]
  },
  {
   "cell_type": "code",
   "execution_count": null,
   "metadata": {},
   "outputs": [],
   "source": [
    "ncar_uncompressed['w'].info"
   ]
  },
  {
   "cell_type": "code",
   "execution_count": null,
   "metadata": {},
   "outputs": [],
   "source": [
    "# w velocity field\n",
    "for i in range(len(cube_root_size)-1,-1,-1): # From 31st to 0-th (inclusive)\n",
    "    _ = ncar_uncompressed['t'][0:1024,0:1024,0:1024]\n",
    "    print(cube_root_size[i])\n",
    "    \n",
    "    random_start_point = 64 * randint(0, 16)\n",
    "    %timeit -o -n 1 -r 1 ncar_uncompressed['w'][random_start_point:cube_root_size[i] + random_start_point,random_start_point:cube_root_size[i] + random_start_point,random_start_point:cube_root_size[i] + random_start_point]"
   ]
  },
  {
   "cell_type": "code",
   "execution_count": null,
   "metadata": {},
   "outputs": [],
   "source": [
    "w_uncomp_times = []"
   ]
  },
  {
   "cell_type": "code",
   "execution_count": null,
   "metadata": {},
   "outputs": [],
   "source": [
    "ncar_uncompressed['t'].info"
   ]
  },
  {
   "cell_type": "code",
   "execution_count": null,
   "metadata": {},
   "outputs": [],
   "source": [
    "# temperature field\n",
    "for i in range(len(cube_root_size)-1,-1,-1): # From 31st to 0-th (inclusive)\n",
    "    _ = ncar_uncompressed['w'][0:1024,0:1024,0:1024]\n",
    "    print(cube_root_size[i])\n",
    "    \n",
    "    random_start_point = 64 * randint(0, 16)\n",
    "    %timeit -o -n 1 -r 1 ncar_uncompressed['t'][random_start_point:cube_root_size[i] + random_start_point,random_start_point:cube_root_size[i] + random_start_point,random_start_point:cube_root_size[i] + random_start_point]"
   ]
  },
  {
   "cell_type": "code",
   "execution_count": null,
   "metadata": {},
   "outputs": [],
   "source": [
    "t_uncomp_times = []"
   ]
  },
  {
   "cell_type": "code",
   "execution_count": 46,
   "metadata": {},
   "outputs": [
    {
     "data": {
      "image/png": "[encoded data removed]",
      "text/plain": [
       "<Figure size 1008x720 with 1 Axes>"
      ]
     },
     "metadata": {},
     "output_type": "display_data"
    }
   ],
   "source": [
    "import seaborn as sns\n",
    "\n",
    "sns.set(rc={'figure.figsize':(14,10)})\n",
    "ax = sns.scatterplot(x=cube_root_size, y=e_times)\n",
    "\n",
    "ax.set(xlabel='Cube Root Length', ylabel='Access time (ms)')\n",
    "\n",
    "# https://stackoverflow.com/questions/31632637/label-axes-on-seaborn-barplot\n",
    "mymodel = np.poly1d(np.polyfit(cube_root_size, e_times, 3))\n",
    "\n",
    "myline = np.linspace(1, cube_root_size[len(cube_root_size)-1], 1000)\n",
    "plt.plot(myline, mymodel(myline), color=\"orange\")\n",
    "\n",
    "plt.title(\"Cold Sequential Access Times\")\n",
    "\n",
    "plt.show()"
   ]
  },
  {
   "cell_type": "markdown",
   "metadata": {},
   "source": [
    "## Warm-cache access all chunk sizes 2^6 - 2^30"
   ]
  },
  {
   "cell_type": "code",
   "execution_count": null,
   "metadata": {},
   "outputs": [],
   "source": [
    "for i in range(len(cube_root_size)):\n",
    "#     _ = ncar_data['t'][0:2048,0:2048,0:2048]\n",
    "    print(cube_root_size[i])\n",
    "    %timeit -o ncar_data['e'][0:cube_root_size[i],0:cube_root_size[i],0:cube_root_size[i]]"
   ]
  },
  {
   "cell_type": "code",
   "execution_count": null,
   "metadata": {},
   "outputs": [],
   "source": [
    "for i in range(len(cube_root_size)):\n",
    "#     _ = ncar_data['t'][0:2048,0:2048,0:2048]\n",
    "    print(cube_root_size[i])\n",
    "    %timeit -o ncar_data['w'][0:cube_root_size[i],0:cube_root_size[i],0:cube_root_size[i]]"
   ]
  },
  {
   "cell_type": "code",
   "execution_count": null,
   "metadata": {},
   "outputs": [],
   "source": [
    "for i in range(len(cube_root_size)):\n",
    "#     _ = ncar_data['t'][0:2048,0:2048,0:2048]\n",
    "    print(cube_root_size[i])\n",
    "    %timeit -o ncar_data['t'][0:cube_root_size[i],0:cube_root_size[i],0:cube_root_size[i]]"
   ]
  },
  {
   "cell_type": "markdown",
   "metadata": {},
   "source": [
    "# <font color=\"red\">Uncompressed</font>"
   ]
  },
  {
   "cell_type": "code",
   "execution_count": null,
   "metadata": {},
   "outputs": [],
   "source": [
    "ncar_e_uncompressed = zarr.open(\"ncar_zarr_uncompressed/e\")\n",
    "ncar_e_uncompressed.info"
   ]
  },
  {
   "cell_type": "markdown",
   "metadata": {},
   "source": [
    "## Cold-cache access all chunk sizes 2^6 - 2^30"
   ]
  }
 ],
 "metadata": {
  "kernelspec": {
   "display_name": "Python 3.8 (py38)",
   "language": "python",
   "name": "py38"
  },
  "language_info": {
   "codemirror_mode": {
    "name": "ipython",
    "version": 3
   },
   "file_extension": ".py",
   "mimetype": "text/x-python",
   "name": "python",
   "nbconvert_exporter": "python",
   "pygments_lexer": "ipython3",
   "version": "3.8.5"
  }
 },
 "nbformat": 4,
 "nbformat_minor": 4
}
