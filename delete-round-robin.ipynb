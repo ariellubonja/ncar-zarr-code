{
 "cells": [
  {
   "cell_type": "markdown",
   "metadata": {},
   "source": [
    "## Script to delete round-robined data across FileDB"
   ]
  },
  {
   "cell_type": "code",
   "execution_count": 9,
   "metadata": {},
   "outputs": [
    {
     "name": "stdout",
     "output_type": "stream",
     "text": [
      "/home/idies/workspace/turb\n"
     ]
    }
   ],
   "source": [
    "%cd /home/idies/workspace/turb/"
   ]
  },
  {
   "cell_type": "code",
   "execution_count": 6,
   "metadata": {},
   "outputs": [
    {
     "data": {
      "text/plain": [
       "['/home/idies/workspace/turb/data01_01/zarr/ncar-zarr/',\n",
       " '/home/idies/workspace/turb/data01_02/zarr/ncar-zarr/',\n",
       " '/home/idies/workspace/turb/data01_03/zarr/ncar-zarr/',\n",
       " '/home/idies/workspace/turb/data02_01/zarr/ncar-zarr/',\n",
       " '/home/idies/workspace/turb/data02_02/zarr/ncar-zarr/']"
      ]
     },
     "execution_count": 6,
     "metadata": {},
     "output_type": "execute_result"
    }
   ],
   "source": [
    "# creatuple list of folder on filedb to which data should be copied\n",
    "# you may want to change this to avoid certain volumes\n",
    "folders_to_delete=[f'/home/idies/workspace/turb/data{str(f).zfill(2)}_{str(d).zfill(2)}/zarr/ncar-zarr/'  for f in range(1,13) for d in range(1,4)]\n",
    "folders_to_delete[:5]"
   ]
  },
  {
   "cell_type": "code",
   "execution_count": 7,
   "metadata": {},
   "outputs": [],
   "source": [
    "# Avoiding 7-2 and 9-2 - they're too full as of May 2023\n",
    "# folders.remove(\"/home/idies/workspace/turb/data02_02/zarr/ncar-zarr/\")\n",
    "folders_to_delete.remove(\"/home/idies/workspace/turb/data09_02/zarr/ncar-zarr/\")\n",
    "folders_to_delete.remove(\"/home/idies/workspace/turb/data07_02/zarr/ncar-zarr/\") # This is already created"
   ]
  },
  {
   "cell_type": "code",
   "execution_count": 5,
   "metadata": {},
   "outputs": [],
   "source": [
    "import os\n",
    "import concurrent.futures"
   ]
  },
  {
   "cell_type": "code",
   "execution_count": 4,
   "metadata": {},
   "outputs": [],
   "source": [
    "# ChatGPT\n",
    "def delete_folder(folder):\n",
    "    try:\n",
    "        os.system(f'rm -rf {folder}')\n",
    "#         print(f\"Deleted folder: {folder}\")\n",
    "    except Exception as e:\n",
    "        print(f\"Error deleting folder: {folder}\")\n",
    "        print(e)"
   ]
  },
  {
   "cell_type": "code",
   "execution_count": 8,
   "metadata": {},
   "outputs": [],
   "source": [
    "# Create a ThreadPoolExecutor with the desired number of worker threads\n",
    "with concurrent.futures.ThreadPoolExecutor() as executor:\n",
    "    # Submit the delete_folder function for each folder to the executor\n",
    "    future_to_folder = {executor.submit(delete_folder, folder): folder for folder in folders_to_delete}\n",
    "\n",
    "    # Wait for the deletion tasks to complete\n",
    "    for future in concurrent.futures.as_completed(future_to_folder):\n",
    "        folder = future_to_folder[future]\n",
    "        try:\n",
    "            future.result()\n",
    "        except Exception as e:\n",
    "            print(f\"Error deleting folder: {folder}\")\n",
    "            print(e)"
   ]
  },
  {
   "cell_type": "code",
   "execution_count": null,
   "metadata": {},
   "outputs": [],
   "source": []
  }
 ],
 "metadata": {
  "kernelspec": {
   "display_name": "Python 3.8 (py38)",
   "language": "python",
   "name": "py38"
  },
  "language_info": {
   "codemirror_mode": {
    "name": "ipython",
    "version": 3
   },
   "file_extension": ".py",
   "mimetype": "text/x-python",
   "name": "python",
   "nbconvert_exporter": "python",
   "pygments_lexer": "ipython3",
   "version": "3.8.5"
  }
 },
 "nbformat": 4,
 "nbformat_minor": 4
}
