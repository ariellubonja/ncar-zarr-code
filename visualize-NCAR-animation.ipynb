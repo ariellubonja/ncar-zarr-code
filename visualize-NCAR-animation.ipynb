{
 "cells": [
  {
   "cell_type": "code",
   "execution_count": null,
   "metadata": {},
   "outputs": [],
   "source": [
    "import xarray as xr\n",
    "import numpy as np\n",
    "import zarr"
   ]
  },
  {
   "cell_type": "code",
   "execution_count": null,
   "metadata": {},
   "outputs": [],
   "source": [
    "ncar_data = xr.open_dataset(\"/Volumes/backup-hdd/jhd.100.nc\")\n",
    "ncar_data.info"
   ]
  },
  {
   "cell_type": "code",
   "execution_count": null,
   "metadata": {},
   "outputs": [],
   "source": [
    "# %matplotlib notebook\n",
    "from matplotlib import pyplot as plt\n",
    "\n",
    "# Turn interactive plotting off\n",
    "plt.ioff() # Don't display plots until calling plt.show() - Faster\n",
    "\n",
    "# plt.gray()"
   ]
  },
  {
   "cell_type": "code",
   "execution_count": null,
   "metadata": {},
   "outputs": [],
   "source": [
    "!pwd"
   ]
  },
  {
   "cell_type": "code",
   "execution_count": null,
   "metadata": {},
   "outputs": [],
   "source": [
    "!ls"
   ]
  },
  {
   "cell_type": "code",
   "execution_count": null,
   "metadata": {},
   "outputs": [],
   "source": [
    "p = np.array(ncar_data['p'][:200])"
   ]
  },
  {
   "cell_type": "code",
   "execution_count": null,
   "metadata": {},
   "outputs": [],
   "source": [
    "v = np.array(ncar_data['v'][:200])"
   ]
  },
  {
   "cell_type": "code",
   "execution_count": null,
   "metadata": {},
   "outputs": [],
   "source": [
    "p.shape"
   ]
  },
  {
   "cell_type": "code",
   "execution_count": null,
   "metadata": {},
   "outputs": [],
   "source": [
    "vmax = v.max() # This takes several seconds - preload\n",
    "vmax"
   ]
  },
  {
   "cell_type": "code",
   "execution_count": null,
   "metadata": {},
   "outputs": [],
   "source": [
    "vmin = v.min()\n",
    "vmin"
   ]
  },
  {
   "cell_type": "code",
   "execution_count": null,
   "metadata": {},
   "outputs": [],
   "source": [
    "plt.imshow(v[0], cmap='hot')"
   ]
  },
  {
   "cell_type": "code",
   "execution_count": null,
   "metadata": {},
   "outputs": [],
   "source": [
    "emax = e.max() # This takes several seconds - preload\n",
    "emin = e.min()"
   ]
  },
  {
   "cell_type": "code",
   "execution_count": null,
   "metadata": {},
   "outputs": [],
   "source": [
    "def save_plots_sequential(array_name, val_min, val_max, nr_images):\n",
    "\n",
    "\n",
    "    for i in range(200):\n",
    "        plt.figure(figsize=(18,18))\n",
    "        # vmin, vmax necessary for image brightness to stay consistent across frames\n",
    "        plt.imshow(array_name[i], cmap='gray', vmin=val_min, vmax=val_max)\n",
    "\n",
    "        plt.savefig(\"visualizations/\" + str(i) + \".jpg\")\n",
    "        #, *, dpi='figure', format=None, metadata=None,\n",
    "    #         bbox_inches=None, pad_inches=0.1,\n",
    "    #         facecolor='auto', edgecolor='auto',\n",
    "    #         backend=None, **kwargs\n",
    "    #        )"
   ]
  },
  {
   "cell_type": "code",
   "execution_count": null,
   "metadata": {
    "scrolled": true,
    "tags": []
   },
   "outputs": [],
   "source": [
    "save_plots_sequential(v, vmin, vmax, 200)"
   ]
  },
  {
   "cell_type": "code",
   "execution_count": null,
   "metadata": {},
   "outputs": [],
   "source": [
    "from joblib import Parallel, delayed"
   ]
  },
  {
   "cell_type": "markdown",
   "metadata": {},
   "source": [
    "### <font color=\"orange\">This says \"Disk Quota exceeded\" even though its not</font>"
   ]
  },
  {
   "cell_type": "code",
   "execution_count": null,
   "metadata": {},
   "outputs": [],
   "source": [
    "def save_plots_parallel(array_name, val_min, val_max, i):\n",
    "    # Turn interactive plotting off\n",
    "    plt.ioff() # Don't display plots until calling plt.show() - Faster\n",
    "\n",
    "    plt.figure(figsize=(18,18))\n",
    "    # vmin, vmax necessary for image brightness to stay consistent across frames\n",
    "    plt.imshow(a[i], cmap='gray', vmin=val_min, vmax=val_max)\n",
    "\n",
    "    plt.savefig(\"visualizations/\" + str(i) + \".jpg\")\n",
    "    #, *, dpi='figure', format=None, metadata=None,\n",
    "#         bbox_inches=None, pad_inches=0.1,\n",
    "#         facecolor='auto', edgecolor='auto',\n",
    "#         backend=None, **kwargs\n",
    "#        )"
   ]
  },
  {
   "cell_type": "code",
   "execution_count": null,
   "metadata": {
    "scrolled": true
   },
   "outputs": [],
   "source": [
    "_ = Parallel(n_jobs=8, backend=\"multiprocessing\")(delayed(save_plots_parallel)(e, emin, emax, i) for i in range(200))"
   ]
  },
  {
   "cell_type": "markdown",
   "metadata": {},
   "source": [
    "### Try plotting with FuncAnimation - <font color=\"orange\">saving to MP4 runs forever when I last tried :(</font>"
   ]
  },
  {
   "cell_type": "code",
   "execution_count": null,
   "metadata": {},
   "outputs": [],
   "source": [
    "%matplotlib widget"
   ]
  },
  {
   "cell_type": "code",
   "execution_count": null,
   "metadata": {},
   "outputs": [],
   "source": [
    "from IPython.display import HTML\n",
    "import numpy as np\n",
    "import matplotlib.pyplot as plt\n",
    "import matplotlib.animation as animation\n",
    "\n",
    "# data = np.random.rand(100,50,50)\n",
    "\n",
    "fig, ax = plt.subplots()\n",
    "\n",
    "var = \"e\"\n",
    "\n",
    "# ax.set_xlim((0, 50))\n",
    "# ax.set_ylim((0, 50))\n",
    "\n",
    "im = ax.imshow(ds[var][:,:,0])\n",
    "\n",
    "def init():\n",
    "    im.set_data(ds[var][:,:,0])\n",
    "    return (im,)\n",
    "\n",
    "# animation function. This is called sequentially\n",
    "def animate(i):\n",
    "    data_slice = ds[var][:,:,i]\n",
    "    im.set_data(data_slice)\n",
    "    return (im,)\n",
    "\n",
    "# call the animator. blit=True means only re-draw the parts that have changed.\n",
    "anim = animation.FuncAnimation(fig, animate, init_func=init,\n",
    "                               frames=25, interval=50, blit=False)\n",
    "\n",
    "HTML(anim.to_html5_video())"
   ]
  },
  {
   "cell_type": "code",
   "execution_count": null,
   "metadata": {},
   "outputs": [],
   "source": [
    "# f = r\"animation.gif\"  # This runs forever\n",
    "# writergif = animation.PillowWriter(fps=30) \n",
    "# anim.save(f, writer=writergif)"
   ]
  },
  {
   "cell_type": "code",
   "execution_count": null,
   "metadata": {},
   "outputs": [],
   "source": [
    "from matplotlib.animation import FFMpegWriter\n",
    "\n",
    "class FasterFFMpegWriter(FFMpegWriter):\n",
    "    '''FFMpeg-pipe writer bypassing figure.savefig.'''\n",
    "    def __init__(self, **kwargs):\n",
    "        '''Initialize the Writer object and sets the default frame_format.'''\n",
    "        super().__init__(**kwargs)\n",
    "        self.frame_format = 'argb'\n",
    "\n",
    "    def grab_frame(self, **savefig_kwargs):\n",
    "        '''Grab the image information from the figure and save as a movie frame.\n",
    "\n",
    "        Doesn't use savefig to be faster: savefig_kwargs will be ignored.\n",
    "        '''\n",
    "        try:\n",
    "            # re-adjust the figure size and dpi in case it has been changed by the\n",
    "            # user.  We must ensure that every frame is the same size or\n",
    "            # the movie will not save correctly.\n",
    "            self.fig.set_size_inches(self._w, self._h)\n",
    "            self.fig.set_dpi(self.dpi)\n",
    "            # Draw and save the frame as an argb string to the pipe sink\n",
    "            self.fig.canvas.draw()\n",
    "            self._proc.stdin.write(self.fig.canvas.tostring_argb())\n",
    "        except (RuntimeError, IOError) as e:\n",
    "            out, err = self._proc.communicate()\n",
    "            raise IOError('Error saving animation to file (cause: {0}) '\n",
    "                      'Stdout: {1} StdError: {2}. It may help to re-run '\n",
    "                      'with --verbose-debug.'.format(e, out, err)) "
   ]
  },
  {
   "cell_type": "code",
   "execution_count": null,
   "metadata": {},
   "outputs": [],
   "source": [
    "writer = FasterFFMpegWriter()"
   ]
  },
  {
   "cell_type": "code",
   "execution_count": null,
   "metadata": {},
   "outputs": [],
   "source": [
    "anim.save('im.mp4', writer=writer)"
   ]
  },
  {
   "cell_type": "code",
   "execution_count": null,
   "metadata": {
    "scrolled": true,
    "tags": []
   },
   "outputs": [],
   "source": [
    "# HTML(anim.to_html5_video())"
   ]
  },
  {
   "cell_type": "code",
   "execution_count": null,
   "metadata": {},
   "outputs": [],
   "source": []
  }
 ],
 "metadata": {
  "kernelspec": {
   "display_name": "Python 3.8 (py38)",
   "language": "python",
   "name": "py38"
  },
  "language_info": {
   "codemirror_mode": {
    "name": "ipython",
    "version": 3
   },
   "file_extension": ".py",
   "mimetype": "text/x-python",
   "name": "python",
   "nbconvert_exporter": "python",
   "pygments_lexer": "ipython3",
   "version": "3.8.5"
  }
 },
 "nbformat": 4,
 "nbformat_minor": 5
}
