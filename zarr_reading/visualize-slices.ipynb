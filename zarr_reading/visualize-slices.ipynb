{
 "cells": [
  {
   "cell_type": "code",
   "execution_count": 1,
   "metadata": {},
   "outputs": [],
   "source": [
    "raw_ncar_folder_path = '/home/idies/workspace/turb/data02_02/ncar-high-rate-fixed-dt/'\n",
    "save_folder_path = '/home/idies/workspace/Storage/ariel4/persistent/ncar-zarr-code/zarr_reading/visualizations/'\n",
    "\n",
    "var = 'p'\n",
    "\n",
    "# timestep_range = range(5) # This will definitely crash the Kernel\n",
    "timestep_nr = 2"
   ]
  },
  {
   "cell_type": "code",
   "execution_count": 2,
   "metadata": {},
   "outputs": [],
   "source": [
    "# !pip install \"xarray[complete]\""
   ]
  },
  {
   "cell_type": "code",
   "execution_count": 3,
   "metadata": {},
   "outputs": [
    {
     "name": "stdout",
     "output_type": "stream",
     "text": [
      "/home/idies/workspace/Storage/ariel4/persistent/ncar-zarr-code/zarr_reading\n"
     ]
    }
   ],
   "source": [
    "# needed for sciserver jobs\n",
    "%cd /home/idies/workspace/Storage/ariel4/persistent/ncar-zarr-code/zarr_reading"
   ]
  },
  {
   "cell_type": "code",
   "execution_count": 4,
   "metadata": {},
   "outputs": [],
   "source": [
    "import numpy as np\n",
    "import matplotlib.pyplot as plt\n",
    "import xarray as xr"
   ]
  },
  {
   "cell_type": "code",
   "execution_count": 5,
   "metadata": {},
   "outputs": [],
   "source": [
    "# for timestep_nr in timestep_range:\n",
    "#     data = xr.open_dataset(raw_ncar_folder_path + \"/jhd.00\" + str(timestep_nr) + \".nc\")\n",
    "\n",
    "\n",
    "data_xr = xr.open_dataset(raw_ncar_folder_path + \"/jhd.00\" + str(timestep_nr) + \".nc\")\n",
    "# data = data['e']"
   ]
  },
  {
   "cell_type": "code",
   "execution_count": 6,
   "metadata": {},
   "outputs": [],
   "source": [
    "steps = range(0, data_xr['e'].shape[2], 10)\n",
    "\n",
    "# for i, z in enumerate(z_steps):\n",
    "#     print(i,z)"
   ]
  },
  {
   "cell_type": "code",
   "execution_count": null,
   "metadata": {},
   "outputs": [],
   "source": [
    "data = np.array(data_xr[var])"
   ]
  },
  {
   "cell_type": "markdown",
   "metadata": {},
   "source": [
    "### Runtimes\n",
    "\n",
    "3min 45s +- 4min(!) to load Array `np.array(data[var])`\n",
    "\n",
    "33.3s to plot using in-memory numpy array (from above)\n",
    "\n",
    "14min 17s +- 6min for loading data using `data_xr[var][slice]` every time\n",
    "\n",
    "Skipping the np.array loading takes wayyy too long (>1h for 7 runs atm)"
   ]
  },
  {
   "cell_type": "code",
   "execution_count": null,
   "metadata": {},
   "outputs": [],
   "source": [
    "for y in steps:#[0]:\n",
    "    slice_data = data[:, y, :] # Change this to slice along a different axis\n",
    "    plt.figure(figsize=(20,20))\n",
    "    plt.imshow(slice_data, cmap='gist_gray')#, vmin=-.5, vmax=.6)\n",
    "\n",
    "#     name = \"[z,y,x=\" + str(x) + \"]\" # x\n",
    "    name = \"[z,y=\" +str(y) + \",x]\" # y\n",
    "    \n",
    "    plt.title(name, fontsize=20)\n",
    "\n",
    "    plt.savefig(f'visualizations/timestep_' + str(timestep_nr) + '/' + var + \"/\" + name + '.png')\n",
    "    plt.close()\n",
    "\n",
    "del(data)"
   ]
  },
  {
   "cell_type": "markdown",
   "metadata": {},
   "source": [
    "## Create movie"
   ]
  },
  {
   "cell_type": "code",
   "execution_count": 9,
   "metadata": {},
   "outputs": [
    {
     "name": "stdout",
     "output_type": "stream",
     "text": [
      "/home/idies/workspace/Storage/ariel4/persistent/ncar-zarr-code/zarr_reading/visualizations\n"
     ]
    }
   ],
   "source": [
    "%cd visualizations"
   ]
  },
  {
   "cell_type": "code",
   "execution_count": 11,
   "metadata": {},
   "outputs": [
    {
     "data": {
      "text/plain": [
       "['u', 'v', 'w', 't', 'p', 'e']"
      ]
     },
     "execution_count": 11,
     "metadata": {},
     "output_type": "execute_result"
    }
   ],
   "source": [
    "vars = list(data_xr.variables)\n",
    "vars"
   ]
  },
  {
   "cell_type": "code",
   "execution_count": 13,
   "metadata": {},
   "outputs": [],
   "source": [
    "# Create GIF from PNG files\n",
    "\n",
    "from PIL import Image\n",
    "import os\n",
    "\n",
    "for var in vars:\n",
    "    png_directory = 'timestep_1/' + var\n",
    "    png_files = [file for file in os.listdir(png_directory) if file.endswith('.png')]\n",
    "    png_files.sort()\n",
    "\n",
    "    frames = []\n",
    "\n",
    "    for png_file in png_files:\n",
    "        png_path = os.path.join(png_directory, png_file)\n",
    "        image = Image.open(png_path)\n",
    "        frames.append(image)\n",
    "\n",
    "    output_gif_path = png_directory + '/movie.gif'\n",
    "    frames[0].save(output_gif_path, save_all=True, append_images=frames[1:], duration=200, loop=0)"
   ]
  },
  {
   "cell_type": "code",
   "execution_count": null,
   "metadata": {},
   "outputs": [],
   "source": [
    "from PIL import Image\n",
    "import os\n",
    "\n",
    "# Get a list of folders named timestep_0 to timestep_4\n",
    "timestep_folders = [folder for folder in os.listdir('.') if folder.startswith('timestep_') and os.path.isdir(folder)]\n",
    "\n",
    "# Get a list of subfolders inside the first timestep folder (assuming all timestep folders have the same subfolders)\n",
    "first_timestep_folder = os.path.join(timestep_folders[0])\n",
    "subfolders = [subfolder for subfolder in os.listdir(first_timestep_folder) if os.path.isdir(os.path.join(first_timestep_folder, subfolder))]\n",
    "\n",
    "for timestep_folder in timestep_folders:\n",
    "    for subfolder in subfolders:\n",
    "        png_directory = os.path.join(timestep_folder, subfolder)\n",
    "\n",
    "        png_files = [file for file in os.listdir(png_directory) if file.endswith('.png')]\n",
    "        png_files.sort()\n",
    "\n",
    "        frames = []\n",
    "\n",
    "        for png_file in png_files:\n",
    "            png_path = os.path.join(png_directory, png_file)\n",
    "            image = Image.open(png_path)\n",
    "            frames.append(image)\n",
    "\n",
    "        output_gif_path = os.path.join(png_directory, 'movie.gif')\n",
    "        frames[0].save(output_gif_path, save_all=True, append_images=frames[1:], duration=200, loop=0)\n",
    "\n",
    "print(\"GIFs created successfully!\")\n"
   ]
  }
 ],
 "metadata": {
  "kernelspec": {
   "display_name": "Python 3.8 (py38)",
   "language": "python",
   "name": "py38"
  },
  "language_info": {
   "codemirror_mode": {
    "name": "ipython",
    "version": 3
   },
   "file_extension": ".py",
   "mimetype": "text/x-python",
   "name": "python",
   "nbconvert_exporter": "python",
   "pygments_lexer": "ipython3",
   "version": "3.8.5"
  }
 },
 "nbformat": 4,
 "nbformat_minor": 4
}
