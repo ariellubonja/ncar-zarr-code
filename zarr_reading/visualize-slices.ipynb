{
 "cells": [
  {
   "cell_type": "code",
   "execution_count": 1,
   "metadata": {},
   "outputs": [],
   "source": [
    "raw_ncar_folder_path = '/home/idies/workspace/turb/data02_02/ncar-high-rate-fixed-dt/'\n",
    "save_folder_path = '/home/idies/workspace/Storage/ariel4/persistent/ncar-zarr-code/zarr_reading/visualizations/'\n",
    "timestep_range = range(5)\n",
    "# timestep_nr = 0\n",
    "# dimension = 'z'"
   ]
  },
  {
   "cell_type": "code",
   "execution_count": 16,
   "metadata": {},
   "outputs": [],
   "source": [
    "!pip install \"xarray[complete]\""
   ]
  },
  {
   "cell_type": "code",
   "execution_count": 2,
   "metadata": {},
   "outputs": [
    {
     "name": "stdout",
     "output_type": "stream",
     "text": [
      "/home/idies/workspace/Storage/ariel4/persistent/ncar-zarr-code/zarr_reading\n"
     ]
    }
   ],
   "source": [
    "# needed for sciserver jobs\n",
    "%cd /home/idies/workspace/Storage/ariel4/persistent/ncar-zarr-code/zarr_reading"
   ]
  },
  {
   "cell_type": "code",
   "execution_count": 3,
   "metadata": {},
   "outputs": [],
   "source": [
    "import numpy as np\n",
    "import matplotlib.pyplot as plt\n",
    "import xarray as xr"
   ]
  },
  {
   "cell_type": "code",
   "execution_count": 4,
   "metadata": {},
   "outputs": [],
   "source": [
    "# for timestep_nr in timestep_range:\n",
    "#     data = xr.open_dataset(raw_ncar_folder_path + \"/jhd.00\" + str(timestep_nr) + \".nc\")\n",
    "\n",
    "\n",
    "data_xr = xr.open_dataset(raw_ncar_folder_path + \"/jhd.000.nc\")\n",
    "# data = data['e']"
   ]
  },
  {
   "cell_type": "code",
   "execution_count": 5,
   "metadata": {},
   "outputs": [],
   "source": [
    "x_steps = range(0, data_xr['e'].shape[2], 200)\n",
    "\n",
    "# for i, z in enumerate(z_steps):\n",
    "#     print(i,z)"
   ]
  },
  {
   "cell_type": "code",
   "execution_count": null,
   "metadata": {},
   "outputs": [],
   "source": [
    "var = 't'\n",
    "data = np.array(data_xr[var])"
   ]
  },
  {
   "cell_type": "code",
   "execution_count": null,
   "metadata": {},
   "outputs": [],
   "source": [
    "%%timeit\n",
    "\n",
    "for x in x_steps:#[0]:\n",
    "    slice_data = data[:, :, x] # Change this to slice along a different axis\n",
    "    plt.figure(figsize=(20,20))\n",
    "    plt.imshow(slice_data, cmap='gist_gray')#, vmin=-.5, vmax=.6)\n",
    "\n",
    "    name = \"[z,y,x=\" + str(x) + \"]\"\n",
    "    plt.title(name, fontsize=20)\n",
    "\n",
    "    plt.savefig(f'visualizations/timestep_0/' + var + \"/\" + name + '.png')\n",
    "    plt.close()"
   ]
  },
  {
   "cell_type": "code",
   "execution_count": null,
   "metadata": {},
   "outputs": [],
   "source": [
    "%%timeit\n",
    "\n",
    "var = 'p'\n",
    "\n",
    "for x in x_steps:#[0]:\n",
    "    slice_data = data_xr[var][:, :, x] # Change this to slice along a different axis\n",
    "    plt.figure(figsize=(20,20))\n",
    "    plt.imshow(slice_data, cmap='gist_gray')#, vmin=-.5, vmax=.6)\n",
    "\n",
    "    name = \"[z,y,x=\" + str(x) + \"]\"\n",
    "    plt.title(name, fontsize=20)\n",
    "\n",
    "    plt.savefig(f'visualizations/timestep_0/' + var + \"/\" + name + '.png')\n",
    "    plt.close()"
   ]
  },
  {
   "cell_type": "code",
   "execution_count": null,
   "metadata": {},
   "outputs": [],
   "source": [
    "var_list = list(data.variables)\n",
    "var_list.remove('e') # Already done\n",
    "\n",
    "for var in var_list:\n",
    "\n",
    "    # load data in memory\n",
    "    data = np.array(data_xr[var])\n",
    "    print(\"Data loaded successfully\")\n",
    "\n",
    "    for x in x_steps:#[0]:\n",
    "        slice_data = data[:, :, x] # Change this to slice along a different axis\n",
    "        plt.figure(figsize=(20,20))\n",
    "        plt.imshow(slice_data, cmap='gist_gray')#, vmin=-.5, vmax=.6)\n",
    "\n",
    "        name = \"[z,y,x=\" + str(x) + \"]\"\n",
    "        plt.title(name, fontsize=20)\n",
    "\n",
    "        plt.savefig(f'visualizations/timestep_0/' + var + \"/\" + name + '.png')\n",
    "        plt.close()"
   ]
  },
  {
   "cell_type": "code",
   "execution_count": null,
   "metadata": {},
   "outputs": [],
   "source": [
    "for t in timestep_range:\n",
    "    data = xr.open_dataset(raw_ncar_folder_path + \"/jhd.\" + str(0).zfill(3) + \".nc\")\n",
    "    \n",
    "    var_list = list(data.variables)\n",
    "    var_list.remove('e') # Already done\n",
    "\n",
    "    for var in var_list:\n",
    "\n",
    "        # load data in memory\n",
    "        data = np.array(data[var])\n",
    "        print(\"Data loaded successfully\")\n",
    "\n",
    "        for x in x_steps:#[0]:\n",
    "            slice_data = data[:, :, x] # Change this to slice along a different axis\n",
    "            plt.figure(figsize=(20,20))\n",
    "            plt.imshow(slice_data, cmap='gist_gray')#, vmin=-.5, vmax=.6)\n",
    "\n",
    "            name = \"[z,y,x=\" + str(x) + \"]\"\n",
    "            plt.title(name, fontsize=20)\n",
    "\n",
    "            plt.savefig(f'visualizations/timestep_0/' + var + \"/\" + name + '.png')\n",
    "            plt.close()"
   ]
  },
  {
   "cell_type": "code",
   "execution_count": null,
   "metadata": {},
   "outputs": [],
   "source": [
    "%cd visualizations"
   ]
  },
  {
   "cell_type": "code",
   "execution_count": null,
   "metadata": {},
   "outputs": [],
   "source": [
    "# Create GIF from PNG files\n",
    "\n",
    "from PIL import Image\n",
    "import os\n",
    "\n",
    "png_directory = 'timestep_0/e'\n",
    "png_files = [file for file in os.listdir(png_directory) if file.endswith('.png')]\n",
    "png_files.sort()\n",
    "\n",
    "frames = []\n",
    "\n",
    "for png_file in png_files:\n",
    "    png_path = os.path.join(png_directory, png_file)\n",
    "    image = Image.open(png_path)\n",
    "    frames.append(image)\n",
    "\n",
    "output_gif_path = png_directory + '/movie.gif'\n",
    "frames[0].save(output_gif_path, save_all=True, append_images=frames[1:], duration=200, loop=0)"
   ]
  },
  {
   "cell_type": "code",
   "execution_count": null,
   "metadata": {},
   "outputs": [],
   "source": [
    "from PIL import Image\n",
    "import os\n",
    "\n",
    "# Get a list of folders named timestep_0 to timestep_4\n",
    "timestep_folders = [folder for folder in os.listdir('.') if folder.startswith('timestep_') and os.path.isdir(folder)]\n",
    "\n",
    "# Get a list of subfolders inside the first timestep folder (assuming all timestep folders have the same subfolders)\n",
    "first_timestep_folder = os.path.join(timestep_folders[0])\n",
    "subfolders = [subfolder for subfolder in os.listdir(first_timestep_folder) if os.path.isdir(os.path.join(first_timestep_folder, subfolder))]\n",
    "\n",
    "for timestep_folder in timestep_folders:\n",
    "    for subfolder in subfolders:\n",
    "        png_directory = os.path.join(timestep_folder, subfolder)\n",
    "\n",
    "        png_files = [file for file in os.listdir(png_directory) if file.endswith('.png')]\n",
    "        png_files.sort()\n",
    "\n",
    "        frames = []\n",
    "\n",
    "        for png_file in png_files:\n",
    "            png_path = os.path.join(png_directory, png_file)\n",
    "            image = Image.open(png_path)\n",
    "            frames.append(image)\n",
    "\n",
    "        output_gif_path = os.path.join(png_directory, 'movie.gif')\n",
    "        frames[0].save(output_gif_path, save_all=True, append_images=frames[1:], duration=200, loop=0)\n",
    "\n",
    "print(\"GIFs created successfully!\")\n"
   ]
  }
 ],
 "metadata": {
  "kernelspec": {
   "display_name": "Python 3.8 (py38)",
   "language": "python",
   "name": "py38"
  },
  "language_info": {
   "codemirror_mode": {
    "name": "ipython",
    "version": 3
   },
   "file_extension": ".py",
   "mimetype": "text/x-python",
   "name": "python",
   "nbconvert_exporter": "python",
   "pygments_lexer": "ipython3",
   "version": "3.8.5"
  }
 },
 "nbformat": 4,
 "nbformat_minor": 4
}
