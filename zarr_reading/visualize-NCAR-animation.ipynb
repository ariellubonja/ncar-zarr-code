{
 "cells": [
  {
   "cell_type": "code",
   "execution_count": 5,
   "metadata": {},
   "outputs": [],
   "source": [
    "raw_ncar_folder_path = '/home/idies/workspace/turb/data02_02/ariel-6-timestep-ncar-netCDF/'\n",
    "save_folder_path = '/home/idies/workspace/Storage/ariel4/persistent/ncar-zarr-code/zarr-reading/visualizations/'\n",
    "timestep_range = range(6)\n",
    "dimension = 'z'"
   ]
  },
  {
   "cell_type": "code",
   "execution_count": null,
   "metadata": {},
   "outputs": [],
   "source": [
    "!pip install \"xarray[complete]\"\n",
    "!pip install \"dask[complete]\"\n",
    "!pip install Pillow"
   ]
  },
  {
   "cell_type": "code",
   "execution_count": null,
   "metadata": {},
   "outputs": [],
   "source": [
    "# needed for sciserver jobs\n",
    "%cd /home/idies/workspace/Storage/ariel4/persistent/ncar-zarr-code/zarr_reading"
   ]
  },
  {
   "cell_type": "code",
   "execution_count": 2,
   "metadata": {},
   "outputs": [],
   "source": [
    "import xarray as xr\n",
    "import numpy as np\n",
    "import matplotlib.pyplot as plt\n",
    "import matplotlib.animation as animation\n",
    "from utils import visualization_tools\n",
    "import dask"
   ]
  },
  {
   "cell_type": "code",
   "execution_count": null,
   "metadata": {},
   "outputs": [],
   "source": [
    "tasks = []\n",
    "\n",
    "for timestep_nr in timestep_range:\n",
    "    ncar_data = xr.open_dataset(raw_ncar_folder_path + \"/jhd.00\" + str(timestep_nr) + \".nc\")\n",
    "    for var in ncar_data.data_vars:\n",
    "        # Wrap the function call with dask.delayed\n",
    "        task = dask.delayed(visualization_tools.animate_cube)(ncar_data[var], dimension=dimension, save_filename=save_folder_path + \"timestep_\" + str(timestep_nr) + \"/\" + var)\n",
    "        tasks.append(task)\n",
    "\n",
    "# Use dask.compute to execute all tasks in parallel\n",
    "results = dask.compute(*tasks)"
   ]
  },
  {
   "cell_type": "code",
   "execution_count": null,
   "metadata": {},
   "outputs": [],
   "source": [
    "# def process_var(var):\n",
    "#     visualization_tools.animate_cube(ncar_data[var], dimension=dimension, save_filename=\"/home/idies/workspace/Storage/ariel4/persistent/ncar-zarr-code/zarr_reading/visualizations/timestep_\" + str(timestep_nr) + \"/\" + var)"
   ]
  },
  {
   "cell_type": "code",
   "execution_count": 3,
   "metadata": {},
   "outputs": [],
   "source": [
    "# for timestep_nr in timestep_range:\n",
    "#     ncar_data = xr.open_dataset(raw_ncar_folder_path + \"jhd.\" + str(timestep_nr).zfill(3) + \".nc\")\n",
    "#     with concurrent.futures.ProcessPoolExecutor(6) as executor:\n",
    "#         executor.map(process_var, ncar_data.data_vars)"
   ]
  },
  {
   "cell_type": "code",
   "execution_count": null,
   "metadata": {},
   "outputs": [],
   "source": [
    "# for var in ncar_data.data_vars:\n",
    "#     visualization_tools.animate_cube(ncar_data[var], dimension=dimension, save_filename=\"visualizations/timestep_0/\" + var)"
   ]
  }
 ],
 "metadata": {
  "kernelspec": {
   "display_name": "Python 3.8 (py38)",
   "language": "python",
   "name": "py38"
  },
  "language_info": {
   "codemirror_mode": {
    "name": "ipython",
    "version": 3
   },
   "file_extension": ".py",
   "mimetype": "text/x-python",
   "name": "python",
   "nbconvert_exporter": "python",
   "pygments_lexer": "ipython3",
   "version": "3.8.5"
  }
 },
 "nbformat": 4,
 "nbformat_minor": 5
}
