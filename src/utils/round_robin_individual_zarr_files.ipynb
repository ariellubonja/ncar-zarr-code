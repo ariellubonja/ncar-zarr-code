{
 "cells": [
  {
   "cell_type": "markdown",
   "metadata": {},
   "source": [
    "# Create folder directories - skip if done\n",
    "\n",
    "TODO turn this into a Python file or utils function\n",
    "\n",
    "This is useful if you are using [Ceph](https://ceph.com/en/)"
   ]
  },
  {
   "cell_type": "code",
   "execution_count": null,
   "metadata": {},
   "outputs": [],
   "source": [
    "!ls ~/workspace/turb"
   ]
  },
  {
   "cell_type": "code",
   "execution_count": null,
   "metadata": {},
   "outputs": [],
   "source": [
    "%cd ~/workspace/turb/data01_01"
   ]
  },
  {
   "cell_type": "code",
   "execution_count": null,
   "metadata": {},
   "outputs": [],
   "source": [
    "# creatuple list of folder on filedb to which data should be copied\n",
    "# you may want to change this to avoid certain volumes\n",
    "folders=[f'/home/idies/workspace/turb/data{str(f).zfill(2)}_{str(d).zfill(2)}/zarr/ncar-zarr/'  for f in range(1,13) for d in range(1,4)]\n",
    "folders[:5]"
   ]
  },
  {
   "cell_type": "code",
   "execution_count": null,
   "metadata": {},
   "outputs": [],
   "source": [
    "# Avoiding 7-2 and 9-2 - they're too full as of May 2023\n",
    "# folders.remove(\"/home/idies/workspace/turb/data02_02/zarr/ncar-zarr/\")\n",
    "folders.remove(\"/home/idies/workspace/turb/data09_02/zarr/ncar-zarr/\")\n",
    "folders.remove(\"/home/idies/workspace/turb/data07_02/zarr/ncar-zarr/\") # This is already created"
   ]
  },
  {
   "cell_type": "code",
   "execution_count": null,
   "metadata": {},
   "outputs": [],
   "source": [
    "# Chatgpt - create folders above - skip if already created\n",
    "\n",
    "import os\n",
    "\n",
    "def create_folders(paths):\n",
    "    for path in paths:\n",
    "        os.makedirs(path, exist_ok=True)\n",
    "        print(f\"Folder created at {path}\")\n",
    "\n",
    "# create_folders(folders)\n"
   ]
  },
  {
   "cell_type": "code",
   "execution_count": null,
   "metadata": {
    "scrolled": true,
    "tags": []
   },
   "outputs": [],
   "source": [
    "# create dataXX_XX/zarr/ncar-zarr/timestep\n",
    "timesteps = 6\n",
    "\n",
    "timestep_folders = [f + \"00\" + str(i) for i in range(timesteps) for f in folders]\n",
    "timestep_folders"
   ]
  },
  {
   "cell_type": "code",
   "execution_count": null,
   "metadata": {
    "scrolled": true,
    "tags": []
   },
   "outputs": [],
   "source": [
    "# Create subfolders - skip if done already\n",
    "\n",
    "# create_folders(timestep_folders)"
   ]
  },
  {
   "cell_type": "code",
   "execution_count": null,
   "metadata": {
    "scrolled": true,
    "tags": []
   },
   "outputs": [],
   "source": [
    "variable_names_set = {\"e\", \"t\", \"p\", \"u\", \"v\", \"w\"}\n",
    "\n",
    "# create dataXX_XX/zarr/ncar-zarr/timestep/Variable_name\n",
    "variable_folders = [t + \"/\" + value for index, value in enumerate(variable_names_set) for t in timestep_folders]\n",
    "variable_folders[:20]"
   ]
  },
  {
   "cell_type": "code",
   "execution_count": null,
   "metadata": {
    "scrolled": true,
    "tags": []
   },
   "outputs": [],
   "source": [
    "variable_names_set = {\"e\", \"t\", \"p\", \"u\", \"v\", \"w\"}\n",
    "\n",
    "dest_directory_dict = {}\n",
    "\n",
    "for index, value in enumerate(variable_names_set):\n",
    "    dest_directory_dict[value] = [t + \"/\" + value for t in timestep_folders]\n",
    "\n",
    "dest_directory_dict"
   ]
  },
  {
   "cell_type": "code",
   "execution_count": null,
   "metadata": {
    "scrolled": true,
    "tags": []
   },
   "outputs": [],
   "source": [
    "# create dataXX_XX/zarr/ncar-zarr/timestep/Variable_name\n",
    "# create_folders(variable_folders)"
   ]
  },
  {
   "cell_type": "markdown",
   "metadata": {},
   "source": [
    "# Write to folders"
   ]
  },
  {
   "cell_type": "code",
   "execution_count": null,
   "metadata": {},
   "outputs": [],
   "source": [
    "%cd /home/idies/workspace/turb/data02_02/ariel-6-timestep-ncar-zarr/jhd-000-nc-zarr/e"
   ]
  },
  {
   "cell_type": "code",
   "execution_count": null,
   "metadata": {
    "scrolled": true,
    "tags": []
   },
   "outputs": [],
   "source": [
    "file_list = [file for file in os.listdir() if not file.startswith('.')]\n",
    "len(file_list)"
   ]
  },
  {
   "cell_type": "code",
   "execution_count": null,
   "metadata": {},
   "outputs": [],
   "source": [
    "%pwd"
   ]
  },
  {
   "cell_type": "code",
   "execution_count": null,
   "metadata": {
    "scrolled": true,
    "tags": []
   },
   "outputs": [],
   "source": [
    "import shutil\n",
    "\n",
    "source_directory = '/home/idies/workspace/turb/data02_02/ariel-6-timestep-ncar-zarr/'\n",
    "timestep_prefix = \"jhd-{t}-nc-zarr\"\n",
    "\n",
    "# [timestep_prefix.format(t=t) for t in range(timesteps)]\n",
    "\n",
    "# For each timestep\n",
    "for t in range(timesteps):\n",
    "    padded_timestep_index = str(t).zfill(3) # Paths are 001,002, not 1,2,3...\n",
    "    \n",
    "    timestep_dir = timestep_prefix.format(t=padded_timestep_index)\n",
    "    \n",
    "    print(\"Working on \" + timestep_dir)\n",
    "    \n",
    "    # For each variable name\n",
    "    for index, varname in enumerate(variable_names_set):\n",
    "        pwd = source_directory + timestep_dir + \"/\" + varname\n",
    "        print(\"Current working dir: \", pwd)\n",
    "        \n",
    "        # Don't move zarr metadata. TODO deal with this later\n",
    "        source_file_paths = [file for file in os.listdir(pwd) if not file.startswith('.')]\n",
    "        \n",
    "        # Select only target dirs for current var and timestep\n",
    "        dest_file_paths = [string for string in variable_folders if string.endswith(padded_timestep_index + \"/\" + varname)]\n",
    "        \n",
    "#         print(dest_file_paths)\n",
    "        \n",
    "        \n",
    "        # for each zarr file\n",
    "        for i in range(len(source_file_paths)):\n",
    "#             shutil.move(source_file_paths[i], dest_file_paths[i % len(dest_file_paths)])\n",
    "            try:\n",
    "                shutil.copy(source_file_paths[i], dest_file_paths[i % len(dest_file_paths)])\n",
    "            except Error:\n",
    "                print(f\"File '{dest_file_paths[i % len(dest_file_paths)]}' already exists. Skipping.\")\n",
    "#             shutil.move(source_file_paths[i], dest_file_paths[i % len(dest_file_paths)])\n"
   ]
  },
  {
   "cell_type": "markdown",
   "metadata": {},
   "source": [
    "# <font color=\"red\"> TODO Fix Zarr Metadata </font>"
   ]
  },
  {
   "cell_type": "code",
   "execution_count": null,
   "metadata": {},
   "outputs": [],
   "source": [
    "z = zarr.open(\"/home/idies/workspace/turb/data02_03/zarr/ncar-zarr\")\n",
    "z.info"
   ]
  },
  {
   "cell_type": "code",
   "execution_count": null,
   "metadata": {
    "scrolled": true,
    "tags": []
   },
   "outputs": [],
   "source": [
    "# zarr.consolidate_metadata(\"/home/idies/workspace/turb/data02_03/zarr/ncar-zarr/e\")"
   ]
  }
 ],
 "metadata": {
  "kernelspec": {
   "display_name": "Python 3.8 (py38)",
   "language": "python",
   "name": "py38"
  },
  "language_info": {
   "codemirror_mode": {
    "name": "ipython",
    "version": 3
   },
   "file_extension": ".py",
   "mimetype": "text/x-python",
   "name": "python",
   "nbconvert_exporter": "python",
   "pygments_lexer": "ipython3",
   "version": "3.8.5"
  }
 },
 "nbformat": 4,
 "nbformat_minor": 4
}
