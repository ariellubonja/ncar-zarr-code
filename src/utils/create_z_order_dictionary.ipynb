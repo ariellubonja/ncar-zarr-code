{
 "cells": [
  {
   "cell_type": "markdown",
   "metadata": {},
   "source": [
    "## Create Mike's dictionary of Morton codes with start and end points for the 512^3"
   ]
  },
  {
   "cell_type": "code",
   "execution_count": null,
   "metadata": {
    "execution": {
     "iopub.execute_input": "2023-10-25T18:07:37.752525Z",
     "iopub.status.busy": "2023-10-25T18:07:37.751622Z",
     "iopub.status.idle": "2023-10-25T18:07:37.771553Z",
     "shell.execute_reply": "2023-10-25T18:07:37.769514Z",
     "shell.execute_reply.started": "2023-10-25T18:07:37.752287Z"
    }
   },
   "outputs": [],
   "source": [
    "desired_cube_side = 512\n",
    "chunk_size = 64\n",
    "array_cube_side = 2048\n",
    "\n",
    "raw_ncar_folder_path = '/home/idies/workspace/turb/data02_02/ncar-high-rate-fixed-dt'\n",
    "\n",
    "dest_folder_name = \"sabl2048b\" # B is the high-rate data\n",
    "write_type = \"prod\" # or \"back\"\n",
    "timestep_nr = 1\n",
    "# timestep_range = range(1) # Ned's new High-rate fixed-dt has only 5 timesteps"
   ]
  },
  {
   "cell_type": "code",
   "execution_count": null,
   "metadata": {
    "execution": {
     "iopub.execute_input": "2023-10-25T18:09:56.181685Z",
     "iopub.status.busy": "2023-10-25T18:09:56.180847Z",
     "iopub.status.idle": "2023-10-25T18:09:56.193872Z",
     "shell.execute_reply": "2023-10-25T18:09:56.192054Z",
     "shell.execute_reply.started": "2023-10-25T18:09:56.181626Z"
    },
    "tags": []
   },
   "outputs": [],
   "source": [
    "%cd /home/idies/workspace/Storage/ariel4/persistent/ncar-zarr-code"
   ]
  },
  {
   "cell_type": "code",
   "execution_count": null,
   "metadata": {
    "execution": {
     "iopub.execute_input": "2023-10-25T18:09:58.397298Z",
     "iopub.status.busy": "2023-10-25T18:09:58.396425Z",
     "iopub.status.idle": "2023-10-25T18:09:59.456024Z",
     "shell.execute_reply": "2023-10-25T18:09:59.453297Z",
     "shell.execute_reply.started": "2023-10-25T18:09:58.397242Z"
    },
    "tags": []
   },
   "outputs": [],
   "source": [
    "from utils import write_utils\n",
    "\n",
    "import xarray as xr\n",
    "# from utils import write_utils\n",
    "import os"
   ]
  },
  {
   "cell_type": "markdown",
   "metadata": {},
   "source": [
    "### Get target Folder list"
   ]
  },
  {
   "cell_type": "markdown",
   "metadata": {},
   "source": [
    "<font color=\"orange\">Don't delete the CD cell!</font>"
   ]
  },
  {
   "cell_type": "code",
   "execution_count": null,
   "metadata": {
    "execution": {
     "iopub.execute_input": "2023-10-25T18:10:13.947955Z",
     "iopub.status.busy": "2023-10-25T18:10:13.947119Z",
     "iopub.status.idle": "2023-10-25T18:10:13.960177Z",
     "shell.execute_reply": "2023-10-25T18:10:13.958429Z",
     "shell.execute_reply.started": "2023-10-25T18:10:13.947899Z"
    }
   },
   "outputs": [],
   "source": [
    "%cd /home/idies/workspace/turb/data02_02/ncar-high-rate-fixed-dt"
   ]
  },
  {
   "cell_type": "code",
   "execution_count": null,
   "metadata": {
    "execution": {
     "iopub.execute_input": "2023-10-25T18:10:13.965557Z",
     "iopub.status.busy": "2023-10-25T18:10:13.964683Z",
     "iopub.status.idle": "2023-10-25T18:10:14.163424Z",
     "shell.execute_reply": "2023-10-25T18:10:14.161182Z",
     "shell.execute_reply.started": "2023-10-25T18:10:13.965498Z"
    }
   },
   "outputs": [],
   "source": [
    "merged_velocity = xr.open_dataset(raw_ncar_folder_path + \"/jhd.\" + str(timestep_nr).zfill(3) + \".nc\")"
   ]
  },
  {
   "cell_type": "code",
   "execution_count": null,
   "metadata": {
    "execution": {
     "iopub.execute_input": "2023-10-25T18:10:14.166194Z",
     "iopub.status.busy": "2023-10-25T18:10:14.165655Z",
     "iopub.status.idle": "2023-10-25T18:10:14.253140Z",
     "shell.execute_reply": "2023-10-25T18:10:14.251492Z",
     "shell.execute_reply.started": "2023-10-25T18:10:14.166141Z"
    }
   },
   "outputs": [],
   "source": [
    "# Split 2048^3 into smaller 512^3 arrays\n",
    "dims = [dim for dim in merged_velocity.dims]\n",
    "dims.reverse() # use (nnz, nny, nnx) instead of (nnx, nny, nnz)\n",
    "\n",
    "smaller_groups, range_list = write_utils.split_zarr_group(merged_velocity, desired_cube_side, dims)"
   ]
  },
  {
   "cell_type": "code",
   "execution_count": null,
   "metadata": {
    "execution": {
     "iopub.execute_input": "2023-10-25T18:10:14.255654Z",
     "iopub.status.busy": "2023-10-25T18:10:14.255077Z",
     "iopub.status.idle": "2023-10-25T18:10:14.293401Z",
     "shell.execute_reply": "2023-10-25T18:10:14.291512Z",
     "shell.execute_reply.started": "2023-10-25T18:10:14.255587Z"
    }
   },
   "outputs": [],
   "source": [
    "# Given up in favor of Ryan's node coloring technique\n",
    "#     z_order = write_utils.morton_order_cube(cube_side=4)\n",
    "\n",
    "node_assignments = write_utils.node_assignment(cube_side=4)"
   ]
  },
  {
   "cell_type": "code",
   "execution_count": null,
   "metadata": {
    "execution": {
     "iopub.execute_input": "2023-10-25T18:10:14.299304Z",
     "iopub.status.busy": "2023-10-25T18:10:14.298764Z",
     "iopub.status.idle": "2023-10-25T18:10:14.315937Z",
     "shell.execute_reply": "2023-10-25T18:10:14.314247Z",
     "shell.execute_reply.started": "2023-10-25T18:10:14.299254Z"
    },
    "scrolled": true,
    "tags": []
   },
   "outputs": [],
   "source": [
    "range_list[:15]"
   ]
  },
  {
   "cell_type": "code",
   "execution_count": null,
   "metadata": {
    "execution": {
     "iopub.execute_input": "2023-10-25T18:10:14.318163Z",
     "iopub.status.busy": "2023-10-25T18:10:14.317649Z",
     "iopub.status.idle": "2023-10-25T18:10:14.329725Z",
     "shell.execute_reply": "2023-10-25T18:10:14.327778Z",
     "shell.execute_reply.started": "2023-10-25T18:10:14.318114Z"
    }
   },
   "outputs": [],
   "source": [
    "folders=write_utils.list_fileDB_folders()\n",
    "\n",
    "# Avoiding 7-2 and 9-2 - they're too full as of May 2023\n",
    "folders.remove(\"/home/idies/workspace/turb/data09_02/zarr/\")\n",
    "folders.remove(\"/home/idies/workspace/turb/data07_02/zarr/\")\n",
    "\n",
    "for i in range(len(folders)):\n",
    "    folders[i] += dest_folder_name + \"_\" + str(i + 1).zfill(2) + \"_\" + write_type + \"/\"\n",
    "\n",
    "# folders[:5]\n",
    "\n",
    "# Create top-level dirs\n",
    "\n",
    "# for folder_path in folders:\n",
    "#     os.makedirs(folder_path, exist_ok=False)"
   ]
  },
  {
   "cell_type": "code",
   "execution_count": null,
   "metadata": {
    "execution": {
     "iopub.execute_input": "2023-10-25T18:10:14.333187Z",
     "iopub.status.busy": "2023-10-25T18:10:14.332252Z",
     "iopub.status.idle": "2023-10-25T18:10:14.368512Z",
     "shell.execute_reply": "2023-10-25T18:10:14.366382Z",
     "shell.execute_reply.started": "2023-10-25T18:10:14.333114Z"
    },
    "scrolled": true,
    "tags": []
   },
   "outputs": [],
   "source": [
    "sorted_morton_list = [] # Sorting by Morton code to be consistent with Isotropic8192\n",
    "for i in range(len(range_list)):            \n",
    "    min_coord = [a[0] for a in range_list[i]]\n",
    "    max_coord = [a[1] - 1 for a in range_list[i]]\n",
    "            \n",
    "    sorted_morton_list.append((write_utils.morton_pack(array_cube_side, min_coord[0], min_coord[1], min_coord[2]), write_utils.morton_pack(array_cube_side, max_coord[0], max_coord[1], max_coord[2])))\n",
    "        # (write_utils.morton_pack(array_cube_side, min_coord[2], min_coord[1], min_coord[0]), write_utils.morton_pack(array_cube_side, max_coord[2], max_coord[1], max_coord[0]))\n",
    "\n",
    "        \n",
    "sorted_morton_list = sorted(sorted_morton_list)\n",
    "sorted_morton_list[:5]"
   ]
  },
  {
   "cell_type": "code",
   "execution_count": null,
   "metadata": {
    "execution": {
     "iopub.execute_input": "2023-10-25T18:10:14.371632Z",
     "iopub.status.busy": "2023-10-25T18:10:14.371044Z",
     "iopub.status.idle": "2023-10-25T18:10:14.381051Z",
     "shell.execute_reply": "2023-10-25T18:10:14.379270Z",
     "shell.execute_reply.started": "2023-10-25T18:10:14.371561Z"
    },
    "scrolled": true,
    "tags": []
   },
   "outputs": [],
   "source": [
    "mike_dict = {}\n",
    "for i in range(len(range_list)):            \n",
    "    min_coord = [a[0] for a in range_list[i]]\n",
    "    max_coord = [a[1] - 1 for a in range_list[i]]\n",
    "            \n",
    "    mike_dict[dest_folder_name + str(i + 1).zfill(2)] = sorted_morton_list[i]\n",
    "#         (morton_pack(array_cube_side, min_coord[0], min_coord[1], min_coord[2]), morton_pack(array_cube_side, max_coord[0], max_coord[1], max_coord[2]))\n",
    "        # (write_utils.morton_pack(array_cube_side, min_coord[2], min_coord[1], min_coord[0]), write_utils.morton_pack(array_cube_side, max_coord[2], max_coord[1], max_coord[0]))\n",
    "        \n",
    "    # Ordered 2-1-0 bcs. dims are nnz-nny-nnx\n",
    "    \n",
    "#     print(mike_dict[dest_folder_name + str(i + 1).zfill(2)])"
   ]
  },
  {
   "cell_type": "code",
   "execution_count": null,
   "metadata": {
    "execution": {
     "iopub.execute_input": "2023-10-25T18:10:14.384429Z",
     "iopub.status.busy": "2023-10-25T18:10:14.383817Z",
     "iopub.status.idle": "2023-10-25T18:10:14.401844Z",
     "shell.execute_reply": "2023-10-25T18:10:14.399650Z",
     "shell.execute_reply.started": "2023-10-25T18:10:14.384379Z"
    },
    "scrolled": true,
    "tags": []
   },
   "outputs": [],
   "source": [
    "mike_dict"
   ]
  },
  {
   "cell_type": "code",
   "execution_count": null,
   "metadata": {
    "execution": {
     "iopub.execute_input": "2023-10-25T18:10:14.404312Z",
     "iopub.status.busy": "2023-10-25T18:10:14.403794Z",
     "iopub.status.idle": "2023-10-25T18:10:14.415633Z",
     "shell.execute_reply": "2023-10-25T18:10:14.413643Z",
     "shell.execute_reply.started": "2023-10-25T18:10:14.404262Z"
    }
   },
   "outputs": [],
   "source": [
    "def flatten_3d_list(lst_3d):\n",
    "    return [element for sublist_2d in lst_3d for sublist_1d in sublist_2d for element in sublist_1d]\n",
    "\n",
    "def search_dict_by_value(dictionary, value):\n",
    "    for key, val in dictionary.items():\n",
    "        if val == value:\n",
    "            return key\n",
    "    return None  # Value not found in the dictionary"
   ]
  },
  {
   "cell_type": "code",
   "execution_count": null,
   "metadata": {
    "execution": {
     "iopub.execute_input": "2023-10-25T18:10:14.418251Z",
     "iopub.status.busy": "2023-10-25T18:10:14.417713Z",
     "iopub.status.idle": "2023-10-25T18:10:14.428770Z",
     "shell.execute_reply": "2023-10-25T18:10:14.426650Z",
     "shell.execute_reply.started": "2023-10-25T18:10:14.418201Z"
    }
   },
   "outputs": [],
   "source": [
    "flattened_node_assgn = flatten_3d_list(node_assignments)\n",
    "print(flattened_node_assgn)"
   ]
  },
  {
   "cell_type": "code",
   "execution_count": null,
   "metadata": {
    "execution": {
     "iopub.execute_input": "2023-10-25T18:10:14.431284Z",
     "iopub.status.busy": "2023-10-25T18:10:14.430768Z",
     "iopub.status.idle": "2023-10-25T18:10:14.443431Z",
     "shell.execute_reply": "2023-10-25T18:10:14.441289Z",
     "shell.execute_reply.started": "2023-10-25T18:10:14.431234Z"
    }
   },
   "outputs": [],
   "source": [
    "len(range_list)"
   ]
  },
  {
   "cell_type": "code",
   "execution_count": null,
   "metadata": {
    "execution": {
     "iopub.execute_input": "2023-10-25T18:10:14.446253Z",
     "iopub.status.busy": "2023-10-25T18:10:14.445715Z",
     "iopub.status.idle": "2023-10-25T18:10:14.460906Z",
     "shell.execute_reply": "2023-10-25T18:10:14.458879Z",
     "shell.execute_reply.started": "2023-10-25T18:10:14.446203Z"
    }
   },
   "outputs": [],
   "source": [
    "cubes = range_list"
   ]
  },
  {
   "cell_type": "code",
   "execution_count": null,
   "metadata": {
    "execution": {
     "iopub.execute_input": "2023-10-25T18:10:14.470255Z",
     "iopub.status.busy": "2023-10-25T18:10:14.469721Z",
     "iopub.status.idle": "2023-10-25T18:10:14.505137Z",
     "shell.execute_reply": "2023-10-25T18:10:14.502859Z",
     "shell.execute_reply.started": "2023-10-25T18:10:14.470205Z"
    },
    "scrolled": true,
    "tags": []
   },
   "outputs": [],
   "source": [
    "for i in range(len(range_list)):\n",
    "    min_coord = [a[0] for a in range_list[i]]\n",
    "    max_coord = [a[1] - 1 for a in range_list[i]]\n",
    "    \n",
    "    # nnz - nny - nnx\n",
    "    morton = (write_utils.morton_pack(array_cube_side, min_coord[2], min_coord[1], min_coord[0]), write_utils.morton_pack(array_cube_side, max_coord[2], max_coord[1], max_coord[0]))\n",
    "    \n",
    "    chunk_name = search_dict_by_value(mike_dict, morton)\n",
    "    \n",
    "    idx = int(chunk_name[-2:].lstrip('0'))\n",
    "    \n",
    "    filedb_index = flattened_node_assgn[idx - 1] - 1\n",
    "    \n",
    "    destination = os.path.join(folders[filedb_index], dest_folder_name + str(idx).zfill(2) + \"_\" + str(timestep_nr).zfill(3) + \".zarr\")\n",
    "    print(destination)\n",
    "    \n",
    "    current_array = cubes[i]\n",
    "    print(current_array, '|' , morton)"
   ]
  },
  {
   "cell_type": "code",
   "execution_count": null,
   "metadata": {
    "execution": {
     "iopub.execute_input": "2023-10-25T18:10:14.508198Z",
     "iopub.status.busy": "2023-10-25T18:10:14.507635Z",
     "iopub.status.idle": "2023-10-25T18:10:14.522192Z",
     "shell.execute_reply": "2023-10-25T18:10:14.519437Z",
     "shell.execute_reply.started": "2023-10-25T18:10:14.508147Z"
    }
   },
   "outputs": [],
   "source": [
    "%cd /home/idies/workspace/Storage/ariel4/persistent/ncar-zarr-code/zarr_writing"
   ]
  },
  {
   "cell_type": "code",
   "execution_count": null,
   "metadata": {
    "execution": {
     "iopub.execute_input": "2023-10-25T18:10:14.526212Z",
     "iopub.status.busy": "2023-10-25T18:10:14.525245Z",
     "iopub.status.idle": "2023-10-25T18:10:18.969828Z",
     "shell.execute_reply": "2023-10-25T18:10:18.967445Z",
     "shell.execute_reply.started": "2023-10-25T18:10:14.526140Z"
    }
   },
   "outputs": [],
   "source": [
    "import dill\n",
    "\n",
    "pickle_file = './filename_morton_ranges.pickle'\n",
    "\n",
    "# the dictionary that will be written to the pickle file. empty dictionary in this example, but you would fill it with the data.\n",
    "filename_morton_map = mike_dict\n",
    "\n",
    "with open(pickle_file, 'wb') as pickled_filepath:\n",
    "    dill.dump(filename_morton_map, pickled_filepath)"
   ]
  },
  {
   "cell_type": "code",
   "execution_count": null,
   "metadata": {},
   "outputs": [],
   "source": []
  }
 ],
 "metadata": {
  "kernelspec": {
   "display_name": "Python 3.9 (py39)",
   "language": "python",
   "name": "py39"
  },
  "language_info": {
   "codemirror_mode": {
    "name": "ipython",
    "version": 3
   },
   "file_extension": ".py",
   "mimetype": "text/x-python",
   "name": "python",
   "nbconvert_exporter": "python",
   "pygments_lexer": "ipython3",
   "version": "3.9.13"
  }
 },
 "nbformat": 4,
 "nbformat_minor": 4
}
