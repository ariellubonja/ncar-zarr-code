{
 "cells": [
  {
   "cell_type": "markdown",
   "metadata": {},
   "source": [
    "## Create Mike's dictionary of Morton codes with start and end points for the 512^3"
   ]
  },
  {
   "cell_type": "code",
   "execution_count": 1,
   "metadata": {
    "execution": {
     "iopub.execute_input": "2023-10-25T18:07:37.752525Z",
     "iopub.status.busy": "2023-10-25T18:07:37.751622Z",
     "iopub.status.idle": "2023-10-25T18:07:37.771553Z",
     "shell.execute_reply": "2023-10-25T18:07:37.769514Z",
     "shell.execute_reply.started": "2023-10-25T18:07:37.752287Z"
    }
   },
   "outputs": [],
   "source": [
    "desired_cube_side = 512\n",
    "chunk_size = 64\n",
    "array_cube_side = 2048\n",
    "\n",
    "raw_ncar_folder_path = '/home/idies/workspace/turb/data02_02/ncar-high-rate-fixed-dt'\n",
    "\n",
    "dest_folder_name = \"sabl2048b\" # B is the high-rate data\n",
    "write_type = \"prod\" # or \"back\"\n",
    "timestep_nr = 1\n",
    "# timestep_range = range(1) # Ned's new High-rate fixed-dt has only 5 timesteps"
   ]
  },
  {
   "cell_type": "code",
   "execution_count": 10,
   "metadata": {
    "execution": {
     "iopub.execute_input": "2023-10-25T18:09:56.181685Z",
     "iopub.status.busy": "2023-10-25T18:09:56.180847Z",
     "iopub.status.idle": "2023-10-25T18:09:56.193872Z",
     "shell.execute_reply": "2023-10-25T18:09:56.192054Z",
     "shell.execute_reply.started": "2023-10-25T18:09:56.181626Z"
    },
    "tags": []
   },
   "outputs": [
    {
     "name": "stdout",
     "output_type": "stream",
     "text": [
      "/home/idies/workspace/Storage/ariel4/persistent/ncar-zarr-code\n"
     ]
    }
   ],
   "source": [
    "%cd /home/idies/workspace/Storage/ariel4/persistent/ncar-zarr-code"
   ]
  },
  {
   "cell_type": "code",
   "execution_count": 11,
   "metadata": {
    "execution": {
     "iopub.execute_input": "2023-10-25T18:09:58.397298Z",
     "iopub.status.busy": "2023-10-25T18:09:58.396425Z",
     "iopub.status.idle": "2023-10-25T18:09:59.456024Z",
     "shell.execute_reply": "2023-10-25T18:09:59.453297Z",
     "shell.execute_reply.started": "2023-10-25T18:09:58.397242Z"
    },
    "tags": []
   },
   "outputs": [],
   "source": [
    "from utils import write_utils\n",
    "\n",
    "import xarray as xr\n",
    "# from utils import write_utils\n",
    "import os"
   ]
  },
  {
   "cell_type": "markdown",
   "metadata": {},
   "source": [
    "### Get target Folder list"
   ]
  },
  {
   "cell_type": "markdown",
   "metadata": {},
   "source": [
    "<font color=\"orange\">Don't delete the CD cell!</font>"
   ]
  },
  {
   "cell_type": "code",
   "execution_count": 12,
   "metadata": {
    "execution": {
     "iopub.execute_input": "2023-10-25T18:10:13.947955Z",
     "iopub.status.busy": "2023-10-25T18:10:13.947119Z",
     "iopub.status.idle": "2023-10-25T18:10:13.960177Z",
     "shell.execute_reply": "2023-10-25T18:10:13.958429Z",
     "shell.execute_reply.started": "2023-10-25T18:10:13.947899Z"
    }
   },
   "outputs": [
    {
     "name": "stdout",
     "output_type": "stream",
     "text": [
      "/home/idies/workspace/turb/data02_02/ncar-high-rate-fixed-dt\n"
     ]
    }
   ],
   "source": [
    "%cd /home/idies/workspace/turb/data02_02/ncar-high-rate-fixed-dt"
   ]
  },
  {
   "cell_type": "code",
   "execution_count": 13,
   "metadata": {
    "execution": {
     "iopub.execute_input": "2023-10-25T18:10:13.965557Z",
     "iopub.status.busy": "2023-10-25T18:10:13.964683Z",
     "iopub.status.idle": "2023-10-25T18:10:14.163424Z",
     "shell.execute_reply": "2023-10-25T18:10:14.161182Z",
     "shell.execute_reply.started": "2023-10-25T18:10:13.965498Z"
    }
   },
   "outputs": [],
   "source": [
    "merged_velocity = xr.open_dataset(raw_ncar_folder_path + \"/jhd.\" + str(timestep_nr).zfill(3) + \".nc\")"
   ]
  },
  {
   "cell_type": "code",
   "execution_count": 14,
   "metadata": {
    "execution": {
     "iopub.execute_input": "2023-10-25T18:10:14.166194Z",
     "iopub.status.busy": "2023-10-25T18:10:14.165655Z",
     "iopub.status.idle": "2023-10-25T18:10:14.253140Z",
     "shell.execute_reply": "2023-10-25T18:10:14.251492Z",
     "shell.execute_reply.started": "2023-10-25T18:10:14.166141Z"
    }
   },
   "outputs": [],
   "source": [
    "# Split 2048^3 into smaller 512^3 arrays\n",
    "dims = [dim for dim in merged_velocity.dims]\n",
    "dims.reverse() # use (nnz, nny, nnx) instead of (nnx, nny, nnz)\n",
    "\n",
    "smaller_groups, range_list = write_utils.split_zarr_group(merged_velocity, desired_cube_side, dims)"
   ]
  },
  {
   "cell_type": "code",
   "execution_count": 15,
   "metadata": {
    "execution": {
     "iopub.execute_input": "2023-10-25T18:10:14.255654Z",
     "iopub.status.busy": "2023-10-25T18:10:14.255077Z",
     "iopub.status.idle": "2023-10-25T18:10:14.293401Z",
     "shell.execute_reply": "2023-10-25T18:10:14.291512Z",
     "shell.execute_reply.started": "2023-10-25T18:10:14.255587Z"
    }
   },
   "outputs": [],
   "source": [
    "# Given up in favor of Ryan's node coloring technique\n",
    "#     z_order = write_utils.morton_order_cube(cube_side=4)\n",
    "\n",
    "node_assignments = write_utils.node_assignment(cube_side=4)"
   ]
  },
  {
   "cell_type": "code",
   "execution_count": 16,
   "metadata": {
    "execution": {
     "iopub.execute_input": "2023-10-25T18:10:14.299304Z",
     "iopub.status.busy": "2023-10-25T18:10:14.298764Z",
     "iopub.status.idle": "2023-10-25T18:10:14.315937Z",
     "shell.execute_reply": "2023-10-25T18:10:14.314247Z",
     "shell.execute_reply.started": "2023-10-25T18:10:14.299254Z"
    },
    "scrolled": true,
    "tags": []
   },
   "outputs": [
    {
     "data": {
      "text/plain": [
       "[[[0, 512], [0, 512], [0, 512]],\n",
       " [[0, 512], [0, 512], [512, 1024]],\n",
       " [[0, 512], [0, 512], [1024, 1536]],\n",
       " [[0, 512], [0, 512], [1536, 2048]],\n",
       " [[0, 512], [512, 1024], [0, 512]],\n",
       " [[0, 512], [512, 1024], [512, 1024]],\n",
       " [[0, 512], [512, 1024], [1024, 1536]],\n",
       " [[0, 512], [512, 1024], [1536, 2048]],\n",
       " [[0, 512], [1024, 1536], [0, 512]],\n",
       " [[0, 512], [1024, 1536], [512, 1024]],\n",
       " [[0, 512], [1024, 1536], [1024, 1536]],\n",
       " [[0, 512], [1024, 1536], [1536, 2048]],\n",
       " [[0, 512], [1536, 2048], [0, 512]],\n",
       " [[0, 512], [1536, 2048], [512, 1024]],\n",
       " [[0, 512], [1536, 2048], [1024, 1536]]]"
      ]
     },
     "execution_count": 16,
     "metadata": {},
     "output_type": "execute_result"
    }
   ],
   "source": [
    "range_list[:15]"
   ]
  },
  {
   "cell_type": "code",
   "execution_count": 17,
   "metadata": {
    "execution": {
     "iopub.execute_input": "2023-10-25T18:10:14.318163Z",
     "iopub.status.busy": "2023-10-25T18:10:14.317649Z",
     "iopub.status.idle": "2023-10-25T18:10:14.329725Z",
     "shell.execute_reply": "2023-10-25T18:10:14.327778Z",
     "shell.execute_reply.started": "2023-10-25T18:10:14.318114Z"
    }
   },
   "outputs": [],
   "source": [
    "folders=write_utils.list_fileDB_folders()\n",
    "\n",
    "# Avoiding 7-2 and 9-2 - they're too full as of May 2023\n",
    "folders.remove(\"/home/idies/workspace/turb/data09_02/zarr/\")\n",
    "folders.remove(\"/home/idies/workspace/turb/data07_02/zarr/\")\n",
    "\n",
    "for i in range(len(folders)):\n",
    "    folders[i] += dest_folder_name + \"_\" + str(i + 1).zfill(2) + \"_\" + write_type + \"/\"\n",
    "\n",
    "# folders[:5]\n",
    "\n",
    "# Create top-level dirs\n",
    "\n",
    "# for folder_path in folders:\n",
    "#     os.makedirs(folder_path, exist_ok=False)"
   ]
  },
  {
   "cell_type": "code",
   "execution_count": 18,
   "metadata": {
    "execution": {
     "iopub.execute_input": "2023-10-25T18:10:14.333187Z",
     "iopub.status.busy": "2023-10-25T18:10:14.332252Z",
     "iopub.status.idle": "2023-10-25T18:10:14.368512Z",
     "shell.execute_reply": "2023-10-25T18:10:14.366382Z",
     "shell.execute_reply.started": "2023-10-25T18:10:14.333114Z"
    },
    "scrolled": true,
    "tags": []
   },
   "outputs": [
    {
     "data": {
      "text/plain": [
       "[(0, 134217727),\n",
       " (134217728, 268435455),\n",
       " (268435456, 402653183),\n",
       " (402653184, 536870911),\n",
       " (536870912, 671088639)]"
      ]
     },
     "execution_count": 18,
     "metadata": {},
     "output_type": "execute_result"
    }
   ],
   "source": [
    "sorted_morton_list = [] # Sorting by Morton code to be consistent with Isotropic8192\n",
    "for i in range(len(range_list)):            \n",
    "    min_coord = [a[0] for a in range_list[i]]\n",
    "    max_coord = [a[1] - 1 for a in range_list[i]]\n",
    "            \n",
    "    sorted_morton_list.append((write_utils.morton_pack(array_cube_side, min_coord[0], min_coord[1], min_coord[2]), write_utils.morton_pack(array_cube_side, max_coord[0], max_coord[1], max_coord[2])))\n",
    "        # (write_utils.morton_pack(array_cube_side, min_coord[2], min_coord[1], min_coord[0]), write_utils.morton_pack(array_cube_side, max_coord[2], max_coord[1], max_coord[0]))\n",
    "\n",
    "        \n",
    "sorted_morton_list = sorted(sorted_morton_list)\n",
    "sorted_morton_list[:5]"
   ]
  },
  {
   "cell_type": "code",
   "execution_count": 19,
   "metadata": {
    "execution": {
     "iopub.execute_input": "2023-10-25T18:10:14.371632Z",
     "iopub.status.busy": "2023-10-25T18:10:14.371044Z",
     "iopub.status.idle": "2023-10-25T18:10:14.381051Z",
     "shell.execute_reply": "2023-10-25T18:10:14.379270Z",
     "shell.execute_reply.started": "2023-10-25T18:10:14.371561Z"
    },
    "scrolled": true,
    "tags": []
   },
   "outputs": [],
   "source": [
    "mike_dict = {}\n",
    "for i in range(len(range_list)):            \n",
    "    min_coord = [a[0] for a in range_list[i]]\n",
    "    max_coord = [a[1] - 1 for a in range_list[i]]\n",
    "            \n",
    "    mike_dict[dest_folder_name + str(i + 1).zfill(2)] = sorted_morton_list[i]\n",
    "#         (morton_pack(array_cube_side, min_coord[0], min_coord[1], min_coord[2]), morton_pack(array_cube_side, max_coord[0], max_coord[1], max_coord[2]))\n",
    "        # (write_utils.morton_pack(array_cube_side, min_coord[2], min_coord[1], min_coord[0]), write_utils.morton_pack(array_cube_side, max_coord[2], max_coord[1], max_coord[0]))\n",
    "        \n",
    "    # Ordered 2-1-0 bcs. dims are nnz-nny-nnx\n",
    "    \n",
    "#     print(mike_dict[dest_folder_name + str(i + 1).zfill(2)])"
   ]
  },
  {
   "cell_type": "code",
   "execution_count": 20,
   "metadata": {
    "execution": {
     "iopub.execute_input": "2023-10-25T18:10:14.384429Z",
     "iopub.status.busy": "2023-10-25T18:10:14.383817Z",
     "iopub.status.idle": "2023-10-25T18:10:14.401844Z",
     "shell.execute_reply": "2023-10-25T18:10:14.399650Z",
     "shell.execute_reply.started": "2023-10-25T18:10:14.384379Z"
    },
    "scrolled": true,
    "tags": []
   },
   "outputs": [
    {
     "data": {
      "text/plain": [
       "{'sabl2048b01': (0, 134217727),\n",
       " 'sabl2048b02': (134217728, 268435455),\n",
       " 'sabl2048b03': (268435456, 402653183),\n",
       " 'sabl2048b04': (402653184, 536870911),\n",
       " 'sabl2048b05': (536870912, 671088639),\n",
       " 'sabl2048b06': (671088640, 805306367),\n",
       " 'sabl2048b07': (805306368, 939524095),\n",
       " 'sabl2048b08': (939524096, 1073741823),\n",
       " 'sabl2048b09': (1073741824, 1207959551),\n",
       " 'sabl2048b10': (1207959552, 1342177279),\n",
       " 'sabl2048b11': (1342177280, 1476395007),\n",
       " 'sabl2048b12': (1476395008, 1610612735),\n",
       " 'sabl2048b13': (1610612736, 1744830463),\n",
       " 'sabl2048b14': (1744830464, 1879048191),\n",
       " 'sabl2048b15': (1879048192, 2013265919),\n",
       " 'sabl2048b16': (2013265920, 2147483647),\n",
       " 'sabl2048b17': (2147483648, 2281701375),\n",
       " 'sabl2048b18': (2281701376, 2415919103),\n",
       " 'sabl2048b19': (2415919104, 2550136831),\n",
       " 'sabl2048b20': (2550136832, 2684354559),\n",
       " 'sabl2048b21': (2684354560, 2818572287),\n",
       " 'sabl2048b22': (2818572288, 2952790015),\n",
       " 'sabl2048b23': (2952790016, 3087007743),\n",
       " 'sabl2048b24': (3087007744, 3221225471),\n",
       " 'sabl2048b25': (3221225472, 3355443199),\n",
       " 'sabl2048b26': (3355443200, 3489660927),\n",
       " 'sabl2048b27': (3489660928, 3623878655),\n",
       " 'sabl2048b28': (3623878656, 3758096383),\n",
       " 'sabl2048b29': (3758096384, 3892314111),\n",
       " 'sabl2048b30': (3892314112, 4026531839),\n",
       " 'sabl2048b31': (4026531840, 4160749567),\n",
       " 'sabl2048b32': (4160749568, 4294967295),\n",
       " 'sabl2048b33': (4294967296, 4429185023),\n",
       " 'sabl2048b34': (4429185024, 4563402751),\n",
       " 'sabl2048b35': (4563402752, 4697620479),\n",
       " 'sabl2048b36': (4697620480, 4831838207),\n",
       " 'sabl2048b37': (4831838208, 4966055935),\n",
       " 'sabl2048b38': (4966055936, 5100273663),\n",
       " 'sabl2048b39': (5100273664, 5234491391),\n",
       " 'sabl2048b40': (5234491392, 5368709119),\n",
       " 'sabl2048b41': (5368709120, 5502926847),\n",
       " 'sabl2048b42': (5502926848, 5637144575),\n",
       " 'sabl2048b43': (5637144576, 5771362303),\n",
       " 'sabl2048b44': (5771362304, 5905580031),\n",
       " 'sabl2048b45': (5905580032, 6039797759),\n",
       " 'sabl2048b46': (6039797760, 6174015487),\n",
       " 'sabl2048b47': (6174015488, 6308233215),\n",
       " 'sabl2048b48': (6308233216, 6442450943),\n",
       " 'sabl2048b49': (6442450944, 6576668671),\n",
       " 'sabl2048b50': (6576668672, 6710886399),\n",
       " 'sabl2048b51': (6710886400, 6845104127),\n",
       " 'sabl2048b52': (6845104128, 6979321855),\n",
       " 'sabl2048b53': (6979321856, 7113539583),\n",
       " 'sabl2048b54': (7113539584, 7247757311),\n",
       " 'sabl2048b55': (7247757312, 7381975039),\n",
       " 'sabl2048b56': (7381975040, 7516192767),\n",
       " 'sabl2048b57': (7516192768, 7650410495),\n",
       " 'sabl2048b58': (7650410496, 7784628223),\n",
       " 'sabl2048b59': (7784628224, 7918845951),\n",
       " 'sabl2048b60': (7918845952, 8053063679),\n",
       " 'sabl2048b61': (8053063680, 8187281407),\n",
       " 'sabl2048b62': (8187281408, 8321499135),\n",
       " 'sabl2048b63': (8321499136, 8455716863),\n",
       " 'sabl2048b64': (8455716864, 8589934591)}"
      ]
     },
     "execution_count": 20,
     "metadata": {},
     "output_type": "execute_result"
    }
   ],
   "source": [
    "mike_dict"
   ]
  },
  {
   "cell_type": "code",
   "execution_count": 21,
   "metadata": {
    "execution": {
     "iopub.execute_input": "2023-10-25T18:10:14.404312Z",
     "iopub.status.busy": "2023-10-25T18:10:14.403794Z",
     "iopub.status.idle": "2023-10-25T18:10:14.415633Z",
     "shell.execute_reply": "2023-10-25T18:10:14.413643Z",
     "shell.execute_reply.started": "2023-10-25T18:10:14.404262Z"
    }
   },
   "outputs": [],
   "source": [
    "def flatten_3d_list(lst_3d):\n",
    "    return [element for sublist_2d in lst_3d for sublist_1d in sublist_2d for element in sublist_1d]\n",
    "\n",
    "def search_dict_by_value(dictionary, value):\n",
    "    for key, val in dictionary.items():\n",
    "        if val == value:\n",
    "            return key\n",
    "    return None  # Value not found in the dictionary"
   ]
  },
  {
   "cell_type": "code",
   "execution_count": 22,
   "metadata": {
    "execution": {
     "iopub.execute_input": "2023-10-25T18:10:14.418251Z",
     "iopub.status.busy": "2023-10-25T18:10:14.417713Z",
     "iopub.status.idle": "2023-10-25T18:10:14.428770Z",
     "shell.execute_reply": "2023-10-25T18:10:14.426650Z",
     "shell.execute_reply.started": "2023-10-25T18:10:14.418201Z"
    }
   },
   "outputs": [
    {
     "name": "stdout",
     "output_type": "stream",
     "text": [
      "[1, 2, 3, 4, 5, 6, 7, 8, 9, 10, 11, 12, 13, 14, 15, 16, 17, 18, 19, 20, 21, 22, 23, 24, 25, 26, 27, 28, 29, 30, 31, 32, 33, 34, 1, 2, 3, 4, 5, 6, 7, 8, 9, 10, 11, 12, 13, 14, 15, 16, 17, 18, 19, 20, 21, 22, 23, 24, 25, 26, 27, 28, 29, 30]\n"
     ]
    }
   ],
   "source": [
    "flattened_node_assgn = flatten_3d_list(node_assignments)\n",
    "print(flattened_node_assgn)"
   ]
  },
  {
   "cell_type": "code",
   "execution_count": 23,
   "metadata": {
    "execution": {
     "iopub.execute_input": "2023-10-25T18:10:14.431284Z",
     "iopub.status.busy": "2023-10-25T18:10:14.430768Z",
     "iopub.status.idle": "2023-10-25T18:10:14.443431Z",
     "shell.execute_reply": "2023-10-25T18:10:14.441289Z",
     "shell.execute_reply.started": "2023-10-25T18:10:14.431234Z"
    }
   },
   "outputs": [
    {
     "data": {
      "text/plain": [
       "64"
      ]
     },
     "execution_count": 23,
     "metadata": {},
     "output_type": "execute_result"
    }
   ],
   "source": [
    "len(range_list)"
   ]
  },
  {
   "cell_type": "code",
   "execution_count": 24,
   "metadata": {
    "execution": {
     "iopub.execute_input": "2023-10-25T18:10:14.446253Z",
     "iopub.status.busy": "2023-10-25T18:10:14.445715Z",
     "iopub.status.idle": "2023-10-25T18:10:14.460906Z",
     "shell.execute_reply": "2023-10-25T18:10:14.458879Z",
     "shell.execute_reply.started": "2023-10-25T18:10:14.446203Z"
    }
   },
   "outputs": [],
   "source": [
    "cubes = range_list"
   ]
  },
  {
   "cell_type": "code",
   "execution_count": 25,
   "metadata": {
    "execution": {
     "iopub.execute_input": "2023-10-25T18:10:14.470255Z",
     "iopub.status.busy": "2023-10-25T18:10:14.469721Z",
     "iopub.status.idle": "2023-10-25T18:10:14.505137Z",
     "shell.execute_reply": "2023-10-25T18:10:14.502859Z",
     "shell.execute_reply.started": "2023-10-25T18:10:14.470205Z"
    },
    "scrolled": true,
    "tags": []
   },
   "outputs": [
    {
     "name": "stdout",
     "output_type": "stream",
     "text": [
      "/home/idies/workspace/turb/data01_01/zarr/sabl2048b_01_prod/sabl2048b01_001.zarr\n",
      "[[0, 512], [0, 512], [0, 512]] | (0, 134217727)\n",
      "/home/idies/workspace/turb/data02_01/zarr/sabl2048b_02_prod/sabl2048b02_001.zarr\n",
      "[[0, 512], [0, 512], [512, 1024]] | (134217728, 268435455)\n",
      "/home/idies/workspace/turb/data09_01/zarr/sabl2048b_09_prod/sabl2048b09_001.zarr\n",
      "[[0, 512], [0, 512], [1024, 1536]] | (1073741824, 1207959551)\n",
      "/home/idies/workspace/turb/data10_01/zarr/sabl2048b_10_prod/sabl2048b10_001.zarr\n",
      "[[0, 512], [0, 512], [1536, 2048]] | (1207959552, 1342177279)\n",
      "/home/idies/workspace/turb/data03_01/zarr/sabl2048b_03_prod/sabl2048b03_001.zarr\n",
      "[[0, 512], [512, 1024], [0, 512]] | (268435456, 402653183)\n",
      "/home/idies/workspace/turb/data04_01/zarr/sabl2048b_04_prod/sabl2048b04_001.zarr\n",
      "[[0, 512], [512, 1024], [512, 1024]] | (402653184, 536870911)\n",
      "/home/idies/workspace/turb/data11_01/zarr/sabl2048b_11_prod/sabl2048b11_001.zarr\n",
      "[[0, 512], [512, 1024], [1024, 1536]] | (1342177280, 1476395007)\n",
      "/home/idies/workspace/turb/data12_01/zarr/sabl2048b_12_prod/sabl2048b12_001.zarr\n",
      "[[0, 512], [512, 1024], [1536, 2048]] | (1476395008, 1610612735)\n",
      "/home/idies/workspace/turb/data05_02/zarr/sabl2048b_17_prod/sabl2048b17_001.zarr\n",
      "[[0, 512], [1024, 1536], [0, 512]] | (2147483648, 2281701375)\n",
      "/home/idies/workspace/turb/data06_02/zarr/sabl2048b_18_prod/sabl2048b18_001.zarr\n",
      "[[0, 512], [1024, 1536], [512, 1024]] | (2281701376, 2415919103)\n",
      "/home/idies/workspace/turb/data03_03/zarr/sabl2048b_25_prod/sabl2048b25_001.zarr\n",
      "[[0, 512], [1024, 1536], [1024, 1536]] | (3221225472, 3355443199)\n",
      "/home/idies/workspace/turb/data04_03/zarr/sabl2048b_26_prod/sabl2048b26_001.zarr\n",
      "[[0, 512], [1024, 1536], [1536, 2048]] | (3355443200, 3489660927)\n",
      "/home/idies/workspace/turb/data08_02/zarr/sabl2048b_19_prod/sabl2048b19_001.zarr\n",
      "[[0, 512], [1536, 2048], [0, 512]] | (2415919104, 2550136831)\n",
      "/home/idies/workspace/turb/data10_02/zarr/sabl2048b_20_prod/sabl2048b20_001.zarr\n",
      "[[0, 512], [1536, 2048], [512, 1024]] | (2550136832, 2684354559)\n",
      "/home/idies/workspace/turb/data05_03/zarr/sabl2048b_27_prod/sabl2048b27_001.zarr\n",
      "[[0, 512], [1536, 2048], [1024, 1536]] | (3489660928, 3623878655)\n",
      "/home/idies/workspace/turb/data06_03/zarr/sabl2048b_28_prod/sabl2048b28_001.zarr\n",
      "[[0, 512], [1536, 2048], [1536, 2048]] | (3623878656, 3758096383)\n",
      "/home/idies/workspace/turb/data05_01/zarr/sabl2048b_05_prod/sabl2048b05_001.zarr\n",
      "[[512, 1024], [0, 512], [0, 512]] | (536870912, 671088639)\n",
      "/home/idies/workspace/turb/data06_01/zarr/sabl2048b_06_prod/sabl2048b06_001.zarr\n",
      "[[512, 1024], [0, 512], [512, 1024]] | (671088640, 805306367)\n",
      "/home/idies/workspace/turb/data01_02/zarr/sabl2048b_13_prod/sabl2048b13_001.zarr\n",
      "[[512, 1024], [0, 512], [1024, 1536]] | (1610612736, 1744830463)\n",
      "/home/idies/workspace/turb/data02_02/zarr/sabl2048b_14_prod/sabl2048b14_001.zarr\n",
      "[[512, 1024], [0, 512], [1536, 2048]] | (1744830464, 1879048191)\n",
      "/home/idies/workspace/turb/data07_01/zarr/sabl2048b_07_prod/sabl2048b07_001.zarr\n",
      "[[512, 1024], [512, 1024], [0, 512]] | (805306368, 939524095)\n",
      "/home/idies/workspace/turb/data08_01/zarr/sabl2048b_08_prod/sabl2048b08_001.zarr\n",
      "[[512, 1024], [512, 1024], [512, 1024]] | (939524096, 1073741823)\n",
      "/home/idies/workspace/turb/data03_02/zarr/sabl2048b_15_prod/sabl2048b15_001.zarr\n",
      "[[512, 1024], [512, 1024], [1024, 1536]] | (1879048192, 2013265919)\n",
      "/home/idies/workspace/turb/data04_02/zarr/sabl2048b_16_prod/sabl2048b16_001.zarr\n",
      "[[512, 1024], [512, 1024], [1536, 2048]] | (2013265920, 2147483647)\n",
      "/home/idies/workspace/turb/data11_02/zarr/sabl2048b_21_prod/sabl2048b21_001.zarr\n",
      "[[512, 1024], [1024, 1536], [0, 512]] | (2684354560, 2818572287)\n",
      "/home/idies/workspace/turb/data12_02/zarr/sabl2048b_22_prod/sabl2048b22_001.zarr\n",
      "[[512, 1024], [1024, 1536], [512, 1024]] | (2818572288, 2952790015)\n",
      "/home/idies/workspace/turb/data07_03/zarr/sabl2048b_29_prod/sabl2048b29_001.zarr\n",
      "[[512, 1024], [1024, 1536], [1024, 1536]] | (3758096384, 3892314111)\n",
      "/home/idies/workspace/turb/data08_03/zarr/sabl2048b_30_prod/sabl2048b30_001.zarr\n",
      "[[512, 1024], [1024, 1536], [1536, 2048]] | (3892314112, 4026531839)\n",
      "/home/idies/workspace/turb/data01_03/zarr/sabl2048b_23_prod/sabl2048b23_001.zarr\n",
      "[[512, 1024], [1536, 2048], [0, 512]] | (2952790016, 3087007743)\n",
      "/home/idies/workspace/turb/data02_03/zarr/sabl2048b_24_prod/sabl2048b24_001.zarr\n",
      "[[512, 1024], [1536, 2048], [512, 1024]] | (3087007744, 3221225471)\n",
      "/home/idies/workspace/turb/data09_03/zarr/sabl2048b_31_prod/sabl2048b31_001.zarr\n",
      "[[512, 1024], [1536, 2048], [1024, 1536]] | (4026531840, 4160749567)\n",
      "/home/idies/workspace/turb/data10_03/zarr/sabl2048b_32_prod/sabl2048b32_001.zarr\n",
      "[[512, 1024], [1536, 2048], [1536, 2048]] | (4160749568, 4294967295)\n",
      "/home/idies/workspace/turb/data11_03/zarr/sabl2048b_33_prod/sabl2048b33_001.zarr\n",
      "[[1024, 1536], [0, 512], [0, 512]] | (4294967296, 4429185023)\n",
      "/home/idies/workspace/turb/data12_03/zarr/sabl2048b_34_prod/sabl2048b34_001.zarr\n",
      "[[1024, 1536], [0, 512], [512, 1024]] | (4429185024, 4563402751)\n",
      "/home/idies/workspace/turb/data07_01/zarr/sabl2048b_07_prod/sabl2048b41_001.zarr\n",
      "[[1024, 1536], [0, 512], [1024, 1536]] | (5368709120, 5502926847)\n",
      "/home/idies/workspace/turb/data08_01/zarr/sabl2048b_08_prod/sabl2048b42_001.zarr\n",
      "[[1024, 1536], [0, 512], [1536, 2048]] | (5502926848, 5637144575)\n",
      "/home/idies/workspace/turb/data01_01/zarr/sabl2048b_01_prod/sabl2048b35_001.zarr\n",
      "[[1024, 1536], [512, 1024], [0, 512]] | (4563402752, 4697620479)\n",
      "/home/idies/workspace/turb/data02_01/zarr/sabl2048b_02_prod/sabl2048b36_001.zarr\n",
      "[[1024, 1536], [512, 1024], [512, 1024]] | (4697620480, 4831838207)\n",
      "/home/idies/workspace/turb/data09_01/zarr/sabl2048b_09_prod/sabl2048b43_001.zarr\n",
      "[[1024, 1536], [512, 1024], [1024, 1536]] | (5637144576, 5771362303)\n",
      "/home/idies/workspace/turb/data10_01/zarr/sabl2048b_10_prod/sabl2048b44_001.zarr\n",
      "[[1024, 1536], [512, 1024], [1536, 2048]] | (5771362304, 5905580031)\n",
      "/home/idies/workspace/turb/data03_02/zarr/sabl2048b_15_prod/sabl2048b49_001.zarr\n",
      "[[1024, 1536], [1024, 1536], [0, 512]] | (6442450944, 6576668671)\n",
      "/home/idies/workspace/turb/data04_02/zarr/sabl2048b_16_prod/sabl2048b50_001.zarr\n",
      "[[1024, 1536], [1024, 1536], [512, 1024]] | (6576668672, 6710886399)\n",
      "/home/idies/workspace/turb/data01_03/zarr/sabl2048b_23_prod/sabl2048b57_001.zarr\n",
      "[[1024, 1536], [1024, 1536], [1024, 1536]] | (7516192768, 7650410495)\n",
      "/home/idies/workspace/turb/data02_03/zarr/sabl2048b_24_prod/sabl2048b58_001.zarr\n",
      "[[1024, 1536], [1024, 1536], [1536, 2048]] | (7650410496, 7784628223)\n",
      "/home/idies/workspace/turb/data05_02/zarr/sabl2048b_17_prod/sabl2048b51_001.zarr\n",
      "[[1024, 1536], [1536, 2048], [0, 512]] | (6710886400, 6845104127)\n",
      "/home/idies/workspace/turb/data06_02/zarr/sabl2048b_18_prod/sabl2048b52_001.zarr\n",
      "[[1024, 1536], [1536, 2048], [512, 1024]] | (6845104128, 6979321855)\n",
      "/home/idies/workspace/turb/data03_03/zarr/sabl2048b_25_prod/sabl2048b59_001.zarr\n",
      "[[1024, 1536], [1536, 2048], [1024, 1536]] | (7784628224, 7918845951)\n",
      "/home/idies/workspace/turb/data04_03/zarr/sabl2048b_26_prod/sabl2048b60_001.zarr\n",
      "[[1024, 1536], [1536, 2048], [1536, 2048]] | (7918845952, 8053063679)\n",
      "/home/idies/workspace/turb/data03_01/zarr/sabl2048b_03_prod/sabl2048b37_001.zarr\n",
      "[[1536, 2048], [0, 512], [0, 512]] | (4831838208, 4966055935)\n",
      "/home/idies/workspace/turb/data04_01/zarr/sabl2048b_04_prod/sabl2048b38_001.zarr\n",
      "[[1536, 2048], [0, 512], [512, 1024]] | (4966055936, 5100273663)\n",
      "/home/idies/workspace/turb/data11_01/zarr/sabl2048b_11_prod/sabl2048b45_001.zarr\n",
      "[[1536, 2048], [0, 512], [1024, 1536]] | (5905580032, 6039797759)\n",
      "/home/idies/workspace/turb/data12_01/zarr/sabl2048b_12_prod/sabl2048b46_001.zarr\n",
      "[[1536, 2048], [0, 512], [1536, 2048]] | (6039797760, 6174015487)\n",
      "/home/idies/workspace/turb/data05_01/zarr/sabl2048b_05_prod/sabl2048b39_001.zarr\n",
      "[[1536, 2048], [512, 1024], [0, 512]] | (5100273664, 5234491391)\n",
      "/home/idies/workspace/turb/data06_01/zarr/sabl2048b_06_prod/sabl2048b40_001.zarr\n",
      "[[1536, 2048], [512, 1024], [512, 1024]] | (5234491392, 5368709119)\n",
      "/home/idies/workspace/turb/data01_02/zarr/sabl2048b_13_prod/sabl2048b47_001.zarr\n",
      "[[1536, 2048], [512, 1024], [1024, 1536]] | (6174015488, 6308233215)\n",
      "/home/idies/workspace/turb/data02_02/zarr/sabl2048b_14_prod/sabl2048b48_001.zarr\n",
      "[[1536, 2048], [512, 1024], [1536, 2048]] | (6308233216, 6442450943)\n",
      "/home/idies/workspace/turb/data08_02/zarr/sabl2048b_19_prod/sabl2048b53_001.zarr\n",
      "[[1536, 2048], [1024, 1536], [0, 512]] | (6979321856, 7113539583)\n",
      "/home/idies/workspace/turb/data10_02/zarr/sabl2048b_20_prod/sabl2048b54_001.zarr\n",
      "[[1536, 2048], [1024, 1536], [512, 1024]] | (7113539584, 7247757311)\n",
      "/home/idies/workspace/turb/data05_03/zarr/sabl2048b_27_prod/sabl2048b61_001.zarr\n",
      "[[1536, 2048], [1024, 1536], [1024, 1536]] | (8053063680, 8187281407)\n",
      "/home/idies/workspace/turb/data06_03/zarr/sabl2048b_28_prod/sabl2048b62_001.zarr\n",
      "[[1536, 2048], [1024, 1536], [1536, 2048]] | (8187281408, 8321499135)\n",
      "/home/idies/workspace/turb/data11_02/zarr/sabl2048b_21_prod/sabl2048b55_001.zarr\n",
      "[[1536, 2048], [1536, 2048], [0, 512]] | (7247757312, 7381975039)\n",
      "/home/idies/workspace/turb/data12_02/zarr/sabl2048b_22_prod/sabl2048b56_001.zarr\n",
      "[[1536, 2048], [1536, 2048], [512, 1024]] | (7381975040, 7516192767)\n",
      "/home/idies/workspace/turb/data07_03/zarr/sabl2048b_29_prod/sabl2048b63_001.zarr\n",
      "[[1536, 2048], [1536, 2048], [1024, 1536]] | (8321499136, 8455716863)\n",
      "/home/idies/workspace/turb/data08_03/zarr/sabl2048b_30_prod/sabl2048b64_001.zarr\n",
      "[[1536, 2048], [1536, 2048], [1536, 2048]] | (8455716864, 8589934591)\n"
     ]
    }
   ],
   "source": [
    "for i in range(len(range_list)):\n",
    "    min_coord = [a[0] for a in range_list[i]]\n",
    "    max_coord = [a[1] - 1 for a in range_list[i]]\n",
    "    \n",
    "    # nnz - nny - nnx\n",
    "    morton = (write_utils.morton_pack(array_cube_side, min_coord[2], min_coord[1], min_coord[0]), write_utils.morton_pack(array_cube_side, max_coord[2], max_coord[1], max_coord[0]))\n",
    "    \n",
    "    chunk_name = search_dict_by_value(mike_dict, morton)\n",
    "    \n",
    "    idx = int(chunk_name[-2:].lstrip('0'))\n",
    "    \n",
    "    filedb_index = flattened_node_assgn[idx - 1] - 1\n",
    "    \n",
    "    destination = os.path.join(folders[filedb_index], dest_folder_name + str(idx).zfill(2) + \"_\" + str(timestep_nr).zfill(3) + \".zarr\")\n",
    "    print(destination)\n",
    "    \n",
    "    current_array = cubes[i]\n",
    "    print(current_array, '|' , morton)"
   ]
  },
  {
   "cell_type": "code",
   "execution_count": 26,
   "metadata": {
    "execution": {
     "iopub.execute_input": "2023-10-25T18:10:14.508198Z",
     "iopub.status.busy": "2023-10-25T18:10:14.507635Z",
     "iopub.status.idle": "2023-10-25T18:10:14.522192Z",
     "shell.execute_reply": "2023-10-25T18:10:14.519437Z",
     "shell.execute_reply.started": "2023-10-25T18:10:14.508147Z"
    }
   },
   "outputs": [
    {
     "name": "stdout",
     "output_type": "stream",
     "text": [
      "/home/idies/workspace/Storage/ariel4/persistent/ncar-zarr-code/zarr_writing\n"
     ]
    }
   ],
   "source": [
    "%cd /home/idies/workspace/Storage/ariel4/persistent/ncar-zarr-code/zarr_writing"
   ]
  },
  {
   "cell_type": "code",
   "execution_count": 27,
   "metadata": {
    "execution": {
     "iopub.execute_input": "2023-10-25T18:10:14.526212Z",
     "iopub.status.busy": "2023-10-25T18:10:14.525245Z",
     "iopub.status.idle": "2023-10-25T18:10:18.969828Z",
     "shell.execute_reply": "2023-10-25T18:10:18.967445Z",
     "shell.execute_reply.started": "2023-10-25T18:10:14.526140Z"
    }
   },
   "outputs": [],
   "source": [
    "import dill\n",
    "\n",
    "pickle_file = './filename_morton_ranges.pickle'\n",
    "\n",
    "# the dictionary that will be written to the pickle file. empty dictionary in this example, but you would fill it with the data.\n",
    "filename_morton_map = mike_dict\n",
    "\n",
    "with open(pickle_file, 'wb') as pickled_filepath:\n",
    "    dill.dump(filename_morton_map, pickled_filepath)"
   ]
  },
  {
   "cell_type": "code",
   "execution_count": null,
   "metadata": {},
   "outputs": [],
   "source": []
  }
 ],
 "metadata": {
  "kernelspec": {
   "display_name": "Python 3.9 (py39)",
   "language": "python",
   "name": "py39"
  },
  "language_info": {
   "codemirror_mode": {
    "name": "ipython",
    "version": 3
   },
   "file_extension": ".py",
   "mimetype": "text/x-python",
   "name": "python",
   "nbconvert_exporter": "python",
   "pygments_lexer": "ipython3",
   "version": "3.9.13"
  }
 },
 "nbformat": 4,
 "nbformat_minor": 4
}
