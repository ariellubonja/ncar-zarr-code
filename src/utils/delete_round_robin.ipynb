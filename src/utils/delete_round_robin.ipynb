{
 "cells": [
  {
   "cell_type": "markdown",
   "metadata": {},
   "source": [
    "## Script to delete round-robined data across FileDB\n",
    "\n",
    "TODO turn this into a Python file or utils function"
   ]
  },
  {
   "cell_type": "code",
   "execution_count": 1,
   "metadata": {
    "execution": {
     "iopub.execute_input": "2024-02-19T00:12:30.720883Z",
     "iopub.status.busy": "2024-02-19T00:12:30.720177Z",
     "iopub.status.idle": "2024-02-19T00:12:30.741543Z",
     "shell.execute_reply": "2024-02-19T00:12:30.739922Z",
     "shell.execute_reply.started": "2024-02-19T00:12:30.720749Z"
    },
    "tags": []
   },
   "outputs": [],
   "source": [
    "dest_folder_name = \"sabl2048a\"\n",
    "cube_side = 4 # 64 total 512-cubes - 4x4x4\n",
    "prod_or_backup = 'back'\n",
    "\n",
    "timestep_range = range(5)"
   ]
  },
  {
   "cell_type": "code",
   "execution_count": 2,
   "metadata": {
    "execution": {
     "iopub.execute_input": "2024-02-19T00:12:30.747305Z",
     "iopub.status.busy": "2024-02-19T00:12:30.746603Z",
     "iopub.status.idle": "2024-02-19T00:12:30.767591Z",
     "shell.execute_reply": "2024-02-19T00:12:30.765299Z",
     "shell.execute_reply.started": "2024-02-19T00:12:30.747233Z"
    }
   },
   "outputs": [
    {
     "name": "stdout",
     "output_type": "stream",
     "text": [
      "[Errno 2] No such file or directory: '/home/idies/workspace/Storage/ariel4/persistent/ncar-zarr-code/zarr_writing'\n",
      "/home/idies/workspace/Storage/ariel4/persistent/zarrify-across-network/src/utils\n"
     ]
    }
   ],
   "source": [
    "%cd /home/idies/workspace/Storage/ariel4/persistent/ncar-zarr-code/zarr_writing"
   ]
  },
  {
   "cell_type": "code",
   "execution_count": 3,
   "metadata": {
    "execution": {
     "iopub.execute_input": "2024-02-19T00:12:30.772284Z",
     "iopub.status.busy": "2024-02-19T00:12:30.771711Z",
     "iopub.status.idle": "2024-02-19T00:12:32.830410Z",
     "shell.execute_reply": "2024-02-19T00:12:32.827455Z",
     "shell.execute_reply.started": "2024-02-19T00:12:30.772231Z"
    },
    "tags": []
   },
   "outputs": [],
   "source": [
    "import write_utils\n",
    "import os"
   ]
  },
  {
   "cell_type": "code",
   "execution_count": 4,
   "metadata": {
    "execution": {
     "iopub.execute_input": "2024-02-19T00:12:32.833828Z",
     "iopub.status.busy": "2024-02-19T00:12:32.832948Z",
     "iopub.status.idle": "2024-02-19T00:12:32.849878Z",
     "shell.execute_reply": "2024-02-19T00:12:32.847214Z",
     "shell.execute_reply.started": "2024-02-19T00:12:32.833769Z"
    }
   },
   "outputs": [
    {
     "name": "stdout",
     "output_type": "stream",
     "text": [
      "/home/idies/workspace/turb\n"
     ]
    }
   ],
   "source": [
    "%cd /home/idies/workspace/turb/"
   ]
  },
  {
   "cell_type": "code",
   "execution_count": 5,
   "metadata": {
    "execution": {
     "iopub.execute_input": "2024-02-19T00:12:32.852189Z",
     "iopub.status.busy": "2024-02-19T00:12:32.851576Z",
     "iopub.status.idle": "2024-02-19T00:12:32.875370Z",
     "shell.execute_reply": "2024-02-19T00:12:32.873963Z",
     "shell.execute_reply.started": "2024-02-19T00:12:32.852137Z"
    },
    "tags": []
   },
   "outputs": [
    {
     "data": {
      "text/plain": [
       "['/home/idies/workspace/turb/data01_01/zarr/',\n",
       " '/home/idies/workspace/turb/data02_01/zarr/',\n",
       " '/home/idies/workspace/turb/data03_01/zarr/',\n",
       " '/home/idies/workspace/turb/data04_01/zarr/',\n",
       " '/home/idies/workspace/turb/data05_01/zarr/']"
      ]
     },
     "execution_count": 5,
     "metadata": {},
     "output_type": "execute_result"
    }
   ],
   "source": [
    "# creatuple list of folder on filedb to which data should be copied\n",
    "# you may want to change this to avoid certain volumes\n",
    "folders=write_utils.list_fileDB_folders()\n",
    "folders[:5]"
   ]
  },
  {
   "cell_type": "code",
   "execution_count": 6,
   "metadata": {
    "execution": {
     "iopub.execute_input": "2024-02-19T00:12:32.877962Z",
     "iopub.status.busy": "2024-02-19T00:12:32.877386Z",
     "iopub.status.idle": "2024-02-19T00:12:32.887565Z",
     "shell.execute_reply": "2024-02-19T00:12:32.885485Z",
     "shell.execute_reply.started": "2024-02-19T00:12:32.877909Z"
    }
   },
   "outputs": [],
   "source": [
    "# Avoiding 7-2 and 9-2 - they're too full as of May 2023\n",
    "# folders.remove(\"/home/idies/workspace/turb/data02_02/zarr/ncar-zarr/\")\n",
    "folders.remove(\"/home/idies/workspace/turb/data09_02/zarr/\")\n",
    "folders.remove(\"/home/idies/workspace/turb/data07_02/zarr/\") # This is already created"
   ]
  },
  {
   "cell_type": "code",
   "execution_count": 7,
   "metadata": {
    "execution": {
     "iopub.execute_input": "2024-02-19T00:12:32.893624Z",
     "iopub.status.busy": "2024-02-19T00:12:32.893079Z",
     "iopub.status.idle": "2024-02-19T00:12:32.906979Z",
     "shell.execute_reply": "2024-02-19T00:12:32.904959Z",
     "shell.execute_reply.started": "2024-02-19T00:12:32.893573Z"
    },
    "tags": []
   },
   "outputs": [
    {
     "data": {
      "text/plain": [
       "['/home/idies/workspace/turb/data01_01/zarr/sabl2048a_01_back',\n",
       " '/home/idies/workspace/turb/data02_01/zarr/sabl2048a_02_back',\n",
       " '/home/idies/workspace/turb/data03_01/zarr/sabl2048a_03_back',\n",
       " '/home/idies/workspace/turb/data04_01/zarr/sabl2048a_04_back',\n",
       " '/home/idies/workspace/turb/data05_01/zarr/sabl2048a_05_back']"
      ]
     },
     "execution_count": 7,
     "metadata": {},
     "output_type": "execute_result"
    }
   ],
   "source": [
    "for i in range(len(folders)):\n",
    "    folders[i] += dest_folder_name + \"_\" + str(i + 1).zfill(2) + \"_\" + prod_or_backup\n",
    "\n",
    "folders[:5]"
   ]
  },
  {
   "cell_type": "code",
   "execution_count": 8,
   "metadata": {
    "execution": {
     "iopub.execute_input": "2024-02-19T00:12:32.942812Z",
     "iopub.status.busy": "2024-02-19T00:12:32.942158Z",
     "iopub.status.idle": "2024-02-19T00:12:32.951269Z",
     "shell.execute_reply": "2024-02-19T00:12:32.949245Z",
     "shell.execute_reply.started": "2024-02-19T00:12:32.942758Z"
    },
    "tags": []
   },
   "outputs": [],
   "source": [
    "folders_to_delete = folders"
   ]
  },
  {
   "cell_type": "code",
   "execution_count": 24,
   "metadata": {
    "scrolled": true,
    "tags": []
   },
   "outputs": [
    {
     "data": {
      "text/plain": [
       "['/home/idies/workspace/turb/data01_01/zarr/sabl2048b_01_prod/sabl2048b01_000.zarr',\n",
       " '/home/idies/workspace/turb/data02_01/zarr/sabl2048b_02_prod/sabl2048b02_000.zarr',\n",
       " '/home/idies/workspace/turb/data03_01/zarr/sabl2048b_03_prod/sabl2048b03_000.zarr',\n",
       " '/home/idies/workspace/turb/data04_01/zarr/sabl2048b_04_prod/sabl2048b04_000.zarr',\n",
       " '/home/idies/workspace/turb/data05_01/zarr/sabl2048b_05_prod/sabl2048b05_000.zarr']"
      ]
     },
     "execution_count": 24,
     "metadata": {},
     "output_type": "execute_result"
    }
   ],
   "source": [
    "# ordering = write_utils.morton_order_cube(cube_side=4)\n",
    "ordering = write_utils.node_assignment(4)\n",
    "\n",
    "folders_to_delete = []\n",
    "num_chunks = cube_side\n",
    "\n",
    "for t in timestep_range:\n",
    "    for i in range(num_chunks):\n",
    "        for j in range(num_chunks):\n",
    "            for k in range(num_chunks):\n",
    "                # Put e.g. z-order=4 to filedb05_01\n",
    "                filedb_index = ordering[i][j][k] % len(folders) # Loop around\n",
    "                # current_array = outer_dim[i][j][k]\n",
    "\n",
    "#                 folders_to_delete.append(os.path.join(folders[filedb_index], dest_folder_name + str(ordering[i][j][k]).zfill(2) + \"_\" + str(t).zfill(3) + \".zarr\"))\n",
    "                folders_to_delete.append(os.path.join(folders[filedb_index - 1], dest_folder_name + str(ordering[i][j][k]).zfill(2) + \"_\" + str(t).zfill(3) + \".zarr\"))\n",
    "\n",
    "folders_to_delete[:5]"
   ]
  },
  {
   "cell_type": "code",
   "execution_count": 9,
   "metadata": {
    "execution": {
     "iopub.execute_input": "2024-02-19T00:12:50.606547Z",
     "iopub.status.busy": "2024-02-19T00:12:50.605722Z",
     "iopub.status.idle": "2024-02-19T00:12:50.615892Z",
     "shell.execute_reply": "2024-02-19T00:12:50.613813Z",
     "shell.execute_reply.started": "2024-02-19T00:12:50.606488Z"
    },
    "tags": []
   },
   "outputs": [],
   "source": [
    "import concurrent.futures"
   ]
  },
  {
   "cell_type": "code",
   "execution_count": 10,
   "metadata": {
    "execution": {
     "iopub.execute_input": "2024-02-19T00:12:50.729835Z",
     "iopub.status.busy": "2024-02-19T00:12:50.729142Z",
     "iopub.status.idle": "2024-02-19T00:12:50.739508Z",
     "shell.execute_reply": "2024-02-19T00:12:50.737443Z",
     "shell.execute_reply.started": "2024-02-19T00:12:50.729778Z"
    },
    "tags": []
   },
   "outputs": [],
   "source": [
    "# ChatGPT\n",
    "def delete_folder(folder):\n",
    "    try:\n",
    "        os.system(f'rm -rf {folder}')\n",
    "#         print(f\"Deleted folder: {folder}\")\n",
    "    except Exception as e:\n",
    "        print(f\"Error deleting folder: {folder}\")\n",
    "        print(e)"
   ]
  },
  {
   "cell_type": "code",
   "execution_count": 11,
   "metadata": {
    "execution": {
     "iopub.execute_input": "2024-02-19T00:12:52.570570Z",
     "iopub.status.busy": "2024-02-19T00:12:52.569758Z",
     "iopub.status.idle": "2024-02-19T00:15:52.875052Z",
     "shell.execute_reply": "2024-02-19T00:15:52.872751Z",
     "shell.execute_reply.started": "2024-02-19T00:12:52.570511Z"
    },
    "tags": []
   },
   "outputs": [],
   "source": [
    "# Create a ThreadPoolExecutor with the desired number of worker threads\n",
    "with concurrent.futures.ThreadPoolExecutor() as executor:\n",
    "    # Submit the delete_folder function for each folder to the executor\n",
    "    future_to_folder = {executor.submit(delete_folder, folder): folder for folder in folders_to_delete}\n",
    "\n",
    "    # Wait for the deletion tasks to complete\n",
    "    for future in concurrent.futures.as_completed(future_to_folder):\n",
    "        folder = future_to_folder[future]\n",
    "        try:\n",
    "            future.result()\n",
    "        except Exception as e:\n",
    "            print(f\"Error deleting folder: {folder}\")\n",
    "            print(e)"
   ]
  },
  {
   "cell_type": "code",
   "execution_count": null,
   "metadata": {},
   "outputs": [],
   "source": []
  }
 ],
 "metadata": {
  "kernelspec": {
   "display_name": "Python 3.9 (py39)",
   "language": "python",
   "name": "py39"
  },
  "language_info": {
   "codemirror_mode": {
    "name": "ipython",
    "version": 3
   },
   "file_extension": ".py",
   "mimetype": "text/x-python",
   "name": "python",
   "nbconvert_exporter": "python",
   "pygments_lexer": "ipython3",
   "version": "3.9.13"
  }
 },
 "nbformat": 4,
 "nbformat_minor": 4
}
