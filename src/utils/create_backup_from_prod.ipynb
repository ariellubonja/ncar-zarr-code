{
 "cells": [
  {
   "cell_type": "code",
   "execution_count": 1,
   "id": "8c93dba0-a675-4a7f-af2b-fc800071486d",
   "metadata": {
    "execution": {
     "iopub.execute_input": "2024-02-19T00:20:05.330237Z",
     "iopub.status.busy": "2024-02-19T00:20:05.329265Z",
     "iopub.status.idle": "2024-02-19T00:20:05.352022Z",
     "shell.execute_reply": "2024-02-19T00:20:05.347971Z",
     "shell.execute_reply.started": "2024-02-19T00:20:05.330059Z"
    }
   },
   "outputs": [],
   "source": [
    "dataset_name = \"sabl2048a\""
   ]
  },
  {
   "cell_type": "code",
   "execution_count": 15,
   "id": "110aa936-a419-4e9a-a5e7-c750aa52c84c",
   "metadata": {
    "execution": {
     "iopub.execute_input": "2024-02-19T00:31:45.129304Z",
     "iopub.status.busy": "2024-02-19T00:31:45.128428Z",
     "iopub.status.idle": "2024-02-19T00:31:45.138641Z",
     "shell.execute_reply": "2024-02-19T00:31:45.136760Z",
     "shell.execute_reply.started": "2024-02-19T00:31:45.129244Z"
    },
    "tags": []
   },
   "outputs": [],
   "source": [
    "import write_utils\n",
    "import os\n",
    "import concurrent.futures\n",
    "import shutil"
   ]
  },
  {
   "cell_type": "code",
   "execution_count": 3,
   "id": "78469ad2-40c3-4a5d-950b-73318835541c",
   "metadata": {
    "execution": {
     "iopub.execute_input": "2024-02-19T00:20:07.255149Z",
     "iopub.status.busy": "2024-02-19T00:20:07.254281Z",
     "iopub.status.idle": "2024-02-19T00:20:07.278704Z",
     "shell.execute_reply": "2024-02-19T00:20:07.276994Z",
     "shell.execute_reply.started": "2024-02-19T00:20:07.255094Z"
    },
    "tags": []
   },
   "outputs": [
    {
     "data": {
      "text/plain": [
       "['/home/idies/workspace/turb/data01_01/zarr/',\n",
       " '/home/idies/workspace/turb/data02_01/zarr/',\n",
       " '/home/idies/workspace/turb/data03_01/zarr/',\n",
       " '/home/idies/workspace/turb/data04_01/zarr/',\n",
       " '/home/idies/workspace/turb/data05_01/zarr/']"
      ]
     },
     "execution_count": 3,
     "metadata": {},
     "output_type": "execute_result"
    }
   ],
   "source": [
    "# creatuple list of folder on filedb to which data should be copied\n",
    "# you may want to change this to avoid certain volumes\n",
    "folders=write_utils.list_fileDB_folders()\n",
    "\n",
    "folders.remove(\"/home/idies/workspace/turb/data09_02/zarr/\")\n",
    "folders.remove(\"/home/idies/workspace/turb/data07_02/zarr/\")\n",
    "\n",
    "folders[:5]"
   ]
  },
  {
   "cell_type": "code",
   "execution_count": 4,
   "id": "ff4f3984-337f-48ef-accb-3c4dfca52cbf",
   "metadata": {
    "execution": {
     "iopub.execute_input": "2024-02-19T00:20:07.281299Z",
     "iopub.status.busy": "2024-02-19T00:20:07.280761Z",
     "iopub.status.idle": "2024-02-19T00:20:07.293924Z",
     "shell.execute_reply": "2024-02-19T00:20:07.292203Z",
     "shell.execute_reply.started": "2024-02-19T00:20:07.281248Z"
    },
    "tags": []
   },
   "outputs": [
    {
     "data": {
      "text/plain": [
       "['/home/idies/workspace/turb/data01_01/zarr/sabl2048a_01_prod',\n",
       " '/home/idies/workspace/turb/data02_01/zarr/sabl2048a_02_prod',\n",
       " '/home/idies/workspace/turb/data03_01/zarr/sabl2048a_03_prod',\n",
       " '/home/idies/workspace/turb/data04_01/zarr/sabl2048a_04_prod',\n",
       " '/home/idies/workspace/turb/data05_01/zarr/sabl2048a_05_prod']"
      ]
     },
     "execution_count": 4,
     "metadata": {},
     "output_type": "execute_result"
    }
   ],
   "source": [
    "source_folders = folders.copy()\n",
    "\n",
    "for i in range(len(folders)):\n",
    "    source_folders[i] += dataset_name + \"_\" + str(i + 1).zfill(2) + \"_\" + \"prod\"\n",
    "\n",
    "source_folders[:5]"
   ]
  },
  {
   "cell_type": "code",
   "execution_count": 11,
   "id": "1ad3cc38-6598-4bf0-a2d7-0af42fba26db",
   "metadata": {
    "execution": {
     "iopub.execute_input": "2024-02-19T00:22:42.664548Z",
     "iopub.status.busy": "2024-02-19T00:22:42.663758Z",
     "iopub.status.idle": "2024-02-19T00:22:42.679839Z",
     "shell.execute_reply": "2024-02-19T00:22:42.677761Z",
     "shell.execute_reply.started": "2024-02-19T00:22:42.664493Z"
    },
    "scrolled": true,
    "tags": []
   },
   "outputs": [
    {
     "data": {
      "text/plain": [
       "['/home/idies/workspace/turb/data02_01/zarr/sabl2048a_02_back',\n",
       " '/home/idies/workspace/turb/data03_01/zarr/sabl2048a_03_back',\n",
       " '/home/idies/workspace/turb/data04_01/zarr/sabl2048a_04_back',\n",
       " '/home/idies/workspace/turb/data05_01/zarr/sabl2048a_05_back',\n",
       " '/home/idies/workspace/turb/data06_01/zarr/sabl2048a_06_back']"
      ]
     },
     "execution_count": 11,
     "metadata": {},
     "output_type": "execute_result"
    }
   ],
   "source": [
    "destination_folders = folders.copy()\n",
    "\n",
    "for i in range(len(folders)):\n",
    "    destination_folders[i] += dataset_name + \"_\" + str(i + 1).zfill(2) + \"_\" + \"back\"\n",
    "\n",
    "destination_folders = destination_folders[1:] + destination_folders[:1]\n",
    "\n",
    "destination_folders[:5]"
   ]
  },
  {
   "cell_type": "code",
   "execution_count": 13,
   "id": "78d0601b-d567-433d-a1a2-a04d6bfa674d",
   "metadata": {
    "execution": {
     "iopub.execute_input": "2024-02-19T00:31:17.140831Z",
     "iopub.status.busy": "2024-02-19T00:31:17.139979Z",
     "iopub.status.idle": "2024-02-19T00:31:17.154162Z",
     "shell.execute_reply": "2024-02-19T00:31:17.151505Z",
     "shell.execute_reply.started": "2024-02-19T00:31:17.140770Z"
    }
   },
   "outputs": [],
   "source": [
    "# ChatGPT\n",
    "def copy_folder(source, destination):\n",
    "    try:\n",
    "        # Delete the destination folder if it already exists\n",
    "        if os.path.exists(destination):\n",
    "            shutil.rmtree(destination)\n",
    "            print(f\"Deleted existing destination folder: {destination}\")\n",
    "\n",
    "        # Copy the contents of the source folder to the destination\n",
    "        shutil.copytree(source, destination)\n",
    "        print(f\"Copied from {source} to {destination}\")\n",
    "\n",
    "    except Exception as e:\n",
    "        print(f\"Error copying from {source} to {destination}\")\n",
    "        print(e)"
   ]
  },
  {
   "cell_type": "code",
   "execution_count": 16,
   "id": "424efee7-8417-43f0-90b1-1ee76feff2e8",
   "metadata": {
    "execution": {
     "iopub.execute_input": "2024-02-19T00:31:49.633701Z",
     "iopub.status.busy": "2024-02-19T00:31:49.632796Z",
     "iopub.status.idle": "2024-02-19T00:36:51.210802Z",
     "shell.execute_reply": "2024-02-19T00:36:51.203909Z",
     "shell.execute_reply.started": "2024-02-19T00:31:49.633595Z"
    },
    "tags": []
   },
   "outputs": [
    {
     "name": "stderr",
     "output_type": "stream",
     "text": [
      "\n",
      "KeyboardInterrupt\n",
      "\n"
     ]
    }
   ],
   "source": [
    "# ChatGPT\n",
    "with concurrent.futures.ThreadPoolExecutor() as executor:\n",
    "    # Submit the copy_folder function for each pair of folders to the executor\n",
    "    future_to_folder_pair = {executor.submit(copy_folder, source, destination): (source, destination) \n",
    "                             for source, destination in zip(source_folders, destination_folders)}\n",
    "\n",
    "    # Wait for the copy tasks to complete\n",
    "    for future in concurrent.futures.as_completed(future_to_folder_pair):\n",
    "        source, destination = future_to_folder_pair[future]\n",
    "        try:\n",
    "            future.result()\n",
    "        except Exception as e:\n",
    "            print(f\"Error copying from {source} to {destination}\")\n",
    "            print(e)"
   ]
  }
 ],
 "metadata": {
  "kernelspec": {
   "display_name": "Python 3.9 (py39)",
   "language": "python",
   "name": "py39"
  },
  "language_info": {
   "codemirror_mode": {
    "name": "ipython",
    "version": 3
   },
   "file_extension": ".py",
   "mimetype": "text/x-python",
   "name": "python",
   "nbconvert_exporter": "python",
   "pygments_lexer": "ipython3",
   "version": "3.9.13"
  }
 },
 "nbformat": 4,
 "nbformat_minor": 5
}
