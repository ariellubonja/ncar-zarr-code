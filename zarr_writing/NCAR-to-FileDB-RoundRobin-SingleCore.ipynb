{
 "cells": [
  {
   "cell_type": "markdown",
   "metadata": {},
   "source": [
    "## Convert all netCDF NCAR timestep files to Zarr 512 arrays, with Grouped Velocity components, with (64,64,64) chunk size, round-robined across FileDB nodes (spatially using Z-order)"
   ]
  },
  {
   "cell_type": "markdown",
   "metadata": {},
   "source": [
    "<font color=\"red\">Old Dask version gives this error https://github.com/dask/distributed/issues/3955</font>\n",
    "\n",
    "<font color='red'>Note: Careful when Setting Dask `local_directory` to remote server (e.g. Temporary) will HUGELY slow down functions</font>"
   ]
  },
  {
   "cell_type": "code",
   "execution_count": 1,
   "metadata": {},
   "outputs": [],
   "source": [
    "desired_cube_side = 512\n",
    "chunk_size = 64\n",
    "raw_ncar_folder_path = '/home/idies/workspace/turb/data02_02/ncar-high-rate-fixed-dt'\n",
    "use_dask = True\n",
    "dest_folder_name = \"sabl2048b\" # B is the high-rate data\n",
    "write_type = \"prod\" # or \"back\"\n",
    "\n",
    "n_dask_workers = 4\n",
    "\n",
    "timestep_nr = 1\n",
    "# timestep_range = range(1) # Ned's new High-rate fixed-dt has only 5 timesteps\n",
    "# timestep_range = range(3,5)"
   ]
  },
  {
   "cell_type": "code",
   "execution_count": 2,
   "metadata": {},
   "outputs": [
    {
     "name": "stdout",
     "output_type": "stream",
     "text": [
      "/home/idies/workspace/Storage/ariel4/persistent/ncar-zarr-code/zarr_writing\n"
     ]
    }
   ],
   "source": [
    "%cd /home/idies/workspace/Storage/ariel4/persistent/ncar-zarr-code/zarr_writing"
   ]
  },
  {
   "cell_type": "code",
   "execution_count": 3,
   "metadata": {},
   "outputs": [],
   "source": [
    "import xarray as xr\n",
    "from utils import write_tools\n",
    "import dask\n",
    "import os"
   ]
  },
  {
   "cell_type": "markdown",
   "metadata": {},
   "source": [
    "### Get target Folder list"
   ]
  },
  {
   "cell_type": "code",
   "execution_count": 4,
   "metadata": {},
   "outputs": [],
   "source": [
    "folders=write_tools.list_fileDB_folders()\n",
    "\n",
    "# Avoiding 7-2 and 9-2 - they're too full as of May 2023\n",
    "folders.remove(\"/home/idies/workspace/turb/data09_02/zarr/\")\n",
    "folders.remove(\"/home/idies/workspace/turb/data07_02/zarr/\")\n",
    "\n",
    "for i in range(len(folders)):\n",
    "    folders[i] += dest_folder_name + \"_\" + str(i + 1).zfill(2) + \"_\" + write_type + \"/\"\n",
    "\n",
    "# folders[:5]\n",
    "\n",
    "# Create top-level dirs\n",
    "\n",
    "# for folder_path in folders:\n",
    "#     os.makedirs(folder_path, exist_ok=False)"
   ]
  },
  {
   "cell_type": "markdown",
   "metadata": {},
   "source": [
    "<font color=\"orange\">Don't delete the CD cell!</font>"
   ]
  },
  {
   "cell_type": "code",
   "execution_count": 5,
   "metadata": {},
   "outputs": [
    {
     "name": "stdout",
     "output_type": "stream",
     "text": [
      "/home/idies/workspace/turb/data02_02/ncar-high-rate-fixed-dt\n"
     ]
    }
   ],
   "source": [
    "%cd /home/idies/workspace/turb/data02_02/ncar-high-rate-fixed-dt"
   ]
  },
  {
   "cell_type": "code",
   "execution_count": 6,
   "metadata": {},
   "outputs": [
    {
     "name": "stdout",
     "output_type": "stream",
     "text": [
      "Done preparing data. Starting to write...\n"
     ]
    }
   ],
   "source": [
    "# for timestep_nr in timestep_range:\n",
    "data_xr = xr.open_dataset(raw_ncar_folder_path + \"/jhd.\" + str(timestep_nr).zfill(3) + \".nc\")\n",
    "\n",
    "# Group 3 velocity components together\n",
    "# This fails with Dask bcs. of write permission error on SciServer Job\n",
    "# Never use dask with remote location on this!!\n",
    "merged_velocity = write_tools.merge_velocities(data_xr, chunk_size_base=chunk_size, use_dask=True, n_dask_workers=n_dask_workers)\n",
    "\n",
    "\n",
    "# Unabbreviate 'e', 'p', 't' variable names\n",
    "merged_velocity = merged_velocity.rename({'e': 'energy', 't': 'temperature', 'p': 'pressure'})\n",
    "\n",
    "# Split 2048^3 into smaller 512^3 arrays\n",
    "dims = [dim for dim in data_xr.dims]\n",
    "dims.reverse() # use (nnz, nny, nnx) instead of (nnx, nny, nnz)\n",
    "\n",
    "smaller_groups, _ = write_tools.split_zarr_group(merged_velocity, desired_cube_side, dims)\n",
    "\n",
    "# Given up in favor of Ryan's node coloring technique\n",
    "#     z_order = write_tools.morton_order_cube(cube_side=4)\n",
    "\n",
    "node_assignments = write_tools.node_assignment(cube_side=4)\n",
    "\n",
    "\n",
    "# Distribute them across FileDB\n",
    "cubes = smaller_groups\n",
    "\n",
    "encoding={\n",
    "    \"velocity\": dict(chunks=(chunk_size, chunk_size, chunk_size, 3), compressor=None),\n",
    "    \"pressure\": dict(chunks=(chunk_size, chunk_size, chunk_size, 1), compressor=None),\n",
    "    \"temperature\": dict(chunks=(chunk_size, chunk_size, chunk_size, 1), compressor=None),\n",
    "    \"energy\": dict(chunks=(chunk_size, chunk_size, chunk_size, 1), compressor=None)\n",
    "}\n",
    "\n",
    "print('Done preparing data. Starting to write...')"
   ]
  },
  {
   "cell_type": "code",
   "execution_count": 11,
   "metadata": {
    "scrolled": true,
    "tags": []
   },
   "outputs": [
    {
     "name": "stdout",
     "output_type": "stream",
     "text": [
      "Done writing /home/idies/workspace/turb/data01_01/zarr/sabl2048b_01_prod/sabl2048b01_001.zarr\n",
      "Done writing /home/idies/workspace/turb/data02_01/zarr/sabl2048b_02_prod/sabl2048b02_001.zarr\n",
      "Done writing /home/idies/workspace/turb/data03_01/zarr/sabl2048b_03_prod/sabl2048b03_001.zarr\n",
      "Done writing /home/idies/workspace/turb/data04_01/zarr/sabl2048b_04_prod/sabl2048b04_001.zarr\n",
      "Done writing /home/idies/workspace/turb/data05_01/zarr/sabl2048b_05_prod/sabl2048b05_001.zarr\n",
      "Done writing /home/idies/workspace/turb/data06_01/zarr/sabl2048b_06_prod/sabl2048b06_001.zarr\n",
      "Done writing /home/idies/workspace/turb/data07_01/zarr/sabl2048b_07_prod/sabl2048b07_001.zarr\n",
      "Done writing /home/idies/workspace/turb/data08_01/zarr/sabl2048b_08_prod/sabl2048b08_001.zarr\n",
      "Done writing /home/idies/workspace/turb/data09_01/zarr/sabl2048b_09_prod/sabl2048b09_001.zarr\n",
      "Done writing /home/idies/workspace/turb/data10_01/zarr/sabl2048b_10_prod/sabl2048b10_001.zarr\n",
      "Done writing /home/idies/workspace/turb/data11_01/zarr/sabl2048b_11_prod/sabl2048b11_001.zarr\n",
      "Done writing /home/idies/workspace/turb/data12_01/zarr/sabl2048b_12_prod/sabl2048b12_001.zarr\n",
      "Done writing /home/idies/workspace/turb/data01_02/zarr/sabl2048b_13_prod/sabl2048b13_001.zarr\n",
      "Done writing /home/idies/workspace/turb/data02_02/zarr/sabl2048b_14_prod/sabl2048b14_001.zarr\n",
      "Done writing /home/idies/workspace/turb/data03_02/zarr/sabl2048b_15_prod/sabl2048b15_001.zarr\n",
      "Done writing /home/idies/workspace/turb/data04_02/zarr/sabl2048b_16_prod/sabl2048b16_001.zarr\n",
      "Done writing /home/idies/workspace/turb/data05_02/zarr/sabl2048b_17_prod/sabl2048b17_001.zarr\n",
      "Done writing /home/idies/workspace/turb/data06_02/zarr/sabl2048b_18_prod/sabl2048b18_001.zarr\n",
      "Done writing /home/idies/workspace/turb/data08_02/zarr/sabl2048b_19_prod/sabl2048b19_001.zarr\n",
      "Done writing /home/idies/workspace/turb/data10_02/zarr/sabl2048b_20_prod/sabl2048b20_001.zarr\n",
      "Done writing /home/idies/workspace/turb/data11_02/zarr/sabl2048b_21_prod/sabl2048b21_001.zarr\n",
      "Done writing /home/idies/workspace/turb/data12_02/zarr/sabl2048b_22_prod/sabl2048b22_001.zarr\n",
      "Done writing /home/idies/workspace/turb/data01_03/zarr/sabl2048b_23_prod/sabl2048b23_001.zarr\n",
      "Done writing /home/idies/workspace/turb/data02_03/zarr/sabl2048b_24_prod/sabl2048b24_001.zarr\n",
      "Done writing /home/idies/workspace/turb/data03_03/zarr/sabl2048b_25_prod/sabl2048b25_001.zarr\n",
      "Done writing /home/idies/workspace/turb/data04_03/zarr/sabl2048b_26_prod/sabl2048b26_001.zarr\n",
      "Done writing /home/idies/workspace/turb/data05_03/zarr/sabl2048b_27_prod/sabl2048b27_001.zarr\n",
      "Done writing /home/idies/workspace/turb/data06_03/zarr/sabl2048b_28_prod/sabl2048b28_001.zarr\n",
      "Done writing /home/idies/workspace/turb/data07_03/zarr/sabl2048b_29_prod/sabl2048b29_001.zarr\n",
      "Done writing /home/idies/workspace/turb/data08_03/zarr/sabl2048b_30_prod/sabl2048b30_001.zarr\n",
      "Done writing /home/idies/workspace/turb/data09_03/zarr/sabl2048b_31_prod/sabl2048b31_001.zarr\n",
      "Done writing /home/idies/workspace/turb/data10_03/zarr/sabl2048b_32_prod/sabl2048b32_001.zarr\n",
      "Done writing /home/idies/workspace/turb/data11_03/zarr/sabl2048b_33_prod/sabl2048b33_001.zarr\n",
      "Done writing /home/idies/workspace/turb/data12_03/zarr/sabl2048b_34_prod/sabl2048b34_001.zarr\n",
      "Done writing /home/idies/workspace/turb/data01_01/zarr/sabl2048b_01_prod/sabl2048b01_001.zarr\n",
      "Done writing /home/idies/workspace/turb/data02_01/zarr/sabl2048b_02_prod/sabl2048b02_001.zarr\n",
      "Done writing /home/idies/workspace/turb/data03_01/zarr/sabl2048b_03_prod/sabl2048b03_001.zarr\n",
      "Done writing /home/idies/workspace/turb/data04_01/zarr/sabl2048b_04_prod/sabl2048b04_001.zarr\n",
      "Done writing /home/idies/workspace/turb/data05_01/zarr/sabl2048b_05_prod/sabl2048b05_001.zarr\n",
      "Done writing /home/idies/workspace/turb/data06_01/zarr/sabl2048b_06_prod/sabl2048b06_001.zarr\n",
      "Done writing /home/idies/workspace/turb/data07_01/zarr/sabl2048b_07_prod/sabl2048b07_001.zarr\n",
      "Done writing /home/idies/workspace/turb/data08_01/zarr/sabl2048b_08_prod/sabl2048b08_001.zarr\n",
      "Done writing /home/idies/workspace/turb/data09_01/zarr/sabl2048b_09_prod/sabl2048b09_001.zarr\n",
      "Done writing /home/idies/workspace/turb/data10_01/zarr/sabl2048b_10_prod/sabl2048b10_001.zarr\n",
      "Done writing /home/idies/workspace/turb/data11_01/zarr/sabl2048b_11_prod/sabl2048b11_001.zarr\n",
      "Done writing /home/idies/workspace/turb/data12_01/zarr/sabl2048b_12_prod/sabl2048b12_001.zarr\n",
      "Done writing /home/idies/workspace/turb/data01_02/zarr/sabl2048b_13_prod/sabl2048b13_001.zarr\n",
      "Done writing /home/idies/workspace/turb/data02_02/zarr/sabl2048b_14_prod/sabl2048b14_001.zarr\n",
      "Done writing /home/idies/workspace/turb/data03_02/zarr/sabl2048b_15_prod/sabl2048b15_001.zarr\n",
      "Done writing /home/idies/workspace/turb/data04_02/zarr/sabl2048b_16_prod/sabl2048b16_001.zarr\n",
      "Done writing /home/idies/workspace/turb/data05_02/zarr/sabl2048b_17_prod/sabl2048b17_001.zarr\n",
      "Done writing /home/idies/workspace/turb/data06_02/zarr/sabl2048b_18_prod/sabl2048b18_001.zarr\n",
      "Done writing /home/idies/workspace/turb/data08_02/zarr/sabl2048b_19_prod/sabl2048b19_001.zarr\n",
      "Done writing /home/idies/workspace/turb/data10_02/zarr/sabl2048b_20_prod/sabl2048b20_001.zarr\n",
      "Done writing /home/idies/workspace/turb/data11_02/zarr/sabl2048b_21_prod/sabl2048b21_001.zarr\n",
      "Done writing /home/idies/workspace/turb/data12_02/zarr/sabl2048b_22_prod/sabl2048b22_001.zarr\n",
      "Done writing /home/idies/workspace/turb/data01_03/zarr/sabl2048b_23_prod/sabl2048b23_001.zarr\n",
      "Done writing /home/idies/workspace/turb/data02_03/zarr/sabl2048b_24_prod/sabl2048b24_001.zarr\n",
      "Done writing /home/idies/workspace/turb/data03_03/zarr/sabl2048b_25_prod/sabl2048b25_001.zarr\n",
      "Done writing /home/idies/workspace/turb/data04_03/zarr/sabl2048b_26_prod/sabl2048b26_001.zarr\n",
      "Done writing /home/idies/workspace/turb/data05_03/zarr/sabl2048b_27_prod/sabl2048b27_001.zarr\n",
      "Done writing /home/idies/workspace/turb/data06_03/zarr/sabl2048b_28_prod/sabl2048b28_001.zarr\n",
      "Done writing /home/idies/workspace/turb/data07_03/zarr/sabl2048b_29_prod/sabl2048b29_001.zarr\n",
      "Done writing /home/idies/workspace/turb/data08_03/zarr/sabl2048b_30_prod/sabl2048b30_001.zarr\n"
     ]
    }
   ],
   "source": [
    "# Do not use Dask here! Always Kernel Died, even with only 2 workers\n",
    "\n",
    "tasks = []\n",
    "for i in range(len(cubes)):\n",
    "    for j in range(len(cubes[i])):\n",
    "        for k in range(len(cubes[i][j])):\n",
    "            filedb_index = node_assignments[i][j][k]# % len(folders) # ryan's node assignment accounts for nr. nodes on filedb\n",
    "            current_array = cubes[i][j][k]\n",
    "            \n",
    "            chunk_nr = 16 * i + 4 * j + k\n",
    "\n",
    "            # turb/data02_02/sabl2048b_prod/ + sabl2048b + 05 + _ + 001.zarr\n",
    "            dest_groupname = os.path.join(folders[filedb_index - 1], dest_folder_name + str(chunk_nr + 1).zfill(2) + \"_\" + str(timestep_nr).zfill(3) + \".zarr\")\n",
    "\n",
    "            write_tools.write_to_disk(dest_groupname, current_array, encoding)"
   ]
  },
  {
   "cell_type": "code",
   "execution_count": null,
   "metadata": {},
   "outputs": [],
   "source": []
  }
 ],
 "metadata": {
  "kernelspec": {
   "display_name": "latest-dask",
   "language": "python",
   "name": "latest-dask"
  },
  "language_info": {
   "codemirror_mode": {
    "name": "ipython",
    "version": 3
   },
   "file_extension": ".py",
   "mimetype": "text/x-python",
   "name": "python",
   "nbconvert_exporter": "python",
   "pygments_lexer": "ipython3",
   "version": "3.8.5"
  }
 },
 "nbformat": 4,
 "nbformat_minor": 4
}
