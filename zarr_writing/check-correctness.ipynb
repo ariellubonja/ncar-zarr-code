{
 "cells": [
  {
   "cell_type": "code",
   "execution_count": 1,
   "id": "f8c56d1b-f9cd-4cca-84e2-527ff025a26e",
   "metadata": {
    "execution": {
     "iopub.execute_input": "2023-09-11T20:17:17.547897Z",
     "iopub.status.busy": "2023-09-11T20:17:17.546871Z",
     "iopub.status.idle": "2023-09-11T20:17:20.321778Z",
     "shell.execute_reply": "2023-09-11T20:17:20.319815Z",
     "shell.execute_reply.started": "2023-09-11T20:17:17.547678Z"
    }
   },
   "outputs": [],
   "source": [
    "import zarr\n",
    "import numpy as np\n",
    "from utils import write_tools\n",
    "from utils.write_tools import flatten_3d_list"
   ]
  },
  {
   "cell_type": "code",
   "execution_count": 2,
   "id": "755872df-3091-4d34-b35c-87890c25d525",
   "metadata": {
    "execution": {
     "iopub.execute_input": "2023-09-11T20:17:20.326749Z",
     "iopub.status.busy": "2023-09-11T20:17:20.326153Z",
     "iopub.status.idle": "2023-09-11T20:17:20.338472Z",
     "shell.execute_reply": "2023-09-11T20:17:20.335971Z",
     "shell.execute_reply.started": "2023-09-11T20:17:20.326693Z"
    }
   },
   "outputs": [],
   "source": [
    "array_cube_side = 2048\n",
    "raw_ncar_folder_path = '/home/idies/workspace/turb/data02_02/ncar-high-rate-fixed-dt'\n",
    "dest_folder_name = \"sabl2048b\"  # B is the high-rate data\n",
    "write_type = \"prod\"  # or \"back\" for backup"
   ]
  },
  {
   "cell_type": "code",
   "execution_count": 3,
   "id": "498e42d8-78cc-460f-80c2-61de33e56c18",
   "metadata": {
    "execution": {
     "iopub.execute_input": "2023-09-11T20:17:20.340782Z",
     "iopub.status.busy": "2023-09-11T20:17:20.340213Z",
     "iopub.status.idle": "2023-09-11T20:17:20.351733Z",
     "shell.execute_reply": "2023-09-11T20:17:20.349637Z",
     "shell.execute_reply.started": "2023-09-11T20:17:20.340729Z"
    }
   },
   "outputs": [],
   "source": [
    "def verify_512_cube_data(original_512, zarr_512_path):\n",
    "    zarr_512 = zarr.open_group(zarr_512_path, mode='r')\n",
    "    for var in original_512.data_vars:\n",
    "        np.testing.assert_array_equal(original_512[var].values, zarr_512[var][:])"
   ]
  },
  {
   "cell_type": "code",
   "execution_count": 4,
   "id": "aade1b22-10df-465e-8868-8d342eb39db8",
   "metadata": {
    "execution": {
     "iopub.execute_input": "2023-09-11T20:17:20.354187Z",
     "iopub.status.busy": "2023-09-11T20:17:20.353626Z",
     "iopub.status.idle": "2023-09-11T20:17:27.883878Z",
     "shell.execute_reply": "2023-09-11T20:17:27.881817Z",
     "shell.execute_reply.started": "2023-09-11T20:17:20.354117Z"
    }
   },
   "outputs": [
    {
     "name": "stdout",
     "output_type": "stream",
     "text": [
      "Started preparing NetCDF data for verification. This will take ~20min\n",
      "Done preparing data. Starting to verify...\n"
     ]
    }
   ],
   "source": [
    "timestep_nr = 1\n",
    "\n",
    "queue = []\n",
    "cubes, _ = write_tools.prepare_data(raw_ncar_folder_path + \"/jhd.\" + str(timestep_nr).zfill(3) + \".nc\")\n",
    "cubes = flatten_3d_list(cubes)\n",
    "dests = write_tools.get_512_chunk_destinations(dest_folder_name, write_type, timestep_nr, array_cube_side)\n",
    "\n",
    "for i in range(len(dests)):\n",
    "    queue.append((cubes[i], dests[i]))\n"
   ]
  },
  {
   "cell_type": "code",
   "execution_count": 5,
   "id": "9e555f80-846c-470b-84fd-365b374b627b",
   "metadata": {
    "execution": {
     "iopub.execute_input": "2023-09-11T20:17:27.890355Z",
     "iopub.status.busy": "2023-09-11T20:17:27.889759Z",
     "iopub.status.idle": "2023-09-11T20:17:27.902159Z",
     "shell.execute_reply": "2023-09-11T20:17:27.900168Z",
     "shell.execute_reply.started": "2023-09-11T20:17:27.890297Z"
    },
    "tags": []
   },
   "outputs": [],
   "source": [
    "i=0\n",
    "\n",
    "written_512 = zarr.open_group(dests[i], mode='r')\n",
    "original_512 = cubes[i]"
   ]
  },
  {
   "cell_type": "code",
   "execution_count": 6,
   "id": "7f7f1cfe-df38-4376-8445-7200fc779b40",
   "metadata": {
    "execution": {
     "iopub.execute_input": "2023-09-11T20:17:27.904483Z",
     "iopub.status.busy": "2023-09-11T20:17:27.903882Z",
     "iopub.status.idle": "2023-09-11T20:17:27.914537Z",
     "shell.execute_reply": "2023-09-11T20:17:27.912528Z",
     "shell.execute_reply.started": "2023-09-11T20:17:27.904394Z"
    },
    "tags": []
   },
   "outputs": [],
   "source": [
    "from dask.array.utils import assert_eq"
   ]
  },
  {
   "cell_type": "code",
   "execution_count": 7,
   "id": "5c621417-3756-45e7-aafb-a8d9a5c75ffb",
   "metadata": {
    "execution": {
     "iopub.execute_input": "2023-09-11T20:17:27.916587Z",
     "iopub.status.busy": "2023-09-11T20:17:27.915966Z",
     "iopub.status.idle": "2023-09-11T20:17:27.949536Z",
     "shell.execute_reply": "2023-09-11T20:17:27.947416Z",
     "shell.execute_reply.started": "2023-09-11T20:17:27.916532Z"
    },
    "tags": []
   },
   "outputs": [
    {
     "data": {
      "text/plain": [
       "zarr.core.Array"
      ]
     },
     "execution_count": 7,
     "metadata": {},
     "output_type": "execute_result"
    }
   ],
   "source": [
    "type(written_512['energy'])"
   ]
  },
  {
   "cell_type": "code",
   "execution_count": 8,
   "id": "98e42f67-07db-4f9d-b4dc-c40fe6d5b895",
   "metadata": {
    "execution": {
     "iopub.execute_input": "2023-09-11T20:17:27.952081Z",
     "iopub.status.busy": "2023-09-11T20:17:27.951524Z",
     "iopub.status.idle": "2023-09-11T20:17:27.973561Z",
     "shell.execute_reply": "2023-09-11T20:17:27.971378Z",
     "shell.execute_reply.started": "2023-09-11T20:17:27.952027Z"
    },
    "tags": []
   },
   "outputs": [
    {
     "data": {
      "text/plain": [
       "xarray.core.dataarray.DataArray"
      ]
     },
     "execution_count": 8,
     "metadata": {},
     "output_type": "execute_result"
    }
   ],
   "source": [
    "type(original_512['energy'])"
   ]
  },
  {
   "cell_type": "code",
   "execution_count": 9,
   "id": "9a72d362-4002-4e51-a9ac-ebded257ad33",
   "metadata": {
    "execution": {
     "iopub.execute_input": "2023-09-11T20:17:27.976826Z",
     "iopub.status.busy": "2023-09-11T20:17:27.976195Z",
     "iopub.status.idle": "2023-09-11T20:17:27.988269Z",
     "shell.execute_reply": "2023-09-11T20:17:27.986029Z",
     "shell.execute_reply.started": "2023-09-11T20:17:27.976771Z"
    },
    "tags": []
   },
   "outputs": [],
   "source": [
    "import dask.array as da\n",
    "\n",
    "dask_array_from_zarr = da.from_zarr(written_512['energy'])"
   ]
  },
  {
   "cell_type": "code",
   "execution_count": 10,
   "id": "bc69e59f-1cdc-4457-99d7-25ae6cb3c7fa",
   "metadata": {
    "execution": {
     "iopub.execute_input": "2023-09-11T20:17:27.991219Z",
     "iopub.status.busy": "2023-09-11T20:17:27.990644Z",
     "iopub.status.idle": "2023-09-11T20:17:28.005845Z",
     "shell.execute_reply": "2023-09-11T20:17:28.003390Z",
     "shell.execute_reply.started": "2023-09-11T20:17:27.991164Z"
    }
   },
   "outputs": [
    {
     "data": {
      "text/plain": [
       "dask.array.core.Array"
      ]
     },
     "execution_count": 10,
     "metadata": {},
     "output_type": "execute_result"
    }
   ],
   "source": [
    "type(dask_array_from_zarr)"
   ]
  },
  {
   "cell_type": "code",
   "execution_count": 11,
   "id": "74a92c4f-fc34-4908-99bf-f859f5c2cb75",
   "metadata": {
    "execution": {
     "iopub.execute_input": "2023-09-11T20:17:28.009200Z",
     "iopub.status.busy": "2023-09-11T20:17:28.008611Z",
     "iopub.status.idle": "2023-09-11T20:17:28.017697Z",
     "shell.execute_reply": "2023-09-11T20:17:28.015499Z",
     "shell.execute_reply.started": "2023-09-11T20:17:28.009143Z"
    },
    "tags": []
   },
   "outputs": [],
   "source": [
    "dask_array_from_xarray = original_512['energy'].data"
   ]
  },
  {
   "cell_type": "code",
   "execution_count": 12,
   "id": "3f051251-88f4-4c20-b278-cc85277bc5be",
   "metadata": {
    "execution": {
     "iopub.execute_input": "2023-09-11T20:17:28.020397Z",
     "iopub.status.busy": "2023-09-11T20:17:28.019804Z",
     "iopub.status.idle": "2023-09-11T20:17:28.031802Z",
     "shell.execute_reply": "2023-09-11T20:17:28.029839Z",
     "shell.execute_reply.started": "2023-09-11T20:17:28.020343Z"
    },
    "tags": []
   },
   "outputs": [
    {
     "data": {
      "text/plain": [
       "dask.array.core.Array"
      ]
     },
     "execution_count": 12,
     "metadata": {},
     "output_type": "execute_result"
    }
   ],
   "source": [
    "type(dask_array_from_xarray)"
   ]
  },
  {
   "cell_type": "code",
   "execution_count": 13,
   "id": "4d4aad1e-484a-434e-8542-39f690bf4f06",
   "metadata": {
    "execution": {
     "iopub.execute_input": "2023-09-11T20:17:28.034697Z",
     "iopub.status.busy": "2023-09-11T20:17:28.033948Z",
     "iopub.status.idle": "2023-09-11T20:17:55.100794Z",
     "shell.execute_reply": "2023-09-11T20:17:55.098677Z",
     "shell.execute_reply.started": "2023-09-11T20:17:28.034643Z"
    },
    "tags": []
   },
   "outputs": [
    {
     "data": {
      "text/plain": [
       "True"
      ]
     },
     "execution_count": 13,
     "metadata": {},
     "output_type": "execute_result"
    }
   ],
   "source": [
    "assert_eq(dask_array_from_xarray, dask_array_from_zarr)"
   ]
  },
  {
   "cell_type": "code",
   "execution_count": null,
   "id": "4d90f0fd-ad2e-4301-a225-142d2a3be896",
   "metadata": {
    "execution": {
     "iopub.status.busy": "2023-09-11T20:30:41.407858Z",
     "iopub.status.idle": "2023-09-11T20:30:41.408699Z",
     "shell.execute_reply": "2023-09-11T20:30:41.408292Z",
     "shell.execute_reply.started": "2023-09-11T20:30:41.408248Z"
    },
    "tags": []
   },
   "outputs": [],
   "source": [
    "from dask.distributed import Client\n",
    "\n",
    "# Create a local Dask cluster with a specified number of workers\n",
    "client = Client(n_workers=4)  # For example, 4 workers\n"
   ]
  },
  {
   "cell_type": "code",
   "execution_count": 21,
   "id": "dee5b274-75ed-4741-8ee2-efa2e19b1293",
   "metadata": {
    "execution": {
     "iopub.execute_input": "2023-09-11T20:29:51.759513Z",
     "iopub.status.busy": "2023-09-11T20:29:51.758636Z",
     "iopub.status.idle": "2023-09-11T20:29:51.776837Z",
     "shell.execute_reply": "2023-09-11T20:29:51.774611Z",
     "shell.execute_reply.started": "2023-09-11T20:29:51.759414Z"
    },
    "tags": []
   },
   "outputs": [],
   "source": [
    "from dask import delayed, compute\n",
    "\n",
    "def test_data_comparison():\n",
    "    for original_512, zarr_512_path in zip(cubes, dests):\n",
    "        print(zarr_512_path)\n",
    "        verify_512_cube_data(original_512, zarr_512_path)\n",
    "\n",
    "        \n",
    "def verify_512_cube_data(original_512, zarr_512_path):\n",
    "    zarr_512 = zarr.open_group(zarr_512_path, mode='r')\n",
    "    \n",
    "    a = assert_eq(original_512[var].data, da.from_zarr(zarr_512[var]))\n",
    "    \n",
    "    # Compute all the delayed objects in parallel\n",
    "    computed_results = compute(*results)\n",
    "    \n",
    "    for var, is_equal in computed_results:\n",
    "        print(f\"Variable: {var}, Equal: {is_equal}\")\n",
    "\n",
    "    return computed_results"
   ]
  },
  {
   "cell_type": "code",
   "execution_count": 24,
   "id": "6a94d342-5ae3-4796-b52f-af26712a4119",
   "metadata": {
    "execution": {
     "iopub.execute_input": "2023-09-11T20:29:52.096783Z",
     "iopub.status.busy": "2023-09-11T20:29:52.095997Z",
     "iopub.status.idle": "2023-09-11T20:36:29.781192Z",
     "shell.execute_reply": "2023-09-11T20:36:29.682640Z",
     "shell.execute_reply.started": "2023-09-11T20:30:58.932678Z"
    },
    "tags": []
   },
   "outputs": [
    {
     "name": "stdout",
     "output_type": "stream",
     "text": [
      "/home/idies/workspace/turb/data01_01/zarr/sabl2048b_01_prod/sabl2048b01_001.zarr\n",
      "Variable: temperature, Equal: True\n",
      "Variable: pressure, Equal: True\n",
      "Variable: energy, Equal: True\n",
      "Variable: velocity, Equal: True\n",
      "/home/idies/workspace/turb/data02_01/zarr/sabl2048b_02_prod/sabl2048b02_001.zarr\n"
     ]
    },
    {
     "name": "stderr",
     "output_type": "stream",
     "text": [
      "Process Dask Worker process (from Nanny):\n",
      "2023-09-11 16:36:26,947 - distributed.nanny - ERROR - Worker process died unexpectedly\n",
      "Process Dask Worker process (from Nanny):\n",
      "2023-09-11 16:36:26,948 - distributed.nanny - ERROR - Worker process died unexpectedly\n",
      "2023-09-11 16:36:26,948 - distributed.nanny - ERROR - Worker process died unexpectedly\n",
      "Traceback (most recent call last):\n",
      "  File \"/home/idies/mambaforge/envs/py39/lib/python3.9/multiprocessing/process.py\", line 315, in _bootstrap\n",
      "    self.run()\n",
      "  File \"/home/idies/mambaforge/envs/py39/lib/python3.9/multiprocessing/process.py\", line 108, in run\n",
      "    self._target(*self._args, **self._kwargs)\n",
      "  File \"/home/idies/mambaforge/envs/py39/lib/python3.9/site-packages/distributed/process.py\", line 188, in _run\n",
      "    target(*args, **kwargs)\n",
      "  File \"/home/idies/mambaforge/envs/py39/lib/python3.9/site-packages/distributed/nanny.py\", line 981, in _run\n",
      "    asyncio.run(run())\n",
      "Traceback (most recent call last):\n",
      "  File \"/home/idies/mambaforge/envs/py39/lib/python3.9/asyncio/runners.py\", line 47, in run\n",
      "    _cancel_all_tasks(loop)\n",
      "  File \"/home/idies/mambaforge/envs/py39/lib/python3.9/asyncio/runners.py\", line 63, in _cancel_all_tasks\n",
      "    loop.run_until_complete(\n",
      "  File \"/home/idies/mambaforge/envs/py39/lib/python3.9/asyncio/base_events.py\", line 634, in run_until_complete\n",
      "    self.run_forever()\n",
      "  File \"/home/idies/mambaforge/envs/py39/lib/python3.9/asyncio/base_events.py\", line 601, in run_forever\n",
      "    self._run_once()\n",
      "  File \"/home/idies/mambaforge/envs/py39/lib/python3.9/asyncio/base_events.py\", line 1905, in _run_once\n",
      "    handle._run()\n",
      "  File \"/home/idies/mambaforge/envs/py39/lib/python3.9/asyncio/events.py\", line 80, in _run\n",
      "    self._context.run(self._callback, *self._args)\n",
      "  File \"/home/idies/mambaforge/envs/py39/lib/python3.9/site-packages/tornado/ioloop.py\", line 688, in <lambda>\n",
      "    lambda f: self._run_callback(functools.partial(callback, future))\n",
      "  File \"/home/idies/mambaforge/envs/py39/lib/python3.9/site-packages/tornado/ioloop.py\", line 741, in _run_callback\n",
      "    ret = callback()\n",
      "  File \"/home/idies/mambaforge/envs/py39/lib/python3.9/site-packages/tornado/ioloop.py\", line 765, in _discard_future_result\n",
      "    future.result()\n",
      "  File \"/home/idies/mambaforge/envs/py39/lib/python3.9/asyncio/runners.py\", line 44, in run\n",
      "    return loop.run_until_complete(main)\n",
      "  File \"/home/idies/mambaforge/envs/py39/lib/python3.9/asyncio/base_events.py\", line 634, in run_until_complete\n",
      "    self.run_forever()\n",
      "  File \"/home/idies/mambaforge/envs/py39/lib/python3.9/asyncio/base_events.py\", line 601, in run_forever\n",
      "    self._run_once()\n",
      "  File \"/home/idies/mambaforge/envs/py39/lib/python3.9/asyncio/base_events.py\", line 1905, in _run_once\n",
      "    handle._run()\n",
      "  File \"/home/idies/mambaforge/envs/py39/lib/python3.9/asyncio/events.py\", line 80, in _run\n",
      "    self._context.run(self._callback, *self._args)\n",
      "  File \"/home/idies/mambaforge/envs/py39/lib/python3.9/site-packages/distributed/compatibility.py\", line 161, in _run\n",
      "    val = self.callback()\n",
      "  File \"/home/idies/mambaforge/envs/py39/lib/python3.9/site-packages/distributed/worker.py\", line 2368, in trigger_profile\n",
      "    if not self.active_threads:  # hope that this is thread-atomic?\n",
      "Process Dask Worker process (from Nanny):\n",
      "KeyboardInterrupt\n",
      "  File \"/home/idies/mambaforge/envs/py39/lib/python3.9/multiprocessing/process.py\", line 315, in _bootstrap\n",
      "    self.run()\n",
      "  File \"/home/idies/mambaforge/envs/py39/lib/python3.9/multiprocessing/process.py\", line 108, in run\n",
      "    self._target(*self._args, **self._kwargs)\n",
      "  File \"/home/idies/mambaforge/envs/py39/lib/python3.9/site-packages/distributed/process.py\", line 188, in _run\n",
      "    target(*args, **kwargs)\n",
      "  File \"/home/idies/mambaforge/envs/py39/lib/python3.9/site-packages/distributed/nanny.py\", line 981, in _run\n",
      "    asyncio.run(run())\n",
      "  File \"/home/idies/mambaforge/envs/py39/lib/python3.9/asyncio/runners.py\", line 47, in run\n",
      "    _cancel_all_tasks(loop)\n",
      "  File \"/home/idies/mambaforge/envs/py39/lib/python3.9/asyncio/runners.py\", line 63, in _cancel_all_tasks\n",
      "    loop.run_until_complete(\n",
      "  File \"/home/idies/mambaforge/envs/py39/lib/python3.9/asyncio/base_events.py\", line 634, in run_until_complete\n",
      "    self.run_forever()\n",
      "  File \"/home/idies/mambaforge/envs/py39/lib/python3.9/asyncio/base_events.py\", line 601, in run_forever\n",
      "    self._run_once()\n",
      "  File \"/home/idies/mambaforge/envs/py39/lib/python3.9/asyncio/base_events.py\", line 1905, in _run_once\n",
      "    handle._run()\n",
      "  File \"/home/idies/mambaforge/envs/py39/lib/python3.9/asyncio/events.py\", line 80, in _run\n",
      "    self._context.run(self._callback, *self._args)\n",
      "  File \"/home/idies/mambaforge/envs/py39/lib/python3.9/site-packages/distributed/worker.py\", line 192, in wrapper\n",
      "    return method(self, *args, **kwargs)\n",
      "  File \"/home/idies/mambaforge/envs/py39/lib/python3.9/site-packages/distributed/worker.py\", line 1916, in _handle_stimulus_from_task\n",
      "    super()._handle_stimulus_from_task(task)\n",
      "  File \"/home/idies/mambaforge/envs/py39/lib/python3.9/site-packages/distributed/worker_state_machine.py\", line 3610, in _handle_stimulus_from_task\n",
      "    stim = task.result()\n",
      "  File \"/home/idies/mambaforge/envs/py39/lib/python3.9/asyncio/runners.py\", line 44, in run\n",
      "    return loop.run_until_complete(main)\n",
      "  File \"/home/idies/mambaforge/envs/py39/lib/python3.9/asyncio/base_events.py\", line 634, in run_until_complete\n",
      "    self.run_forever()\n",
      "  File \"/home/idies/mambaforge/envs/py39/lib/python3.9/asyncio/base_events.py\", line 601, in run_forever\n",
      "    self._run_once()\n",
      "  File \"/home/idies/mambaforge/envs/py39/lib/python3.9/asyncio/base_events.py\", line 1905, in _run_once\n",
      "    handle._run()\n",
      "  File \"/home/idies/mambaforge/envs/py39/lib/python3.9/asyncio/events.py\", line 80, in _run\n",
      "    self._context.run(self._callback, *self._args)\n",
      "  File \"/home/idies/mambaforge/envs/py39/lib/python3.9/site-packages/distributed/worker.py\", line 179, in wrapper\n",
      "    return await method(self, *args, **kwargs)  # type: ignore\n",
      "  File \"/home/idies/mambaforge/envs/py39/lib/python3.9/site-packages/distributed/worker.py\", line 2051, in gather_dep\n",
      "    response = await get_data_from_worker(\n",
      "  File \"/home/idies/mambaforge/envs/py39/lib/python3.9/site-packages/distributed/worker.py\", line 2840, in get_data_from_worker\n",
      "    return await retry_operation(_get_data, operation=\"get_data_from_worker\")\n",
      "  File \"/home/idies/mambaforge/envs/py39/lib/python3.9/site-packages/distributed/utils_comm.py\", line 386, in retry_operation\n",
      "    return await retry(\n",
      "  File \"/home/idies/mambaforge/envs/py39/lib/python3.9/site-packages/distributed/utils_comm.py\", line 371, in retry\n",
      "    return await coro()\n",
      "  File \"/home/idies/mambaforge/envs/py39/lib/python3.9/site-packages/distributed/worker.py\", line 2820, in _get_data\n",
      "    response = await send_recv(\n",
      "  File \"/home/idies/mambaforge/envs/py39/lib/python3.9/site-packages/distributed/core.py\", line 928, in send_recv\n",
      "    response = await comm.read(deserializers=deserializers)\n",
      "  File \"/home/idies/mambaforge/envs/py39/lib/python3.9/site-packages/distributed/comm/tcp.py\", line 235, in read\n",
      "    n = await stream.read_into(chunk)\n",
      "  File \"/home/idies/mambaforge/envs/py39/lib/python3.9/site-packages/tornado/iostream.py\", line 475, in read_into\n",
      "    self._try_inline_read()\n",
      "  File \"/home/idies/mambaforge/envs/py39/lib/python3.9/site-packages/tornado/iostream.py\", line 842, in _try_inline_read\n",
      "    pos = self._read_to_buffer_loop()\n",
      "  File \"/home/idies/mambaforge/envs/py39/lib/python3.9/site-packages/tornado/iostream.py\", line 755, in _read_to_buffer_loop\n",
      "    if self._read_to_buffer() == 0:\n",
      "  File \"/home/idies/mambaforge/envs/py39/lib/python3.9/site-packages/tornado/iostream.py\", line 867, in _read_to_buffer\n",
      "    bytes_read = self.read_from_fd(buf)\n",
      "  File \"/home/idies/mambaforge/envs/py39/lib/python3.9/site-packages/tornado/iostream.py\", line 1140, in read_from_fd\n",
      "    return self.socket.recv_into(buf, len(buf))\n",
      "KeyboardInterrupt\n",
      "Traceback (most recent call last):\n",
      "  File \"/home/idies/mambaforge/envs/py39/lib/python3.9/multiprocessing/process.py\", line 315, in _bootstrap\n",
      "    self.run()\n",
      "  File \"/home/idies/mambaforge/envs/py39/lib/python3.9/multiprocessing/process.py\", line 108, in run\n",
      "    self._target(*self._args, **self._kwargs)\n",
      "  File \"/home/idies/mambaforge/envs/py39/lib/python3.9/site-packages/distributed/process.py\", line 188, in _run\n",
      "    target(*args, **kwargs)\n",
      "  File \"/home/idies/mambaforge/envs/py39/lib/python3.9/site-packages/distributed/nanny.py\", line 981, in _run\n",
      "    asyncio.run(run())\n",
      "  File \"/home/idies/mambaforge/envs/py39/lib/python3.9/asyncio/runners.py\", line 47, in run\n",
      "    _cancel_all_tasks(loop)\n",
      "  File \"/home/idies/mambaforge/envs/py39/lib/python3.9/asyncio/runners.py\", line 63, in _cancel_all_tasks\n",
      "    loop.run_until_complete(\n",
      "  File \"/home/idies/mambaforge/envs/py39/lib/python3.9/asyncio/base_events.py\", line 634, in run_until_complete\n",
      "    self.run_forever()\n",
      "  File \"/home/idies/mambaforge/envs/py39/lib/python3.9/asyncio/base_events.py\", line 601, in run_forever\n",
      "    self._run_once()\n",
      "  File \"/home/idies/mambaforge/envs/py39/lib/python3.9/asyncio/base_events.py\", line 1905, in _run_once\n",
      "    handle._run()\n",
      "  File \"/home/idies/mambaforge/envs/py39/lib/python3.9/asyncio/events.py\", line 80, in _run\n",
      "    self._context.run(self._callback, *self._args)\n",
      "  File \"/home/idies/mambaforge/envs/py39/lib/python3.9/site-packages/tornado/ioloop.py\", line 688, in <lambda>\n",
      "    lambda f: self._run_callback(functools.partial(callback, future))\n",
      "  File \"/home/idies/mambaforge/envs/py39/lib/python3.9/site-packages/tornado/ioloop.py\", line 741, in _run_callback\n",
      "    ret = callback()\n",
      "  File \"/home/idies/mambaforge/envs/py39/lib/python3.9/site-packages/tornado/gen.py\", line 814, in inner\n",
      "    self.ctx_run(self.run)\n",
      "  File \"/home/idies/mambaforge/envs/py39/lib/python3.9/site-packages/tornado/gen.py\", line 762, in run\n",
      "    value = future.result()\n",
      "  File \"/home/idies/mambaforge/envs/py39/lib/python3.9/asyncio/runners.py\", line 44, in run\n",
      "    return loop.run_until_complete(main)\n",
      "  File \"/home/idies/mambaforge/envs/py39/lib/python3.9/asyncio/base_events.py\", line 634, in run_until_complete\n",
      "    self.run_forever()\n",
      "  File \"/home/idies/mambaforge/envs/py39/lib/python3.9/asyncio/base_events.py\", line 601, in run_forever\n",
      "    self._run_once()\n",
      "  File \"/home/idies/mambaforge/envs/py39/lib/python3.9/asyncio/base_events.py\", line 1905, in _run_once\n",
      "    handle._run()\n",
      "  File \"/home/idies/mambaforge/envs/py39/lib/python3.9/asyncio/events.py\", line 80, in _run\n",
      "    self._context.run(self._callback, *self._args)\n",
      "  File \"/home/idies/mambaforge/envs/py39/lib/python3.9/site-packages/distributed/comm/tcp.py\", line 271, in write\n",
      "    frames = await to_frames(\n",
      "  File \"/home/idies/mambaforge/envs/py39/lib/python3.9/site-packages/distributed/comm/utils.py\", line 72, in to_frames\n",
      "    return _to_frames()\n",
      "  File \"/home/idies/mambaforge/envs/py39/lib/python3.9/site-packages/distributed/comm/utils.py\", line 55, in _to_frames\n",
      "    return list(protocol.dumps(msg, **kwargs))\n",
      "  File \"/home/idies/mambaforge/envs/py39/lib/python3.9/site-packages/distributed/protocol/core.py\", line 109, in dumps\n",
      "    frames[0] = msgpack.dumps(msg, default=_encode_default, use_bin_type=True)\n",
      "  File \"/home/idies/mambaforge/envs/py39/lib/python3.9/site-packages/msgpack/__init__.py\", line 38, in packb\n",
      "    return Packer(**kwargs).pack(o)\n",
      "KeyboardInterrupt\n",
      "2023-09-11 16:36:26,959 - distributed.nanny - ERROR - Worker process died unexpectedly\n",
      "2023-09-11 16:36:26,959 - distributed.nanny - ERROR - Worker process died unexpectedly\n",
      "Process Dask Worker process (from Nanny):\n",
      "Traceback (most recent call last):\n",
      "  File \"/home/idies/mambaforge/envs/py39/lib/python3.9/multiprocessing/process.py\", line 315, in _bootstrap\n",
      "    self.run()\n",
      "  File \"/home/idies/mambaforge/envs/py39/lib/python3.9/multiprocessing/process.py\", line 108, in run\n",
      "    self._target(*self._args, **self._kwargs)\n",
      "  File \"/home/idies/mambaforge/envs/py39/lib/python3.9/site-packages/distributed/process.py\", line 188, in _run\n",
      "    target(*args, **kwargs)\n",
      "  File \"/home/idies/mambaforge/envs/py39/lib/python3.9/site-packages/distributed/nanny.py\", line 981, in _run\n",
      "    asyncio.run(run())\n",
      "  File \"/home/idies/mambaforge/envs/py39/lib/python3.9/asyncio/runners.py\", line 47, in run\n",
      "    _cancel_all_tasks(loop)\n",
      "  File \"/home/idies/mambaforge/envs/py39/lib/python3.9/asyncio/runners.py\", line 63, in _cancel_all_tasks\n",
      "    loop.run_until_complete(\n",
      "  File \"/home/idies/mambaforge/envs/py39/lib/python3.9/asyncio/base_events.py\", line 634, in run_until_complete\n",
      "    self.run_forever()\n",
      "  File \"/home/idies/mambaforge/envs/py39/lib/python3.9/asyncio/base_events.py\", line 601, in run_forever\n",
      "    self._run_once()\n",
      "  File \"/home/idies/mambaforge/envs/py39/lib/python3.9/asyncio/base_events.py\", line 1905, in _run_once\n",
      "    handle._run()\n",
      "  File \"/home/idies/mambaforge/envs/py39/lib/python3.9/asyncio/events.py\", line 80, in _run\n",
      "    self._context.run(self._callback, *self._args)\n",
      "  File \"/home/idies/mambaforge/envs/py39/lib/python3.9/site-packages/tornado/ioloop.py\", line 688, in <lambda>\n",
      "    lambda f: self._run_callback(functools.partial(callback, future))\n",
      "Process Dask Worker process (from Nanny):\n",
      "  File \"/home/idies/mambaforge/envs/py39/lib/python3.9/site-packages/tornado/ioloop.py\", line 741, in _run_callback\n",
      "    ret = callback()\n",
      "  File \"/home/idies/mambaforge/envs/py39/lib/python3.9/site-packages/tornado/gen.py\", line 814, in inner\n",
      "    self.ctx_run(self.run)\n",
      "  File \"/home/idies/mambaforge/envs/py39/lib/python3.9/site-packages/tornado/gen.py\", line 762, in run\n",
      "    value = future.result()\n",
      "  File \"/home/idies/mambaforge/envs/py39/lib/python3.9/asyncio/runners.py\", line 44, in run\n",
      "    return loop.run_until_complete(main)\n",
      "  File \"/home/idies/mambaforge/envs/py39/lib/python3.9/asyncio/base_events.py\", line 634, in run_until_complete\n",
      "    self.run_forever()\n",
      "  File \"/home/idies/mambaforge/envs/py39/lib/python3.9/asyncio/base_events.py\", line 601, in run_forever\n",
      "    self._run_once()\n",
      "  File \"/home/idies/mambaforge/envs/py39/lib/python3.9/asyncio/base_events.py\", line 1905, in _run_once\n",
      "    handle._run()\n",
      "  File \"/home/idies/mambaforge/envs/py39/lib/python3.9/asyncio/events.py\", line 80, in _run\n",
      "    self._context.run(self._callback, *self._args)\n",
      "  File \"/home/idies/mambaforge/envs/py39/lib/python3.9/site-packages/distributed/comm/tcp.py\", line 271, in write\n",
      "    frames = await to_frames(\n",
      "  File \"/home/idies/mambaforge/envs/py39/lib/python3.9/site-packages/distributed/comm/utils.py\", line 72, in to_frames\n",
      "    return _to_frames()\n",
      "  File \"/home/idies/mambaforge/envs/py39/lib/python3.9/site-packages/distributed/comm/utils.py\", line 55, in _to_frames\n",
      "    return list(protocol.dumps(msg, **kwargs))\n",
      "  File \"/home/idies/mambaforge/envs/py39/lib/python3.9/site-packages/distributed/protocol/core.py\", line 109, in dumps\n",
      "    frames[0] = msgpack.dumps(msg, default=_encode_default, use_bin_type=True)\n",
      "  File \"/home/idies/mambaforge/envs/py39/lib/python3.9/site-packages/msgpack/__init__.py\", line 38, in packb\n",
      "    return Packer(**kwargs).pack(o)\n",
      "KeyboardInterrupt\n",
      "2023-09-11 16:36:26,962 - distributed.nanny - ERROR - Worker process died unexpectedly\n",
      "Traceback (most recent call last):\n",
      "  File \"/home/idies/mambaforge/envs/py39/lib/python3.9/multiprocessing/process.py\", line 315, in _bootstrap\n",
      "    self.run()\n",
      "  File \"/home/idies/mambaforge/envs/py39/lib/python3.9/multiprocessing/process.py\", line 108, in run\n",
      "    self._target(*self._args, **self._kwargs)\n",
      "  File \"/home/idies/mambaforge/envs/py39/lib/python3.9/site-packages/distributed/process.py\", line 188, in _run\n",
      "    target(*args, **kwargs)\n",
      "  File \"/home/idies/mambaforge/envs/py39/lib/python3.9/site-packages/distributed/nanny.py\", line 981, in _run\n",
      "    asyncio.run(run())\n",
      "  File \"/home/idies/mambaforge/envs/py39/lib/python3.9/asyncio/runners.py\", line 47, in run\n",
      "    _cancel_all_tasks(loop)\n",
      "  File \"/home/idies/mambaforge/envs/py39/lib/python3.9/asyncio/runners.py\", line 63, in _cancel_all_tasks\n",
      "    loop.run_until_complete(\n",
      "  File \"/home/idies/mambaforge/envs/py39/lib/python3.9/asyncio/base_events.py\", line 634, in run_until_complete\n",
      "    self.run_forever()\n",
      "  File \"/home/idies/mambaforge/envs/py39/lib/python3.9/asyncio/base_events.py\", line 601, in run_forever\n",
      "    self._run_once()\n",
      "  File \"/home/idies/mambaforge/envs/py39/lib/python3.9/asyncio/base_events.py\", line 1905, in _run_once\n",
      "    handle._run()\n",
      "  File \"/home/idies/mambaforge/envs/py39/lib/python3.9/asyncio/events.py\", line 80, in _run\n",
      "    self._context.run(self._callback, *self._args)\n",
      "  File \"/home/idies/mambaforge/envs/py39/lib/python3.9/site-packages/tornado/ioloop.py\", line 688, in <lambda>\n",
      "    lambda f: self._run_callback(functools.partial(callback, future))\n",
      "  File \"/home/idies/mambaforge/envs/py39/lib/python3.9/site-packages/tornado/ioloop.py\", line 741, in _run_callback\n",
      "    ret = callback()\n",
      "  File \"/home/idies/mambaforge/envs/py39/lib/python3.9/site-packages/tornado/ioloop.py\", line 765, in _discard_future_result\n",
      "    future.result()\n",
      "  File \"/home/idies/mambaforge/envs/py39/lib/python3.9/asyncio/runners.py\", line 44, in run\n",
      "    return loop.run_until_complete(main)\n",
      "  File \"/home/idies/mambaforge/envs/py39/lib/python3.9/asyncio/base_events.py\", line 634, in run_until_complete\n",
      "    self.run_forever()\n",
      "  File \"/home/idies/mambaforge/envs/py39/lib/python3.9/asyncio/base_events.py\", line 601, in run_forever\n",
      "    self._run_once()\n",
      "  File \"/home/idies/mambaforge/envs/py39/lib/python3.9/asyncio/base_events.py\", line 1905, in _run_once\n",
      "    handle._run()\n",
      "  File \"/home/idies/mambaforge/envs/py39/lib/python3.9/asyncio/events.py\", line 80, in _run\n",
      "    self._context.run(self._callback, *self._args)\n",
      "  File \"/home/idies/mambaforge/envs/py39/lib/python3.9/site-packages/distributed/compatibility.py\", line 161, in _run\n",
      "    val = self.callback()\n",
      "  File \"/home/idies/mambaforge/envs/py39/lib/python3.9/site-packages/distributed/worker.py\", line 2387, in trigger_profile\n",
      "    profile.process(\n",
      "  File \"/home/idies/mambaforge/envs/py39/lib/python3.9/site-packages/distributed/profile.py\", line 168, in process\n",
      "    new_state = process(prev, frame, state, stop=stop, depth=depth - 1)\n",
      "  File \"/home/idies/mambaforge/envs/py39/lib/python3.9/site-packages/distributed/profile.py\", line 168, in process\n",
      "    new_state = process(prev, frame, state, stop=stop, depth=depth - 1)\n",
      "  File \"/home/idies/mambaforge/envs/py39/lib/python3.9/site-packages/distributed/profile.py\", line 168, in process\n",
      "    new_state = process(prev, frame, state, stop=stop, depth=depth - 1)\n",
      "  [Previous line repeated 4 more times]\n",
      "  File \"/home/idies/mambaforge/envs/py39/lib/python3.9/site-packages/distributed/profile.py\", line 173, in process\n",
      "    ident = identifier(frame)\n",
      "  File \"/home/idies/mambaforge/envs/py39/lib/python3.9/site-packages/distributed/profile.py\", line 59, in identifier\n",
      "    return \";\".join(\n",
      "KeyboardInterrupt\n",
      "Process Dask Worker process (from Nanny):\n",
      "Traceback (most recent call last):\n",
      "  File \"/home/idies/mambaforge/envs/py39/lib/python3.9/multiprocessing/process.py\", line 315, in _bootstrap\n",
      "    self.run()\n",
      "  File \"/home/idies/mambaforge/envs/py39/lib/python3.9/multiprocessing/process.py\", line 108, in run\n",
      "    self._target(*self._args, **self._kwargs)\n",
      "  File \"/home/idies/mambaforge/envs/py39/lib/python3.9/site-packages/distributed/process.py\", line 188, in _run\n",
      "    target(*args, **kwargs)\n",
      "  File \"/home/idies/mambaforge/envs/py39/lib/python3.9/site-packages/distributed/nanny.py\", line 981, in _run\n",
      "    asyncio.run(run())\n",
      "  File \"/home/idies/mambaforge/envs/py39/lib/python3.9/asyncio/runners.py\", line 47, in run\n",
      "    _cancel_all_tasks(loop)\n",
      "  File \"/home/idies/mambaforge/envs/py39/lib/python3.9/asyncio/runners.py\", line 63, in _cancel_all_tasks\n",
      "    loop.run_until_complete(\n",
      "  File \"/home/idies/mambaforge/envs/py39/lib/python3.9/asyncio/base_events.py\", line 634, in run_until_complete\n",
      "    self.run_forever()\n",
      "  File \"/home/idies/mambaforge/envs/py39/lib/python3.9/asyncio/base_events.py\", line 601, in run_forever\n",
      "    self._run_once()\n",
      "  File \"/home/idies/mambaforge/envs/py39/lib/python3.9/asyncio/base_events.py\", line 1905, in _run_once\n",
      "    handle._run()\n",
      "  File \"/home/idies/mambaforge/envs/py39/lib/python3.9/asyncio/events.py\", line 80, in _run\n",
      "    self._context.run(self._callback, *self._args)\n",
      "  File \"/home/idies/mambaforge/envs/py39/lib/python3.9/site-packages/distributed/worker.py\", line 192, in wrapper\n",
      "    return method(self, *args, **kwargs)\n",
      "  File \"/home/idies/mambaforge/envs/py39/lib/python3.9/site-packages/distributed/worker.py\", line 1916, in _handle_stimulus_from_task\n",
      "    super()._handle_stimulus_from_task(task)\n",
      "  File \"/home/idies/mambaforge/envs/py39/lib/python3.9/site-packages/distributed/worker_state_machine.py\", line 3610, in _handle_stimulus_from_task\n",
      "    stim = task.result()\n",
      "  File \"/home/idies/mambaforge/envs/py39/lib/python3.9/asyncio/runners.py\", line 44, in run\n",
      "    return loop.run_until_complete(main)\n",
      "  File \"/home/idies/mambaforge/envs/py39/lib/python3.9/asyncio/base_events.py\", line 634, in run_until_complete\n",
      "    self.run_forever()\n",
      "  File \"/home/idies/mambaforge/envs/py39/lib/python3.9/asyncio/base_events.py\", line 601, in run_forever\n",
      "    self._run_once()\n",
      "  File \"/home/idies/mambaforge/envs/py39/lib/python3.9/asyncio/base_events.py\", line 1905, in _run_once\n",
      "    handle._run()\n",
      "  File \"/home/idies/mambaforge/envs/py39/lib/python3.9/asyncio/events.py\", line 80, in _run\n",
      "    self._context.run(self._callback, *self._args)\n",
      "  File \"/home/idies/mambaforge/envs/py39/lib/python3.9/site-packages/distributed/worker.py\", line 179, in wrapper\n",
      "    return await method(self, *args, **kwargs)  # type: ignore\n",
      "  File \"/home/idies/mambaforge/envs/py39/lib/python3.9/site-packages/distributed/worker.py\", line 2051, in gather_dep\n",
      "    response = await get_data_from_worker(\n",
      "  File \"/home/idies/mambaforge/envs/py39/lib/python3.9/site-packages/distributed/worker.py\", line 2840, in get_data_from_worker\n",
      "    return await retry_operation(_get_data, operation=\"get_data_from_worker\")\n",
      "  File \"/home/idies/mambaforge/envs/py39/lib/python3.9/site-packages/distributed/utils_comm.py\", line 386, in retry_operation\n",
      "    return await retry(\n",
      "  File \"/home/idies/mambaforge/envs/py39/lib/python3.9/site-packages/distributed/utils_comm.py\", line 371, in retry\n",
      "    return await coro()\n",
      "  File \"/home/idies/mambaforge/envs/py39/lib/python3.9/site-packages/distributed/worker.py\", line 2820, in _get_data\n",
      "    response = await send_recv(\n",
      "  File \"/home/idies/mambaforge/envs/py39/lib/python3.9/site-packages/distributed/core.py\", line 928, in send_recv\n",
      "    response = await comm.read(deserializers=deserializers)\n",
      "  File \"/home/idies/mambaforge/envs/py39/lib/python3.9/site-packages/distributed/comm/tcp.py\", line 235, in read\n",
      "    n = await stream.read_into(chunk)\n",
      "  File \"/home/idies/mambaforge/envs/py39/lib/python3.9/site-packages/tornado/iostream.py\", line 475, in read_into\n",
      "    self._try_inline_read()\n",
      "  File \"/home/idies/mambaforge/envs/py39/lib/python3.9/site-packages/tornado/iostream.py\", line 842, in _try_inline_read\n",
      "    pos = self._read_to_buffer_loop()\n",
      "  File \"/home/idies/mambaforge/envs/py39/lib/python3.9/site-packages/tornado/iostream.py\", line 755, in _read_to_buffer_loop\n",
      "    if self._read_to_buffer() == 0:\n",
      "  File \"/home/idies/mambaforge/envs/py39/lib/python3.9/site-packages/tornado/iostream.py\", line 867, in _read_to_buffer\n",
      "    bytes_read = self.read_from_fd(buf)\n",
      "  File \"/home/idies/mambaforge/envs/py39/lib/python3.9/site-packages/tornado/iostream.py\", line 1140, in read_from_fd\n",
      "    return self.socket.recv_into(buf, len(buf))\n",
      "KeyboardInterrupt\n",
      "sys:1: RuntimeWarning: coroutine 'PeriodicCallback._run' was never awaited\n",
      "RuntimeWarning: Enable tracemalloc to get the object allocation traceback\n",
      "Task was destroyed but it is pending!\n",
      "task: <Task pending name='Task-37460' coro=<PeriodicCallback._run() running at /home/idies/mambaforge/envs/py39/lib/python3.9/site-packages/distributed/compatibility.py:157> cb=[IOLoop.add_future.<locals>.<lambda>() at /home/idies/mambaforge/envs/py39/lib/python3.9/site-packages/tornado/ioloop.py:688]>\n",
      "Task was destroyed but it is pending!\n",
      "task: <Task pending name='Task-37461' coro=<PeriodicCallback._run() running at /home/idies/mambaforge/envs/py39/lib/python3.9/site-packages/distributed/compatibility.py:157> cb=[IOLoop.add_future.<locals>.<lambda>() at /home/idies/mambaforge/envs/py39/lib/python3.9/site-packages/tornado/ioloop.py:688]>\n",
      "Task was destroyed but it is pending!\n",
      "task: <Task pending name='Task-37462' coro=<TCP.write() done, defined at /home/idies/mambaforge/envs/py39/lib/python3.9/site-packages/distributed/comm/tcp.py:266> cb=[IOLoop.add_future.<locals>.<lambda>() at /home/idies/mambaforge/envs/py39/lib/python3.9/site-packages/tornado/ioloop.py:688]>\n",
      "sys:1: RuntimeWarning: coroutine 'PeriodicCallback._run' was never awaited\n",
      "RuntimeWarning: Enable tracemalloc to get the object allocation traceback\n",
      "Task was destroyed but it is pending!\n",
      "task: <Task pending name='Task-38451' coro=<PeriodicCallback._run() running at /home/idies/mambaforge/envs/py39/lib/python3.9/site-packages/distributed/compatibility.py:157> cb=[IOLoop.add_future.<locals>.<lambda>() at /home/idies/mambaforge/envs/py39/lib/python3.9/site-packages/tornado/ioloop.py:688]>\n",
      "Task was destroyed but it is pending!\n",
      "task: <Task pending name='Task-38452' coro=<PeriodicCallback._run() running at /home/idies/mambaforge/envs/py39/lib/python3.9/site-packages/distributed/compatibility.py:157> cb=[IOLoop.add_future.<locals>.<lambda>() at /home/idies/mambaforge/envs/py39/lib/python3.9/site-packages/tornado/ioloop.py:688]>\n"
     ]
    },
    {
     "ename": "KeyboardInterrupt",
     "evalue": "",
     "output_type": "error",
     "traceback": [
      "\u001b[0;31m---------------------------------------------------------------------------\u001b[0m",
      "\u001b[0;31mKeyboardInterrupt\u001b[0m                         Traceback (most recent call last)",
      "Cell \u001b[0;32mIn [24], line 1\u001b[0m\n\u001b[0;32m----> 1\u001b[0m \u001b[43mtest_data_comparison\u001b[49m\u001b[43m(\u001b[49m\u001b[43m)\u001b[49m\n\u001b[1;32m      2\u001b[0m client\u001b[38;5;241m.\u001b[39mclose()\n",
      "Cell \u001b[0;32mIn [21], line 6\u001b[0m, in \u001b[0;36mtest_data_comparison\u001b[0;34m()\u001b[0m\n\u001b[1;32m      4\u001b[0m \u001b[38;5;28;01mfor\u001b[39;00m original_512, zarr_512_path \u001b[38;5;129;01min\u001b[39;00m \u001b[38;5;28mzip\u001b[39m(cubes, dests):\n\u001b[1;32m      5\u001b[0m     \u001b[38;5;28mprint\u001b[39m(zarr_512_path)\n\u001b[0;32m----> 6\u001b[0m     \u001b[43mverify_512_cube_data\u001b[49m\u001b[43m(\u001b[49m\u001b[43moriginal_512\u001b[49m\u001b[43m,\u001b[49m\u001b[43m \u001b[49m\u001b[43mzarr_512_path\u001b[49m\u001b[43m)\u001b[49m\n",
      "Cell \u001b[0;32mIn [21], line 20\u001b[0m, in \u001b[0;36mverify_512_cube_data\u001b[0;34m(original_512, zarr_512_path)\u001b[0m\n\u001b[1;32m     17\u001b[0m results \u001b[38;5;241m=\u001b[39m [delayed_verify(var, original_512[var]\u001b[38;5;241m.\u001b[39mdata, zarr_512[var]) \u001b[38;5;28;01mfor\u001b[39;00m var \u001b[38;5;129;01min\u001b[39;00m original_512\u001b[38;5;241m.\u001b[39mdata_vars]\n\u001b[1;32m     19\u001b[0m \u001b[38;5;66;03m# Compute all the delayed objects in parallel\u001b[39;00m\n\u001b[0;32m---> 20\u001b[0m computed_results \u001b[38;5;241m=\u001b[39m \u001b[43mcompute\u001b[49m\u001b[43m(\u001b[49m\u001b[38;5;241;43m*\u001b[39;49m\u001b[43mresults\u001b[49m\u001b[43m)\u001b[49m\n\u001b[1;32m     22\u001b[0m \u001b[38;5;28;01mfor\u001b[39;00m var, is_equal \u001b[38;5;129;01min\u001b[39;00m computed_results:\n\u001b[1;32m     23\u001b[0m     \u001b[38;5;28mprint\u001b[39m(\u001b[38;5;124mf\u001b[39m\u001b[38;5;124m\"\u001b[39m\u001b[38;5;124mVariable: \u001b[39m\u001b[38;5;132;01m{\u001b[39;00mvar\u001b[38;5;132;01m}\u001b[39;00m\u001b[38;5;124m, Equal: \u001b[39m\u001b[38;5;132;01m{\u001b[39;00mis_equal\u001b[38;5;132;01m}\u001b[39;00m\u001b[38;5;124m\"\u001b[39m)\n",
      "File \u001b[0;32m~/mambaforge/envs/py39/lib/python3.9/site-packages/dask/base.py:600\u001b[0m, in \u001b[0;36mcompute\u001b[0;34m(traverse, optimize_graph, scheduler, get, *args, **kwargs)\u001b[0m\n\u001b[1;32m    597\u001b[0m     keys\u001b[38;5;241m.\u001b[39mappend(x\u001b[38;5;241m.\u001b[39m__dask_keys__())\n\u001b[1;32m    598\u001b[0m     postcomputes\u001b[38;5;241m.\u001b[39mappend(x\u001b[38;5;241m.\u001b[39m__dask_postcompute__())\n\u001b[0;32m--> 600\u001b[0m results \u001b[38;5;241m=\u001b[39m \u001b[43mschedule\u001b[49m\u001b[43m(\u001b[49m\u001b[43mdsk\u001b[49m\u001b[43m,\u001b[49m\u001b[43m \u001b[49m\u001b[43mkeys\u001b[49m\u001b[43m,\u001b[49m\u001b[43m \u001b[49m\u001b[38;5;241;43m*\u001b[39;49m\u001b[38;5;241;43m*\u001b[39;49m\u001b[43mkwargs\u001b[49m\u001b[43m)\u001b[49m\n\u001b[1;32m    601\u001b[0m \u001b[38;5;28;01mreturn\u001b[39;00m repack([f(r, \u001b[38;5;241m*\u001b[39ma) \u001b[38;5;28;01mfor\u001b[39;00m r, (f, a) \u001b[38;5;129;01min\u001b[39;00m \u001b[38;5;28mzip\u001b[39m(results, postcomputes)])\n",
      "File \u001b[0;32m~/mambaforge/envs/py39/lib/python3.9/site-packages/distributed/client.py:3122\u001b[0m, in \u001b[0;36mClient.get\u001b[0;34m(self, dsk, keys, workers, allow_other_workers, resources, sync, asynchronous, direct, retries, priority, fifo_timeout, actors, **kwargs)\u001b[0m\n\u001b[1;32m   3120\u001b[0m         should_rejoin \u001b[38;5;241m=\u001b[39m \u001b[38;5;28;01mFalse\u001b[39;00m\n\u001b[1;32m   3121\u001b[0m \u001b[38;5;28;01mtry\u001b[39;00m:\n\u001b[0;32m-> 3122\u001b[0m     results \u001b[38;5;241m=\u001b[39m \u001b[38;5;28;43mself\u001b[39;49m\u001b[38;5;241;43m.\u001b[39;49m\u001b[43mgather\u001b[49m\u001b[43m(\u001b[49m\u001b[43mpacked\u001b[49m\u001b[43m,\u001b[49m\u001b[43m \u001b[49m\u001b[43masynchronous\u001b[49m\u001b[38;5;241;43m=\u001b[39;49m\u001b[43masynchronous\u001b[49m\u001b[43m,\u001b[49m\u001b[43m \u001b[49m\u001b[43mdirect\u001b[49m\u001b[38;5;241;43m=\u001b[39;49m\u001b[43mdirect\u001b[49m\u001b[43m)\u001b[49m\n\u001b[1;32m   3123\u001b[0m \u001b[38;5;28;01mfinally\u001b[39;00m:\n\u001b[1;32m   3124\u001b[0m     \u001b[38;5;28;01mfor\u001b[39;00m f \u001b[38;5;129;01min\u001b[39;00m futures\u001b[38;5;241m.\u001b[39mvalues():\n",
      "File \u001b[0;32m~/mambaforge/envs/py39/lib/python3.9/site-packages/distributed/client.py:2291\u001b[0m, in \u001b[0;36mClient.gather\u001b[0;34m(self, futures, errors, direct, asynchronous)\u001b[0m\n\u001b[1;32m   2289\u001b[0m \u001b[38;5;28;01melse\u001b[39;00m:\n\u001b[1;32m   2290\u001b[0m     local_worker \u001b[38;5;241m=\u001b[39m \u001b[38;5;28;01mNone\u001b[39;00m\n\u001b[0;32m-> 2291\u001b[0m \u001b[38;5;28;01mreturn\u001b[39;00m \u001b[38;5;28;43mself\u001b[39;49m\u001b[38;5;241;43m.\u001b[39;49m\u001b[43msync\u001b[49m\u001b[43m(\u001b[49m\n\u001b[1;32m   2292\u001b[0m \u001b[43m    \u001b[49m\u001b[38;5;28;43mself\u001b[39;49m\u001b[38;5;241;43m.\u001b[39;49m\u001b[43m_gather\u001b[49m\u001b[43m,\u001b[49m\n\u001b[1;32m   2293\u001b[0m \u001b[43m    \u001b[49m\u001b[43mfutures\u001b[49m\u001b[43m,\u001b[49m\n\u001b[1;32m   2294\u001b[0m \u001b[43m    \u001b[49m\u001b[43merrors\u001b[49m\u001b[38;5;241;43m=\u001b[39;49m\u001b[43merrors\u001b[49m\u001b[43m,\u001b[49m\n\u001b[1;32m   2295\u001b[0m \u001b[43m    \u001b[49m\u001b[43mdirect\u001b[49m\u001b[38;5;241;43m=\u001b[39;49m\u001b[43mdirect\u001b[49m\u001b[43m,\u001b[49m\n\u001b[1;32m   2296\u001b[0m \u001b[43m    \u001b[49m\u001b[43mlocal_worker\u001b[49m\u001b[38;5;241;43m=\u001b[39;49m\u001b[43mlocal_worker\u001b[49m\u001b[43m,\u001b[49m\n\u001b[1;32m   2297\u001b[0m \u001b[43m    \u001b[49m\u001b[43masynchronous\u001b[49m\u001b[38;5;241;43m=\u001b[39;49m\u001b[43masynchronous\u001b[49m\u001b[43m,\u001b[49m\n\u001b[1;32m   2298\u001b[0m \u001b[43m\u001b[49m\u001b[43m)\u001b[49m\n",
      "File \u001b[0;32m~/mambaforge/envs/py39/lib/python3.9/site-packages/distributed/utils.py:339\u001b[0m, in \u001b[0;36mSyncMethodMixin.sync\u001b[0;34m(self, func, asynchronous, callback_timeout, *args, **kwargs)\u001b[0m\n\u001b[1;32m    337\u001b[0m     \u001b[38;5;28;01mreturn\u001b[39;00m future\n\u001b[1;32m    338\u001b[0m \u001b[38;5;28;01melse\u001b[39;00m:\n\u001b[0;32m--> 339\u001b[0m     \u001b[38;5;28;01mreturn\u001b[39;00m \u001b[43msync\u001b[49m\u001b[43m(\u001b[49m\n\u001b[1;32m    340\u001b[0m \u001b[43m        \u001b[49m\u001b[38;5;28;43mself\u001b[39;49m\u001b[38;5;241;43m.\u001b[39;49m\u001b[43mloop\u001b[49m\u001b[43m,\u001b[49m\u001b[43m \u001b[49m\u001b[43mfunc\u001b[49m\u001b[43m,\u001b[49m\u001b[43m \u001b[49m\u001b[38;5;241;43m*\u001b[39;49m\u001b[43margs\u001b[49m\u001b[43m,\u001b[49m\u001b[43m \u001b[49m\u001b[43mcallback_timeout\u001b[49m\u001b[38;5;241;43m=\u001b[39;49m\u001b[43mcallback_timeout\u001b[49m\u001b[43m,\u001b[49m\u001b[43m \u001b[49m\u001b[38;5;241;43m*\u001b[39;49m\u001b[38;5;241;43m*\u001b[39;49m\u001b[43mkwargs\u001b[49m\n\u001b[1;32m    341\u001b[0m \u001b[43m    \u001b[49m\u001b[43m)\u001b[49m\n",
      "File \u001b[0;32m~/mambaforge/envs/py39/lib/python3.9/site-packages/distributed/utils.py:402\u001b[0m, in \u001b[0;36msync\u001b[0;34m(loop, func, callback_timeout, *args, **kwargs)\u001b[0m\n\u001b[1;32m    400\u001b[0m \u001b[38;5;28;01melse\u001b[39;00m:\n\u001b[1;32m    401\u001b[0m     \u001b[38;5;28;01mwhile\u001b[39;00m \u001b[38;5;129;01mnot\u001b[39;00m e\u001b[38;5;241m.\u001b[39mis_set():\n\u001b[0;32m--> 402\u001b[0m         \u001b[43mwait\u001b[49m\u001b[43m(\u001b[49m\u001b[38;5;241;43m10\u001b[39;49m\u001b[43m)\u001b[49m\n\u001b[1;32m    404\u001b[0m \u001b[38;5;28;01mif\u001b[39;00m error:\n\u001b[1;32m    405\u001b[0m     typ, exc, tb \u001b[38;5;241m=\u001b[39m error\n",
      "File \u001b[0;32m~/mambaforge/envs/py39/lib/python3.9/site-packages/distributed/utils.py:391\u001b[0m, in \u001b[0;36msync.<locals>.wait\u001b[0;34m(timeout)\u001b[0m\n\u001b[1;32m    389\u001b[0m \u001b[38;5;28;01mdef\u001b[39;00m \u001b[38;5;21mwait\u001b[39m(timeout):\n\u001b[1;32m    390\u001b[0m     \u001b[38;5;28;01mtry\u001b[39;00m:\n\u001b[0;32m--> 391\u001b[0m         \u001b[38;5;28;01mreturn\u001b[39;00m \u001b[43me\u001b[49m\u001b[38;5;241;43m.\u001b[39;49m\u001b[43mwait\u001b[49m\u001b[43m(\u001b[49m\u001b[43mtimeout\u001b[49m\u001b[43m)\u001b[49m\n\u001b[1;32m    392\u001b[0m     \u001b[38;5;28;01mexcept\u001b[39;00m \u001b[38;5;167;01mKeyboardInterrupt\u001b[39;00m:\n\u001b[1;32m    393\u001b[0m         loop\u001b[38;5;241m.\u001b[39madd_callback(cancel)\n",
      "File \u001b[0;32m~/mambaforge/envs/py39/lib/python3.9/threading.py:581\u001b[0m, in \u001b[0;36mEvent.wait\u001b[0;34m(self, timeout)\u001b[0m\n\u001b[1;32m    579\u001b[0m signaled \u001b[38;5;241m=\u001b[39m \u001b[38;5;28mself\u001b[39m\u001b[38;5;241m.\u001b[39m_flag\n\u001b[1;32m    580\u001b[0m \u001b[38;5;28;01mif\u001b[39;00m \u001b[38;5;129;01mnot\u001b[39;00m signaled:\n\u001b[0;32m--> 581\u001b[0m     signaled \u001b[38;5;241m=\u001b[39m \u001b[38;5;28;43mself\u001b[39;49m\u001b[38;5;241;43m.\u001b[39;49m\u001b[43m_cond\u001b[49m\u001b[38;5;241;43m.\u001b[39;49m\u001b[43mwait\u001b[49m\u001b[43m(\u001b[49m\u001b[43mtimeout\u001b[49m\u001b[43m)\u001b[49m\n\u001b[1;32m    582\u001b[0m \u001b[38;5;28;01mreturn\u001b[39;00m signaled\n",
      "File \u001b[0;32m~/mambaforge/envs/py39/lib/python3.9/threading.py:316\u001b[0m, in \u001b[0;36mCondition.wait\u001b[0;34m(self, timeout)\u001b[0m\n\u001b[1;32m    314\u001b[0m \u001b[38;5;28;01melse\u001b[39;00m:\n\u001b[1;32m    315\u001b[0m     \u001b[38;5;28;01mif\u001b[39;00m timeout \u001b[38;5;241m>\u001b[39m \u001b[38;5;241m0\u001b[39m:\n\u001b[0;32m--> 316\u001b[0m         gotit \u001b[38;5;241m=\u001b[39m \u001b[43mwaiter\u001b[49m\u001b[38;5;241;43m.\u001b[39;49m\u001b[43macquire\u001b[49m\u001b[43m(\u001b[49m\u001b[38;5;28;43;01mTrue\u001b[39;49;00m\u001b[43m,\u001b[49m\u001b[43m \u001b[49m\u001b[43mtimeout\u001b[49m\u001b[43m)\u001b[49m\n\u001b[1;32m    317\u001b[0m     \u001b[38;5;28;01melse\u001b[39;00m:\n\u001b[1;32m    318\u001b[0m         gotit \u001b[38;5;241m=\u001b[39m waiter\u001b[38;5;241m.\u001b[39macquire(\u001b[38;5;28;01mFalse\u001b[39;00m)\n",
      "\u001b[0;31mKeyboardInterrupt\u001b[0m: "
     ]
    },
    {
     "name": "stderr",
     "output_type": "stream",
     "text": [
      "2023-09-11 16:36:31,048 - distributed.nanny - WARNING - Restarting worker\n",
      "2023-09-11 16:36:31,061 - distributed.nanny - WARNING - Restarting worker\n",
      "2023-09-11 16:36:31,070 - distributed.nanny - WARNING - Restarting worker\n"
     ]
    }
   ],
   "source": [
    "test_data_comparison()"
   ]
  }
 ],
 "metadata": {
  "kernelspec": {
   "display_name": "Python 3.9 (py39)",
   "language": "python",
   "name": "py39"
  },
  "language_info": {
   "codemirror_mode": {
    "name": "ipython",
    "version": 3
   },
   "file_extension": ".py",
   "mimetype": "text/x-python",
   "name": "python",
   "nbconvert_exporter": "python",
   "pygments_lexer": "ipython3",
   "version": "3.9.13"
  }
 },
 "nbformat": 4,
 "nbformat_minor": 5
}
