{
 "cells": [
  {
   "cell_type": "code",
   "execution_count": 1,
   "metadata": {},
   "outputs": [
    {
     "name": "stdout",
     "output_type": "stream",
     "text": [
      "Archiving completed successfully...\n"
     ]
    }
   ],
   "source": [
    "\"\"\"\n",
    "archive all of the relevant code files.\n",
    "\"\"\"\n",
    "import os\n",
    "import sys\n",
    "import shutil\n",
    "import datetime\n",
    "\n",
    "zip_filename = 'turbulence_code-sabl2048b_preliminary_code.zip'\n",
    "\n",
    "# files to be archived.\n",
    "archive_files = set([])\n",
    "archive_files.add('archive_code.ipynb')\n",
    "archive_files.add('ongoing_work_to_do.txt')\n",
    "archive_files.add('turbulence_data_processing-notebook.ipynb')\n",
    "archive_files.add('turbulence-version.txt')\n",
    "archive_files.add('giverny/*.py')\n",
    "archive_files.add('giverny/turbulence_gizmos/*.py')\n",
    "\n",
    "archive_files = list(archive_files)\n",
    "archive_files_str = ' '.join(archive_files)\n",
    "\n",
    "# get current timestamp.\n",
    "datetime_info = str(datetime.datetime.now()).split(' ')\n",
    "date = ''.join(datetime_info[0].split('-'))\n",
    "time = ''.join(datetime_info[1].split('.')[0].split(':')[:2])\n",
    "formatted_datetime = date + '_' + time\n",
    "#formatted_datetime = date\n",
    "\n",
    "# update zip_filename with a current timestamp.\n",
    "zip_filename = formatted_datetime + '-' + zip_filename\n",
    "\n",
    "# get current working directory.\n",
    "data_dir = os.getcwd() + '/'\n",
    "\n",
    "# archive all of the code files.\n",
    "try:\n",
    "    os.remove(zip_filename)\n",
    "except:\n",
    "    pass\n",
    "\n",
    "#shutil.make_archive(data_dir + zip_filename, format = 'zip', root_dir = data_dir, base_dir = data_dir)\n",
    "#zipped_file = os.system('zip -r ' + zip_filename + ' . -i *.txt *.py *.ipynb')\n",
    "zipped_file = os.system('zip -r ' + zip_filename + ' . -i ' + archive_files_str)\n",
    "\n",
    "print('Archiving completed successfully...')\n",
    "sys.stdout.flush()"
   ]
  },
  {
   "cell_type": "code",
   "execution_count": 1,
   "metadata": {
    "execution": {
     "iopub.execute_input": "2023-04-21T12:25:05.463906Z",
     "iopub.status.busy": "2023-04-21T12:25:05.463026Z",
     "iopub.status.idle": "2023-04-21T12:25:06.431796Z",
     "shell.execute_reply": "2023-04-21T12:25:06.430264Z",
     "shell.execute_reply.started": "2023-04-21T12:25:05.463748Z"
    }
   },
   "outputs": [
    {
     "name": "stdout",
     "output_type": "stream",
     "text": [
      "Unzipping completed successfully...\n"
     ]
    }
   ],
   "source": [
    "\"\"\"\n",
    "unzip archived files.\n",
    "\"\"\"\n",
    "import os\n",
    "import sys\n",
    "import zipfile\n",
    "\n",
    "# get current working directory.\n",
    "data_dir = os.getcwd() + '/'\n",
    "\n",
    "# parameters.\n",
    "# -----\n",
    "zip_filename = '20230421_1008-turbulence_code-zarr.zip'\n",
    "archive_dir = data_dir + ''\n",
    "output_dir = data_dir + 'tmp/'\n",
    "\n",
    "# -----\n",
    "os.makedirs(output_dir, exist_ok = True)\n",
    "\n",
    "zip_filepath = archive_dir + zip_filename\n",
    "\n",
    "with zipfile.ZipFile(zip_filepath, 'r') as zip_ref:\n",
    "    zip_ref.extractall(output_dir)\n",
    "\n",
    "print('Unzipping completed successfully...')\n",
    "sys.stdout.flush()"
   ]
  },
  {
   "cell_type": "code",
   "execution_count": null,
   "metadata": {},
   "outputs": [],
   "source": []
  }
 ],
 "metadata": {
  "kernelspec": {
   "display_name": "Python 3.9 (py39)",
   "language": "python",
   "name": "py39"
  },
  "language_info": {
   "codemirror_mode": {
    "name": "ipython",
    "version": 3
   },
   "file_extension": ".py",
   "mimetype": "text/x-python",
   "name": "python",
   "nbconvert_exporter": "python",
   "pygments_lexer": "ipython3",
   "version": "3.9.13"
  }
 },
 "nbformat": 4,
 "nbformat_minor": 4
}
