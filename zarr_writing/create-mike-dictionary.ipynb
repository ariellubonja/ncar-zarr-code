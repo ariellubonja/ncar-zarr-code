{
 "cells": [
  {
   "cell_type": "code",
   "execution_count": 1,
   "metadata": {},
   "outputs": [],
   "source": [
    "desired_cube_side = 512\n",
    "chunk_size = 64\n",
    "# raw_ncar_folder_path = '/home/idies/workspace/turb/data02_02/ariel-6-timestep-ncar-netCDF'\n",
    "# Has issues on SciServer Compute\n",
    "use_dask = False\n",
    "dest_folder_name = \"sabl2048b\"\n",
    "# timestep_nr = 1\n",
    "# timestep_range = range(2,6)"
   ]
  },
  {
   "cell_type": "code",
   "execution_count": 2,
   "metadata": {},
   "outputs": [
    {
     "name": "stdout",
     "output_type": "stream",
     "text": [
      "/home/idies/workspace/Storage/ariel4/persistent/ncar-zarr-code/zarr_writing\n"
     ]
    }
   ],
   "source": [
    "%cd /home/idies/workspace/Storage/ariel4/persistent/ncar-zarr-code/zarr_writing"
   ]
  },
  {
   "cell_type": "code",
   "execution_count": 3,
   "metadata": {},
   "outputs": [],
   "source": [
    "import xarray as xr\n",
    "import os\n",
    "from utils import write_tools\n",
    "import numpy as np\n",
    "import morton, math"
   ]
  },
  {
   "cell_type": "code",
   "execution_count": 4,
   "metadata": {},
   "outputs": [],
   "source": [
    "z_order = np.array(write_tools.morton_order_cube(4))"
   ]
  },
  {
   "cell_type": "code",
   "execution_count": 5,
   "metadata": {},
   "outputs": [
    {
     "data": {
      "text/plain": [
       "array([[ 0,  4, 32, 36],\n",
       "       [ 2,  6, 34, 38],\n",
       "       [16, 20, 48, 52],\n",
       "       [18, 22, 50, 54]])"
      ]
     },
     "execution_count": 5,
     "metadata": {},
     "output_type": "execute_result"
    }
   ],
   "source": [
    "z_order[0,:,:]"
   ]
  },
  {
   "cell_type": "code",
   "execution_count": 6,
   "metadata": {},
   "outputs": [],
   "source": [
    "data_xr = xr.open_dataset(\"/home/idies/workspace/turb/data02_02/ncar-high-rate-fixed-dt/jhd.001.nc\")"
   ]
  },
  {
   "cell_type": "code",
   "execution_count": 7,
   "metadata": {},
   "outputs": [
    {
     "data": {
      "text/plain": [
       "['nnx', 'nny', 'nnz']"
      ]
     },
     "execution_count": 7,
     "metadata": {},
     "output_type": "execute_result"
    }
   ],
   "source": [
    "dims = [dim for dim in data_xr.dims]\n",
    "dims.reverse()\n",
    "dims"
   ]
  },
  {
   "cell_type": "code",
   "execution_count": 8,
   "metadata": {},
   "outputs": [],
   "source": [
    "# Split 2048^3 into smaller 512^3 arrays\n",
    "dims = [dim for dim in data_xr.dims]\n",
    "smaller_groups = write_tools.split_zarr_group(data_xr, desired_cube_side, dims)"
   ]
  },
  {
   "cell_type": "code",
   "execution_count": 9,
   "metadata": {},
   "outputs": [],
   "source": [
    "ds = data_xr\n",
    "smaller_size = desired_cube_side\n",
    "i=0\n",
    "j=0\n",
    "k=0\n",
    "\n",
    "\n",
    "chunk = ds.isel( # TODO make this into a function: slice_group()\n",
    "    {dims[0]: slice(0, 512),\n",
    "     dims[1]: slice(0, 512),\n",
    "     dims[2]: slice(512, 1024)}\n",
    ")"
   ]
  },
  {
   "cell_type": "code",
   "execution_count": 11,
   "metadata": {},
   "outputs": [],
   "source": [
    "np.testing.assert_array_equal(\n",
    "    chunk['e'],#.to_array,\n",
    "    smaller_groups[0][0][1]['e']\n",
    ")"
   ]
  },
  {
   "cell_type": "code",
   "execution_count": 12,
   "metadata": {},
   "outputs": [
    {
     "data": {
      "text/plain": [
       "4"
      ]
     },
     "execution_count": 12,
     "metadata": {},
     "output_type": "execute_result"
    }
   ],
   "source": [
    "len(smaller_groups[0][0])"
   ]
  },
  {
   "cell_type": "code",
   "execution_count": 13,
   "metadata": {},
   "outputs": [
    {
     "data": {
      "text/plain": [
       "(512, 512, 512)"
      ]
     },
     "execution_count": 13,
     "metadata": {},
     "output_type": "execute_result"
    }
   ],
   "source": [
    "smaller_groups[0][0][0]['e'].shape"
   ]
  },
  {
   "cell_type": "code",
   "execution_count": 14,
   "metadata": {},
   "outputs": [
    {
     "data": {
      "text/plain": [
       "(512, 512, 512)"
      ]
     },
     "execution_count": 14,
     "metadata": {},
     "output_type": "execute_result"
    }
   ],
   "source": [
    "a = tuple(element * desired_cube_side for element in (1,1,1))\n",
    "a"
   ]
  },
  {
   "cell_type": "code",
   "execution_count": 16,
   "metadata": {},
   "outputs": [
    {
     "data": {
      "text/plain": [
       "[511, 511, 511]"
      ]
     },
     "execution_count": 16,
     "metadata": {},
     "output_type": "execute_result"
    }
   ],
   "source": [
    "array_cube_side = 2048\n",
    "\n",
    "\n",
    "bits = int(math.log(array_cube_side, 2))\n",
    "mortoncurve = morton.Morton(dimensions = 3, bits = bits)\n",
    "\n",
    "mortoncurve.pack(0,0,1)\n",
    "mortoncurve.unpack(134217727)"
   ]
  },
  {
   "cell_type": "code",
   "execution_count": 17,
   "metadata": {},
   "outputs": [
    {
     "data": {
      "text/plain": [
       "[512, 0, 0]"
      ]
     },
     "execution_count": 17,
     "metadata": {},
     "output_type": "execute_result"
    }
   ],
   "source": [
    "mortoncurve.unpack(134217728)"
   ]
  },
  {
   "cell_type": "code",
   "execution_count": 18,
   "metadata": {},
   "outputs": [
    {
     "data": {
      "text/plain": [
       "134217728"
      ]
     },
     "execution_count": 18,
     "metadata": {},
     "output_type": "execute_result"
    }
   ],
   "source": [
    "mortoncurve.pack(1, 0, 0) * 512 ** 3"
   ]
  },
  {
   "cell_type": "code",
   "execution_count": 21,
   "metadata": {
    "tags": []
   },
   "outputs": [],
   "source": [
    "mike_dict = {}\n",
    "for i in range(len(smaller_groups)):\n",
    "    for j in range(len(smaller_groups[i])):\n",
    "        for k in range(len(smaller_groups[i][j])):\n",
    "            min_coord = tuple(element * desired_cube_side for element in (i,j,k))\n",
    "            max_coord = tuple((element * desired_cube_side)-1 for element in (i+1,j+1,k+1))\n",
    "            \n",
    "            point_on_cube = (i * 4 * 4) + (j * 4) + k # 0 to 63\n",
    "#             print(point_on_cube + 1, (i,j,k))\n",
    "            \n",
    "            mike_dict[dest_folder_name + str(point_on_cube + 1).zfill(2)] = (write_tools.morton_pack(2048, min_coord[0], min_coord[1], min_coord[2]), write_tools.morton_pack(2048, max_coord[0], max_coord[1], max_coord[2]))\n",
    "#             print(write_tools.morton_pack(2048, min_coord[0], min_coord[1], min_coord[2]))\n",
    "# print(mike_dict)"
   ]
  },
  {
   "cell_type": "code",
   "execution_count": 22,
   "metadata": {},
   "outputs": [
    {
     "name": "stdout",
     "output_type": "stream",
     "text": [
      "{'sabl2048b01': (0, 134217727), 'sabl2048b02': (536870912, 671088639), 'sabl2048b03': (4294967296, 4429185023), 'sabl2048b04': (4831838208, 4966055935), 'sabl2048b05': (268435456, 402653183), 'sabl2048b06': (805306368, 939524095), 'sabl2048b07': (4563402752, 4697620479), 'sabl2048b08': (5100273664, 5234491391), 'sabl2048b09': (2147483648, 2281701375), 'sabl2048b10': (2684354560, 2818572287), 'sabl2048b11': (6442450944, 6576668671), 'sabl2048b12': (6979321856, 7113539583), 'sabl2048b13': (2415919104, 2550136831), 'sabl2048b14': (2952790016, 3087007743), 'sabl2048b15': (6710886400, 6845104127), 'sabl2048b16': (7247757312, 7381975039), 'sabl2048b17': (134217728, 268435455), 'sabl2048b18': (671088640, 805306367), 'sabl2048b19': (4429185024, 4563402751), 'sabl2048b20': (4966055936, 5100273663), 'sabl2048b21': (402653184, 536870911), 'sabl2048b22': (939524096, 1073741823), 'sabl2048b23': (4697620480, 4831838207), 'sabl2048b24': (5234491392, 5368709119), 'sabl2048b25': (2281701376, 2415919103), 'sabl2048b26': (2818572288, 2952790015), 'sabl2048b27': (6576668672, 6710886399), 'sabl2048b28': (7113539584, 7247757311), 'sabl2048b29': (2550136832, 2684354559), 'sabl2048b30': (3087007744, 3221225471), 'sabl2048b31': (6845104128, 6979321855), 'sabl2048b32': (7381975040, 7516192767), 'sabl2048b33': (1073741824, 1207959551), 'sabl2048b34': (1610612736, 1744830463), 'sabl2048b35': (5368709120, 5502926847), 'sabl2048b36': (5905580032, 6039797759), 'sabl2048b37': (1342177280, 1476395007), 'sabl2048b38': (1879048192, 2013265919), 'sabl2048b39': (5637144576, 5771362303), 'sabl2048b40': (6174015488, 6308233215), 'sabl2048b41': (3221225472, 3355443199), 'sabl2048b42': (3758096384, 3892314111), 'sabl2048b43': (7516192768, 7650410495), 'sabl2048b44': (8053063680, 8187281407), 'sabl2048b45': (3489660928, 3623878655), 'sabl2048b46': (4026531840, 4160749567), 'sabl2048b47': (7784628224, 7918845951), 'sabl2048b48': (8321499136, 8455716863), 'sabl2048b49': (1207959552, 1342177279), 'sabl2048b50': (1744830464, 1879048191), 'sabl2048b51': (5502926848, 5637144575), 'sabl2048b52': (6039797760, 6174015487), 'sabl2048b53': (1476395008, 1610612735), 'sabl2048b54': (2013265920, 2147483647), 'sabl2048b55': (5771362304, 5905580031), 'sabl2048b56': (6308233216, 6442450943), 'sabl2048b57': (3355443200, 3489660927), 'sabl2048b58': (3892314112, 4026531839), 'sabl2048b59': (7650410496, 7784628223), 'sabl2048b60': (8187281408, 8321499135), 'sabl2048b61': (3623878656, 3758096383), 'sabl2048b62': (4160749568, 4294967295), 'sabl2048b63': (7918845952, 8053063679), 'sabl2048b64': (8455716864, 8589934591)}\n"
     ]
    }
   ],
   "source": [
    "print(mike_dict)"
   ]
  }
 ],
 "metadata": {
  "kernelspec": {
   "display_name": "Python 3.8 (py38)",
   "language": "python",
   "name": "py38"
  },
  "language_info": {
   "codemirror_mode": {
    "name": "ipython",
    "version": 3
   },
   "file_extension": ".py",
   "mimetype": "text/x-python",
   "name": "python",
   "nbconvert_exporter": "python",
   "pygments_lexer": "ipython3",
   "version": "3.8.5"
  }
 },
 "nbformat": 4,
 "nbformat_minor": 4
}
