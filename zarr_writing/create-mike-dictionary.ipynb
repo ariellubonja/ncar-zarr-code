{
 "cells": [
  {
   "cell_type": "code",
   "execution_count": 64,
   "metadata": {},
   "outputs": [],
   "source": [
    "desired_cube_side = 512\n",
    "chunk_size = 64\n",
    "# raw_ncar_folder_path = '/home/idies/workspace/turb/data02_02/ariel-6-timestep-ncar-netCDF'\n",
    "# Has issues on SciServer Compute\n",
    "use_dask = False\n",
    "dest_folder_name = \"sabl2048a\"\n",
    "# timestep_nr = 1\n",
    "# timestep_range = range(2,6)"
   ]
  },
  {
   "cell_type": "code",
   "execution_count": 65,
   "metadata": {},
   "outputs": [
    {
     "name": "stdout",
     "output_type": "stream",
     "text": [
      "/home/idies/workspace/Storage/ariel4/persistent/ncar-zarr-code/zarr_writing\n"
     ]
    }
   ],
   "source": [
    "%cd /home/idies/workspace/Storage/ariel4/persistent/ncar-zarr-code/zarr_writing"
   ]
  },
  {
   "cell_type": "code",
   "execution_count": 73,
   "metadata": {},
   "outputs": [],
   "source": [
    "import xarray as xr\n",
    "import os\n",
    "from utils import write_tools\n",
    "import dask\n",
    "import numpy as np"
   ]
  },
  {
   "cell_type": "code",
   "execution_count": 85,
   "metadata": {},
   "outputs": [],
   "source": [
    "z_order = np.array(write_tools.morton_order_cube(4))"
   ]
  },
  {
   "cell_type": "code",
   "execution_count": 86,
   "metadata": {},
   "outputs": [
    {
     "data": {
      "text/plain": [
       "array([[ 0,  4, 32, 36],\n",
       "       [ 2,  6, 34, 38],\n",
       "       [16, 20, 48, 52],\n",
       "       [18, 22, 50, 54]])"
      ]
     },
     "execution_count": 86,
     "metadata": {},
     "output_type": "execute_result"
    }
   ],
   "source": [
    "z_order[0,:,:]"
   ]
  },
  {
   "cell_type": "code",
   "execution_count": 75,
   "metadata": {},
   "outputs": [],
   "source": [
    "data_xr = xr.open_dataset(\"/home/idies/workspace/turb/data02_02/ariel-6-timestep-ncar-netCDF/jhd.001.nc\")"
   ]
  },
  {
   "cell_type": "code",
   "execution_count": 76,
   "metadata": {},
   "outputs": [
    {
     "data": {
      "text/plain": [
       "<bound method Dataset.info of <xarray.Dataset>\n",
       "Dimensions:  (nnx: 2048, nny: 2048, nnz: 2048)\n",
       "Dimensions without coordinates: nnx, nny, nnz\n",
       "Data variables:\n",
       "    u        (nnz, nny, nnx) float32 ...\n",
       "    v        (nnz, nny, nnx) float32 ...\n",
       "    w        (nnz, nny, nnx) float32 ...\n",
       "    t        (nnz, nny, nnx) float32 ...\n",
       "    p        (nnz, nny, nnx) float32 ...\n",
       "    e        (nnz, nny, nnx) float32 ...\n",
       "Attributes:\n",
       "    Simulation conducted by:  Peter Sullivan, pps@ucar.edu\n",
       "    Dataset built by:         Edward Patton, patton@ucar.edu\n",
       "    Affiliation:              NCAR/MMM\n",
       "    Code:                     NCAR-LES\n",
       "    Case Description:         GABLS 1, Cooling Rate: 0.25 K/hr\n",
       "    Created:                  2023-05-02 10:34:38 -0600 UTC>"
      ]
     },
     "execution_count": 76,
     "metadata": {},
     "output_type": "execute_result"
    }
   ],
   "source": [
    "data_xr.info"
   ]
  },
  {
   "cell_type": "code",
   "execution_count": null,
   "metadata": {},
   "outputs": [],
   "source": [
    "np.array(data_xr['p'][:100][:100][:100])"
   ]
  },
  {
   "cell_type": "code",
   "execution_count": 62,
   "metadata": {},
   "outputs": [
    {
     "data": {
      "text/plain": [
       "['nnx', 'nny', 'nnz']"
      ]
     },
     "execution_count": 62,
     "metadata": {},
     "output_type": "execute_result"
    }
   ],
   "source": [
    "dims = [dim for dim in data_xr.dims]\n",
    "dims"
   ]
  },
  {
   "cell_type": "code",
   "execution_count": 5,
   "metadata": {},
   "outputs": [],
   "source": [
    "# Split 2048^3 into smaller 512^3 arrays\n",
    "dims = [dim for dim in data_xr.dims]\n",
    "smaller_groups = write_tools.split_zarr_group(data_xr, desired_cube_side, dims)"
   ]
  },
  {
   "cell_type": "code",
   "execution_count": 26,
   "metadata": {},
   "outputs": [],
   "source": [
    "ds = data_xr\n",
    "smaller_size = desired_cube_side\n",
    "i=0\n",
    "j=0\n",
    "k=0\n",
    "\n",
    "\n",
    "chunk = ds.isel( # TODO make this into a function: slice_group()\n",
    "    {dims[0]: slice(0, 512),\n",
    "     dims[1]: slice(0, 512),\n",
    "     dims[2]: slice(512, 1024)}\n",
    ")"
   ]
  },
  {
   "cell_type": "code",
   "execution_count": 25,
   "metadata": {},
   "outputs": [
    {
     "data": {
      "text/plain": [
       "'nnz'"
      ]
     },
     "execution_count": 25,
     "metadata": {},
     "output_type": "execute_result"
    }
   ],
   "source": [
    "dims[2]"
   ]
  },
  {
   "cell_type": "code",
   "execution_count": 27,
   "metadata": {},
   "outputs": [],
   "source": [
    "import numpy as np\n",
    "\n",
    "np.testing.assert_array_equal(\n",
    "    chunk['e'],#.to_array,\n",
    "    smaller_groups[0][0][1]['e']\n",
    ")"
   ]
  },
  {
   "cell_type": "code",
   "execution_count": 23,
   "metadata": {},
   "outputs": [
    {
     "data": {
      "text/plain": [
       "4"
      ]
     },
     "execution_count": 23,
     "metadata": {},
     "output_type": "execute_result"
    }
   ],
   "source": [
    "len(smaller_groups[0][0])"
   ]
  },
  {
   "cell_type": "code",
   "execution_count": 30,
   "metadata": {},
   "outputs": [
    {
     "data": {
      "text/plain": [
       "(512, 512, 512)"
      ]
     },
     "execution_count": 30,
     "metadata": {},
     "output_type": "execute_result"
    }
   ],
   "source": [
    "smaller_groups[0][0][0]['e'].shape"
   ]
  },
  {
   "cell_type": "code",
   "execution_count": 34,
   "metadata": {},
   "outputs": [
    {
     "data": {
      "text/plain": [
       "(512, 512, 512)"
      ]
     },
     "execution_count": 34,
     "metadata": {},
     "output_type": "execute_result"
    }
   ],
   "source": [
    "a = tuple(element * desired_cube_side for element in (1,1,1))\n",
    "a"
   ]
  },
  {
   "cell_type": "code",
   "execution_count": 36,
   "metadata": {},
   "outputs": [
    {
     "data": {
      "text/plain": [
       "(512, 512, 512, 512, 512, 512)"
      ]
     },
     "execution_count": 36,
     "metadata": {},
     "output_type": "execute_result"
    }
   ],
   "source": [
    "a + (512,512,512)"
   ]
  },
  {
   "cell_type": "code",
   "execution_count": 50,
   "metadata": {},
   "outputs": [
    {
     "data": {
      "text/plain": [
       "[511, 511, 511]"
      ]
     },
     "execution_count": 50,
     "metadata": {},
     "output_type": "execute_result"
    }
   ],
   "source": [
    "import morton, math\n",
    "array_cube_side = 2048\n",
    "\n",
    "\n",
    "bits = int(math.log(array_cube_side, 2))\n",
    "mortoncurve = morton.Morton(dimensions = 3, bits = bits)\n",
    "\n",
    "mortoncurve.pack(0,0,1)\n",
    "mortoncurve.unpack(134217727)"
   ]
  },
  {
   "cell_type": "code",
   "execution_count": 52,
   "metadata": {},
   "outputs": [
    {
     "data": {
      "text/plain": [
       "[512, 0, 0]"
      ]
     },
     "execution_count": 52,
     "metadata": {},
     "output_type": "execute_result"
    }
   ],
   "source": [
    "mortoncurve.unpack(134217728)"
   ]
  },
  {
   "cell_type": "code",
   "execution_count": 60,
   "metadata": {},
   "outputs": [
    {
     "data": {
      "text/plain": [
       "134217728"
      ]
     },
     "execution_count": 60,
     "metadata": {},
     "output_type": "execute_result"
    }
   ],
   "source": [
    "mortoncurve.pack(1, 0, 0) * 512 ** 3"
   ]
  },
  {
   "cell_type": "code",
   "execution_count": 59,
   "metadata": {
    "tags": []
   },
   "outputs": [
    {
     "name": "stdout",
     "output_type": "stream",
     "text": [
      "1 (0, 0, 0)\n",
      "2 (0, 0, 1)\n",
      "3 (0, 0, 2)\n",
      "4 (0, 0, 3)\n",
      "5 (0, 1, 0)\n",
      "6 (0, 1, 1)\n",
      "7 (0, 1, 2)\n",
      "8 (0, 1, 3)\n",
      "9 (0, 2, 0)\n",
      "10 (0, 2, 1)\n",
      "11 (0, 2, 2)\n",
      "12 (0, 2, 3)\n",
      "13 (0, 3, 0)\n",
      "14 (0, 3, 1)\n",
      "15 (0, 3, 2)\n",
      "16 (0, 3, 3)\n",
      "17 (1, 0, 0)\n",
      "18 (1, 0, 1)\n",
      "19 (1, 0, 2)\n",
      "20 (1, 0, 3)\n",
      "21 (1, 1, 0)\n",
      "22 (1, 1, 1)\n",
      "23 (1, 1, 2)\n",
      "24 (1, 1, 3)\n",
      "25 (1, 2, 0)\n",
      "26 (1, 2, 1)\n",
      "27 (1, 2, 2)\n",
      "28 (1, 2, 3)\n",
      "29 (1, 3, 0)\n",
      "30 (1, 3, 1)\n",
      "31 (1, 3, 2)\n",
      "32 (1, 3, 3)\n",
      "33 (2, 0, 0)\n",
      "34 (2, 0, 1)\n",
      "35 (2, 0, 2)\n",
      "36 (2, 0, 3)\n",
      "37 (2, 1, 0)\n",
      "38 (2, 1, 1)\n",
      "39 (2, 1, 2)\n",
      "40 (2, 1, 3)\n",
      "41 (2, 2, 0)\n",
      "42 (2, 2, 1)\n",
      "43 (2, 2, 2)\n",
      "44 (2, 2, 3)\n",
      "45 (2, 3, 0)\n",
      "46 (2, 3, 1)\n",
      "47 (2, 3, 2)\n",
      "48 (2, 3, 3)\n",
      "49 (3, 0, 0)\n",
      "50 (3, 0, 1)\n",
      "51 (3, 0, 2)\n",
      "52 (3, 0, 3)\n",
      "53 (3, 1, 0)\n",
      "54 (3, 1, 1)\n",
      "55 (3, 1, 2)\n",
      "56 (3, 1, 3)\n",
      "57 (3, 2, 0)\n",
      "58 (3, 2, 1)\n",
      "59 (3, 2, 2)\n",
      "60 (3, 2, 3)\n",
      "61 (3, 3, 0)\n",
      "62 (3, 3, 1)\n",
      "63 (3, 3, 2)\n",
      "64 (3, 3, 3)\n"
     ]
    }
   ],
   "source": [
    "mike_dict = {}\n",
    "for i in range(len(smaller_groups)):\n",
    "    for j in range(len(smaller_groups[i])):\n",
    "        for k in range(len(smaller_groups[i][j])):\n",
    "            min_coord = tuple(element * desired_cube_side for element in (i,j,k))\n",
    "            max_coord = tuple((element * desired_cube_side)-1 for element in (i+1,j+1,k+1))\n",
    "            \n",
    "            point_on_cube = (i * 4 * 4) + (j * 4) + k # 0 to 63\n",
    "            print(point_on_cube + 1, (i,j,k))\n",
    "            \n",
    "#             mike_dict[dest_folder_name + str(point_on_cube + 1).zfill(2)] = (write_tools.morton_pack(2048, min_coord[0], min_coord[1], min_coord[2]), write_tools.morton_pack(2048, max_coord[0], max_coord[1], max_coord[2]))\n",
    "#             print(write_tools.morton_pack(2048, min_coord[0], min_coord[1], min_coord[2]))\n",
    "# print(mike_dict)"
   ]
  },
  {
   "cell_type": "code",
   "execution_count": null,
   "metadata": {},
   "outputs": [],
   "source": []
  }
 ],
 "metadata": {
  "kernelspec": {
   "display_name": "Python 3.8 (py38)",
   "language": "python",
   "name": "py38"
  },
  "language_info": {
   "codemirror_mode": {
    "name": "ipython",
    "version": 3
   },
   "file_extension": ".py",
   "mimetype": "text/x-python",
   "name": "python",
   "nbconvert_exporter": "python",
   "pygments_lexer": "ipython3",
   "version": "3.8.5"
  }
 },
 "nbformat": 4,
 "nbformat_minor": 4
}
