{
 "cells": [
  {
   "cell_type": "markdown",
   "metadata": {},
   "source": [
    "## Create Mike's dictionary of Morton codes with start and end points for the 512^3"
   ]
  },
  {
   "cell_type": "code",
   "execution_count": 15,
   "metadata": {},
   "outputs": [],
   "source": [
    "desired_cube_side = 512\n",
    "chunk_size = 64\n",
    "array_cube_side = 2048\n",
    "\n",
    "raw_ncar_folder_path = '/home/idies/workspace/turb/data02_02/ncar-high-rate-fixed-dt'\n",
    "use_dask = True # Has issues on SciServer Compute\n",
    "dest_folder_name = \"sabl2048b\" # B is the high-rate data\n",
    "write_type = \"prod\" # or \"back\"\n",
    "timestep_nr = 1\n",
    "# timestep_range = range(1) # Ned's new High-rate fixed-dt has only 5 timesteps"
   ]
  },
  {
   "cell_type": "code",
   "execution_count": 2,
   "metadata": {},
   "outputs": [
    {
     "name": "stdout",
     "output_type": "stream",
     "text": [
      "/home/idies/workspace/Storage/ariel4/persistent/ncar-zarr-code/zarr_writing\n"
     ]
    }
   ],
   "source": [
    "%cd /home/idies/workspace/Storage/ariel4/persistent/ncar-zarr-code/zarr_writing"
   ]
  },
  {
   "cell_type": "code",
   "execution_count": 3,
   "metadata": {},
   "outputs": [],
   "source": [
    "import xarray as xr\n",
    "from utils import write_tools\n",
    "import os"
   ]
  },
  {
   "cell_type": "markdown",
   "metadata": {},
   "source": [
    "### Get target Folder list"
   ]
  },
  {
   "cell_type": "markdown",
   "metadata": {},
   "source": [
    "<font color=\"orange\">Don't delete the CD cell!</font>"
   ]
  },
  {
   "cell_type": "code",
   "execution_count": 5,
   "metadata": {},
   "outputs": [
    {
     "name": "stdout",
     "output_type": "stream",
     "text": [
      "/home/idies/workspace/turb/data02_02/ncar-high-rate-fixed-dt\n"
     ]
    }
   ],
   "source": [
    "%cd /home/idies/workspace/turb/data02_02/ncar-high-rate-fixed-dt"
   ]
  },
  {
   "cell_type": "code",
   "execution_count": 6,
   "metadata": {},
   "outputs": [],
   "source": [
    "merged_velocity = xr.open_dataset(raw_ncar_folder_path + \"/jhd.\" + str(timestep_nr).zfill(3) + \".nc\")"
   ]
  },
  {
   "cell_type": "code",
   "execution_count": 8,
   "metadata": {},
   "outputs": [],
   "source": [
    "# Split 2048^3 into smaller 512^3 arrays\n",
    "dims = [dim for dim in merged_velocity.dims]\n",
    "dims.reverse() # use (nnz, nny, nnx) instead of (nnx, nny, nnz)\n",
    "\n",
    "smaller_groups, range_list = write_tools.split_zarr_group(merged_velocity, desired_cube_side, dims)"
   ]
  },
  {
   "cell_type": "code",
   "execution_count": 39,
   "metadata": {
    "scrolled": true,
    "tags": []
   },
   "outputs": [
    {
     "data": {
      "text/plain": [
       "[[[0, 512], [0, 512], [0, 512]],\n",
       " [[0, 512], [0, 512], [512, 1024]],\n",
       " [[0, 512], [0, 512], [1024, 1536]],\n",
       " [[0, 512], [0, 512], [1536, 2048]]]"
      ]
     },
     "execution_count": 39,
     "metadata": {},
     "output_type": "execute_result"
    }
   ],
   "source": [
    "range_list[:4]"
   ]
  },
  {
   "cell_type": "code",
   "execution_count": 10,
   "metadata": {},
   "outputs": [
    {
     "data": {
      "text/plain": [
       "64"
      ]
     },
     "execution_count": 10,
     "metadata": {},
     "output_type": "execute_result"
    }
   ],
   "source": [
    "len(range_list)"
   ]
  },
  {
   "cell_type": "code",
   "execution_count": 11,
   "metadata": {},
   "outputs": [],
   "source": [
    "# Given up in favor of Ryan's node coloring technique\n",
    "#     z_order = write_tools.morton_order_cube(cube_side=4)\n",
    "\n",
    "node_assignments = write_tools.node_assignment(cube_side=4)"
   ]
  },
  {
   "cell_type": "code",
   "execution_count": 40,
   "metadata": {},
   "outputs": [],
   "source": [
    "mike_dict = {}\n",
    "for i in range(len(range_list)):            \n",
    "    min_coord = [a[0] for a in range_list[i]]\n",
    "    max_coord = [a[1] - 1 for a in range_list[i]]\n",
    "    \n",
    "#     print(max_coord)\n",
    "            \n",
    "    mike_dict[dest_folder_name + str(i + 1).zfill(2)] = \\\n",
    "        (write_tools.morton_pack(array_cube_side, min_coord[2], min_coord[1], min_coord[0]), write_tools.morton_pack(array_cube_side, max_coord[2], max_coord[1], max_coord[0]))\n",
    "    # Ordered 2-1-0 bcs. dims are nnz-nny-nnx\n",
    "    \n",
    "#     print(mike_dict[dest_folder_name + str(i + 1).zfill(2)])"
   ]
  },
  {
   "cell_type": "code",
   "execution_count": 41,
   "metadata": {},
   "outputs": [
    {
     "data": {
      "text/plain": [
       "{'sabl2048b01': (0, 134217727),\n",
       " 'sabl2048b02': (134217728, 268435455),\n",
       " 'sabl2048b03': (1073741824, 1207959551),\n",
       " 'sabl2048b04': (1207959552, 1342177279),\n",
       " 'sabl2048b05': (268435456, 402653183),\n",
       " 'sabl2048b06': (402653184, 536870911),\n",
       " 'sabl2048b07': (1342177280, 1476395007),\n",
       " 'sabl2048b08': (1476395008, 1610612735),\n",
       " 'sabl2048b09': (2147483648, 2281701375),\n",
       " 'sabl2048b10': (2281701376, 2415919103),\n",
       " 'sabl2048b11': (3221225472, 3355443199),\n",
       " 'sabl2048b12': (3355443200, 3489660927),\n",
       " 'sabl2048b13': (2415919104, 2550136831),\n",
       " 'sabl2048b14': (2550136832, 2684354559),\n",
       " 'sabl2048b15': (3489660928, 3623878655),\n",
       " 'sabl2048b16': (3623878656, 3758096383),\n",
       " 'sabl2048b17': (536870912, 671088639),\n",
       " 'sabl2048b18': (671088640, 805306367),\n",
       " 'sabl2048b19': (1610612736, 1744830463),\n",
       " 'sabl2048b20': (1744830464, 1879048191),\n",
       " 'sabl2048b21': (805306368, 939524095),\n",
       " 'sabl2048b22': (939524096, 1073741823),\n",
       " 'sabl2048b23': (1879048192, 2013265919),\n",
       " 'sabl2048b24': (2013265920, 2147483647),\n",
       " 'sabl2048b25': (2684354560, 2818572287),\n",
       " 'sabl2048b26': (2818572288, 2952790015),\n",
       " 'sabl2048b27': (3758096384, 3892314111),\n",
       " 'sabl2048b28': (3892314112, 4026531839),\n",
       " 'sabl2048b29': (2952790016, 3087007743),\n",
       " 'sabl2048b30': (3087007744, 3221225471),\n",
       " 'sabl2048b31': (4026531840, 4160749567),\n",
       " 'sabl2048b32': (4160749568, 4294967295),\n",
       " 'sabl2048b33': (4294967296, 4429185023),\n",
       " 'sabl2048b34': (4429185024, 4563402751),\n",
       " 'sabl2048b35': (5368709120, 5502926847),\n",
       " 'sabl2048b36': (5502926848, 5637144575),\n",
       " 'sabl2048b37': (4563402752, 4697620479),\n",
       " 'sabl2048b38': (4697620480, 4831838207),\n",
       " 'sabl2048b39': (5637144576, 5771362303),\n",
       " 'sabl2048b40': (5771362304, 5905580031),\n",
       " 'sabl2048b41': (6442450944, 6576668671),\n",
       " 'sabl2048b42': (6576668672, 6710886399),\n",
       " 'sabl2048b43': (7516192768, 7650410495),\n",
       " 'sabl2048b44': (7650410496, 7784628223),\n",
       " 'sabl2048b45': (6710886400, 6845104127),\n",
       " 'sabl2048b46': (6845104128, 6979321855),\n",
       " 'sabl2048b47': (7784628224, 7918845951),\n",
       " 'sabl2048b48': (7918845952, 8053063679),\n",
       " 'sabl2048b49': (4831838208, 4966055935),\n",
       " 'sabl2048b50': (4966055936, 5100273663),\n",
       " 'sabl2048b51': (5905580032, 6039797759),\n",
       " 'sabl2048b52': (6039797760, 6174015487),\n",
       " 'sabl2048b53': (5100273664, 5234491391),\n",
       " 'sabl2048b54': (5234491392, 5368709119),\n",
       " 'sabl2048b55': (6174015488, 6308233215),\n",
       " 'sabl2048b56': (6308233216, 6442450943),\n",
       " 'sabl2048b57': (6979321856, 7113539583),\n",
       " 'sabl2048b58': (7113539584, 7247757311),\n",
       " 'sabl2048b59': (8053063680, 8187281407),\n",
       " 'sabl2048b60': (8187281408, 8321499135),\n",
       " 'sabl2048b61': (7247757312, 7381975039),\n",
       " 'sabl2048b62': (7381975040, 7516192767),\n",
       " 'sabl2048b63': (8321499136, 8455716863),\n",
       " 'sabl2048b64': (8455716864, 8589934591)}"
      ]
     },
     "execution_count": 41,
     "metadata": {},
     "output_type": "execute_result"
    }
   ],
   "source": [
    "mike_dict"
   ]
  },
  {
   "cell_type": "code",
   "execution_count": 44,
   "metadata": {},
   "outputs": [
    {
     "name": "stdout",
     "output_type": "stream",
     "text": [
      "/home/idies/workspace/Storage/ariel4/persistent/ncar-zarr-code/zarr_writing\n"
     ]
    }
   ],
   "source": [
    "%cd /home/idies/workspace/Storage/ariel4/persistent/ncar-zarr-code/zarr_writing"
   ]
  },
  {
   "cell_type": "code",
   "execution_count": 45,
   "metadata": {},
   "outputs": [],
   "source": [
    "import dill\n",
    "\n",
    "pickle_file = './filename_morton_ranges.pickle'\n",
    "\n",
    "# the dictionary that will be written to the pickle file. empty dictionary in this example, but you would fill it with the data.\n",
    "filename_morton_map = mike_dict\n",
    "\n",
    "with open(pickle_file, 'wb') as pickled_filepath:\n",
    "    dill.dump(filename_morton_map, pickled_filepath)"
   ]
  },
  {
   "cell_type": "code",
   "execution_count": null,
   "metadata": {},
   "outputs": [],
   "source": []
  }
 ],
 "metadata": {
  "kernelspec": {
   "display_name": "Python 3.8 (py38)",
   "language": "python",
   "name": "py38"
  },
  "language_info": {
   "codemirror_mode": {
    "name": "ipython",
    "version": 3
   },
   "file_extension": ".py",
   "mimetype": "text/x-python",
   "name": "python",
   "nbconvert_exporter": "python",
   "pygments_lexer": "ipython3",
   "version": "3.8.5"
  }
 },
 "nbformat": 4,
 "nbformat_minor": 4
}
