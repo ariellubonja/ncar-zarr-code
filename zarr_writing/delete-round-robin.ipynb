{
 "cells": [
  {
   "cell_type": "markdown",
   "metadata": {},
   "source": [
    "## Script to delete round-robined data across FileDB"
   ]
  },
  {
   "cell_type": "code",
   "execution_count": 1,
   "metadata": {},
   "outputs": [],
   "source": [
    "dest_folder_name = \"sabl2048a\""
   ]
  },
  {
   "cell_type": "code",
   "execution_count": 2,
   "metadata": {},
   "outputs": [],
   "source": [
    "import write_tools"
   ]
  },
  {
   "cell_type": "code",
   "execution_count": 3,
   "metadata": {},
   "outputs": [
    {
     "name": "stdout",
     "output_type": "stream",
     "text": [
      "/home/idies/workspace/turb\n"
     ]
    }
   ],
   "source": [
    "%cd /home/idies/workspace/turb/"
   ]
  },
  {
   "cell_type": "code",
   "execution_count": 4,
   "metadata": {},
   "outputs": [
    {
     "data": {
      "text/plain": [
       "['/home/idies/workspace/turb/data01_01/zarr/',\n",
       " '/home/idies/workspace/turb/data02_01/zarr/',\n",
       " '/home/idies/workspace/turb/data03_01/zarr/',\n",
       " '/home/idies/workspace/turb/data04_01/zarr/',\n",
       " '/home/idies/workspace/turb/data05_01/zarr/']"
      ]
     },
     "execution_count": 4,
     "metadata": {},
     "output_type": "execute_result"
    }
   ],
   "source": [
    "# creatuple list of folder on filedb to which data should be copied\n",
    "# you may want to change this to avoid certain volumes\n",
    "folders=write_tools.list_fileDB_folders()\n",
    "folders[:5]"
   ]
  },
  {
   "cell_type": "code",
   "execution_count": 5,
   "metadata": {},
   "outputs": [],
   "source": [
    "# Avoiding 7-2 and 9-2 - they're too full as of May 2023\n",
    "# folders.remove(\"/home/idies/workspace/turb/data02_02/zarr/ncar-zarr/\")\n",
    "folders.remove(\"/home/idies/workspace/turb/data09_02/zarr/\")\n",
    "folders.remove(\"/home/idies/workspace/turb/data07_02/zarr/\") # This is already created"
   ]
  },
  {
   "cell_type": "code",
   "execution_count": 6,
   "metadata": {},
   "outputs": [],
   "source": [
    "# for i in range(len(folders)):\n",
    "#     folders[i] += dest_folder_name + \"_\" + str(i + 1).zfill(2) + \"_prod/\"\n",
    "\n",
    "# folders[:5]"
   ]
  },
  {
   "cell_type": "code",
   "execution_count": 7,
   "metadata": {},
   "outputs": [
    {
     "data": {
      "text/plain": [
       "[[[0, 4, 32, 36], [2, 6, 34, 38], [16, 20, 48, 52], [18, 22, 50, 54]],\n",
       " [[1, 5, 33, 37], [3, 7, 35, 39], [17, 21, 49, 53], [19, 23, 51, 55]],\n",
       " [[8, 12, 40, 44], [10, 14, 42, 46], [24, 28, 56, 60], [26, 30, 58, 62]],\n",
       " [[9, 13, 41, 45], [11, 15, 43, 47], [25, 29, 57, 61], [27, 31, 59, 63]]]"
      ]
     },
     "execution_count": 7,
     "metadata": {},
     "output_type": "execute_result"
    }
   ],
   "source": [
    "# get Z-order coordinates - they're part of the filename\n",
    "\n",
    "cube_root = 4\n",
    "\n",
    "z_order = []\n",
    "# Z-order the cube of points so they \"linearize\" far from each other\n",
    "for i in range(cube_root):\n",
    "    a = []\n",
    "    for j in range(cube_root):\n",
    "        b = []\n",
    "        for k in range(cube_root):\n",
    "            z_position = write_tools.morton_pack(cube_root, i,j,k)\n",
    "            b.append(z_position)\n",
    "        a.append(b)\n",
    "    z_order.append(a)\n",
    "\n",
    "z_order"
   ]
  },
  {
   "cell_type": "code",
   "execution_count": 8,
   "metadata": {},
   "outputs": [],
   "source": [
    "# Calculate the number of chunks along each dimension\n",
    "num_chunks = 4\n",
    "\n",
    "# I want this to be a 3D list of lists\n",
    "outer_dim = []\n",
    "\n",
    "for i in range(num_chunks):\n",
    "    mid_dim = []\n",
    "    for j in range(num_chunks):\n",
    "        inner_dim = []\n",
    "\n",
    "        for k in range(num_chunks):\n",
    "            inner_dim.append(str(i)+str(j)+str(k))\n",
    "\n",
    "        mid_dim.append(inner_dim)\n",
    "\n",
    "    outer_dim.append(mid_dim)\n",
    "\n",
    "# outer_dim\n"
   ]
  },
  {
   "cell_type": "code",
   "execution_count": 9,
   "metadata": {
    "scrolled": true,
    "tags": []
   },
   "outputs": [
    {
     "data": {
      "text/plain": [
       "['/home/idies/workspace/turb/data01_01/zarr/ariel_test_000.zarr',\n",
       " '/home/idies/workspace/turb/data05_01/zarr/ariel_test_001.zarr',\n",
       " '/home/idies/workspace/turb/data11_03/zarr/ariel_test_002.zarr',\n",
       " '/home/idies/workspace/turb/data03_01/zarr/ariel_test_003.zarr',\n",
       " '/home/idies/workspace/turb/data03_01/zarr/ariel_test_010.zarr']"
      ]
     },
     "execution_count": 9,
     "metadata": {},
     "output_type": "execute_result"
    }
   ],
   "source": [
    "folders_to_delete = []\n",
    "\n",
    "for i in range(num_chunks):\n",
    "    for j in range(num_chunks):\n",
    "        for k in range(num_chunks):\n",
    "            # Put e.g. z-order=4 to filedb05_01\n",
    "            filedb_index = z_order[i][j][k] % len(folders) # Loop around\n",
    "            current_array = outer_dim[i][j][k]\n",
    "            \n",
    "            folders_to_delete.append(folders[filedb_index] + \"ariel_test_\" + str(i) + str(j) + str(k) + \".zarr\")\n",
    "#             print(current_array)\n",
    "\n",
    "folders_to_delete[:5]"
   ]
  },
  {
   "cell_type": "code",
   "execution_count": 10,
   "metadata": {},
   "outputs": [],
   "source": [
    "import os\n",
    "import concurrent.futures"
   ]
  },
  {
   "cell_type": "code",
   "execution_count": 11,
   "metadata": {},
   "outputs": [],
   "source": [
    "# ChatGPT\n",
    "def delete_folder(folder):\n",
    "    try:\n",
    "        os.system(f'rm -rf {folder}')\n",
    "#         print(f\"Deleted folder: {folder}\")\n",
    "    except Exception as e:\n",
    "        print(f\"Error deleting folder: {folder}\")\n",
    "        print(e)"
   ]
  },
  {
   "cell_type": "code",
   "execution_count": 12,
   "metadata": {},
   "outputs": [],
   "source": [
    "# Create a ThreadPoolExecutor with the desired number of worker threads\n",
    "with concurrent.futures.ThreadPoolExecutor() as executor:\n",
    "    # Submit the delete_folder function for each folder to the executor\n",
    "    future_to_folder = {executor.submit(delete_folder, folder): folder for folder in folders_to_delete}\n",
    "\n",
    "    # Wait for the deletion tasks to complete\n",
    "    for future in concurrent.futures.as_completed(future_to_folder):\n",
    "        folder = future_to_folder[future]\n",
    "        try:\n",
    "            future.result()\n",
    "        except Exception as e:\n",
    "            print(f\"Error deleting folder: {folder}\")\n",
    "            print(e)"
   ]
  },
  {
   "cell_type": "code",
   "execution_count": null,
   "metadata": {},
   "outputs": [],
   "source": []
  }
 ],
 "metadata": {
  "kernelspec": {
   "display_name": "Python 3.8 (py38)",
   "language": "python",
   "name": "py38"
  },
  "language_info": {
   "codemirror_mode": {
    "name": "ipython",
    "version": 3
   },
   "file_extension": ".py",
   "mimetype": "text/x-python",
   "name": "python",
   "nbconvert_exporter": "python",
   "pygments_lexer": "ipython3",
   "version": "3.8.5"
  }
 },
 "nbformat": 4,
 "nbformat_minor": 4
}
