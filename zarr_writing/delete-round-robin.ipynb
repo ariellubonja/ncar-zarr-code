{
 "cells": [
  {
   "cell_type": "markdown",
   "metadata": {},
   "source": [
    "## Script to delete round-robined data across FileDB"
   ]
  },
  {
   "cell_type": "code",
   "execution_count": 9,
   "metadata": {},
   "outputs": [],
   "source": [
    "dest_folder_name = \"sabl2048b\"\n",
    "cube_side = 4 # 64 total 512-cubes - 4x4x4\n",
    "\n",
    "timestep_range = range(5)"
   ]
  },
  {
   "cell_type": "code",
   "execution_count": 10,
   "metadata": {},
   "outputs": [
    {
     "name": "stdout",
     "output_type": "stream",
     "text": [
      "/home/idies/workspace/Storage/ariel4/persistent/ncar-zarr-code/zarr_writing\n"
     ]
    }
   ],
   "source": [
    "%cd /home/idies/workspace/Storage/ariel4/persistent/ncar-zarr-code/zarr_writing"
   ]
  },
  {
   "cell_type": "code",
   "execution_count": 11,
   "metadata": {},
   "outputs": [],
   "source": [
    "from utils import write_tools\n",
    "import os"
   ]
  },
  {
   "cell_type": "code",
   "execution_count": 12,
   "metadata": {},
   "outputs": [
    {
     "name": "stdout",
     "output_type": "stream",
     "text": [
      "/home/idies/workspace/turb\n"
     ]
    }
   ],
   "source": [
    "%cd /home/idies/workspace/turb/"
   ]
  },
  {
   "cell_type": "code",
   "execution_count": 13,
   "metadata": {},
   "outputs": [
    {
     "data": {
      "text/plain": [
       "['/home/idies/workspace/turb/data01_01/zarr/',\n",
       " '/home/idies/workspace/turb/data02_01/zarr/',\n",
       " '/home/idies/workspace/turb/data03_01/zarr/',\n",
       " '/home/idies/workspace/turb/data04_01/zarr/',\n",
       " '/home/idies/workspace/turb/data05_01/zarr/']"
      ]
     },
     "execution_count": 13,
     "metadata": {},
     "output_type": "execute_result"
    }
   ],
   "source": [
    "# creatuple list of folder on filedb to which data should be copied\n",
    "# you may want to change this to avoid certain volumes\n",
    "folders=write_tools.list_fileDB_folders()\n",
    "folders[:5]"
   ]
  },
  {
   "cell_type": "code",
   "execution_count": 14,
   "metadata": {},
   "outputs": [],
   "source": [
    "# Avoiding 7-2 and 9-2 - they're too full as of May 2023\n",
    "# folders.remove(\"/home/idies/workspace/turb/data02_02/zarr/ncar-zarr/\")\n",
    "folders.remove(\"/home/idies/workspace/turb/data09_02/zarr/\")\n",
    "folders.remove(\"/home/idies/workspace/turb/data07_02/zarr/\") # This is already created"
   ]
  },
  {
   "cell_type": "code",
   "execution_count": 15,
   "metadata": {},
   "outputs": [
    {
     "data": {
      "text/plain": [
       "['/home/idies/workspace/turb/data01_01/zarr/sabl2048b_01_prod',\n",
       " '/home/idies/workspace/turb/data02_01/zarr/sabl2048b_02_prod',\n",
       " '/home/idies/workspace/turb/data03_01/zarr/sabl2048b_03_prod',\n",
       " '/home/idies/workspace/turb/data04_01/zarr/sabl2048b_04_prod',\n",
       " '/home/idies/workspace/turb/data05_01/zarr/sabl2048b_05_prod']"
      ]
     },
     "execution_count": 15,
     "metadata": {},
     "output_type": "execute_result"
    }
   ],
   "source": [
    "for i in range(len(folders)):\n",
    "    folders[i] += dest_folder_name + \"_\" + str(i + 1).zfill(2) + \"_prod\"\n",
    "\n",
    "folders[:5]"
   ]
  },
  {
   "cell_type": "code",
   "execution_count": 24,
   "metadata": {
    "scrolled": true,
    "tags": []
   },
   "outputs": [
    {
     "data": {
      "text/plain": [
       "['/home/idies/workspace/turb/data01_01/zarr/sabl2048b_01_prod/sabl2048b01_000.zarr',\n",
       " '/home/idies/workspace/turb/data02_01/zarr/sabl2048b_02_prod/sabl2048b02_000.zarr',\n",
       " '/home/idies/workspace/turb/data03_01/zarr/sabl2048b_03_prod/sabl2048b03_000.zarr',\n",
       " '/home/idies/workspace/turb/data04_01/zarr/sabl2048b_04_prod/sabl2048b04_000.zarr',\n",
       " '/home/idies/workspace/turb/data05_01/zarr/sabl2048b_05_prod/sabl2048b05_000.zarr']"
      ]
     },
     "execution_count": 24,
     "metadata": {},
     "output_type": "execute_result"
    }
   ],
   "source": [
    "# ordering = write_tools.morton_order_cube(cube_side=4)\n",
    "ordering = write_tools.node_assignment(4)\n",
    "\n",
    "folders_to_delete = []\n",
    "num_chunks = cube_side\n",
    "\n",
    "for t in timestep_range:\n",
    "    for i in range(num_chunks):\n",
    "        for j in range(num_chunks):\n",
    "            for k in range(num_chunks):\n",
    "                # Put e.g. z-order=4 to filedb05_01\n",
    "                filedb_index = ordering[i][j][k] % len(folders) # Loop around\n",
    "                # current_array = outer_dim[i][j][k]\n",
    "\n",
    "#                 folders_to_delete.append(os.path.join(folders[filedb_index], dest_folder_name + str(ordering[i][j][k]).zfill(2) + \"_\" + str(t).zfill(3) + \".zarr\"))\n",
    "                folders_to_delete.append(os.path.join(folders[filedb_index - 1], dest_folder_name + str(ordering[i][j][k]).zfill(2) + \"_\" + str(t).zfill(3) + \".zarr\"))\n",
    "\n",
    "folders_to_delete[:5]"
   ]
  },
  {
   "cell_type": "code",
   "execution_count": 25,
   "metadata": {},
   "outputs": [],
   "source": [
    "import concurrent.futures"
   ]
  },
  {
   "cell_type": "code",
   "execution_count": 26,
   "metadata": {},
   "outputs": [],
   "source": [
    "# ChatGPT\n",
    "def delete_folder(folder):\n",
    "    try:\n",
    "        os.system(f'rm -rf {folder}')\n",
    "#         print(f\"Deleted folder: {folder}\")\n",
    "    except Exception as e:\n",
    "        print(f\"Error deleting folder: {folder}\")\n",
    "        print(e)"
   ]
  },
  {
   "cell_type": "code",
   "execution_count": 27,
   "metadata": {},
   "outputs": [],
   "source": [
    "# Create a ThreadPoolExecutor with the desired number of worker threads\n",
    "with concurrent.futures.ThreadPoolExecutor() as executor:\n",
    "    # Submit the delete_folder function for each folder to the executor\n",
    "    future_to_folder = {executor.submit(delete_folder, folder): folder for folder in folders_to_delete}\n",
    "\n",
    "    # Wait for the deletion tasks to complete\n",
    "    for future in concurrent.futures.as_completed(future_to_folder):\n",
    "        folder = future_to_folder[future]\n",
    "        try:\n",
    "            future.result()\n",
    "        except Exception as e:\n",
    "            print(f\"Error deleting folder: {folder}\")\n",
    "            print(e)"
   ]
  },
  {
   "cell_type": "code",
   "execution_count": null,
   "metadata": {},
   "outputs": [],
   "source": []
  }
 ],
 "metadata": {
  "kernelspec": {
   "display_name": "Python 3.8 (py38)",
   "language": "python",
   "name": "py38"
  },
  "language_info": {
   "codemirror_mode": {
    "name": "ipython",
    "version": 3
   },
   "file_extension": ".py",
   "mimetype": "text/x-python",
   "name": "python",
   "nbconvert_exporter": "python",
   "pygments_lexer": "ipython3",
   "version": "3.8.5"
  }
 },
 "nbformat": 4,
 "nbformat_minor": 4
}
