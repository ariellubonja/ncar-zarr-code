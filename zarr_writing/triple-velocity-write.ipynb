{
 "cells": [
  {
   "cell_type": "markdown",
   "metadata": {},
   "source": [
    "## Convert all netCDF NCAR timestep files to Zarr (64,64,64), round-robin across time across FileDB nodes"
   ]
  },
  {
   "cell_type": "code",
   "execution_count": null,
   "metadata": {
    "scrolled": true,
    "tags": []
   },
   "outputs": [],
   "source": [
    "!pip install \"xarray[complete]\""
   ]
  },
  {
   "cell_type": "code",
   "execution_count": 2,
   "metadata": {},
   "outputs": [],
   "source": [
    "import xarray as xr\n",
    "import os\n",
    "# from dask.diagnostics import ProgressBar\n",
    "# import zarr # No compute image with both xarray and zarr"
   ]
  },
  {
   "cell_type": "markdown",
   "metadata": {},
   "source": [
    "<font color=\"orange\">Don't delete the CD cell!</font>"
   ]
  },
  {
   "cell_type": "code",
   "execution_count": 3,
   "metadata": {},
   "outputs": [
    {
     "name": "stdout",
     "output_type": "stream",
     "text": [
      "/home/idies/workspace/turb/data02_02/ariel-6-timestep-ncar-netCDF\n"
     ]
    }
   ],
   "source": [
    "%cd /home/idies/workspace/turb/data02_02/ariel-6-timestep-ncar-netCDF"
   ]
  },
  {
   "cell_type": "markdown",
   "metadata": {},
   "source": [
    "## Merge 3 velocity components into one 4D array"
   ]
  },
  {
   "cell_type": "code",
   "execution_count": 5,
   "metadata": {},
   "outputs": [
    {
     "data": {
      "text/plain": [
       "<bound method Dataset.info of <xarray.Dataset>\n",
       "Dimensions:  (nnx: 2048, nny: 2048, nnz: 2048)\n",
       "Dimensions without coordinates: nnx, nny, nnz\n",
       "Data variables:\n",
       "    u        (nnz, nny, nnx) float32 ...\n",
       "    v        (nnz, nny, nnx) float32 ...\n",
       "    w        (nnz, nny, nnx) float32 ...\n",
       "    t        (nnz, nny, nnx) float32 ...\n",
       "    p        (nnz, nny, nnx) float32 ...\n",
       "    e        (nnz, nny, nnx) float32 ...\n",
       "Attributes:\n",
       "    Simulation conducted by:  Peter Sullivan, pps@ucar.edu\n",
       "    Dataset built by:         Edward Patton, patton@ucar.edu\n",
       "    Affiliation:              NCAR/MMM\n",
       "    Code:                     NCAR-LES\n",
       "    Case Description:         GABLS 1, Cooling Rate: 0.25 K/hr\n",
       "    Created:                  2023-05-02 10:25:55 -0600 UTC>"
      ]
     },
     "execution_count": 5,
     "metadata": {},
     "output_type": "execute_result"
    }
   ],
   "source": [
    "folder_path = '/home/idies/workspace/turb/data02_02/ariel-6-timestep-ncar-netCDF/'\n",
    "data_xr = xr.open_dataset(folder_path + \"jhd.000.nc\")\n",
    "data_xr.info"
   ]
  },
  {
   "cell_type": "code",
   "execution_count": 6,
   "metadata": {
    "scrolled": true,
    "tags": []
   },
   "outputs": [
    {
     "data": {
      "text/html": [
       "<table>\n",
       "<tr>\n",
       "<td>\n",
       "<table>\n",
       "  <thead>\n",
       "    <tr><td> </td><th> Array </th><th> Chunk </th></tr>\n",
       "  </thead>\n",
       "  <tbody>\n",
       "    <tr><th> Bytes </th><td> 1.61 GB </td> <td> 3.15 MB </td></tr>\n",
       "    <tr><th> Shape </th><td> (512, 512, 512, 3) </td> <td> (64, 64, 64, 3) </td></tr>\n",
       "    <tr><th> Count </th><td> 1600 Tasks </td><td> 512 Chunks </td></tr>\n",
       "    <tr><th> Type </th><td> float32 </td><td> numpy.ndarray </td></tr>\n",
       "  </tbody>\n",
       "</table>\n",
       "</td>\n",
       "<td>\n",
       "<svg width=\"526\" height=\"240\" style=\"stroke:rgb(0,0,0);stroke-width:1\" >\n",
       "\n",
       "  <!-- Horizontal lines -->\n",
       "  <line x1=\"0\" y1=\"0\" x2=\"120\" y2=\"0\" style=\"stroke-width:2\" />\n",
       "  <line x1=\"0\" y1=\"25\" x2=\"120\" y2=\"25\" style=\"stroke-width:2\" />\n",
       "\n",
       "  <!-- Vertical lines -->\n",
       "  <line x1=\"0\" y1=\"0\" x2=\"0\" y2=\"25\" style=\"stroke-width:2\" />\n",
       "  <line x1=\"15\" y1=\"0\" x2=\"15\" y2=\"25\" />\n",
       "  <line x1=\"30\" y1=\"0\" x2=\"30\" y2=\"25\" />\n",
       "  <line x1=\"45\" y1=\"0\" x2=\"45\" y2=\"25\" />\n",
       "  <line x1=\"60\" y1=\"0\" x2=\"60\" y2=\"25\" />\n",
       "  <line x1=\"75\" y1=\"0\" x2=\"75\" y2=\"25\" />\n",
       "  <line x1=\"90\" y1=\"0\" x2=\"90\" y2=\"25\" />\n",
       "  <line x1=\"105\" y1=\"0\" x2=\"105\" y2=\"25\" />\n",
       "  <line x1=\"120\" y1=\"0\" x2=\"120\" y2=\"25\" style=\"stroke-width:2\" />\n",
       "\n",
       "  <!-- Colored Rectangle -->\n",
       "  <polygon points=\"0.0,0.0 120.0,0.0 120.0,25.412616514582485 0.0,25.412616514582485\" style=\"fill:#ECB172A0;stroke-width:0\"/>\n",
       "\n",
       "  <!-- Text -->\n",
       "  <text x=\"60.000000\" y=\"45.412617\" font-size=\"1.0rem\" font-weight=\"100\" text-anchor=\"middle\" >512</text>\n",
       "  <text x=\"140.000000\" y=\"12.706308\" font-size=\"1.0rem\" font-weight=\"100\" text-anchor=\"middle\" transform=\"rotate(0,140.000000,12.706308)\">1</text>\n",
       "\n",
       "\n",
       "  <!-- Horizontal lines -->\n",
       "  <line x1=\"190\" y1=\"0\" x2=\"260\" y2=\"70\" style=\"stroke-width:2\" />\n",
       "  <line x1=\"190\" y1=\"15\" x2=\"260\" y2=\"85\" />\n",
       "  <line x1=\"190\" y1=\"30\" x2=\"260\" y2=\"100\" />\n",
       "  <line x1=\"190\" y1=\"45\" x2=\"260\" y2=\"115\" />\n",
       "  <line x1=\"190\" y1=\"60\" x2=\"260\" y2=\"130\" />\n",
       "  <line x1=\"190\" y1=\"75\" x2=\"260\" y2=\"145\" />\n",
       "  <line x1=\"190\" y1=\"90\" x2=\"260\" y2=\"160\" />\n",
       "  <line x1=\"190\" y1=\"105\" x2=\"260\" y2=\"175\" />\n",
       "  <line x1=\"190\" y1=\"120\" x2=\"260\" y2=\"190\" style=\"stroke-width:2\" />\n",
       "\n",
       "  <!-- Vertical lines -->\n",
       "  <line x1=\"190\" y1=\"0\" x2=\"190\" y2=\"120\" style=\"stroke-width:2\" />\n",
       "  <line x1=\"198\" y1=\"8\" x2=\"198\" y2=\"128\" />\n",
       "  <line x1=\"207\" y1=\"17\" x2=\"207\" y2=\"137\" />\n",
       "  <line x1=\"216\" y1=\"26\" x2=\"216\" y2=\"146\" />\n",
       "  <line x1=\"225\" y1=\"35\" x2=\"225\" y2=\"155\" />\n",
       "  <line x1=\"234\" y1=\"44\" x2=\"234\" y2=\"164\" />\n",
       "  <line x1=\"242\" y1=\"52\" x2=\"242\" y2=\"172\" />\n",
       "  <line x1=\"251\" y1=\"61\" x2=\"251\" y2=\"181\" />\n",
       "  <line x1=\"260\" y1=\"70\" x2=\"260\" y2=\"190\" style=\"stroke-width:2\" />\n",
       "\n",
       "  <!-- Colored Rectangle -->\n",
       "  <polygon points=\"190.0,0.0 260.5882352941177,70.58823529411765 260.5882352941177,190.58823529411765 190.0,120.0\" style=\"fill:#ECB172A0;stroke-width:0\"/>\n",
       "\n",
       "  <!-- Horizontal lines -->\n",
       "  <line x1=\"190\" y1=\"0\" x2=\"215\" y2=\"0\" style=\"stroke-width:2\" />\n",
       "  <line x1=\"198\" y1=\"8\" x2=\"224\" y2=\"8\" />\n",
       "  <line x1=\"207\" y1=\"17\" x2=\"233\" y2=\"17\" />\n",
       "  <line x1=\"216\" y1=\"26\" x2=\"241\" y2=\"26\" />\n",
       "  <line x1=\"225\" y1=\"35\" x2=\"250\" y2=\"35\" />\n",
       "  <line x1=\"234\" y1=\"44\" x2=\"259\" y2=\"44\" />\n",
       "  <line x1=\"242\" y1=\"52\" x2=\"268\" y2=\"52\" />\n",
       "  <line x1=\"251\" y1=\"61\" x2=\"277\" y2=\"61\" />\n",
       "  <line x1=\"260\" y1=\"70\" x2=\"286\" y2=\"70\" style=\"stroke-width:2\" />\n",
       "\n",
       "  <!-- Vertical lines -->\n",
       "  <line x1=\"190\" y1=\"0\" x2=\"260\" y2=\"70\" style=\"stroke-width:2\" />\n",
       "  <line x1=\"215\" y1=\"0\" x2=\"286\" y2=\"70\" style=\"stroke-width:2\" />\n",
       "\n",
       "  <!-- Colored Rectangle -->\n",
       "  <polygon points=\"190.0,0.0 215.41261651458248,0.0 286.00085180870013,70.58823529411765 260.5882352941177,70.58823529411765\" style=\"fill:#ECB172A0;stroke-width:0\"/>\n",
       "\n",
       "  <!-- Horizontal lines -->\n",
       "  <line x1=\"260\" y1=\"70\" x2=\"286\" y2=\"70\" style=\"stroke-width:2\" />\n",
       "  <line x1=\"260\" y1=\"85\" x2=\"286\" y2=\"85\" />\n",
       "  <line x1=\"260\" y1=\"100\" x2=\"286\" y2=\"100\" />\n",
       "  <line x1=\"260\" y1=\"115\" x2=\"286\" y2=\"115\" />\n",
       "  <line x1=\"260\" y1=\"130\" x2=\"286\" y2=\"130\" />\n",
       "  <line x1=\"260\" y1=\"145\" x2=\"286\" y2=\"145\" />\n",
       "  <line x1=\"260\" y1=\"160\" x2=\"286\" y2=\"160\" />\n",
       "  <line x1=\"260\" y1=\"175\" x2=\"286\" y2=\"175\" />\n",
       "  <line x1=\"260\" y1=\"190\" x2=\"286\" y2=\"190\" style=\"stroke-width:2\" />\n",
       "\n",
       "  <!-- Vertical lines -->\n",
       "  <line x1=\"260\" y1=\"70\" x2=\"260\" y2=\"190\" style=\"stroke-width:2\" />\n",
       "  <line x1=\"286\" y1=\"70\" x2=\"286\" y2=\"190\" style=\"stroke-width:2\" />\n",
       "\n",
       "  <!-- Colored Rectangle -->\n",
       "  <polygon points=\"260.5882352941177,70.58823529411765 286.0008518087002,70.58823529411765 286.0008518087002,190.58823529411765 260.5882352941177,190.58823529411765\" style=\"fill:#ECB172A0;stroke-width:0\"/>\n",
       "\n",
       "  <!-- Text -->\n",
       "  <text x=\"273.294544\" y=\"210.588235\" font-size=\"1.0rem\" font-weight=\"100\" text-anchor=\"middle\" >3</text>\n",
       "  <text x=\"306.000852\" y=\"130.588235\" font-size=\"1.0rem\" font-weight=\"100\" text-anchor=\"middle\" transform=\"rotate(-90,306.000852,130.588235)\">512</text>\n",
       "  <text x=\"215.294118\" y=\"175.294118\" font-size=\"1.0rem\" font-weight=\"100\" text-anchor=\"middle\" transform=\"rotate(45,215.294118,175.294118)\">512</text>\n",
       "</svg>\n",
       "</td>\n",
       "</tr>\n",
       "</table>"
      ],
      "text/plain": [
       "dask.array<rechunk-merge, shape=(512, 512, 512, 3), dtype=float32, chunksize=(64, 64, 64, 3), chunktype=numpy.ndarray>"
      ]
     },
     "execution_count": 6,
     "metadata": {},
     "output_type": "execute_result"
    }
   ],
   "source": [
    "# I don't think this will benefit from Parallelization\n",
    "import dask.array as da\n",
    "\n",
    "\n",
    "b = da.stack([data_xr['u'], data_xr['v'], data_xr['w']], axis=3)\n",
    "# b = da.stack([data_xr['u'][:512, :512, :512], data_xr['v'][:512, :512, :512], data_xr['w'][:512, :512, :512]], axis=3)\n",
    "\n",
    "# import numpy as np\n",
    "# b = da.stack([np.zeros((128,128,128)), np.zeros((128,128,128)), np.zeros((128,128,128))], axis=3)\n",
    "\n",
    "chunk_size_base = 64\n",
    "\n",
    "# Need to edit chunk\n",
    "b = b.rechunk((chunk_size_base,chunk_size_base,chunk_size_base,3))\n",
    "\n",
    "b"
   ]
  },
  {
   "cell_type": "code",
   "execution_count": 9,
   "metadata": {},
   "outputs": [],
   "source": [
    "da.to_zarr(b, url=\"/home/idies/workspace/turb/data02_02/zarr/\" + \"ariel_split_velocities_ariel_test_512.zarr\", compressor=None)"
   ]
  },
  {
   "cell_type": "code",
   "execution_count": 12,
   "metadata": {},
   "outputs": [],
   "source": [
    "# import zarr\n",
    "\n",
    "# a = zarr.open(\"/home/idies/workspace/turb/data02_02/zarr/\" + \"ariel_split_velocities_ariel_test_512.zarr\")\n",
    "\n",
    "# a.info"
   ]
  },
  {
   "cell_type": "code",
   "execution_count": null,
   "metadata": {},
   "outputs": [],
   "source": [
    "# I don't think this will benefit from Parallelization\n",
    "import dask.array as da\n",
    "\n",
    "\n",
    "b = da.stack([data_xr['u'], data_xr['v'], data_xr['w']], axis=3)\n",
    "\n",
    "# import numpy as np\n",
    "# b = da.stack([np.zeros((128,128,128)), np.zeros((128,128,128)), np.zeros((128,128,128))], axis=3)\n",
    "\n",
    "chunk_size_base = 64\n",
    "\n",
    "# Need to edit chunk\n",
    "b = b.rechunk((chunk_size_base,chunk_size_base,chunk_size_base,3))\n",
    "\n",
    "b"
   ]
  },
  {
   "cell_type": "code",
   "execution_count": null,
   "metadata": {},
   "outputs": [],
   "source": [
    "# Remove individual velocity components, replace with joint\n",
    "\n",
    "data_joint_vel = data_xr.drop_vars(['u', 'v', 'w'])\n",
    "\n",
    "data_joint_vel.info"
   ]
  },
  {
   "cell_type": "code",
   "execution_count": null,
   "metadata": {},
   "outputs": [],
   "source": [
    "# Add 3 velocities\n",
    "data_joint_vel['velocity'] = xr.DataArray(b, dims=('nnz', 'nny', 'nnx', 'velocity component (xyz)'))\n",
    "\n",
    "data_joint_vel.info"
   ]
  },
  {
   "cell_type": "code",
   "execution_count": null,
   "metadata": {},
   "outputs": [],
   "source": [
    "data_joint_vel = data_joint_vel.drop_vars(['e', 'p', 't'])"
   ]
  },
  {
   "cell_type": "code",
   "execution_count": null,
   "metadata": {},
   "outputs": [],
   "source": [
    "chunk_size_base = 64\n",
    "\n",
    "# Disable compression, set chunk size\n",
    "# encoding = {variable_name: {'compressor': None, 'chunks': (chunk_size_base, chunk_size_base, chunk_size_base)} for variable_name in data_joint_vel.variables}\n",
    "encoding = {}\n",
    "encoding['velocity'] = {'compressor': None, 'chunks': (chunk_size_base,chunk_size_base,chunk_size_base,3)}\n",
    "\n",
    "encoding"
   ]
  },
  {
   "cell_type": "code",
   "execution_count": null,
   "metadata": {},
   "outputs": [],
   "source": [
    "target_dir = folders[0]\n",
    "\n",
    "# overwrite if exists\n",
    "data_joint_vel.to_zarr(store=\"/home/idies/workspace/turb/data02_02/zarr/\" + \"ariel_split_velocities_ariel_test.zarr\",\n",
    "                mode=\"w\",\n",
    "               encoding = encoding)\n"
   ]
  }
 ],
 "metadata": {
  "kernelspec": {
   "display_name": "Python 3.8 (py38)",
   "language": "python",
   "name": "py38"
  },
  "language_info": {
   "codemirror_mode": {
    "name": "ipython",
    "version": 3
   },
   "file_extension": ".py",
   "mimetype": "text/x-python",
   "name": "python",
   "nbconvert_exporter": "python",
   "pygments_lexer": "ipython3",
   "version": "3.8.5"
  }
 },
 "nbformat": 4,
 "nbformat_minor": 4
}
