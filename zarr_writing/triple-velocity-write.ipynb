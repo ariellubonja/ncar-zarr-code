{
 "cells": [
  {
   "cell_type": "code",
   "execution_count": 17,
   "metadata": {},
   "outputs": [],
   "source": [
    "chunk_size_base = 64"
   ]
  },
  {
   "cell_type": "markdown",
   "metadata": {},
   "source": [
    "## Convert all netCDF NCAR timestep files to Zarr (64,64,64), round-robin across time across FileDB nodes"
   ]
  },
  {
   "cell_type": "code",
   "execution_count": 5,
   "metadata": {
    "scrolled": true,
    "tags": []
   },
   "outputs": [
    {
     "name": "stdout",
     "output_type": "stream",
     "text": [
      "Requirement already satisfied: xarray[complete] in /home/idies/miniconda3/lib/python3.8/site-packages (2023.1.0)\n",
      "Requirement already satisfied: numpy>=1.20 in /home/idies/miniconda3/lib/python3.8/site-packages (from xarray[complete]) (1.24.3)\n",
      "Requirement already satisfied: packaging>=21.3 in /home/idies/miniconda3/lib/python3.8/site-packages (from xarray[complete]) (23.1)\n",
      "Requirement already satisfied: pandas>=1.3 in /home/idies/miniconda3/lib/python3.8/site-packages (from xarray[complete]) (2.0.2)\n",
      "Requirement already satisfied: h5netcdf in /home/idies/miniconda3/lib/python3.8/site-packages (from xarray[complete]) (1.1.0)\n",
      "Requirement already satisfied: fsspec in /home/idies/miniconda3/lib/python3.8/site-packages (from xarray[complete]) (2023.6.0)\n",
      "Requirement already satisfied: numbagg in /home/idies/miniconda3/lib/python3.8/site-packages (from xarray[complete]) (0.2.2)\n",
      "Requirement already satisfied: cftime in /home/idies/miniconda3/lib/python3.8/site-packages (from xarray[complete]) (1.6.2)\n",
      "Requirement already satisfied: flox in /home/idies/miniconda3/lib/python3.8/site-packages (from xarray[complete]) (0.7.2)\n",
      "Requirement already satisfied: pooch in /home/idies/miniconda3/lib/python3.8/site-packages (from xarray[complete]) (1.7.0)\n",
      "Requirement already satisfied: pydap in /home/idies/miniconda3/lib/python3.8/site-packages (from xarray[complete]) (3.4.1)\n",
      "Requirement already satisfied: seaborn in /home/idies/miniconda3/lib/python3.8/site-packages (from xarray[complete]) (0.12.2)\n",
      "Requirement already satisfied: zarr in /home/idies/miniconda3/lib/python3.8/site-packages (from xarray[complete]) (2.14.2)\n",
      "Requirement already satisfied: netCDF4 in /home/idies/miniconda3/lib/python3.8/site-packages (from xarray[complete]) (1.6.4)\n",
      "Requirement already satisfied: cfgrib in /home/idies/miniconda3/lib/python3.8/site-packages (from xarray[complete]) (0.9.10.4)\n",
      "Requirement already satisfied: nc-time-axis in /home/idies/miniconda3/lib/python3.8/site-packages (from xarray[complete]) (1.4.1)\n",
      "Requirement already satisfied: dask[complete] in /home/idies/miniconda3/lib/python3.8/site-packages (from xarray[complete]) (2023.5.0)\n",
      "Requirement already satisfied: bottleneck in /home/idies/miniconda3/lib/python3.8/site-packages (from xarray[complete]) (1.3.7)\n",
      "Requirement already satisfied: rasterio in /home/idies/miniconda3/lib/python3.8/site-packages (from xarray[complete]) (1.3.7)\n",
      "Requirement already satisfied: matplotlib in /home/idies/miniconda3/lib/python3.8/site-packages (from xarray[complete]) (3.7.1)\n",
      "Requirement already satisfied: scipy in /home/idies/miniconda3/lib/python3.8/site-packages (from xarray[complete]) (1.10.1)\n",
      "Requirement already satisfied: tzdata>=2022.1 in /home/idies/miniconda3/lib/python3.8/site-packages (from pandas>=1.3->xarray[complete]) (2023.3)\n",
      "Requirement already satisfied: python-dateutil>=2.8.2 in /home/idies/miniconda3/lib/python3.8/site-packages (from pandas>=1.3->xarray[complete]) (2.8.2)\n",
      "Requirement already satisfied: pytz>=2020.1 in /home/idies/miniconda3/lib/python3.8/site-packages (from pandas>=1.3->xarray[complete]) (2021.1)\n",
      "Requirement already satisfied: six>=1.5 in /home/idies/miniconda3/lib/python3.8/site-packages (from python-dateutil>=2.8.2->pandas>=1.3->xarray[complete]) (1.15.0)\n",
      "Requirement already satisfied: eccodes>=0.9.8 in /home/idies/miniconda3/lib/python3.8/site-packages (from cfgrib->xarray[complete]) (1.5.2)\n",
      "Requirement already satisfied: click in /home/idies/miniconda3/lib/python3.8/site-packages (from cfgrib->xarray[complete]) (8.1.3)\n",
      "Requirement already satisfied: attrs>=19.2 in /home/idies/miniconda3/lib/python3.8/site-packages (from cfgrib->xarray[complete]) (20.3.0)\n",
      "Requirement already satisfied: findlibs in /home/idies/miniconda3/lib/python3.8/site-packages (from eccodes>=0.9.8->cfgrib->xarray[complete]) (0.0.5)\n",
      "Requirement already satisfied: cffi in /home/idies/miniconda3/lib/python3.8/site-packages (from eccodes>=0.9.8->cfgrib->xarray[complete]) (1.14.4)\n",
      "Requirement already satisfied: pycparser in /home/idies/miniconda3/lib/python3.8/site-packages (from cffi->eccodes>=0.9.8->cfgrib->xarray[complete]) (2.20)\n",
      "Requirement already satisfied: cloudpickle>=1.5.0 in /home/idies/miniconda3/lib/python3.8/site-packages (from dask[complete]->xarray[complete]) (2.2.1)\n",
      "Requirement already satisfied: importlib-metadata>=4.13.0 in /home/idies/miniconda3/lib/python3.8/site-packages (from dask[complete]->xarray[complete]) (6.6.0)\n",
      "Requirement already satisfied: partd>=1.2.0 in /home/idies/miniconda3/lib/python3.8/site-packages (from dask[complete]->xarray[complete]) (1.4.0)\n",
      "Requirement already satisfied: pyyaml>=5.3.1 in /home/idies/miniconda3/lib/python3.8/site-packages (from dask[complete]->xarray[complete]) (6.0)\n",
      "Requirement already satisfied: toolz>=0.10.0 in /home/idies/miniconda3/lib/python3.8/site-packages (from dask[complete]->xarray[complete]) (0.12.0)\n",
      "Requirement already satisfied: pyarrow>=7.0 in /home/idies/miniconda3/lib/python3.8/site-packages (from dask[complete]->xarray[complete]) (12.0.0)\n",
      "Requirement already satisfied: lz4>=4.3.2 in /home/idies/miniconda3/lib/python3.8/site-packages (from dask[complete]->xarray[complete]) (4.3.2)\n",
      "Requirement already satisfied: zipp>=0.5 in /home/idies/miniconda3/lib/python3.8/site-packages (from importlib-metadata>=4.13.0->dask[complete]->xarray[complete]) (3.4.0)\n",
      "Requirement already satisfied: locket in /home/idies/miniconda3/lib/python3.8/site-packages (from partd>=1.2.0->dask[complete]->xarray[complete]) (1.0.0)\n",
      "Requirement already satisfied: distributed==2023.5.0 in /home/idies/miniconda3/lib/python3.8/site-packages (from dask[complete]->xarray[complete]) (2023.5.0)\n",
      "Requirement already satisfied: jinja2>=2.10.3 in /home/idies/miniconda3/lib/python3.8/site-packages (from dask[complete]->xarray[complete]) (2.11.2)\n",
      "Requirement already satisfied: bokeh>=2.4.2 in /home/idies/miniconda3/lib/python3.8/site-packages (from dask[complete]->xarray[complete]) (3.1.1)\n",
      "Requirement already satisfied: psutil>=5.7.0 in /home/idies/miniconda3/lib/python3.8/site-packages (from distributed==2023.5.0->dask[complete]->xarray[complete]) (5.9.5)\n",
      "Requirement already satisfied: sortedcontainers>=2.0.5 in /home/idies/miniconda3/lib/python3.8/site-packages (from distributed==2023.5.0->dask[complete]->xarray[complete]) (2.4.0)\n",
      "Requirement already satisfied: tblib>=1.6.0 in /home/idies/miniconda3/lib/python3.8/site-packages (from distributed==2023.5.0->dask[complete]->xarray[complete]) (1.7.0)\n",
      "Requirement already satisfied: tornado>=6.0.3 in /home/idies/miniconda3/lib/python3.8/site-packages (from distributed==2023.5.0->dask[complete]->xarray[complete]) (6.1)\n",
      "Requirement already satisfied: urllib3>=1.24.3 in /home/idies/miniconda3/lib/python3.8/site-packages (from distributed==2023.5.0->dask[complete]->xarray[complete]) (1.26.2)\n",
      "Requirement already satisfied: zict>=2.2.0 in /home/idies/miniconda3/lib/python3.8/site-packages (from distributed==2023.5.0->dask[complete]->xarray[complete]) (3.0.0)\n",
      "Requirement already satisfied: msgpack>=1.0.0 in /home/idies/miniconda3/lib/python3.8/site-packages (from distributed==2023.5.0->dask[complete]->xarray[complete]) (1.0.5)\n",
      "Requirement already satisfied: contourpy>=1 in /home/idies/miniconda3/lib/python3.8/site-packages (from bokeh>=2.4.2->dask[complete]->xarray[complete]) (1.0.7)\n",
      "Requirement already satisfied: pillow>=7.1.0 in /home/idies/miniconda3/lib/python3.8/site-packages (from bokeh>=2.4.2->dask[complete]->xarray[complete]) (9.5.0)\n",
      "Requirement already satisfied: xyzservices>=2021.09.1 in /home/idies/miniconda3/lib/python3.8/site-packages (from bokeh>=2.4.2->dask[complete]->xarray[complete]) (2023.5.0)\n",
      "Requirement already satisfied: MarkupSafe>=0.23 in /home/idies/miniconda3/lib/python3.8/site-packages (from jinja2>=2.10.3->dask[complete]->xarray[complete]) (1.1.1)\n",
      "Requirement already satisfied: numpy-groupies>=0.9.19 in /home/idies/miniconda3/lib/python3.8/site-packages (from flox->xarray[complete]) (0.9.22)\n",
      "Requirement already satisfied: h5py in /home/idies/miniconda3/lib/python3.8/site-packages (from h5netcdf->xarray[complete]) (3.8.0)\n",
      "Requirement already satisfied: cycler>=0.10 in /home/idies/miniconda3/lib/python3.8/site-packages (from matplotlib->xarray[complete]) (0.11.0)\n",
      "Requirement already satisfied: fonttools>=4.22.0 in /home/idies/miniconda3/lib/python3.8/site-packages (from matplotlib->xarray[complete]) (4.40.0)\n",
      "Requirement already satisfied: importlib-resources>=3.2.0 in /home/idies/miniconda3/lib/python3.8/site-packages (from matplotlib->xarray[complete]) (5.12.0)\n",
      "Requirement already satisfied: pyparsing>=2.3.1 in /home/idies/miniconda3/lib/python3.8/site-packages (from matplotlib->xarray[complete]) (2.4.7)\n",
      "Requirement already satisfied: kiwisolver>=1.0.1 in /home/idies/miniconda3/lib/python3.8/site-packages (from matplotlib->xarray[complete]) (1.4.4)\n",
      "Requirement already satisfied: certifi in /home/idies/miniconda3/lib/python3.8/site-packages (from netCDF4->xarray[complete]) (2020.12.5)\n",
      "Requirement already satisfied: numba in /home/idies/miniconda3/lib/python3.8/site-packages (from numbagg->xarray[complete]) (0.57.0)\n",
      "Requirement already satisfied: llvmlite<0.41,>=0.40.0dev0 in /home/idies/miniconda3/lib/python3.8/site-packages (from numba->numbagg->xarray[complete]) (0.40.1rc1)\n",
      "Requirement already satisfied: requests>=2.19.0 in /home/idies/miniconda3/lib/python3.8/site-packages (from pooch->xarray[complete]) (2.25.1)\n",
      "Requirement already satisfied: platformdirs>=2.5.0 in /home/idies/miniconda3/lib/python3.8/site-packages (from pooch->xarray[complete]) (3.5.3)\n",
      "Requirement already satisfied: chardet<5,>=3.0.2 in /home/idies/miniconda3/lib/python3.8/site-packages (from requests>=2.19.0->pooch->xarray[complete]) (4.0.0)\n",
      "Requirement already satisfied: idna<3,>=2.5 in /home/idies/miniconda3/lib/python3.8/site-packages (from requests>=2.19.0->pooch->xarray[complete]) (2.10)\n",
      "Requirement already satisfied: docopt in /home/idies/miniconda3/lib/python3.8/site-packages (from pydap->xarray[complete]) (0.6.2)\n",
      "Requirement already satisfied: beautifulsoup4 in /home/idies/miniconda3/lib/python3.8/site-packages (from pydap->xarray[complete]) (4.12.2)\n",
      "Requirement already satisfied: Webob in /home/idies/miniconda3/lib/python3.8/site-packages (from pydap->xarray[complete]) (1.8.7)\n",
      "Requirement already satisfied: soupsieve>1.2 in /home/idies/miniconda3/lib/python3.8/site-packages (from beautifulsoup4->pydap->xarray[complete]) (2.4.1)\n",
      "Requirement already satisfied: click-plugins in /home/idies/miniconda3/lib/python3.8/site-packages (from rasterio->xarray[complete]) (1.1.1)\n",
      "Requirement already satisfied: snuggs>=1.4.1 in /home/idies/miniconda3/lib/python3.8/site-packages (from rasterio->xarray[complete]) (1.4.7)\n",
      "Requirement already satisfied: cligj>=0.5 in /home/idies/miniconda3/lib/python3.8/site-packages (from rasterio->xarray[complete]) (0.7.2)\n",
      "Requirement already satisfied: setuptools in /home/idies/miniconda3/lib/python3.8/site-packages (from rasterio->xarray[complete]) (51.0.0.post20201207)\n",
      "Requirement already satisfied: affine in /home/idies/miniconda3/lib/python3.8/site-packages (from rasterio->xarray[complete]) (2.4.0)\n",
      "Requirement already satisfied: asciitree in /home/idies/miniconda3/lib/python3.8/site-packages (from zarr->xarray[complete]) (0.3.3)\n",
      "Requirement already satisfied: fasteners in /home/idies/miniconda3/lib/python3.8/site-packages (from zarr->xarray[complete]) (0.18)\n",
      "Requirement already satisfied: numcodecs>=0.10.0 in /home/idies/miniconda3/lib/python3.8/site-packages (from zarr->xarray[complete]) (0.11.0)\n",
      "Requirement already satisfied: entrypoints in /home/idies/miniconda3/lib/python3.8/site-packages (from numcodecs>=0.10.0->zarr->xarray[complete]) (0.3)\n"
     ]
    }
   ],
   "source": [
    "!pip install \"xarray[complete]\""
   ]
  },
  {
   "cell_type": "code",
   "execution_count": 6,
   "metadata": {},
   "outputs": [],
   "source": [
    "import xarray as xr\n",
    "import os\n",
    "# from dask.diagnostics import ProgressBar\n",
    "# import zarr # No compute image with both xarray and zarr"
   ]
  },
  {
   "cell_type": "markdown",
   "metadata": {},
   "source": [
    "<font color=\"orange\">Don't delete the CD cell!</font>"
   ]
  },
  {
   "cell_type": "code",
   "execution_count": 7,
   "metadata": {},
   "outputs": [
    {
     "name": "stdout",
     "output_type": "stream",
     "text": [
      "/home/idies/workspace/turb/data02_02/ariel-6-timestep-ncar-netCDF\n"
     ]
    }
   ],
   "source": [
    "%cd /home/idies/workspace/turb/data02_02/ariel-6-timestep-ncar-netCDF"
   ]
  },
  {
   "cell_type": "markdown",
   "metadata": {},
   "source": [
    "## Merge 3 velocity components into one 4D array"
   ]
  },
  {
   "cell_type": "code",
   "execution_count": 8,
   "metadata": {},
   "outputs": [
    {
     "data": {
      "text/plain": [
       "<bound method Dataset.info of <xarray.Dataset>\n",
       "Dimensions:  (nnx: 2048, nny: 2048, nnz: 2048)\n",
       "Dimensions without coordinates: nnx, nny, nnz\n",
       "Data variables:\n",
       "    u        (nnz, nny, nnx) float32 ...\n",
       "    v        (nnz, nny, nnx) float32 ...\n",
       "    w        (nnz, nny, nnx) float32 ...\n",
       "    t        (nnz, nny, nnx) float32 ...\n",
       "    p        (nnz, nny, nnx) float32 ...\n",
       "    e        (nnz, nny, nnx) float32 ...\n",
       "Attributes:\n",
       "    Simulation conducted by:  Peter Sullivan, pps@ucar.edu\n",
       "    Dataset built by:         Edward Patton, patton@ucar.edu\n",
       "    Affiliation:              NCAR/MMM\n",
       "    Code:                     NCAR-LES\n",
       "    Case Description:         GABLS 1, Cooling Rate: 0.25 K/hr\n",
       "    Created:                  2023-05-02 10:25:55 -0600 UTC>"
      ]
     },
     "execution_count": 8,
     "metadata": {},
     "output_type": "execute_result"
    }
   ],
   "source": [
    "folder_path = '/home/idies/workspace/turb/data02_02/ariel-6-timestep-ncar-netCDF/'\n",
    "data_xr = xr.open_dataset(folder_path + \"jhd.000.nc\")\n",
    "data_xr.info"
   ]
  },
  {
   "cell_type": "markdown",
   "metadata": {},
   "source": [
    "## Save Separate $512^3$"
   ]
  },
  {
   "cell_type": "code",
   "execution_count": 9,
   "metadata": {},
   "outputs": [],
   "source": [
    "data_joint_vel_u = data_xr['u'][:512, :512, :512]\n",
    "data_joint_vel_v = data_xr['v'][:512, :512, :512]\n",
    "data_joint_vel_w = data_xr['w'][:512, :512, :512]"
   ]
  },
  {
   "cell_type": "code",
   "execution_count": 14,
   "metadata": {},
   "outputs": [
    {
     "data": {
      "text/plain": [
       "<bound method Dataset.info of <xarray.Dataset>\n",
       "Dimensions:  (nnx: 512, nny: 512, nnz: 512)\n",
       "Dimensions without coordinates: nnx, nny, nnz\n",
       "Data variables:\n",
       "    u        (nnz, nny, nnx) float32 ...\n",
       "    v        (nnz, nny, nnx) float32 ...\n",
       "    w        (nnz, nny, nnx) float32 ...>"
      ]
     },
     "execution_count": 14,
     "metadata": {},
     "output_type": "execute_result"
    }
   ],
   "source": [
    "ds = xr.Dataset({'u': data_joint_vel_u, 'v': data_joint_vel_v, 'w': data_joint_vel_w})\n",
    "ds.info"
   ]
  },
  {
   "cell_type": "code",
   "execution_count": 16,
   "metadata": {},
   "outputs": [
    {
     "data": {
      "text/html": [
       "<div><svg style=\"position: absolute; width: 0; height: 0; overflow: hidden\">\n",
       "<defs>\n",
       "<symbol id=\"icon-database\" viewBox=\"0 0 32 32\">\n",
       "<path d=\"M16 0c-8.837 0-16 2.239-16 5v4c0 2.761 7.163 5 16 5s16-2.239 16-5v-4c0-2.761-7.163-5-16-5z\"></path>\n",
       "<path d=\"M16 17c-8.837 0-16-2.239-16-5v6c0 2.761 7.163 5 16 5s16-2.239 16-5v-6c0 2.761-7.163 5-16 5z\"></path>\n",
       "<path d=\"M16 26c-8.837 0-16-2.239-16-5v6c0 2.761 7.163 5 16 5s16-2.239 16-5v-6c0 2.761-7.163 5-16 5z\"></path>\n",
       "</symbol>\n",
       "<symbol id=\"icon-file-text2\" viewBox=\"0 0 32 32\">\n",
       "<path d=\"M28.681 7.159c-0.694-0.947-1.662-2.053-2.724-3.116s-2.169-2.030-3.116-2.724c-1.612-1.182-2.393-1.319-2.841-1.319h-15.5c-1.378 0-2.5 1.121-2.5 2.5v27c0 1.378 1.122 2.5 2.5 2.5h23c1.378 0 2.5-1.122 2.5-2.5v-19.5c0-0.448-0.137-1.23-1.319-2.841zM24.543 5.457c0.959 0.959 1.712 1.825 2.268 2.543h-4.811v-4.811c0.718 0.556 1.584 1.309 2.543 2.268zM28 29.5c0 0.271-0.229 0.5-0.5 0.5h-23c-0.271 0-0.5-0.229-0.5-0.5v-27c0-0.271 0.229-0.5 0.5-0.5 0 0 15.499-0 15.5 0v7c0 0.552 0.448 1 1 1h7v19.5z\"></path>\n",
       "<path d=\"M23 26h-14c-0.552 0-1-0.448-1-1s0.448-1 1-1h14c0.552 0 1 0.448 1 1s-0.448 1-1 1z\"></path>\n",
       "<path d=\"M23 22h-14c-0.552 0-1-0.448-1-1s0.448-1 1-1h14c0.552 0 1 0.448 1 1s-0.448 1-1 1z\"></path>\n",
       "<path d=\"M23 18h-14c-0.552 0-1-0.448-1-1s0.448-1 1-1h14c0.552 0 1 0.448 1 1s-0.448 1-1 1z\"></path>\n",
       "</symbol>\n",
       "</defs>\n",
       "</svg>\n",
       "<style>/* CSS stylesheet for displaying xarray objects in jupyterlab.\n",
       " *\n",
       " */\n",
       "\n",
       ":root {\n",
       "  --xr-font-color0: var(--jp-content-font-color0, rgba(0, 0, 0, 1));\n",
       "  --xr-font-color2: var(--jp-content-font-color2, rgba(0, 0, 0, 0.54));\n",
       "  --xr-font-color3: var(--jp-content-font-color3, rgba(0, 0, 0, 0.38));\n",
       "  --xr-border-color: var(--jp-border-color2, #e0e0e0);\n",
       "  --xr-disabled-color: var(--jp-layout-color3, #bdbdbd);\n",
       "  --xr-background-color: var(--jp-layout-color0, white);\n",
       "  --xr-background-color-row-even: var(--jp-layout-color1, white);\n",
       "  --xr-background-color-row-odd: var(--jp-layout-color2, #eeeeee);\n",
       "}\n",
       "\n",
       "html[theme=dark],\n",
       "body.vscode-dark {\n",
       "  --xr-font-color0: rgba(255, 255, 255, 1);\n",
       "  --xr-font-color2: rgba(255, 255, 255, 0.54);\n",
       "  --xr-font-color3: rgba(255, 255, 255, 0.38);\n",
       "  --xr-border-color: #1F1F1F;\n",
       "  --xr-disabled-color: #515151;\n",
       "  --xr-background-color: #111111;\n",
       "  --xr-background-color-row-even: #111111;\n",
       "  --xr-background-color-row-odd: #313131;\n",
       "}\n",
       "\n",
       ".xr-wrap {\n",
       "  display: block;\n",
       "  min-width: 300px;\n",
       "  max-width: 700px;\n",
       "}\n",
       "\n",
       ".xr-text-repr-fallback {\n",
       "  /* fallback to plain text repr when CSS is not injected (untrusted notebook) */\n",
       "  display: none;\n",
       "}\n",
       "\n",
       ".xr-header {\n",
       "  padding-top: 6px;\n",
       "  padding-bottom: 6px;\n",
       "  margin-bottom: 4px;\n",
       "  border-bottom: solid 1px var(--xr-border-color);\n",
       "}\n",
       "\n",
       ".xr-header > div,\n",
       ".xr-header > ul {\n",
       "  display: inline;\n",
       "  margin-top: 0;\n",
       "  margin-bottom: 0;\n",
       "}\n",
       "\n",
       ".xr-obj-type,\n",
       ".xr-array-name {\n",
       "  margin-left: 2px;\n",
       "  margin-right: 10px;\n",
       "}\n",
       "\n",
       ".xr-obj-type {\n",
       "  color: var(--xr-font-color2);\n",
       "}\n",
       "\n",
       ".xr-sections {\n",
       "  padding-left: 0 !important;\n",
       "  display: grid;\n",
       "  grid-template-columns: 150px auto auto 1fr 20px 20px;\n",
       "}\n",
       "\n",
       ".xr-section-item {\n",
       "  display: contents;\n",
       "}\n",
       "\n",
       ".xr-section-item input {\n",
       "  display: none;\n",
       "}\n",
       "\n",
       ".xr-section-item input + label {\n",
       "  color: var(--xr-disabled-color);\n",
       "}\n",
       "\n",
       ".xr-section-item input:enabled + label {\n",
       "  cursor: pointer;\n",
       "  color: var(--xr-font-color2);\n",
       "}\n",
       "\n",
       ".xr-section-item input:enabled + label:hover {\n",
       "  color: var(--xr-font-color0);\n",
       "}\n",
       "\n",
       ".xr-section-summary {\n",
       "  grid-column: 1;\n",
       "  color: var(--xr-font-color2);\n",
       "  font-weight: 500;\n",
       "}\n",
       "\n",
       ".xr-section-summary > span {\n",
       "  display: inline-block;\n",
       "  padding-left: 0.5em;\n",
       "}\n",
       "\n",
       ".xr-section-summary-in:disabled + label {\n",
       "  color: var(--xr-font-color2);\n",
       "}\n",
       "\n",
       ".xr-section-summary-in + label:before {\n",
       "  display: inline-block;\n",
       "  content: '►';\n",
       "  font-size: 11px;\n",
       "  width: 15px;\n",
       "  text-align: center;\n",
       "}\n",
       "\n",
       ".xr-section-summary-in:disabled + label:before {\n",
       "  color: var(--xr-disabled-color);\n",
       "}\n",
       "\n",
       ".xr-section-summary-in:checked + label:before {\n",
       "  content: '▼';\n",
       "}\n",
       "\n",
       ".xr-section-summary-in:checked + label > span {\n",
       "  display: none;\n",
       "}\n",
       "\n",
       ".xr-section-summary,\n",
       ".xr-section-inline-details {\n",
       "  padding-top: 4px;\n",
       "  padding-bottom: 4px;\n",
       "}\n",
       "\n",
       ".xr-section-inline-details {\n",
       "  grid-column: 2 / -1;\n",
       "}\n",
       "\n",
       ".xr-section-details {\n",
       "  display: none;\n",
       "  grid-column: 1 / -1;\n",
       "  margin-bottom: 5px;\n",
       "}\n",
       "\n",
       ".xr-section-summary-in:checked ~ .xr-section-details {\n",
       "  display: contents;\n",
       "}\n",
       "\n",
       ".xr-array-wrap {\n",
       "  grid-column: 1 / -1;\n",
       "  display: grid;\n",
       "  grid-template-columns: 20px auto;\n",
       "}\n",
       "\n",
       ".xr-array-wrap > label {\n",
       "  grid-column: 1;\n",
       "  vertical-align: top;\n",
       "}\n",
       "\n",
       ".xr-preview {\n",
       "  color: var(--xr-font-color3);\n",
       "}\n",
       "\n",
       ".xr-array-preview,\n",
       ".xr-array-data {\n",
       "  padding: 0 5px !important;\n",
       "  grid-column: 2;\n",
       "}\n",
       "\n",
       ".xr-array-data,\n",
       ".xr-array-in:checked ~ .xr-array-preview {\n",
       "  display: none;\n",
       "}\n",
       "\n",
       ".xr-array-in:checked ~ .xr-array-data,\n",
       ".xr-array-preview {\n",
       "  display: inline-block;\n",
       "}\n",
       "\n",
       ".xr-dim-list {\n",
       "  display: inline-block !important;\n",
       "  list-style: none;\n",
       "  padding: 0 !important;\n",
       "  margin: 0;\n",
       "}\n",
       "\n",
       ".xr-dim-list li {\n",
       "  display: inline-block;\n",
       "  padding: 0;\n",
       "  margin: 0;\n",
       "}\n",
       "\n",
       ".xr-dim-list:before {\n",
       "  content: '(';\n",
       "}\n",
       "\n",
       ".xr-dim-list:after {\n",
       "  content: ')';\n",
       "}\n",
       "\n",
       ".xr-dim-list li:not(:last-child):after {\n",
       "  content: ',';\n",
       "  padding-right: 5px;\n",
       "}\n",
       "\n",
       ".xr-has-index {\n",
       "  font-weight: bold;\n",
       "}\n",
       "\n",
       ".xr-var-list,\n",
       ".xr-var-item {\n",
       "  display: contents;\n",
       "}\n",
       "\n",
       ".xr-var-item > div,\n",
       ".xr-var-item label,\n",
       ".xr-var-item > .xr-var-name span {\n",
       "  background-color: var(--xr-background-color-row-even);\n",
       "  margin-bottom: 0;\n",
       "}\n",
       "\n",
       ".xr-var-item > .xr-var-name:hover span {\n",
       "  padding-right: 5px;\n",
       "}\n",
       "\n",
       ".xr-var-list > li:nth-child(odd) > div,\n",
       ".xr-var-list > li:nth-child(odd) > label,\n",
       ".xr-var-list > li:nth-child(odd) > .xr-var-name span {\n",
       "  background-color: var(--xr-background-color-row-odd);\n",
       "}\n",
       "\n",
       ".xr-var-name {\n",
       "  grid-column: 1;\n",
       "}\n",
       "\n",
       ".xr-var-dims {\n",
       "  grid-column: 2;\n",
       "}\n",
       "\n",
       ".xr-var-dtype {\n",
       "  grid-column: 3;\n",
       "  text-align: right;\n",
       "  color: var(--xr-font-color2);\n",
       "}\n",
       "\n",
       ".xr-var-preview {\n",
       "  grid-column: 4;\n",
       "}\n",
       "\n",
       ".xr-var-name,\n",
       ".xr-var-dims,\n",
       ".xr-var-dtype,\n",
       ".xr-preview,\n",
       ".xr-attrs dt {\n",
       "  white-space: nowrap;\n",
       "  overflow: hidden;\n",
       "  text-overflow: ellipsis;\n",
       "  padding-right: 10px;\n",
       "}\n",
       "\n",
       ".xr-var-name:hover,\n",
       ".xr-var-dims:hover,\n",
       ".xr-var-dtype:hover,\n",
       ".xr-attrs dt:hover {\n",
       "  overflow: visible;\n",
       "  width: auto;\n",
       "  z-index: 1;\n",
       "}\n",
       "\n",
       ".xr-var-attrs,\n",
       ".xr-var-data {\n",
       "  display: none;\n",
       "  background-color: var(--xr-background-color) !important;\n",
       "  padding-bottom: 5px !important;\n",
       "}\n",
       "\n",
       ".xr-var-attrs-in:checked ~ .xr-var-attrs,\n",
       ".xr-var-data-in:checked ~ .xr-var-data {\n",
       "  display: block;\n",
       "}\n",
       "\n",
       ".xr-var-data > table {\n",
       "  float: right;\n",
       "}\n",
       "\n",
       ".xr-var-name span,\n",
       ".xr-var-data,\n",
       ".xr-attrs {\n",
       "  padding-left: 25px !important;\n",
       "}\n",
       "\n",
       ".xr-attrs,\n",
       ".xr-var-attrs,\n",
       ".xr-var-data {\n",
       "  grid-column: 1 / -1;\n",
       "}\n",
       "\n",
       "dl.xr-attrs {\n",
       "  padding: 0;\n",
       "  margin: 0;\n",
       "  display: grid;\n",
       "  grid-template-columns: 125px auto;\n",
       "}\n",
       "\n",
       ".xr-attrs dt,\n",
       ".xr-attrs dd {\n",
       "  padding: 0;\n",
       "  margin: 0;\n",
       "  float: left;\n",
       "  padding-right: 10px;\n",
       "  width: auto;\n",
       "}\n",
       "\n",
       ".xr-attrs dt {\n",
       "  font-weight: normal;\n",
       "  grid-column: 1;\n",
       "}\n",
       "\n",
       ".xr-attrs dt:hover span {\n",
       "  display: inline-block;\n",
       "  background: var(--xr-background-color);\n",
       "  padding-right: 10px;\n",
       "}\n",
       "\n",
       ".xr-attrs dd {\n",
       "  grid-column: 2;\n",
       "  white-space: pre-wrap;\n",
       "  word-break: break-all;\n",
       "}\n",
       "\n",
       ".xr-icon-database,\n",
       ".xr-icon-file-text2 {\n",
       "  display: inline-block;\n",
       "  vertical-align: middle;\n",
       "  width: 1em;\n",
       "  height: 1.5em !important;\n",
       "  stroke-width: 0;\n",
       "  stroke: currentColor;\n",
       "  fill: currentColor;\n",
       "}\n",
       "</style><pre class='xr-text-repr-fallback'>&lt;xarray.DataArray &#x27;u&#x27; (nnz: 512, nny: 512, nnx: 512)&gt;\n",
       "[134217728 values with dtype=float32]\n",
       "Dimensions without coordinates: nnz, nny, nnx\n",
       "Attributes:\n",
       "    Description:  Streamwise velocity, u\n",
       "    Units:        [m/s]</pre><div class='xr-wrap' hidden><div class='xr-header'><div class='xr-obj-type'>xarray.DataArray</div><div class='xr-array-name'>'u'</div><ul class='xr-dim-list'><li><span>nnz</span>: 512</li><li><span>nny</span>: 512</li><li><span>nnx</span>: 512</li></ul></div><ul class='xr-sections'><li class='xr-section-item'><div class='xr-array-wrap'><input id='section-49fd6989-4f42-4423-a4b8-0cd46bbcd705' class='xr-array-in' type='checkbox' checked><label for='section-49fd6989-4f42-4423-a4b8-0cd46bbcd705' title='Show/hide data repr'><svg class='icon xr-icon-database'><use xlink:href='#icon-database'></use></svg></label><div class='xr-array-preview xr-preview'><span>...</span></div><div class='xr-array-data'><pre>[134217728 values with dtype=float32]</pre></div></div></li><li class='xr-section-item'><input id='section-b6bf1f0e-caab-4b60-82a1-8f5d16532a88' class='xr-section-summary-in' type='checkbox' disabled ><label for='section-b6bf1f0e-caab-4b60-82a1-8f5d16532a88' class='xr-section-summary'  title='Expand/collapse section'>Coordinates: <span>(0)</span></label><div class='xr-section-inline-details'></div><div class='xr-section-details'><ul class='xr-var-list'></ul></div></li><li class='xr-section-item'><input id='section-4560f2e8-9b21-4bda-9a47-a84688d321e1' class='xr-section-summary-in' type='checkbox'  checked><label for='section-4560f2e8-9b21-4bda-9a47-a84688d321e1' class='xr-section-summary' >Attributes: <span>(2)</span></label><div class='xr-section-inline-details'></div><div class='xr-section-details'><dl class='xr-attrs'><dt><span>Description :</span></dt><dd>Streamwise velocity, u</dd><dt><span>Units :</span></dt><dd>[m/s]</dd></dl></div></li></ul></div></div>"
      ],
      "text/plain": [
       "<xarray.DataArray 'u' (nnz: 512, nny: 512, nnx: 512)>\n",
       "[134217728 values with dtype=float32]\n",
       "Dimensions without coordinates: nnz, nny, nnx\n",
       "Attributes:\n",
       "    Description:  Streamwise velocity, u\n",
       "    Units:        [m/s]"
      ]
     },
     "execution_count": 16,
     "metadata": {},
     "output_type": "execute_result"
    }
   ],
   "source": [
    "ds['u']"
   ]
  },
  {
   "cell_type": "code",
   "execution_count": 21,
   "metadata": {},
   "outputs": [
    {
     "data": {
      "text/plain": [
       "{'u': {'compressor': None, 'chunks': (64, 64, 64)},\n",
       " 'v': {'compressor': None, 'chunks': (64, 64, 64)},\n",
       " 'w': {'compressor': None, 'chunks': (64, 64, 64)}}"
      ]
     },
     "execution_count": 21,
     "metadata": {},
     "output_type": "execute_result"
    }
   ],
   "source": [
    "encoding = {variable_name: {'compressor': None, 'chunks': (chunk_size_base,chunk_size_base,chunk_size_base)} for variable_name in ds.variables}\n",
    "encoding"
   ]
  },
  {
   "cell_type": "code",
   "execution_count": 26,
   "metadata": {},
   "outputs": [
    {
     "data": {
      "text/plain": [
       "<xarray.backends.zarr.ZarrStore at 0x7f8fd46bb0a0>"
      ]
     },
     "execution_count": 26,
     "metadata": {},
     "output_type": "execute_result"
    }
   ],
   "source": [
    "ds.to_zarr(store=\"/home/idies/workspace/turb/data01_01/zarr/joint_velocities_ariel_test_512.zarr\",\n",
    "           mode='w',\n",
    "           encoding=encoding)"
   ]
  },
  {
   "cell_type": "markdown",
   "metadata": {},
   "source": [
    "## Save Joint $512^3$"
   ]
  },
  {
   "cell_type": "code",
   "execution_count": null,
   "metadata": {
    "scrolled": true,
    "tags": []
   },
   "outputs": [],
   "source": [
    "# I don't think this will benefit from Parallelization\n",
    "import dask.array as da\n",
    "\n",
    "\n",
    "b = da.stack([data_xr['u'][:512, :512, :512], data_xr['v'][:512, :512, :512], data_xr['w'][:512, :512, :512]], axis=3)\n",
    "# b = da.stack([data_xr['u'][:512, :512, :512], data_xr['v'][:512, :512, :512], data_xr['w'][:512, :512, :512]], axis=3)\n",
    "\n",
    "# import numpy as np\n",
    "# b = da.stack([np.zeros((128,128,128)), np.zeros((128,128,128)), np.zeros((128,128,128))], axis=3)\n",
    "\n",
    "chunk_size_base = 64\n",
    "\n",
    "# Need to edit chunk\n",
    "b = b.rechunk((chunk_size_base,chunk_size_base,chunk_size_base,3))\n",
    "\n",
    "b"
   ]
  },
  {
   "cell_type": "code",
   "execution_count": 9,
   "metadata": {},
   "outputs": [],
   "source": [
    "da.to_zarr(b, url=\"/home/idies/workspace/turb/data02_02/zarr/\" + \"ariel_split_velocities_ariel_test_512.zarr\", compressor=None)"
   ]
  },
  {
   "cell_type": "code",
   "execution_count": 12,
   "metadata": {},
   "outputs": [],
   "source": [
    "# import zarr\n",
    "\n",
    "# a = zarr.open(\"/home/idies/workspace/turb/data02_02/zarr/\" + \"ariel_split_velocities_ariel_test_512.zarr\")\n",
    "\n",
    "# a.info"
   ]
  },
  {
   "cell_type": "code",
   "execution_count": null,
   "metadata": {},
   "outputs": [],
   "source": [
    "# I don't think this will benefit from Parallelization\n",
    "import dask.array as da\n",
    "\n",
    "\n",
    "b = da.stack([data_xr['u'], data_xr['v'], data_xr['w']], axis=3)\n",
    "\n",
    "# import numpy as np\n",
    "# b = da.stack([np.zeros((128,128,128)), np.zeros((128,128,128)), np.zeros((128,128,128))], axis=3)\n",
    "\n",
    "chunk_size_base = 64\n",
    "\n",
    "# Need to edit chunk\n",
    "b = b.rechunk((chunk_size_base,chunk_size_base,chunk_size_base,3))\n",
    "\n",
    "b"
   ]
  },
  {
   "cell_type": "code",
   "execution_count": null,
   "metadata": {},
   "outputs": [],
   "source": [
    "# Remove individual velocity components, replace with joint\n",
    "\n",
    "data_joint_vel = data_xr.drop_vars(['u', 'v', 'w'])\n",
    "\n",
    "data_joint_vel.info"
   ]
  },
  {
   "cell_type": "code",
   "execution_count": null,
   "metadata": {},
   "outputs": [],
   "source": [
    "# Add 3 velocities\n",
    "data_joint_vel['velocity'] = xr.DataArray(b, dims=('nnz', 'nny', 'nnx', 'velocity component (xyz)'))\n",
    "\n",
    "data_joint_vel.info"
   ]
  },
  {
   "cell_type": "code",
   "execution_count": null,
   "metadata": {},
   "outputs": [],
   "source": [
    "data_joint_vel = data_joint_vel.drop_vars(['e', 'p', 't'])"
   ]
  },
  {
   "cell_type": "code",
   "execution_count": null,
   "metadata": {},
   "outputs": [],
   "source": [
    "chunk_size_base = 64\n",
    "\n",
    "# Disable compression, set chunk size\n",
    "# encoding = {variable_name: {'compressor': None, 'chunks': (chunk_size_base, chunk_size_base, chunk_size_base)} for variable_name in data_joint_vel.variables}\n",
    "encoding = {}\n",
    "encoding['velocity'] = {'compressor': None, 'chunks': (chunk_size_base,chunk_size_base,chunk_size_base,3)}\n",
    "\n",
    "encoding"
   ]
  },
  {
   "cell_type": "code",
   "execution_count": null,
   "metadata": {},
   "outputs": [],
   "source": [
    "target_dir = folders[0]\n",
    "\n",
    "# overwrite if exists\n",
    "data_joint_vel.to_zarr(store=\"/home/idies/workspace/turb/data02_02/zarr/\" + \"ariel_split_velocities_ariel_test.zarr\",\n",
    "                mode=\"w\",\n",
    "               encoding = encoding)\n"
   ]
  }
 ],
 "metadata": {
  "kernelspec": {
   "display_name": "Python 3.8 (py38)",
   "language": "python",
   "name": "py38"
  },
  "language_info": {
   "codemirror_mode": {
    "name": "ipython",
    "version": 3
   },
   "file_extension": ".py",
   "mimetype": "text/x-python",
   "name": "python",
   "nbconvert_exporter": "python",
   "pygments_lexer": "ipython3",
   "version": "3.8.5"
  }
 },
 "nbformat": 4,
 "nbformat_minor": 4
}
