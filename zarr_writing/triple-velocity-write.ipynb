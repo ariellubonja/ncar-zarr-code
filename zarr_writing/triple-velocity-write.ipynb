{
 "cells": [
  {
   "cell_type": "code",
   "execution_count": 1,
   "metadata": {},
   "outputs": [],
   "source": [
    "chunk_size_base = 64"
   ]
  },
  {
   "cell_type": "markdown",
   "metadata": {},
   "source": [
    "## TODO update with calling functions from write_tools.py"
   ]
  },
  {
   "cell_type": "code",
   "execution_count": 5,
   "metadata": {
    "scrolled": true,
    "tags": []
   },
   "outputs": [
    {
     "name": "stdout",
     "output_type": "stream",
     "text": [
      "Requirement already satisfied: xarray[complete] in /home/idies/miniconda3/lib/python3.8/site-packages (2023.1.0)\n",
      "Requirement already satisfied: numpy>=1.20 in /home/idies/miniconda3/lib/python3.8/site-packages (from xarray[complete]) (1.24.3)\n",
      "Requirement already satisfied: packaging>=21.3 in /home/idies/miniconda3/lib/python3.8/site-packages (from xarray[complete]) (23.1)\n",
      "Requirement already satisfied: pandas>=1.3 in /home/idies/miniconda3/lib/python3.8/site-packages (from xarray[complete]) (2.0.2)\n",
      "Requirement already satisfied: h5netcdf in /home/idies/miniconda3/lib/python3.8/site-packages (from xarray[complete]) (1.1.0)\n",
      "Requirement already satisfied: fsspec in /home/idies/miniconda3/lib/python3.8/site-packages (from xarray[complete]) (2023.6.0)\n",
      "Requirement already satisfied: numbagg in /home/idies/miniconda3/lib/python3.8/site-packages (from xarray[complete]) (0.2.2)\n",
      "Requirement already satisfied: cftime in /home/idies/miniconda3/lib/python3.8/site-packages (from xarray[complete]) (1.6.2)\n",
      "Requirement already satisfied: flox in /home/idies/miniconda3/lib/python3.8/site-packages (from xarray[complete]) (0.7.2)\n",
      "Requirement already satisfied: pooch in /home/idies/miniconda3/lib/python3.8/site-packages (from xarray[complete]) (1.7.0)\n",
      "Requirement already satisfied: pydap in /home/idies/miniconda3/lib/python3.8/site-packages (from xarray[complete]) (3.4.1)\n",
      "Requirement already satisfied: seaborn in /home/idies/miniconda3/lib/python3.8/site-packages (from xarray[complete]) (0.12.2)\n",
      "Requirement already satisfied: zarr in /home/idies/miniconda3/lib/python3.8/site-packages (from xarray[complete]) (2.14.2)\n",
      "Requirement already satisfied: netCDF4 in /home/idies/miniconda3/lib/python3.8/site-packages (from xarray[complete]) (1.6.4)\n",
      "Requirement already satisfied: cfgrib in /home/idies/miniconda3/lib/python3.8/site-packages (from xarray[complete]) (0.9.10.4)\n",
      "Requirement already satisfied: nc-time-axis in /home/idies/miniconda3/lib/python3.8/site-packages (from xarray[complete]) (1.4.1)\n",
      "Requirement already satisfied: dask[complete] in /home/idies/miniconda3/lib/python3.8/site-packages (from xarray[complete]) (2023.5.0)\n",
      "Requirement already satisfied: bottleneck in /home/idies/miniconda3/lib/python3.8/site-packages (from xarray[complete]) (1.3.7)\n",
      "Requirement already satisfied: rasterio in /home/idies/miniconda3/lib/python3.8/site-packages (from xarray[complete]) (1.3.7)\n",
      "Requirement already satisfied: matplotlib in /home/idies/miniconda3/lib/python3.8/site-packages (from xarray[complete]) (3.7.1)\n",
      "Requirement already satisfied: scipy in /home/idies/miniconda3/lib/python3.8/site-packages (from xarray[complete]) (1.10.1)\n",
      "Requirement already satisfied: tzdata>=2022.1 in /home/idies/miniconda3/lib/python3.8/site-packages (from pandas>=1.3->xarray[complete]) (2023.3)\n",
      "Requirement already satisfied: python-dateutil>=2.8.2 in /home/idies/miniconda3/lib/python3.8/site-packages (from pandas>=1.3->xarray[complete]) (2.8.2)\n",
      "Requirement already satisfied: pytz>=2020.1 in /home/idies/miniconda3/lib/python3.8/site-packages (from pandas>=1.3->xarray[complete]) (2021.1)\n",
      "Requirement already satisfied: six>=1.5 in /home/idies/miniconda3/lib/python3.8/site-packages (from python-dateutil>=2.8.2->pandas>=1.3->xarray[complete]) (1.15.0)\n",
      "Requirement already satisfied: eccodes>=0.9.8 in /home/idies/miniconda3/lib/python3.8/site-packages (from cfgrib->xarray[complete]) (1.5.2)\n",
      "Requirement already satisfied: click in /home/idies/miniconda3/lib/python3.8/site-packages (from cfgrib->xarray[complete]) (8.1.3)\n",
      "Requirement already satisfied: attrs>=19.2 in /home/idies/miniconda3/lib/python3.8/site-packages (from cfgrib->xarray[complete]) (20.3.0)\n",
      "Requirement already satisfied: findlibs in /home/idies/miniconda3/lib/python3.8/site-packages (from eccodes>=0.9.8->cfgrib->xarray[complete]) (0.0.5)\n",
      "Requirement already satisfied: cffi in /home/idies/miniconda3/lib/python3.8/site-packages (from eccodes>=0.9.8->cfgrib->xarray[complete]) (1.14.4)\n",
      "Requirement already satisfied: pycparser in /home/idies/miniconda3/lib/python3.8/site-packages (from cffi->eccodes>=0.9.8->cfgrib->xarray[complete]) (2.20)\n",
      "Requirement already satisfied: cloudpickle>=1.5.0 in /home/idies/miniconda3/lib/python3.8/site-packages (from dask[complete]->xarray[complete]) (2.2.1)\n",
      "Requirement already satisfied: importlib-metadata>=4.13.0 in /home/idies/miniconda3/lib/python3.8/site-packages (from dask[complete]->xarray[complete]) (6.6.0)\n",
      "Requirement already satisfied: partd>=1.2.0 in /home/idies/miniconda3/lib/python3.8/site-packages (from dask[complete]->xarray[complete]) (1.4.0)\n",
      "Requirement already satisfied: pyyaml>=5.3.1 in /home/idies/miniconda3/lib/python3.8/site-packages (from dask[complete]->xarray[complete]) (6.0)\n",
      "Requirement already satisfied: toolz>=0.10.0 in /home/idies/miniconda3/lib/python3.8/site-packages (from dask[complete]->xarray[complete]) (0.12.0)\n",
      "Requirement already satisfied: pyarrow>=7.0 in /home/idies/miniconda3/lib/python3.8/site-packages (from dask[complete]->xarray[complete]) (12.0.0)\n",
      "Requirement already satisfied: lz4>=4.3.2 in /home/idies/miniconda3/lib/python3.8/site-packages (from dask[complete]->xarray[complete]) (4.3.2)\n",
      "Requirement already satisfied: zipp>=0.5 in /home/idies/miniconda3/lib/python3.8/site-packages (from importlib-metadata>=4.13.0->dask[complete]->xarray[complete]) (3.4.0)\n",
      "Requirement already satisfied: locket in /home/idies/miniconda3/lib/python3.8/site-packages (from partd>=1.2.0->dask[complete]->xarray[complete]) (1.0.0)\n",
      "Requirement already satisfied: distributed==2023.5.0 in /home/idies/miniconda3/lib/python3.8/site-packages (from dask[complete]->xarray[complete]) (2023.5.0)\n",
      "Requirement already satisfied: jinja2>=2.10.3 in /home/idies/miniconda3/lib/python3.8/site-packages (from dask[complete]->xarray[complete]) (2.11.2)\n",
      "Requirement already satisfied: bokeh>=2.4.2 in /home/idies/miniconda3/lib/python3.8/site-packages (from dask[complete]->xarray[complete]) (3.1.1)\n",
      "Requirement already satisfied: psutil>=5.7.0 in /home/idies/miniconda3/lib/python3.8/site-packages (from distributed==2023.5.0->dask[complete]->xarray[complete]) (5.9.5)\n",
      "Requirement already satisfied: sortedcontainers>=2.0.5 in /home/idies/miniconda3/lib/python3.8/site-packages (from distributed==2023.5.0->dask[complete]->xarray[complete]) (2.4.0)\n",
      "Requirement already satisfied: tblib>=1.6.0 in /home/idies/miniconda3/lib/python3.8/site-packages (from distributed==2023.5.0->dask[complete]->xarray[complete]) (1.7.0)\n",
      "Requirement already satisfied: tornado>=6.0.3 in /home/idies/miniconda3/lib/python3.8/site-packages (from distributed==2023.5.0->dask[complete]->xarray[complete]) (6.1)\n",
      "Requirement already satisfied: urllib3>=1.24.3 in /home/idies/miniconda3/lib/python3.8/site-packages (from distributed==2023.5.0->dask[complete]->xarray[complete]) (1.26.2)\n",
      "Requirement already satisfied: zict>=2.2.0 in /home/idies/miniconda3/lib/python3.8/site-packages (from distributed==2023.5.0->dask[complete]->xarray[complete]) (3.0.0)\n",
      "Requirement already satisfied: msgpack>=1.0.0 in /home/idies/miniconda3/lib/python3.8/site-packages (from distributed==2023.5.0->dask[complete]->xarray[complete]) (1.0.5)\n",
      "Requirement already satisfied: contourpy>=1 in /home/idies/miniconda3/lib/python3.8/site-packages (from bokeh>=2.4.2->dask[complete]->xarray[complete]) (1.0.7)\n",
      "Requirement already satisfied: pillow>=7.1.0 in /home/idies/miniconda3/lib/python3.8/site-packages (from bokeh>=2.4.2->dask[complete]->xarray[complete]) (9.5.0)\n",
      "Requirement already satisfied: xyzservices>=2021.09.1 in /home/idies/miniconda3/lib/python3.8/site-packages (from bokeh>=2.4.2->dask[complete]->xarray[complete]) (2023.5.0)\n",
      "Requirement already satisfied: MarkupSafe>=0.23 in /home/idies/miniconda3/lib/python3.8/site-packages (from jinja2>=2.10.3->dask[complete]->xarray[complete]) (1.1.1)\n",
      "Requirement already satisfied: numpy-groupies>=0.9.19 in /home/idies/miniconda3/lib/python3.8/site-packages (from flox->xarray[complete]) (0.9.22)\n",
      "Requirement already satisfied: h5py in /home/idies/miniconda3/lib/python3.8/site-packages (from h5netcdf->xarray[complete]) (3.8.0)\n",
      "Requirement already satisfied: cycler>=0.10 in /home/idies/miniconda3/lib/python3.8/site-packages (from matplotlib->xarray[complete]) (0.11.0)\n",
      "Requirement already satisfied: fonttools>=4.22.0 in /home/idies/miniconda3/lib/python3.8/site-packages (from matplotlib->xarray[complete]) (4.40.0)\n",
      "Requirement already satisfied: importlib-resources>=3.2.0 in /home/idies/miniconda3/lib/python3.8/site-packages (from matplotlib->xarray[complete]) (5.12.0)\n",
      "Requirement already satisfied: pyparsing>=2.3.1 in /home/idies/miniconda3/lib/python3.8/site-packages (from matplotlib->xarray[complete]) (2.4.7)\n",
      "Requirement already satisfied: kiwisolver>=1.0.1 in /home/idies/miniconda3/lib/python3.8/site-packages (from matplotlib->xarray[complete]) (1.4.4)\n",
      "Requirement already satisfied: certifi in /home/idies/miniconda3/lib/python3.8/site-packages (from netCDF4->xarray[complete]) (2020.12.5)\n",
      "Requirement already satisfied: numba in /home/idies/miniconda3/lib/python3.8/site-packages (from numbagg->xarray[complete]) (0.57.0)\n",
      "Requirement already satisfied: llvmlite<0.41,>=0.40.0dev0 in /home/idies/miniconda3/lib/python3.8/site-packages (from numba->numbagg->xarray[complete]) (0.40.1rc1)\n",
      "Requirement already satisfied: requests>=2.19.0 in /home/idies/miniconda3/lib/python3.8/site-packages (from pooch->xarray[complete]) (2.25.1)\n",
      "Requirement already satisfied: platformdirs>=2.5.0 in /home/idies/miniconda3/lib/python3.8/site-packages (from pooch->xarray[complete]) (3.5.3)\n",
      "Requirement already satisfied: chardet<5,>=3.0.2 in /home/idies/miniconda3/lib/python3.8/site-packages (from requests>=2.19.0->pooch->xarray[complete]) (4.0.0)\n",
      "Requirement already satisfied: idna<3,>=2.5 in /home/idies/miniconda3/lib/python3.8/site-packages (from requests>=2.19.0->pooch->xarray[complete]) (2.10)\n",
      "Requirement already satisfied: docopt in /home/idies/miniconda3/lib/python3.8/site-packages (from pydap->xarray[complete]) (0.6.2)\n",
      "Requirement already satisfied: beautifulsoup4 in /home/idies/miniconda3/lib/python3.8/site-packages (from pydap->xarray[complete]) (4.12.2)\n",
      "Requirement already satisfied: Webob in /home/idies/miniconda3/lib/python3.8/site-packages (from pydap->xarray[complete]) (1.8.7)\n",
      "Requirement already satisfied: soupsieve>1.2 in /home/idies/miniconda3/lib/python3.8/site-packages (from beautifulsoup4->pydap->xarray[complete]) (2.4.1)\n",
      "Requirement already satisfied: click-plugins in /home/idies/miniconda3/lib/python3.8/site-packages (from rasterio->xarray[complete]) (1.1.1)\n",
      "Requirement already satisfied: snuggs>=1.4.1 in /home/idies/miniconda3/lib/python3.8/site-packages (from rasterio->xarray[complete]) (1.4.7)\n",
      "Requirement already satisfied: cligj>=0.5 in /home/idies/miniconda3/lib/python3.8/site-packages (from rasterio->xarray[complete]) (0.7.2)\n",
      "Requirement already satisfied: setuptools in /home/idies/miniconda3/lib/python3.8/site-packages (from rasterio->xarray[complete]) (51.0.0.post20201207)\n",
      "Requirement already satisfied: affine in /home/idies/miniconda3/lib/python3.8/site-packages (from rasterio->xarray[complete]) (2.4.0)\n",
      "Requirement already satisfied: asciitree in /home/idies/miniconda3/lib/python3.8/site-packages (from zarr->xarray[complete]) (0.3.3)\n",
      "Requirement already satisfied: fasteners in /home/idies/miniconda3/lib/python3.8/site-packages (from zarr->xarray[complete]) (0.18)\n",
      "Requirement already satisfied: numcodecs>=0.10.0 in /home/idies/miniconda3/lib/python3.8/site-packages (from zarr->xarray[complete]) (0.11.0)\n",
      "Requirement already satisfied: entrypoints in /home/idies/miniconda3/lib/python3.8/site-packages (from numcodecs>=0.10.0->zarr->xarray[complete]) (0.3)\n"
     ]
    }
   ],
   "source": [
    "!pip install \"xarray[complete]\""
   ]
  },
  {
   "cell_type": "code",
   "execution_count": 2,
   "metadata": {},
   "outputs": [],
   "source": [
    "import xarray as xr\n",
    "import os\n",
    "# from dask.diagnostics import ProgressBar\n",
    "# import zarr # No compute image with both xarray and zarr"
   ]
  },
  {
   "cell_type": "markdown",
   "metadata": {},
   "source": [
    "<font color=\"orange\">Don't delete the CD cell!</font>"
   ]
  },
  {
   "cell_type": "code",
   "execution_count": 3,
   "metadata": {},
   "outputs": [
    {
     "name": "stdout",
     "output_type": "stream",
     "text": [
      "/home/idies/workspace/turb/data02_02/ariel-6-timestep-ncar-netCDF\n"
     ]
    }
   ],
   "source": [
    "%cd /home/idies/workspace/turb/data02_02/ariel-6-timestep-ncar-netCDF"
   ]
  },
  {
   "cell_type": "markdown",
   "metadata": {},
   "source": [
    "## Merge 3 velocity components into one 4D array"
   ]
  },
  {
   "cell_type": "code",
   "execution_count": 4,
   "metadata": {},
   "outputs": [
    {
     "data": {
      "text/plain": [
       "<bound method Dataset.info of <xarray.Dataset>\n",
       "Dimensions:  (nnx: 2048, nny: 2048, nnz: 2048)\n",
       "Dimensions without coordinates: nnx, nny, nnz\n",
       "Data variables:\n",
       "    u        (nnz, nny, nnx) float32 ...\n",
       "    v        (nnz, nny, nnx) float32 ...\n",
       "    w        (nnz, nny, nnx) float32 ...\n",
       "    t        (nnz, nny, nnx) float32 ...\n",
       "    p        (nnz, nny, nnx) float32 ...\n",
       "    e        (nnz, nny, nnx) float32 ...\n",
       "Attributes:\n",
       "    Simulation conducted by:  Peter Sullivan, pps@ucar.edu\n",
       "    Dataset built by:         Edward Patton, patton@ucar.edu\n",
       "    Affiliation:              NCAR/MMM\n",
       "    Code:                     NCAR-LES\n",
       "    Case Description:         GABLS 1, Cooling Rate: 0.25 K/hr\n",
       "    Created:                  2023-05-02 10:25:55 -0600 UTC>"
      ]
     },
     "execution_count": 4,
     "metadata": {},
     "output_type": "execute_result"
    }
   ],
   "source": [
    "folder_path = '/home/idies/workspace/turb/data02_02/ariel-6-timestep-ncar-netCDF/'\n",
    "data_xr = xr.open_dataset(folder_path + \"jhd.000.nc\")\n",
    "data_xr.info"
   ]
  },
  {
   "cell_type": "markdown",
   "metadata": {},
   "source": [
    "## Save Separate $512^3$"
   ]
  },
  {
   "cell_type": "code",
   "execution_count": 9,
   "metadata": {},
   "outputs": [],
   "source": [
    "data_joint_vel_u = data_xr['u'][:512, :512, :512]\n",
    "data_joint_vel_v = data_xr['v'][:512, :512, :512]\n",
    "data_joint_vel_w = data_xr['w'][:512, :512, :512]"
   ]
  },
  {
   "cell_type": "code",
   "execution_count": 14,
   "metadata": {},
   "outputs": [
    {
     "data": {
      "text/plain": [
       "<bound method Dataset.info of <xarray.Dataset>\n",
       "Dimensions:  (nnx: 512, nny: 512, nnz: 512)\n",
       "Dimensions without coordinates: nnx, nny, nnz\n",
       "Data variables:\n",
       "    u        (nnz, nny, nnx) float32 ...\n",
       "    v        (nnz, nny, nnx) float32 ...\n",
       "    w        (nnz, nny, nnx) float32 ...>"
      ]
     },
     "execution_count": 14,
     "metadata": {},
     "output_type": "execute_result"
    }
   ],
   "source": [
    "ds = xr.Dataset({'u': data_joint_vel_u, 'v': data_joint_vel_v, 'w': data_joint_vel_w})\n",
    "ds.info"
   ]
  },
  {
   "cell_type": "code",
   "execution_count": 21,
   "metadata": {},
   "outputs": [
    {
     "data": {
      "text/plain": [
       "{'u': {'compressor': None, 'chunks': (64, 64, 64)},\n",
       " 'v': {'compressor': None, 'chunks': (64, 64, 64)},\n",
       " 'w': {'compressor': None, 'chunks': (64, 64, 64)}}"
      ]
     },
     "execution_count": 21,
     "metadata": {},
     "output_type": "execute_result"
    }
   ],
   "source": [
    "encoding = {variable_name: {'compressor': None, 'chunks': (chunk_size_base,chunk_size_base,chunk_size_base)} for variable_name in ds.variables}\n",
    "encoding"
   ]
  },
  {
   "cell_type": "code",
   "execution_count": 26,
   "metadata": {},
   "outputs": [
    {
     "data": {
      "text/plain": [
       "<xarray.backends.zarr.ZarrStore at 0x7f8fd46bb0a0>"
      ]
     },
     "execution_count": 26,
     "metadata": {},
     "output_type": "execute_result"
    }
   ],
   "source": [
    "ds.to_zarr(store=\"/home/idies/workspace/turb/data01_01/zarr/joint_velocities_ariel_test_512.zarr\",\n",
    "           mode='w',\n",
    "           encoding=encoding)"
   ]
  },
  {
   "cell_type": "markdown",
   "metadata": {},
   "source": [
    "## Save Joint $512^3$"
   ]
  },
  {
   "cell_type": "code",
   "execution_count": 5,
   "metadata": {
    "scrolled": true,
    "tags": []
   },
   "outputs": [
    {
     "data": {
      "text/html": [
       "<table>\n",
       "<tr>\n",
       "<td>\n",
       "<table>\n",
       "  <thead>\n",
       "    <tr><td> </td><th> Array </th><th> Chunk </th></tr>\n",
       "  </thead>\n",
       "  <tbody>\n",
       "    <tr><th> Bytes </th><td> 1.61 GB </td> <td> 3.15 MB </td></tr>\n",
       "    <tr><th> Shape </th><td> (512, 512, 512, 3) </td> <td> (64, 64, 64, 3) </td></tr>\n",
       "    <tr><th> Count </th><td> 1600 Tasks </td><td> 512 Chunks </td></tr>\n",
       "    <tr><th> Type </th><td> float32 </td><td> numpy.ndarray </td></tr>\n",
       "  </tbody>\n",
       "</table>\n",
       "</td>\n",
       "<td>\n",
       "<svg width=\"526\" height=\"240\" style=\"stroke:rgb(0,0,0);stroke-width:1\" >\n",
       "\n",
       "  <!-- Horizontal lines -->\n",
       "  <line x1=\"0\" y1=\"0\" x2=\"120\" y2=\"0\" style=\"stroke-width:2\" />\n",
       "  <line x1=\"0\" y1=\"25\" x2=\"120\" y2=\"25\" style=\"stroke-width:2\" />\n",
       "\n",
       "  <!-- Vertical lines -->\n",
       "  <line x1=\"0\" y1=\"0\" x2=\"0\" y2=\"25\" style=\"stroke-width:2\" />\n",
       "  <line x1=\"15\" y1=\"0\" x2=\"15\" y2=\"25\" />\n",
       "  <line x1=\"30\" y1=\"0\" x2=\"30\" y2=\"25\" />\n",
       "  <line x1=\"45\" y1=\"0\" x2=\"45\" y2=\"25\" />\n",
       "  <line x1=\"60\" y1=\"0\" x2=\"60\" y2=\"25\" />\n",
       "  <line x1=\"75\" y1=\"0\" x2=\"75\" y2=\"25\" />\n",
       "  <line x1=\"90\" y1=\"0\" x2=\"90\" y2=\"25\" />\n",
       "  <line x1=\"105\" y1=\"0\" x2=\"105\" y2=\"25\" />\n",
       "  <line x1=\"120\" y1=\"0\" x2=\"120\" y2=\"25\" style=\"stroke-width:2\" />\n",
       "\n",
       "  <!-- Colored Rectangle -->\n",
       "  <polygon points=\"0.0,0.0 120.0,0.0 120.0,25.412616514582485 0.0,25.412616514582485\" style=\"fill:#ECB172A0;stroke-width:0\"/>\n",
       "\n",
       "  <!-- Text -->\n",
       "  <text x=\"60.000000\" y=\"45.412617\" font-size=\"1.0rem\" font-weight=\"100\" text-anchor=\"middle\" >512</text>\n",
       "  <text x=\"140.000000\" y=\"12.706308\" font-size=\"1.0rem\" font-weight=\"100\" text-anchor=\"middle\" transform=\"rotate(0,140.000000,12.706308)\">1</text>\n",
       "\n",
       "\n",
       "  <!-- Horizontal lines -->\n",
       "  <line x1=\"190\" y1=\"0\" x2=\"260\" y2=\"70\" style=\"stroke-width:2\" />\n",
       "  <line x1=\"190\" y1=\"15\" x2=\"260\" y2=\"85\" />\n",
       "  <line x1=\"190\" y1=\"30\" x2=\"260\" y2=\"100\" />\n",
       "  <line x1=\"190\" y1=\"45\" x2=\"260\" y2=\"115\" />\n",
       "  <line x1=\"190\" y1=\"60\" x2=\"260\" y2=\"130\" />\n",
       "  <line x1=\"190\" y1=\"75\" x2=\"260\" y2=\"145\" />\n",
       "  <line x1=\"190\" y1=\"90\" x2=\"260\" y2=\"160\" />\n",
       "  <line x1=\"190\" y1=\"105\" x2=\"260\" y2=\"175\" />\n",
       "  <line x1=\"190\" y1=\"120\" x2=\"260\" y2=\"190\" style=\"stroke-width:2\" />\n",
       "\n",
       "  <!-- Vertical lines -->\n",
       "  <line x1=\"190\" y1=\"0\" x2=\"190\" y2=\"120\" style=\"stroke-width:2\" />\n",
       "  <line x1=\"198\" y1=\"8\" x2=\"198\" y2=\"128\" />\n",
       "  <line x1=\"207\" y1=\"17\" x2=\"207\" y2=\"137\" />\n",
       "  <line x1=\"216\" y1=\"26\" x2=\"216\" y2=\"146\" />\n",
       "  <line x1=\"225\" y1=\"35\" x2=\"225\" y2=\"155\" />\n",
       "  <line x1=\"234\" y1=\"44\" x2=\"234\" y2=\"164\" />\n",
       "  <line x1=\"242\" y1=\"52\" x2=\"242\" y2=\"172\" />\n",
       "  <line x1=\"251\" y1=\"61\" x2=\"251\" y2=\"181\" />\n",
       "  <line x1=\"260\" y1=\"70\" x2=\"260\" y2=\"190\" style=\"stroke-width:2\" />\n",
       "\n",
       "  <!-- Colored Rectangle -->\n",
       "  <polygon points=\"190.0,0.0 260.5882352941177,70.58823529411765 260.5882352941177,190.58823529411765 190.0,120.0\" style=\"fill:#ECB172A0;stroke-width:0\"/>\n",
       "\n",
       "  <!-- Horizontal lines -->\n",
       "  <line x1=\"190\" y1=\"0\" x2=\"215\" y2=\"0\" style=\"stroke-width:2\" />\n",
       "  <line x1=\"198\" y1=\"8\" x2=\"224\" y2=\"8\" />\n",
       "  <line x1=\"207\" y1=\"17\" x2=\"233\" y2=\"17\" />\n",
       "  <line x1=\"216\" y1=\"26\" x2=\"241\" y2=\"26\" />\n",
       "  <line x1=\"225\" y1=\"35\" x2=\"250\" y2=\"35\" />\n",
       "  <line x1=\"234\" y1=\"44\" x2=\"259\" y2=\"44\" />\n",
       "  <line x1=\"242\" y1=\"52\" x2=\"268\" y2=\"52\" />\n",
       "  <line x1=\"251\" y1=\"61\" x2=\"277\" y2=\"61\" />\n",
       "  <line x1=\"260\" y1=\"70\" x2=\"286\" y2=\"70\" style=\"stroke-width:2\" />\n",
       "\n",
       "  <!-- Vertical lines -->\n",
       "  <line x1=\"190\" y1=\"0\" x2=\"260\" y2=\"70\" style=\"stroke-width:2\" />\n",
       "  <line x1=\"215\" y1=\"0\" x2=\"286\" y2=\"70\" style=\"stroke-width:2\" />\n",
       "\n",
       "  <!-- Colored Rectangle -->\n",
       "  <polygon points=\"190.0,0.0 215.41261651458248,0.0 286.00085180870013,70.58823529411765 260.5882352941177,70.58823529411765\" style=\"fill:#ECB172A0;stroke-width:0\"/>\n",
       "\n",
       "  <!-- Horizontal lines -->\n",
       "  <line x1=\"260\" y1=\"70\" x2=\"286\" y2=\"70\" style=\"stroke-width:2\" />\n",
       "  <line x1=\"260\" y1=\"85\" x2=\"286\" y2=\"85\" />\n",
       "  <line x1=\"260\" y1=\"100\" x2=\"286\" y2=\"100\" />\n",
       "  <line x1=\"260\" y1=\"115\" x2=\"286\" y2=\"115\" />\n",
       "  <line x1=\"260\" y1=\"130\" x2=\"286\" y2=\"130\" />\n",
       "  <line x1=\"260\" y1=\"145\" x2=\"286\" y2=\"145\" />\n",
       "  <line x1=\"260\" y1=\"160\" x2=\"286\" y2=\"160\" />\n",
       "  <line x1=\"260\" y1=\"175\" x2=\"286\" y2=\"175\" />\n",
       "  <line x1=\"260\" y1=\"190\" x2=\"286\" y2=\"190\" style=\"stroke-width:2\" />\n",
       "\n",
       "  <!-- Vertical lines -->\n",
       "  <line x1=\"260\" y1=\"70\" x2=\"260\" y2=\"190\" style=\"stroke-width:2\" />\n",
       "  <line x1=\"286\" y1=\"70\" x2=\"286\" y2=\"190\" style=\"stroke-width:2\" />\n",
       "\n",
       "  <!-- Colored Rectangle -->\n",
       "  <polygon points=\"260.5882352941177,70.58823529411765 286.0008518087002,70.58823529411765 286.0008518087002,190.58823529411765 260.5882352941177,190.58823529411765\" style=\"fill:#ECB172A0;stroke-width:0\"/>\n",
       "\n",
       "  <!-- Text -->\n",
       "  <text x=\"273.294544\" y=\"210.588235\" font-size=\"1.0rem\" font-weight=\"100\" text-anchor=\"middle\" >3</text>\n",
       "  <text x=\"306.000852\" y=\"130.588235\" font-size=\"1.0rem\" font-weight=\"100\" text-anchor=\"middle\" transform=\"rotate(-90,306.000852,130.588235)\">512</text>\n",
       "  <text x=\"215.294118\" y=\"175.294118\" font-size=\"1.0rem\" font-weight=\"100\" text-anchor=\"middle\" transform=\"rotate(45,215.294118,175.294118)\">512</text>\n",
       "</svg>\n",
       "</td>\n",
       "</tr>\n",
       "</table>"
      ],
      "text/plain": [
       "dask.array<rechunk-merge, shape=(512, 512, 512, 3), dtype=float32, chunksize=(64, 64, 64, 3), chunktype=numpy.ndarray>"
      ]
     },
     "execution_count": 5,
     "metadata": {},
     "output_type": "execute_result"
    }
   ],
   "source": [
    "# I don't think this will benefit from Parallelization\n",
    "import dask.array as da\n",
    "\n",
    "\n",
    "b = da.stack([data_xr['u'][:512, :512, :512], data_xr['v'][:512, :512, :512], data_xr['w'][:512, :512, :512]], axis=3)\n",
    "\n",
    "\n",
    "b = b.rechunk((chunk_size_base,chunk_size_base,chunk_size_base,3))\n",
    "\n",
    "b"
   ]
  },
  {
   "cell_type": "code",
   "execution_count": 9,
   "metadata": {},
   "outputs": [],
   "source": [
    "da.to_zarr(b, url=\"/home/idies/workspace/turb/data02_02/zarr/\" + \"ariel_split_velocities_ariel_test_512.zarr\", compressor=None)"
   ]
  },
  {
   "cell_type": "code",
   "execution_count": 12,
   "metadata": {},
   "outputs": [],
   "source": [
    "# import zarr\n",
    "\n",
    "# a = zarr.open(\"/home/idies/workspace/turb/data02_02/zarr/\" + \"ariel_split_velocities_ariel_test_512.zarr\")\n",
    "\n",
    "# a.info"
   ]
  },
  {
   "cell_type": "code",
   "execution_count": null,
   "metadata": {},
   "outputs": [],
   "source": [
    "# I don't think this will benefit from Parallelization\n",
    "import dask.array as da\n",
    "\n",
    "\n",
    "b = da.stack([data_xr['u'], data_xr['v'], data_xr['w']], axis=3)\n",
    "\n",
    "# import numpy as np\n",
    "# b = da.stack([np.zeros((128,128,128)), np.zeros((128,128,128)), np.zeros((128,128,128))], axis=3)\n",
    "\n",
    "chunk_size_base = 64\n",
    "\n",
    "# Need to edit chunk\n",
    "b = b.rechunk((chunk_size_base,chunk_size_base,chunk_size_base,3))\n",
    "\n",
    "b"
   ]
  },
  {
   "cell_type": "code",
   "execution_count": null,
   "metadata": {},
   "outputs": [],
   "source": [
    "# Remove individual velocity components, replace with joint\n",
    "\n",
    "data_joint_vel = data_xr.drop_vars(['u', 'v', 'w'])\n",
    "\n",
    "data_joint_vel.info"
   ]
  },
  {
   "cell_type": "code",
   "execution_count": null,
   "metadata": {},
   "outputs": [],
   "source": [
    "# Add 3 velocities\n",
    "data_joint_vel['velocity'] = xr.DataArray(b, dims=('nnz', 'nny', 'nnx', 'velocity component (xyz)'))\n",
    "\n",
    "data_joint_vel.info"
   ]
  },
  {
   "cell_type": "code",
   "execution_count": null,
   "metadata": {},
   "outputs": [],
   "source": [
    "data_joint_vel = data_joint_vel.drop_vars(['e', 'p', 't'])"
   ]
  },
  {
   "cell_type": "code",
   "execution_count": null,
   "metadata": {},
   "outputs": [],
   "source": [
    "chunk_size_base = 64\n",
    "\n",
    "# Disable compression, set chunk size\n",
    "# encoding = {variable_name: {'compressor': None, 'chunks': (chunk_size_base, chunk_size_base, chunk_size_base)} for variable_name in data_joint_vel.variables}\n",
    "encoding = {}\n",
    "encoding['velocity'] = {'compressor': None, 'chunks': (chunk_size_base,chunk_size_base,chunk_size_base,3)}\n",
    "\n",
    "encoding"
   ]
  },
  {
   "cell_type": "code",
   "execution_count": null,
   "metadata": {},
   "outputs": [],
   "source": [
    "target_dir = folders[0]\n",
    "\n",
    "# overwrite if exists\n",
    "data_joint_vel.to_zarr(store=\"/home/idies/workspace/turb/data02_02/zarr/\" + \"ariel_split_velocities_ariel_test.zarr\",\n",
    "                mode=\"w\",\n",
    "               encoding = encoding)\n"
   ]
  }
 ],
 "metadata": {
  "kernelspec": {
   "display_name": "Python 3.8 (py38)",
   "language": "python",
   "name": "py38"
  },
  "language_info": {
   "codemirror_mode": {
    "name": "ipython",
    "version": 3
   },
   "file_extension": ".py",
   "mimetype": "text/x-python",
   "name": "python",
   "nbconvert_exporter": "python",
   "pygments_lexer": "ipython3",
   "version": "3.8.5"
  }
 },
 "nbformat": 4,
 "nbformat_minor": 4
}
