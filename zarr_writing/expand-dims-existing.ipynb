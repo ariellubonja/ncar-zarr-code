{
 "cells": [
  {
   "cell_type": "code",
   "execution_count": 9,
   "metadata": {
    "collapsed": true,
    "ExecuteTime": {
     "end_time": "2023-09-07T20:00:45.115756Z",
     "start_time": "2023-09-07T20:00:45.097882Z"
    }
   },
   "outputs": [],
   "source": [
    "import os\n",
    "from utils import write_tools\n",
    "import zarr\n",
    "\n",
    "\n",
    "array_cube_side = 2048\n",
    "desired_cube_side = 512\n",
    "chunk_size = 64\n",
    "raw_ncar_folder_path = '/home/idies/workspace/turb/data02_02/ncar-high-rate-fixed-dt'\n",
    "use_dask = True\n",
    "dest_folder_name = \"sabl2048b\" # B is the high-rate data\n",
    "write_type = \"prod\" # or \"back\" for backup\n",
    "\n",
    "n_dask_workers = 4 # For Dask rechunking\n",
    "\n",
    "# Kernel dies with Sciserver large jobs resources as of Aug 2023. Out of memory IMO\n",
    "num_threads = 8  # For writing to FileDB\n",
    "dask_local_dir = '/home/idies/workspace/turb/data02_02'\n",
    "\n",
    "timestep_nr = 3"
   ]
  },
  {
   "cell_type": "code",
   "execution_count": 10,
   "outputs": [],
   "source": [
    "folders=write_tools.list_fileDB_folders()\n",
    "\n",
    "# Avoiding 7-2 and 9-2 - they're too full as of May 2023\n",
    "folders.remove(\"/home/idies/workspace/turb/data09_02/zarr/\")\n",
    "folders.remove(\"/home/idies/workspace/turb/data07_02/zarr/\")\n",
    "\n",
    "for i in range(len(folders)):\n",
    "    folders[i] += dest_folder_name + \"_\" + str(i + 1).zfill(2) + \"_\" + write_type + \"/\""
   ],
   "metadata": {
    "collapsed": false,
    "ExecuteTime": {
     "end_time": "2023-09-07T20:00:45.135007Z",
     "start_time": "2023-09-07T20:00:45.100982Z"
    }
   }
  },
  {
   "cell_type": "code",
   "execution_count": 11,
   "outputs": [],
   "source": [
    "range_list = [] # Where chunks start and end. Needed for Mike's code to find correct chunks to access\n",
    "smaller_size = 512\n",
    "outer_dim = []\n",
    "\n",
    "for i in range(4):\n",
    "    mid_dim = []\n",
    "    for j in range(4):\n",
    "        inner_dim = []\n",
    "\n",
    "        for k in range(4):\n",
    "            a = []\n",
    "            a.append([i * smaller_size, (i + 1) * smaller_size])\n",
    "            a.append([j * smaller_size, (j + 1) * smaller_size])\n",
    "            a.append([k * smaller_size, (k + 1) * smaller_size])\n",
    "\n",
    "            range_list.append(a)\n",
    "\n",
    "        mid_dim.append(inner_dim)\n",
    "\n",
    "    outer_dim.append(mid_dim)"
   ],
   "metadata": {
    "collapsed": false,
    "ExecuteTime": {
     "end_time": "2023-09-07T20:00:45.136960Z",
     "start_time": "2023-09-07T20:00:45.109048Z"
    }
   }
  },
  {
   "cell_type": "code",
   "execution_count": 12,
   "outputs": [],
   "source": [
    "chunk_morton_mapping = write_tools.get_chunk_morton_mapping(range_list, dest_folder_name)\n",
    "flattened_node_assgn = write_tools.flatten_3d_list(write_tools.node_assignment(4))"
   ],
   "metadata": {
    "collapsed": false,
    "ExecuteTime": {
     "end_time": "2023-09-07T20:00:45.139232Z",
     "start_time": "2023-09-07T20:00:45.118034Z"
    }
   }
  },
  {
   "cell_type": "code",
   "execution_count": 13,
   "outputs": [],
   "source": [
    "dests = []\n",
    "\n",
    "for i in range(len(range_list)):\n",
    "#     for j in range(4):\n",
    "#         for k in range(4):\n",
    "    min_coord = [a[0] for a in range_list[i]]\n",
    "    max_coord = [a[1] - 1 for a in range_list[i]]\n",
    "\n",
    "    morton = (write_tools.morton_pack(array_cube_side, min_coord[2], min_coord[1], min_coord[0]), write_tools.morton_pack(array_cube_side, max_coord[2], max_coord[1], max_coord[0]))\n",
    "\n",
    "    chunk_name = write_tools.search_dict_by_value(chunk_morton_mapping, morton)\n",
    "\n",
    "    idx = int(chunk_name[-2:].lstrip('0'))\n",
    "\n",
    "    filedb_index = flattened_node_assgn[idx - 1] - 1\n",
    "\n",
    "    destination = os.path.join(folders[filedb_index], dest_folder_name + str(idx).zfill(2) + \"_\" + str(timestep_nr).zfill(3) + \".zarr\")\n",
    "\n",
    "    dests.append(destination)"
   ],
   "metadata": {
    "collapsed": false,
    "ExecuteTime": {
     "end_time": "2023-09-07T20:00:45.139604Z",
     "start_time": "2023-09-07T20:00:45.127569Z"
    }
   }
  },
  {
   "cell_type": "code",
   "execution_count": 14,
   "outputs": [
    {
     "data": {
      "text/plain": "['/home/idies/workspace/turb/data01_01/zarr/sabl2048b_01_prod/sabl2048b01_003.zarr',\n '/home/idies/workspace/turb/data02_01/zarr/sabl2048b_02_prod/sabl2048b02_003.zarr',\n '/home/idies/workspace/turb/data09_01/zarr/sabl2048b_09_prod/sabl2048b09_003.zarr',\n '/home/idies/workspace/turb/data10_01/zarr/sabl2048b_10_prod/sabl2048b10_003.zarr',\n '/home/idies/workspace/turb/data03_01/zarr/sabl2048b_03_prod/sabl2048b03_003.zarr',\n '/home/idies/workspace/turb/data04_01/zarr/sabl2048b_04_prod/sabl2048b04_003.zarr',\n '/home/idies/workspace/turb/data11_01/zarr/sabl2048b_11_prod/sabl2048b11_003.zarr',\n '/home/idies/workspace/turb/data12_01/zarr/sabl2048b_12_prod/sabl2048b12_003.zarr',\n '/home/idies/workspace/turb/data05_02/zarr/sabl2048b_17_prod/sabl2048b17_003.zarr',\n '/home/idies/workspace/turb/data06_02/zarr/sabl2048b_18_prod/sabl2048b18_003.zarr',\n '/home/idies/workspace/turb/data03_03/zarr/sabl2048b_25_prod/sabl2048b25_003.zarr',\n '/home/idies/workspace/turb/data04_03/zarr/sabl2048b_26_prod/sabl2048b26_003.zarr',\n '/home/idies/workspace/turb/data08_02/zarr/sabl2048b_19_prod/sabl2048b19_003.zarr',\n '/home/idies/workspace/turb/data10_02/zarr/sabl2048b_20_prod/sabl2048b20_003.zarr',\n '/home/idies/workspace/turb/data05_03/zarr/sabl2048b_27_prod/sabl2048b27_003.zarr',\n '/home/idies/workspace/turb/data06_03/zarr/sabl2048b_28_prod/sabl2048b28_003.zarr',\n '/home/idies/workspace/turb/data05_01/zarr/sabl2048b_05_prod/sabl2048b05_003.zarr',\n '/home/idies/workspace/turb/data06_01/zarr/sabl2048b_06_prod/sabl2048b06_003.zarr',\n '/home/idies/workspace/turb/data01_02/zarr/sabl2048b_13_prod/sabl2048b13_003.zarr',\n '/home/idies/workspace/turb/data02_02/zarr/sabl2048b_14_prod/sabl2048b14_003.zarr',\n '/home/idies/workspace/turb/data07_01/zarr/sabl2048b_07_prod/sabl2048b07_003.zarr',\n '/home/idies/workspace/turb/data08_01/zarr/sabl2048b_08_prod/sabl2048b08_003.zarr',\n '/home/idies/workspace/turb/data03_02/zarr/sabl2048b_15_prod/sabl2048b15_003.zarr',\n '/home/idies/workspace/turb/data04_02/zarr/sabl2048b_16_prod/sabl2048b16_003.zarr',\n '/home/idies/workspace/turb/data11_02/zarr/sabl2048b_21_prod/sabl2048b21_003.zarr',\n '/home/idies/workspace/turb/data12_02/zarr/sabl2048b_22_prod/sabl2048b22_003.zarr',\n '/home/idies/workspace/turb/data07_03/zarr/sabl2048b_29_prod/sabl2048b29_003.zarr',\n '/home/idies/workspace/turb/data08_03/zarr/sabl2048b_30_prod/sabl2048b30_003.zarr',\n '/home/idies/workspace/turb/data01_03/zarr/sabl2048b_23_prod/sabl2048b23_003.zarr',\n '/home/idies/workspace/turb/data02_03/zarr/sabl2048b_24_prod/sabl2048b24_003.zarr',\n '/home/idies/workspace/turb/data09_03/zarr/sabl2048b_31_prod/sabl2048b31_003.zarr',\n '/home/idies/workspace/turb/data10_03/zarr/sabl2048b_32_prod/sabl2048b32_003.zarr',\n '/home/idies/workspace/turb/data11_03/zarr/sabl2048b_33_prod/sabl2048b33_003.zarr',\n '/home/idies/workspace/turb/data12_03/zarr/sabl2048b_34_prod/sabl2048b34_003.zarr',\n '/home/idies/workspace/turb/data07_01/zarr/sabl2048b_07_prod/sabl2048b41_003.zarr',\n '/home/idies/workspace/turb/data08_01/zarr/sabl2048b_08_prod/sabl2048b42_003.zarr',\n '/home/idies/workspace/turb/data01_01/zarr/sabl2048b_01_prod/sabl2048b35_003.zarr',\n '/home/idies/workspace/turb/data02_01/zarr/sabl2048b_02_prod/sabl2048b36_003.zarr',\n '/home/idies/workspace/turb/data09_01/zarr/sabl2048b_09_prod/sabl2048b43_003.zarr',\n '/home/idies/workspace/turb/data10_01/zarr/sabl2048b_10_prod/sabl2048b44_003.zarr',\n '/home/idies/workspace/turb/data03_02/zarr/sabl2048b_15_prod/sabl2048b49_003.zarr',\n '/home/idies/workspace/turb/data04_02/zarr/sabl2048b_16_prod/sabl2048b50_003.zarr',\n '/home/idies/workspace/turb/data01_03/zarr/sabl2048b_23_prod/sabl2048b57_003.zarr',\n '/home/idies/workspace/turb/data02_03/zarr/sabl2048b_24_prod/sabl2048b58_003.zarr',\n '/home/idies/workspace/turb/data05_02/zarr/sabl2048b_17_prod/sabl2048b51_003.zarr',\n '/home/idies/workspace/turb/data06_02/zarr/sabl2048b_18_prod/sabl2048b52_003.zarr',\n '/home/idies/workspace/turb/data03_03/zarr/sabl2048b_25_prod/sabl2048b59_003.zarr',\n '/home/idies/workspace/turb/data04_03/zarr/sabl2048b_26_prod/sabl2048b60_003.zarr',\n '/home/idies/workspace/turb/data03_01/zarr/sabl2048b_03_prod/sabl2048b37_003.zarr',\n '/home/idies/workspace/turb/data04_01/zarr/sabl2048b_04_prod/sabl2048b38_003.zarr',\n '/home/idies/workspace/turb/data11_01/zarr/sabl2048b_11_prod/sabl2048b45_003.zarr',\n '/home/idies/workspace/turb/data12_01/zarr/sabl2048b_12_prod/sabl2048b46_003.zarr',\n '/home/idies/workspace/turb/data05_01/zarr/sabl2048b_05_prod/sabl2048b39_003.zarr',\n '/home/idies/workspace/turb/data06_01/zarr/sabl2048b_06_prod/sabl2048b40_003.zarr',\n '/home/idies/workspace/turb/data01_02/zarr/sabl2048b_13_prod/sabl2048b47_003.zarr',\n '/home/idies/workspace/turb/data02_02/zarr/sabl2048b_14_prod/sabl2048b48_003.zarr',\n '/home/idies/workspace/turb/data08_02/zarr/sabl2048b_19_prod/sabl2048b53_003.zarr',\n '/home/idies/workspace/turb/data10_02/zarr/sabl2048b_20_prod/sabl2048b54_003.zarr',\n '/home/idies/workspace/turb/data05_03/zarr/sabl2048b_27_prod/sabl2048b61_003.zarr',\n '/home/idies/workspace/turb/data06_03/zarr/sabl2048b_28_prod/sabl2048b62_003.zarr',\n '/home/idies/workspace/turb/data11_02/zarr/sabl2048b_21_prod/sabl2048b55_003.zarr',\n '/home/idies/workspace/turb/data12_02/zarr/sabl2048b_22_prod/sabl2048b56_003.zarr',\n '/home/idies/workspace/turb/data07_03/zarr/sabl2048b_29_prod/sabl2048b63_003.zarr',\n '/home/idies/workspace/turb/data08_03/zarr/sabl2048b_30_prod/sabl2048b64_003.zarr']"
     },
     "execution_count": 14,
     "metadata": {},
     "output_type": "execute_result"
    }
   ],
   "source": [
    "dests"
   ],
   "metadata": {
    "collapsed": false,
    "ExecuteTime": {
     "end_time": "2023-09-07T20:00:45.147002Z",
     "start_time": "2023-09-07T20:00:45.133131Z"
    }
   }
  },
  {
   "cell_type": "code",
   "execution_count": 27,
   "outputs": [
    {
     "data": {
      "text/plain": "<xarray.Dataset>\nDimensions:  (nnz: 2048, nny: 2048, nnx: 2048)\nDimensions without coordinates: nnz, nny, nnx\nData variables:\n    u        (nnz, nny, nnx) float32 ...\n    v        (nnz, nny, nnx) float32 ...\n    w        (nnz, nny, nnx) float32 ...\n    t        (nnz, nny, nnx) float32 ...\n    p        (nnz, nny, nnx) float32 ...\n    e        (nnz, nny, nnx) float32 ...\nAttributes:\n    Simulation conducted by:  Peter Sullivan, pps@ucar.edu\n    Dataset built by:         Edward Patton, patton@ucar.edu\n    Affiliation:              NCAR/MMM\n    Code:                     NCAR-LES\n    Case Description:         GABLS 1, Cooling Rate: 0.25 K/hr\n    Created:                  2023-07-08 07:56:23 -0600 UTC",
      "text/html": "<div><svg style=\"position: absolute; width: 0; height: 0; overflow: hidden\">\n<defs>\n<symbol id=\"icon-database\" viewBox=\"0 0 32 32\">\n<path d=\"M16 0c-8.837 0-16 2.239-16 5v4c0 2.761 7.163 5 16 5s16-2.239 16-5v-4c0-2.761-7.163-5-16-5z\"></path>\n<path d=\"M16 17c-8.837 0-16-2.239-16-5v6c0 2.761 7.163 5 16 5s16-2.239 16-5v-6c0 2.761-7.163 5-16 5z\"></path>\n<path d=\"M16 26c-8.837 0-16-2.239-16-5v6c0 2.761 7.163 5 16 5s16-2.239 16-5v-6c0 2.761-7.163 5-16 5z\"></path>\n</symbol>\n<symbol id=\"icon-file-text2\" viewBox=\"0 0 32 32\">\n<path d=\"M28.681 7.159c-0.694-0.947-1.662-2.053-2.724-3.116s-2.169-2.030-3.116-2.724c-1.612-1.182-2.393-1.319-2.841-1.319h-15.5c-1.378 0-2.5 1.121-2.5 2.5v27c0 1.378 1.122 2.5 2.5 2.5h23c1.378 0 2.5-1.122 2.5-2.5v-19.5c0-0.448-0.137-1.23-1.319-2.841zM24.543 5.457c0.959 0.959 1.712 1.825 2.268 2.543h-4.811v-4.811c0.718 0.556 1.584 1.309 2.543 2.268zM28 29.5c0 0.271-0.229 0.5-0.5 0.5h-23c-0.271 0-0.5-0.229-0.5-0.5v-27c0-0.271 0.229-0.5 0.5-0.5 0 0 15.499-0 15.5 0v7c0 0.552 0.448 1 1 1h7v19.5z\"></path>\n<path d=\"M23 26h-14c-0.552 0-1-0.448-1-1s0.448-1 1-1h14c0.552 0 1 0.448 1 1s-0.448 1-1 1z\"></path>\n<path d=\"M23 22h-14c-0.552 0-1-0.448-1-1s0.448-1 1-1h14c0.552 0 1 0.448 1 1s-0.448 1-1 1z\"></path>\n<path d=\"M23 18h-14c-0.552 0-1-0.448-1-1s0.448-1 1-1h14c0.552 0 1 0.448 1 1s-0.448 1-1 1z\"></path>\n</symbol>\n</defs>\n</svg>\n<style>/* CSS stylesheet for displaying xarray objects in jupyterlab.\n *\n */\n\n:root {\n  --xr-font-color0: var(--jp-content-font-color0, rgba(0, 0, 0, 1));\n  --xr-font-color2: var(--jp-content-font-color2, rgba(0, 0, 0, 0.54));\n  --xr-font-color3: var(--jp-content-font-color3, rgba(0, 0, 0, 0.38));\n  --xr-border-color: var(--jp-border-color2, #e0e0e0);\n  --xr-disabled-color: var(--jp-layout-color3, #bdbdbd);\n  --xr-background-color: var(--jp-layout-color0, white);\n  --xr-background-color-row-even: var(--jp-layout-color1, white);\n  --xr-background-color-row-odd: var(--jp-layout-color2, #eeeeee);\n}\n\nhtml[theme=dark],\nbody[data-theme=dark],\nbody.vscode-dark {\n  --xr-font-color0: rgba(255, 255, 255, 1);\n  --xr-font-color2: rgba(255, 255, 255, 0.54);\n  --xr-font-color3: rgba(255, 255, 255, 0.38);\n  --xr-border-color: #1F1F1F;\n  --xr-disabled-color: #515151;\n  --xr-background-color: #111111;\n  --xr-background-color-row-even: #111111;\n  --xr-background-color-row-odd: #313131;\n}\n\n.xr-wrap {\n  display: block !important;\n  min-width: 300px;\n  max-width: 700px;\n}\n\n.xr-text-repr-fallback {\n  /* fallback to plain text repr when CSS is not injected (untrusted notebook) */\n  display: none;\n}\n\n.xr-header {\n  padding-top: 6px;\n  padding-bottom: 6px;\n  margin-bottom: 4px;\n  border-bottom: solid 1px var(--xr-border-color);\n}\n\n.xr-header > div,\n.xr-header > ul {\n  display: inline;\n  margin-top: 0;\n  margin-bottom: 0;\n}\n\n.xr-obj-type,\n.xr-array-name {\n  margin-left: 2px;\n  margin-right: 10px;\n}\n\n.xr-obj-type {\n  color: var(--xr-font-color2);\n}\n\n.xr-sections {\n  padding-left: 0 !important;\n  display: grid;\n  grid-template-columns: 150px auto auto 1fr 20px 20px;\n}\n\n.xr-section-item {\n  display: contents;\n}\n\n.xr-section-item input {\n  display: none;\n}\n\n.xr-section-item input + label {\n  color: var(--xr-disabled-color);\n}\n\n.xr-section-item input:enabled + label {\n  cursor: pointer;\n  color: var(--xr-font-color2);\n}\n\n.xr-section-item input:enabled + label:hover {\n  color: var(--xr-font-color0);\n}\n\n.xr-section-summary {\n  grid-column: 1;\n  color: var(--xr-font-color2);\n  font-weight: 500;\n}\n\n.xr-section-summary > span {\n  display: inline-block;\n  padding-left: 0.5em;\n}\n\n.xr-section-summary-in:disabled + label {\n  color: var(--xr-font-color2);\n}\n\n.xr-section-summary-in + label:before {\n  display: inline-block;\n  content: '►';\n  font-size: 11px;\n  width: 15px;\n  text-align: center;\n}\n\n.xr-section-summary-in:disabled + label:before {\n  color: var(--xr-disabled-color);\n}\n\n.xr-section-summary-in:checked + label:before {\n  content: '▼';\n}\n\n.xr-section-summary-in:checked + label > span {\n  display: none;\n}\n\n.xr-section-summary,\n.xr-section-inline-details {\n  padding-top: 4px;\n  padding-bottom: 4px;\n}\n\n.xr-section-inline-details {\n  grid-column: 2 / -1;\n}\n\n.xr-section-details {\n  display: none;\n  grid-column: 1 / -1;\n  margin-bottom: 5px;\n}\n\n.xr-section-summary-in:checked ~ .xr-section-details {\n  display: contents;\n}\n\n.xr-array-wrap {\n  grid-column: 1 / -1;\n  display: grid;\n  grid-template-columns: 20px auto;\n}\n\n.xr-array-wrap > label {\n  grid-column: 1;\n  vertical-align: top;\n}\n\n.xr-preview {\n  color: var(--xr-font-color3);\n}\n\n.xr-array-preview,\n.xr-array-data {\n  padding: 0 5px !important;\n  grid-column: 2;\n}\n\n.xr-array-data,\n.xr-array-in:checked ~ .xr-array-preview {\n  display: none;\n}\n\n.xr-array-in:checked ~ .xr-array-data,\n.xr-array-preview {\n  display: inline-block;\n}\n\n.xr-dim-list {\n  display: inline-block !important;\n  list-style: none;\n  padding: 0 !important;\n  margin: 0;\n}\n\n.xr-dim-list li {\n  display: inline-block;\n  padding: 0;\n  margin: 0;\n}\n\n.xr-dim-list:before {\n  content: '(';\n}\n\n.xr-dim-list:after {\n  content: ')';\n}\n\n.xr-dim-list li:not(:last-child):after {\n  content: ',';\n  padding-right: 5px;\n}\n\n.xr-has-index {\n  font-weight: bold;\n}\n\n.xr-var-list,\n.xr-var-item {\n  display: contents;\n}\n\n.xr-var-item > div,\n.xr-var-item label,\n.xr-var-item > .xr-var-name span {\n  background-color: var(--xr-background-color-row-even);\n  margin-bottom: 0;\n}\n\n.xr-var-item > .xr-var-name:hover span {\n  padding-right: 5px;\n}\n\n.xr-var-list > li:nth-child(odd) > div,\n.xr-var-list > li:nth-child(odd) > label,\n.xr-var-list > li:nth-child(odd) > .xr-var-name span {\n  background-color: var(--xr-background-color-row-odd);\n}\n\n.xr-var-name {\n  grid-column: 1;\n}\n\n.xr-var-dims {\n  grid-column: 2;\n}\n\n.xr-var-dtype {\n  grid-column: 3;\n  text-align: right;\n  color: var(--xr-font-color2);\n}\n\n.xr-var-preview {\n  grid-column: 4;\n}\n\n.xr-index-preview {\n  grid-column: 2 / 5;\n  color: var(--xr-font-color2);\n}\n\n.xr-var-name,\n.xr-var-dims,\n.xr-var-dtype,\n.xr-preview,\n.xr-attrs dt {\n  white-space: nowrap;\n  overflow: hidden;\n  text-overflow: ellipsis;\n  padding-right: 10px;\n}\n\n.xr-var-name:hover,\n.xr-var-dims:hover,\n.xr-var-dtype:hover,\n.xr-attrs dt:hover {\n  overflow: visible;\n  width: auto;\n  z-index: 1;\n}\n\n.xr-var-attrs,\n.xr-var-data,\n.xr-index-data {\n  display: none;\n  background-color: var(--xr-background-color) !important;\n  padding-bottom: 5px !important;\n}\n\n.xr-var-attrs-in:checked ~ .xr-var-attrs,\n.xr-var-data-in:checked ~ .xr-var-data,\n.xr-index-data-in:checked ~ .xr-index-data {\n  display: block;\n}\n\n.xr-var-data > table {\n  float: right;\n}\n\n.xr-var-name span,\n.xr-var-data,\n.xr-index-name div,\n.xr-index-data,\n.xr-attrs {\n  padding-left: 25px !important;\n}\n\n.xr-attrs,\n.xr-var-attrs,\n.xr-var-data,\n.xr-index-data {\n  grid-column: 1 / -1;\n}\n\ndl.xr-attrs {\n  padding: 0;\n  margin: 0;\n  display: grid;\n  grid-template-columns: 125px auto;\n}\n\n.xr-attrs dt,\n.xr-attrs dd {\n  padding: 0;\n  margin: 0;\n  float: left;\n  padding-right: 10px;\n  width: auto;\n}\n\n.xr-attrs dt {\n  font-weight: normal;\n  grid-column: 1;\n}\n\n.xr-attrs dt:hover span {\n  display: inline-block;\n  background: var(--xr-background-color);\n  padding-right: 10px;\n}\n\n.xr-attrs dd {\n  grid-column: 2;\n  white-space: pre-wrap;\n  word-break: break-all;\n}\n\n.xr-icon-database,\n.xr-icon-file-text2,\n.xr-no-icon {\n  display: inline-block;\n  vertical-align: middle;\n  width: 1em;\n  height: 1.5em !important;\n  stroke-width: 0;\n  stroke: currentColor;\n  fill: currentColor;\n}\n</style><pre class='xr-text-repr-fallback'>&lt;xarray.Dataset&gt;\nDimensions:  (nnz: 2048, nny: 2048, nnx: 2048)\nDimensions without coordinates: nnz, nny, nnx\nData variables:\n    u        (nnz, nny, nnx) float32 ...\n    v        (nnz, nny, nnx) float32 ...\n    w        (nnz, nny, nnx) float32 ...\n    t        (nnz, nny, nnx) float32 ...\n    p        (nnz, nny, nnx) float32 ...\n    e        (nnz, nny, nnx) float32 ...\nAttributes:\n    Simulation conducted by:  Peter Sullivan, pps@ucar.edu\n    Dataset built by:         Edward Patton, patton@ucar.edu\n    Affiliation:              NCAR/MMM\n    Code:                     NCAR-LES\n    Case Description:         GABLS 1, Cooling Rate: 0.25 K/hr\n    Created:                  2023-07-08 07:56:23 -0600 UTC</pre><div class='xr-wrap' style='display:none'><div class='xr-header'><div class='xr-obj-type'>xarray.Dataset</div></div><ul class='xr-sections'><li class='xr-section-item'><input id='section-b65462b2-0234-49e6-8c2c-ffd022a9407b' class='xr-section-summary-in' type='checkbox' disabled ><label for='section-b65462b2-0234-49e6-8c2c-ffd022a9407b' class='xr-section-summary'  title='Expand/collapse section'>Dimensions:</label><div class='xr-section-inline-details'><ul class='xr-dim-list'><li><span>nnz</span>: 2048</li><li><span>nny</span>: 2048</li><li><span>nnx</span>: 2048</li></ul></div><div class='xr-section-details'></div></li><li class='xr-section-item'><input id='section-8ae6bd3f-26de-4cc5-998e-2a8db942e65b' class='xr-section-summary-in' type='checkbox' disabled ><label for='section-8ae6bd3f-26de-4cc5-998e-2a8db942e65b' class='xr-section-summary'  title='Expand/collapse section'>Coordinates: <span>(0)</span></label><div class='xr-section-inline-details'></div><div class='xr-section-details'><ul class='xr-var-list'></ul></div></li><li class='xr-section-item'><input id='section-c3001122-24f5-4919-8d03-d043f1e47171' class='xr-section-summary-in' type='checkbox'  checked><label for='section-c3001122-24f5-4919-8d03-d043f1e47171' class='xr-section-summary' >Data variables: <span>(6)</span></label><div class='xr-section-inline-details'></div><div class='xr-section-details'><ul class='xr-var-list'><li class='xr-var-item'><div class='xr-var-name'><span>u</span></div><div class='xr-var-dims'>(nnz, nny, nnx)</div><div class='xr-var-dtype'>float32</div><div class='xr-var-preview xr-preview'>...</div><input id='attrs-4c8187b9-be36-4013-b3b3-da08d1b9ef1f' class='xr-var-attrs-in' type='checkbox' ><label for='attrs-4c8187b9-be36-4013-b3b3-da08d1b9ef1f' title='Show/Hide attributes'><svg class='icon xr-icon-file-text2'><use xlink:href='#icon-file-text2'></use></svg></label><input id='data-e2130041-7dcc-47a3-b106-279e1dd5cc9c' class='xr-var-data-in' type='checkbox'><label for='data-e2130041-7dcc-47a3-b106-279e1dd5cc9c' title='Show/Hide data repr'><svg class='icon xr-icon-database'><use xlink:href='#icon-database'></use></svg></label><div class='xr-var-attrs'><dl class='xr-attrs'><dt><span>Description :</span></dt><dd>Streamwise velocity, u</dd><dt><span>Units :</span></dt><dd>[m/s]</dd></dl></div><div class='xr-var-data'><pre>[8589934592 values with dtype=float32]</pre></div></li><li class='xr-var-item'><div class='xr-var-name'><span>v</span></div><div class='xr-var-dims'>(nnz, nny, nnx)</div><div class='xr-var-dtype'>float32</div><div class='xr-var-preview xr-preview'>...</div><input id='attrs-cc24bf89-23ce-4cf0-9ae2-4fe8cd676e81' class='xr-var-attrs-in' type='checkbox' ><label for='attrs-cc24bf89-23ce-4cf0-9ae2-4fe8cd676e81' title='Show/Hide attributes'><svg class='icon xr-icon-file-text2'><use xlink:href='#icon-file-text2'></use></svg></label><input id='data-d0a9fc86-b53a-40eb-a284-2a5fb089b265' class='xr-var-data-in' type='checkbox'><label for='data-d0a9fc86-b53a-40eb-a284-2a5fb089b265' title='Show/Hide data repr'><svg class='icon xr-icon-database'><use xlink:href='#icon-database'></use></svg></label><div class='xr-var-attrs'><dl class='xr-attrs'><dt><span>Description :</span></dt><dd>Spanwise velocity, v</dd><dt><span>Units :</span></dt><dd>[m/s]</dd></dl></div><div class='xr-var-data'><pre>[8589934592 values with dtype=float32]</pre></div></li><li class='xr-var-item'><div class='xr-var-name'><span>w</span></div><div class='xr-var-dims'>(nnz, nny, nnx)</div><div class='xr-var-dtype'>float32</div><div class='xr-var-preview xr-preview'>...</div><input id='attrs-661c9edd-252e-4249-8f1c-076eb18f4433' class='xr-var-attrs-in' type='checkbox' ><label for='attrs-661c9edd-252e-4249-8f1c-076eb18f4433' title='Show/Hide attributes'><svg class='icon xr-icon-file-text2'><use xlink:href='#icon-file-text2'></use></svg></label><input id='data-9620e656-2f08-471a-9e8c-0e7e9a2c0aeb' class='xr-var-data-in' type='checkbox'><label for='data-9620e656-2f08-471a-9e8c-0e7e9a2c0aeb' title='Show/Hide data repr'><svg class='icon xr-icon-database'><use xlink:href='#icon-database'></use></svg></label><div class='xr-var-attrs'><dl class='xr-attrs'><dt><span>Description :</span></dt><dd>Vertical velocity, w</dd><dt><span>Units :</span></dt><dd>[m/s]</dd></dl></div><div class='xr-var-data'><pre>[8589934592 values with dtype=float32]</pre></div></li><li class='xr-var-item'><div class='xr-var-name'><span>t</span></div><div class='xr-var-dims'>(nnz, nny, nnx)</div><div class='xr-var-dtype'>float32</div><div class='xr-var-preview xr-preview'>...</div><input id='attrs-aa2c9498-d842-4775-a073-a365d745fbb1' class='xr-var-attrs-in' type='checkbox' ><label for='attrs-aa2c9498-d842-4775-a073-a365d745fbb1' title='Show/Hide attributes'><svg class='icon xr-icon-file-text2'><use xlink:href='#icon-file-text2'></use></svg></label><input id='data-d9bdd5b0-b0bc-41a9-a778-65a0e22624ef' class='xr-var-data-in' type='checkbox'><label for='data-d9bdd5b0-b0bc-41a9-a778-65a0e22624ef' title='Show/Hide data repr'><svg class='icon xr-icon-database'><use xlink:href='#icon-database'></use></svg></label><div class='xr-var-attrs'><dl class='xr-attrs'><dt><span>Description :</span></dt><dd>Potential temperature (minus t_ref), t - t_ref</dd><dt><span>Units :</span></dt><dd>[K]</dd></dl></div><div class='xr-var-data'><pre>[8589934592 values with dtype=float32]</pre></div></li><li class='xr-var-item'><div class='xr-var-name'><span>p</span></div><div class='xr-var-dims'>(nnz, nny, nnx)</div><div class='xr-var-dtype'>float32</div><div class='xr-var-preview xr-preview'>...</div><input id='attrs-43644441-c9b0-41e4-a8a2-62d2192ba44b' class='xr-var-attrs-in' type='checkbox' ><label for='attrs-43644441-c9b0-41e4-a8a2-62d2192ba44b' title='Show/Hide attributes'><svg class='icon xr-icon-file-text2'><use xlink:href='#icon-file-text2'></use></svg></label><input id='data-8f9a2ce9-9e57-4bb5-b00a-5ebff46272b6' class='xr-var-data-in' type='checkbox'><label for='data-8f9a2ce9-9e57-4bb5-b00a-5ebff46272b6' title='Show/Hide data repr'><svg class='icon xr-icon-database'><use xlink:href='#icon-database'></use></svg></label><div class='xr-var-attrs'><dl class='xr-attrs'><dt><span>Description :</span></dt><dd>Pressure, p</dd><dt><span>Units :</span></dt><dd>[m^2/s^2]</dd></dl></div><div class='xr-var-data'><pre>[8589934592 values with dtype=float32]</pre></div></li><li class='xr-var-item'><div class='xr-var-name'><span>e</span></div><div class='xr-var-dims'>(nnz, nny, nnx)</div><div class='xr-var-dtype'>float32</div><div class='xr-var-preview xr-preview'>...</div><input id='attrs-c979e311-bc09-4dc8-a23e-5178b2022a95' class='xr-var-attrs-in' type='checkbox' ><label for='attrs-c979e311-bc09-4dc8-a23e-5178b2022a95' title='Show/Hide attributes'><svg class='icon xr-icon-file-text2'><use xlink:href='#icon-file-text2'></use></svg></label><input id='data-054c8e12-331a-484d-8149-37694b4bdd20' class='xr-var-data-in' type='checkbox'><label for='data-054c8e12-331a-484d-8149-37694b4bdd20' title='Show/Hide data repr'><svg class='icon xr-icon-database'><use xlink:href='#icon-database'></use></svg></label><div class='xr-var-attrs'><dl class='xr-attrs'><dt><span>Description :</span></dt><dd>Subfilter-scale energy, e</dd><dt><span>Units :</span></dt><dd>[m^2/s^2]</dd></dl></div><div class='xr-var-data'><pre>[8589934592 values with dtype=float32]</pre></div></li></ul></div></li><li class='xr-section-item'><input id='section-2557b4e4-7804-4933-be96-afbb57278e5e' class='xr-section-summary-in' type='checkbox' disabled ><label for='section-2557b4e4-7804-4933-be96-afbb57278e5e' class='xr-section-summary'  title='Expand/collapse section'>Indexes: <span>(0)</span></label><div class='xr-section-inline-details'></div><div class='xr-section-details'><ul class='xr-var-list'></ul></div></li><li class='xr-section-item'><input id='section-08643964-945d-4c39-942e-60437dce60f5' class='xr-section-summary-in' type='checkbox'  checked><label for='section-08643964-945d-4c39-942e-60437dce60f5' class='xr-section-summary' >Attributes: <span>(6)</span></label><div class='xr-section-inline-details'></div><div class='xr-section-details'><dl class='xr-attrs'><dt><span>Simulation conducted by :</span></dt><dd>Peter Sullivan, pps@ucar.edu</dd><dt><span>Dataset built by :</span></dt><dd>Edward Patton, patton@ucar.edu</dd><dt><span>Affiliation :</span></dt><dd>NCAR/MMM</dd><dt><span>Code :</span></dt><dd>NCAR-LES</dd><dt><span>Case Description :</span></dt><dd>GABLS 1, Cooling Rate: 0.25 K/hr</dd><dt><span>Created :</span></dt><dd>2023-07-08 07:56:23 -0600 UTC</dd></dl></div></li></ul></div></div>"
     },
     "execution_count": 27,
     "metadata": {},
     "output_type": "execute_result"
    }
   ],
   "source": [
    "import xarray as xr\n",
    "\n",
    "data_xr = xr.open_dataset('~/Downloads/jhd.000.nc')\n",
    "data_xr"
   ],
   "metadata": {
    "collapsed": false,
    "ExecuteTime": {
     "end_time": "2023-09-07T20:03:14.790697Z",
     "start_time": "2023-09-07T20:03:14.768495Z"
    }
   }
  },
  {
   "cell_type": "code",
   "execution_count": 28,
   "outputs": [
    {
     "ename": "KeyError",
     "evalue": "'.zgroup'",
     "output_type": "error",
     "traceback": [
      "\u001B[0;31m---------------------------------------------------------------------------\u001B[0m",
      "\u001B[0;31mOSError\u001B[0m                                   Traceback (most recent call last)",
      "File \u001B[0;32m~/anaconda3/envs/zarr/lib/python3.10/site-packages/zarr/storage.py:1109\u001B[0m, in \u001B[0;36mDirectoryStore.__setitem__\u001B[0;34m(self, key, value)\u001B[0m\n\u001B[1;32m   1108\u001B[0m \u001B[38;5;28;01mtry\u001B[39;00m:\n\u001B[0;32m-> 1109\u001B[0m     \u001B[43mos\u001B[49m\u001B[38;5;241;43m.\u001B[39;49m\u001B[43mmakedirs\u001B[49m\u001B[43m(\u001B[49m\u001B[43mdir_path\u001B[49m\u001B[43m)\u001B[49m\n\u001B[1;32m   1110\u001B[0m \u001B[38;5;28;01mexcept\u001B[39;00m \u001B[38;5;167;01mOSError\u001B[39;00m \u001B[38;5;28;01mas\u001B[39;00m e:\n",
      "File \u001B[0;32m~/anaconda3/envs/zarr/lib/python3.10/os.py:215\u001B[0m, in \u001B[0;36mmakedirs\u001B[0;34m(name, mode, exist_ok)\u001B[0m\n\u001B[1;32m    214\u001B[0m \u001B[38;5;28;01mtry\u001B[39;00m:\n\u001B[0;32m--> 215\u001B[0m     \u001B[43mmakedirs\u001B[49m\u001B[43m(\u001B[49m\u001B[43mhead\u001B[49m\u001B[43m,\u001B[49m\u001B[43m \u001B[49m\u001B[43mexist_ok\u001B[49m\u001B[38;5;241;43m=\u001B[39;49m\u001B[43mexist_ok\u001B[49m\u001B[43m)\u001B[49m\n\u001B[1;32m    216\u001B[0m \u001B[38;5;28;01mexcept\u001B[39;00m \u001B[38;5;167;01mFileExistsError\u001B[39;00m:\n\u001B[1;32m    217\u001B[0m     \u001B[38;5;66;03m# Defeats race condition when another thread created the path\u001B[39;00m\n",
      "File \u001B[0;32m~/anaconda3/envs/zarr/lib/python3.10/os.py:215\u001B[0m, in \u001B[0;36mmakedirs\u001B[0;34m(name, mode, exist_ok)\u001B[0m\n\u001B[1;32m    214\u001B[0m \u001B[38;5;28;01mtry\u001B[39;00m:\n\u001B[0;32m--> 215\u001B[0m     \u001B[43mmakedirs\u001B[49m\u001B[43m(\u001B[49m\u001B[43mhead\u001B[49m\u001B[43m,\u001B[49m\u001B[43m \u001B[49m\u001B[43mexist_ok\u001B[49m\u001B[38;5;241;43m=\u001B[39;49m\u001B[43mexist_ok\u001B[49m\u001B[43m)\u001B[49m\n\u001B[1;32m    216\u001B[0m \u001B[38;5;28;01mexcept\u001B[39;00m \u001B[38;5;167;01mFileExistsError\u001B[39;00m:\n\u001B[1;32m    217\u001B[0m     \u001B[38;5;66;03m# Defeats race condition when another thread created the path\u001B[39;00m\n",
      "    \u001B[0;31m[... skipping similar frames: makedirs at line 215 (3 times)]\u001B[0m\n",
      "File \u001B[0;32m~/anaconda3/envs/zarr/lib/python3.10/os.py:215\u001B[0m, in \u001B[0;36mmakedirs\u001B[0;34m(name, mode, exist_ok)\u001B[0m\n\u001B[1;32m    214\u001B[0m \u001B[38;5;28;01mtry\u001B[39;00m:\n\u001B[0;32m--> 215\u001B[0m     \u001B[43mmakedirs\u001B[49m\u001B[43m(\u001B[49m\u001B[43mhead\u001B[49m\u001B[43m,\u001B[49m\u001B[43m \u001B[49m\u001B[43mexist_ok\u001B[49m\u001B[38;5;241;43m=\u001B[39;49m\u001B[43mexist_ok\u001B[49m\u001B[43m)\u001B[49m\n\u001B[1;32m    216\u001B[0m \u001B[38;5;28;01mexcept\u001B[39;00m \u001B[38;5;167;01mFileExistsError\u001B[39;00m:\n\u001B[1;32m    217\u001B[0m     \u001B[38;5;66;03m# Defeats race condition when another thread created the path\u001B[39;00m\n",
      "File \u001B[0;32m~/anaconda3/envs/zarr/lib/python3.10/os.py:225\u001B[0m, in \u001B[0;36mmakedirs\u001B[0;34m(name, mode, exist_ok)\u001B[0m\n\u001B[1;32m    224\u001B[0m \u001B[38;5;28;01mtry\u001B[39;00m:\n\u001B[0;32m--> 225\u001B[0m     \u001B[43mmkdir\u001B[49m\u001B[43m(\u001B[49m\u001B[43mname\u001B[49m\u001B[43m,\u001B[49m\u001B[43m \u001B[49m\u001B[43mmode\u001B[49m\u001B[43m)\u001B[49m\n\u001B[1;32m    226\u001B[0m \u001B[38;5;28;01mexcept\u001B[39;00m \u001B[38;5;167;01mOSError\u001B[39;00m:\n\u001B[1;32m    227\u001B[0m     \u001B[38;5;66;03m# Cannot rely on checking for EEXIST, since the operating system\u001B[39;00m\n\u001B[1;32m    228\u001B[0m     \u001B[38;5;66;03m# could give priority to other errors like EACCES or EROFS\u001B[39;00m\n",
      "\u001B[0;31mOSError\u001B[0m: [Errno 45] Operation not supported: '/home/idies'",
      "\nDuring handling of the above exception, another exception occurred:\n",
      "\u001B[0;31mKeyError\u001B[0m                                  Traceback (most recent call last)",
      "Cell \u001B[0;32mIn[28], line 1\u001B[0m\n\u001B[0;32m----> 1\u001B[0m t \u001B[38;5;241m=\u001B[39m \u001B[43mzarr\u001B[49m\u001B[38;5;241;43m.\u001B[39;49m\u001B[43mopen_group\u001B[49m\u001B[43m(\u001B[49m\u001B[43mdests\u001B[49m\u001B[43m[\u001B[49m\u001B[38;5;241;43m0\u001B[39;49m\u001B[43m]\u001B[49m\u001B[43m,\u001B[49m\u001B[43m \u001B[49m\u001B[43mmode\u001B[49m\u001B[38;5;241;43m=\u001B[39;49m\u001B[38;5;124;43m'\u001B[39;49m\u001B[38;5;124;43ma\u001B[39;49m\u001B[38;5;124;43m'\u001B[39;49m\u001B[43m)\u001B[49m\n\u001B[1;32m      2\u001B[0m t\u001B[38;5;241m.\u001B[39minfo\n",
      "File \u001B[0;32m~/anaconda3/envs/zarr/lib/python3.10/site-packages/zarr/hierarchy.py:1452\u001B[0m, in \u001B[0;36mopen_group\u001B[0;34m(store, mode, cache_attrs, synchronizer, path, chunk_store, storage_options, zarr_version, meta_array)\u001B[0m\n\u001B[1;32m   1450\u001B[0m         \u001B[38;5;28;01mif\u001B[39;00m contains_array(store, path\u001B[38;5;241m=\u001B[39mpath):\n\u001B[1;32m   1451\u001B[0m             \u001B[38;5;28;01mraise\u001B[39;00m ContainsArrayError(path)\n\u001B[0;32m-> 1452\u001B[0m         \u001B[43minit_group\u001B[49m\u001B[43m(\u001B[49m\u001B[43mstore\u001B[49m\u001B[43m,\u001B[49m\u001B[43m \u001B[49m\u001B[43mpath\u001B[49m\u001B[38;5;241;43m=\u001B[39;49m\u001B[43mpath\u001B[49m\u001B[43m,\u001B[49m\u001B[43m \u001B[49m\u001B[43mchunk_store\u001B[49m\u001B[38;5;241;43m=\u001B[39;49m\u001B[43mchunk_store\u001B[49m\u001B[43m)\u001B[49m\n\u001B[1;32m   1454\u001B[0m \u001B[38;5;28;01melif\u001B[39;00m mode \u001B[38;5;129;01min\u001B[39;00m [\u001B[38;5;124m'\u001B[39m\u001B[38;5;124mw-\u001B[39m\u001B[38;5;124m'\u001B[39m, \u001B[38;5;124m'\u001B[39m\u001B[38;5;124mx\u001B[39m\u001B[38;5;124m'\u001B[39m]:\n\u001B[1;32m   1455\u001B[0m     \u001B[38;5;28;01mif\u001B[39;00m contains_array(store, path\u001B[38;5;241m=\u001B[39mpath):\n",
      "File \u001B[0;32m~/anaconda3/envs/zarr/lib/python3.10/site-packages/zarr/storage.py:649\u001B[0m, in \u001B[0;36minit_group\u001B[0;34m(store, overwrite, path, chunk_store)\u001B[0m\n\u001B[1;32m    646\u001B[0m     store[\u001B[38;5;124m'\u001B[39m\u001B[38;5;124mzarr.json\u001B[39m\u001B[38;5;124m'\u001B[39m] \u001B[38;5;241m=\u001B[39m store\u001B[38;5;241m.\u001B[39m_metadata_class\u001B[38;5;241m.\u001B[39mencode_hierarchy_metadata(\u001B[38;5;28;01mNone\u001B[39;00m)  \u001B[38;5;66;03m# type: ignore\u001B[39;00m\n\u001B[1;32m    648\u001B[0m \u001B[38;5;66;03m# initialise metadata\u001B[39;00m\n\u001B[0;32m--> 649\u001B[0m \u001B[43m_init_group_metadata\u001B[49m\u001B[43m(\u001B[49m\u001B[43mstore\u001B[49m\u001B[38;5;241;43m=\u001B[39;49m\u001B[43mstore\u001B[49m\u001B[43m,\u001B[49m\u001B[43m \u001B[49m\u001B[43moverwrite\u001B[49m\u001B[38;5;241;43m=\u001B[39;49m\u001B[43moverwrite\u001B[49m\u001B[43m,\u001B[49m\u001B[43m \u001B[49m\u001B[43mpath\u001B[49m\u001B[38;5;241;43m=\u001B[39;49m\u001B[43mpath\u001B[49m\u001B[43m,\u001B[49m\n\u001B[1;32m    650\u001B[0m \u001B[43m                     \u001B[49m\u001B[43mchunk_store\u001B[49m\u001B[38;5;241;43m=\u001B[39;49m\u001B[43mchunk_store\u001B[49m\u001B[43m)\u001B[49m\n\u001B[1;32m    652\u001B[0m \u001B[38;5;28;01mif\u001B[39;00m store_version \u001B[38;5;241m==\u001B[39m \u001B[38;5;241m3\u001B[39m:\n\u001B[1;32m    653\u001B[0m     \u001B[38;5;66;03m# TODO: Should initializing a v3 group also create a corresponding\u001B[39;00m\n\u001B[1;32m    654\u001B[0m     \u001B[38;5;66;03m#       empty folder under data/root/? I think probably not until there\u001B[39;00m\n\u001B[1;32m    655\u001B[0m     \u001B[38;5;66;03m#       is actual data written there.\u001B[39;00m\n\u001B[1;32m    656\u001B[0m     \u001B[38;5;28;01mpass\u001B[39;00m\n",
      "File \u001B[0;32m~/anaconda3/envs/zarr/lib/python3.10/site-packages/zarr/storage.py:712\u001B[0m, in \u001B[0;36m_init_group_metadata\u001B[0;34m(store, overwrite, path, chunk_store)\u001B[0m\n\u001B[1;32m    710\u001B[0m key \u001B[38;5;241m=\u001B[39m _prefix_to_group_key(store, _path_to_prefix(path))\n\u001B[1;32m    711\u001B[0m \u001B[38;5;28;01mif\u001B[39;00m \u001B[38;5;28mhasattr\u001B[39m(store, \u001B[38;5;124m'\u001B[39m\u001B[38;5;124m_metadata_class\u001B[39m\u001B[38;5;124m'\u001B[39m):\n\u001B[0;32m--> 712\u001B[0m     store[key] \u001B[38;5;241m=\u001B[39m store\u001B[38;5;241m.\u001B[39m_metadata_class\u001B[38;5;241m.\u001B[39mencode_group_metadata(meta)  \u001B[38;5;66;03m# type: ignore\u001B[39;00m\n\u001B[1;32m    713\u001B[0m \u001B[38;5;28;01melse\u001B[39;00m:\n\u001B[1;32m    714\u001B[0m     store[key] \u001B[38;5;241m=\u001B[39m encode_group_metadata(meta)\n",
      "File \u001B[0;32m~/anaconda3/envs/zarr/lib/python3.10/site-packages/zarr/storage.py:1112\u001B[0m, in \u001B[0;36mDirectoryStore.__setitem__\u001B[0;34m(self, key, value)\u001B[0m\n\u001B[1;32m   1110\u001B[0m     \u001B[38;5;28;01mexcept\u001B[39;00m \u001B[38;5;167;01mOSError\u001B[39;00m \u001B[38;5;28;01mas\u001B[39;00m e:\n\u001B[1;32m   1111\u001B[0m         \u001B[38;5;28;01mif\u001B[39;00m e\u001B[38;5;241m.\u001B[39merrno \u001B[38;5;241m!=\u001B[39m errno\u001B[38;5;241m.\u001B[39mEEXIST:\n\u001B[0;32m-> 1112\u001B[0m             \u001B[38;5;28;01mraise\u001B[39;00m \u001B[38;5;167;01mKeyError\u001B[39;00m(key)\n\u001B[1;32m   1114\u001B[0m \u001B[38;5;66;03m# write to temporary file\u001B[39;00m\n\u001B[1;32m   1115\u001B[0m \u001B[38;5;66;03m# note we're not using tempfile.NamedTemporaryFile to avoid restrictive file permissions\u001B[39;00m\n\u001B[1;32m   1116\u001B[0m temp_name \u001B[38;5;241m=\u001B[39m file_name \u001B[38;5;241m+\u001B[39m \u001B[38;5;124m'\u001B[39m\u001B[38;5;124m.\u001B[39m\u001B[38;5;124m'\u001B[39m \u001B[38;5;241m+\u001B[39m uuid\u001B[38;5;241m.\u001B[39muuid4()\u001B[38;5;241m.\u001B[39mhex \u001B[38;5;241m+\u001B[39m \u001B[38;5;124m'\u001B[39m\u001B[38;5;124m.partial\u001B[39m\u001B[38;5;124m'\u001B[39m\n",
      "\u001B[0;31mKeyError\u001B[0m: '.zgroup'"
     ]
    }
   ],
   "source": [
    "t = zarr.open_group(dests[0], mode='a')\n",
    "t.info"
   ],
   "metadata": {
    "collapsed": false,
    "ExecuteTime": {
     "end_time": "2023-09-07T20:03:34.061021Z",
     "start_time": "2023-09-07T20:03:33.700690Z"
    }
   }
  },
  {
   "cell_type": "code",
   "execution_count": null,
   "outputs": [],
   "source": [
    "curr_arr = t[chosen_var][...]\n",
    "curr_arr.shape"
   ],
   "metadata": {
    "collapsed": false,
    "ExecuteTime": {
     "start_time": "2023-09-07T20:00:45.203254Z"
    }
   }
  },
  {
   "cell_type": "code",
   "execution_count": null,
   "outputs": [],
   "source": [
    "reshaped_data = curr_arr.reshape(curr_arr.shape + (1,))\n",
    "reshaped_data.shape"
   ],
   "metadata": {
    "collapsed": false,
    "ExecuteTime": {
     "start_time": "2023-09-07T20:00:45.206242Z"
    }
   }
  },
  {
   "cell_type": "code",
   "execution_count": null,
   "outputs": [],
   "source": [
    "del t[chosen_var]"
   ],
   "metadata": {
    "collapsed": false,
    "ExecuteTime": {
     "start_time": "2023-09-07T20:00:45.221092Z"
    }
   }
  },
  {
   "cell_type": "code",
   "execution_count": null,
   "outputs": [],
   "source": [
    "t.create_dataset(chosen_var, data=reshaped_data, chunks=(64, 64, 64, 1), compressor=None)"
   ],
   "metadata": {
    "collapsed": false,
    "ExecuteTime": {
     "start_time": "2023-09-07T20:00:45.221746Z"
    }
   }
  }
 ],
 "metadata": {
  "kernelspec": {
   "display_name": "Python 3",
   "language": "python",
   "name": "python3"
  },
  "language_info": {
   "codemirror_mode": {
    "name": "ipython",
    "version": 2
   },
   "file_extension": ".py",
   "mimetype": "text/x-python",
   "name": "python",
   "nbconvert_exporter": "python",
   "pygments_lexer": "ipython2",
   "version": "2.7.6"
  }
 },
 "nbformat": 4,
 "nbformat_minor": 0
}
