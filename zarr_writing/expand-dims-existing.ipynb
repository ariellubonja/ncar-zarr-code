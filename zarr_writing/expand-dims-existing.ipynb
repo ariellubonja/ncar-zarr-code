{
 "cells": [
  {
   "cell_type": "code",
   "execution_count": null,
   "outputs": [],
   "source": [
    "%cd /home/idies/workspace/Storage/ariel4/persistent/ncar-zarr-code/zarr_writing"
   ],
   "metadata": {
    "collapsed": false
   }
  },
  {
   "cell_type": "code",
   "execution_count": 1,
   "metadata": {
    "ExecuteTime": {
     "end_time": "2023-09-07T20:00:45.115756Z",
     "start_time": "2023-09-07T20:00:45.097882Z"
    },
    "execution": {
     "iopub.execute_input": "2023-09-07T20:07:32.851662Z",
     "iopub.status.busy": "2023-09-07T20:07:32.850989Z",
     "iopub.status.idle": "2023-09-07T20:07:38.027337Z",
     "shell.execute_reply": "2023-09-07T20:07:38.025428Z",
     "shell.execute_reply.started": "2023-09-07T20:07:32.851512Z"
    }
   },
   "outputs": [],
   "source": [
    "import os\n",
    "from utils import write_tools\n",
    "import zarr\n",
    "import dask\n",
    "from dask.distributed import Client\n",
    "\n",
    "\n",
    "array_cube_side = 2048\n",
    "desired_cube_side = 512\n",
    "chunk_size = 64\n",
    "raw_ncar_folder_path = '/home/idies/workspace/turb/data02_02/ncar-high-rate-fixed-dt'\n",
    "use_dask = True\n",
    "dest_folder_name = \"sabl2048b\" # B is the high-rate data\n",
    "write_type = \"prod\" # or \"back\" for backup\n",
    "\n",
    "n_dask_workers = 16 # For Dask rechunking\n",
    "\n",
    "# Kernel dies with Sciserver large jobs resources as of Aug 2023. Out of memory IMO\n",
    "num_threads = 8  # For writing to FileDB\n",
    "dask_local_dir = '/home/idies/workspace/turb/data02_02'\n",
    "\n",
    "timestep_nr = 3"
   ]
  },
  {
   "cell_type": "code",
   "execution_count": null,
   "outputs": [],
   "source": [
    "%cd /home/idies/workspace/turb/data02_02/ncar-high-rate-fixed-dt"
   ],
   "metadata": {
    "collapsed": false
   }
  },
  {
   "cell_type": "code",
   "execution_count": 2,
   "metadata": {
    "ExecuteTime": {
     "end_time": "2023-09-07T20:00:45.135007Z",
     "start_time": "2023-09-07T20:00:45.100982Z"
    },
    "collapsed": false,
    "execution": {
     "iopub.execute_input": "2023-09-07T20:07:38.031162Z",
     "iopub.status.busy": "2023-09-07T20:07:38.030718Z",
     "iopub.status.idle": "2023-09-07T20:07:38.043248Z",
     "shell.execute_reply": "2023-09-07T20:07:38.041376Z",
     "shell.execute_reply.started": "2023-09-07T20:07:38.031115Z"
    },
    "jupyter": {
     "outputs_hidden": false
    }
   },
   "outputs": [],
   "source": [
    "folders=write_tools.list_fileDB_folders()\n",
    "\n",
    "# Avoiding 7-2 and 9-2 - they're too full as of May 2023\n",
    "folders.remove(\"/home/idies/workspace/turb/data09_02/zarr/\")\n",
    "folders.remove(\"/home/idies/workspace/turb/data07_02/zarr/\")\n",
    "\n",
    "for i in range(len(folders)):\n",
    "    folders[i] += dest_folder_name + \"_\" + str(i + 1).zfill(2) + \"_\" + write_type + \"/\""
   ]
  },
  {
   "cell_type": "code",
   "execution_count": 3,
   "metadata": {
    "ExecuteTime": {
     "end_time": "2023-09-07T20:00:45.136960Z",
     "start_time": "2023-09-07T20:00:45.109048Z"
    },
    "collapsed": false,
    "execution": {
     "iopub.execute_input": "2023-09-07T20:07:38.045281Z",
     "iopub.status.busy": "2023-09-07T20:07:38.044874Z",
     "iopub.status.idle": "2023-09-07T20:07:38.057361Z",
     "shell.execute_reply": "2023-09-07T20:07:38.055844Z",
     "shell.execute_reply.started": "2023-09-07T20:07:38.045240Z"
    },
    "jupyter": {
     "outputs_hidden": false
    }
   },
   "outputs": [],
   "source": [
    "range_list = [] # Where chunks start and end. Needed for Mike's code to find correct chunks to access\n",
    "smaller_size = 512\n",
    "outer_dim = []\n",
    "\n",
    "for i in range(4):\n",
    "    mid_dim = []\n",
    "    for j in range(4):\n",
    "        inner_dim = []\n",
    "\n",
    "        for k in range(4):\n",
    "            a = []\n",
    "            a.append([i * smaller_size, (i + 1) * smaller_size])\n",
    "            a.append([j * smaller_size, (j + 1) * smaller_size])\n",
    "            a.append([k * smaller_size, (k + 1) * smaller_size])\n",
    "\n",
    "            range_list.append(a)\n",
    "\n",
    "        mid_dim.append(inner_dim)\n",
    "\n",
    "    outer_dim.append(mid_dim)"
   ]
  },
  {
   "cell_type": "code",
   "execution_count": 4,
   "metadata": {
    "ExecuteTime": {
     "end_time": "2023-09-07T20:00:45.139232Z",
     "start_time": "2023-09-07T20:00:45.118034Z"
    },
    "collapsed": false,
    "execution": {
     "iopub.execute_input": "2023-09-07T20:07:38.059569Z",
     "iopub.status.busy": "2023-09-07T20:07:38.059181Z",
     "iopub.status.idle": "2023-09-07T20:07:38.092941Z",
     "shell.execute_reply": "2023-09-07T20:07:38.091313Z",
     "shell.execute_reply.started": "2023-09-07T20:07:38.059527Z"
    },
    "jupyter": {
     "outputs_hidden": false
    }
   },
   "outputs": [],
   "source": [
    "chunk_morton_mapping = write_tools.get_chunk_morton_mapping(range_list, dest_folder_name)\n",
    "flattened_node_assgn = write_tools.flatten_3d_list(write_tools.node_assignment(4))"
   ]
  },
  {
   "cell_type": "code",
   "execution_count": 5,
   "metadata": {
    "ExecuteTime": {
     "end_time": "2023-09-07T20:00:45.139604Z",
     "start_time": "2023-09-07T20:00:45.127569Z"
    },
    "collapsed": false,
    "execution": {
     "iopub.execute_input": "2023-09-07T20:07:38.096812Z",
     "iopub.status.busy": "2023-09-07T20:07:38.096427Z",
     "iopub.status.idle": "2023-09-07T20:07:38.118324Z",
     "shell.execute_reply": "2023-09-07T20:07:38.116759Z",
     "shell.execute_reply.started": "2023-09-07T20:07:38.096770Z"
    },
    "jupyter": {
     "outputs_hidden": false
    }
   },
   "outputs": [],
   "source": [
    "dests = []\n",
    "\n",
    "for i in range(len(range_list)):\n",
    "#     for j in range(4):\n",
    "#         for k in range(4):\n",
    "    min_coord = [a[0] for a in range_list[i]]\n",
    "    max_coord = [a[1] - 1 for a in range_list[i]]\n",
    "\n",
    "    morton = (write_tools.morton_pack(array_cube_side, min_coord[2], min_coord[1], min_coord[0]), write_tools.morton_pack(array_cube_side, max_coord[2], max_coord[1], max_coord[0]))\n",
    "\n",
    "    chunk_name = write_tools.search_dict_by_value(chunk_morton_mapping, morton)\n",
    "\n",
    "    idx = int(chunk_name[-2:].lstrip('0'))\n",
    "\n",
    "    filedb_index = flattened_node_assgn[idx - 1] - 1\n",
    "\n",
    "    destination = os.path.join(folders[filedb_index], dest_folder_name + str(idx).zfill(2) + \"_\" + str(timestep_nr).zfill(3) + \".zarr\")\n",
    "\n",
    "    dests.append(destination)"
   ]
  },
  {
   "cell_type": "code",
   "execution_count": 23,
   "metadata": {
    "ExecuteTime": {
     "end_time": "2023-09-07T20:00:45.147002Z",
     "start_time": "2023-09-07T20:00:45.133131Z"
    },
    "collapsed": false,
    "execution": {
     "iopub.execute_input": "2023-09-07T20:21:09.872153Z",
     "iopub.status.busy": "2023-09-07T20:21:09.871553Z",
     "iopub.status.idle": "2023-09-07T20:21:09.905475Z",
     "shell.execute_reply": "2023-09-07T20:21:09.904137Z",
     "shell.execute_reply.started": "2023-09-07T20:21:09.872100Z"
    },
    "jupyter": {
     "outputs_hidden": false
    },
    "scrolled": true,
    "tags": []
   },
   "outputs": [
    {
     "data": {
      "text/plain": [
       "['/home/idies/workspace/turb/data01_01/zarr/sabl2048b_01_prod/sabl2048b01_003.zarr',\n",
       " '/home/idies/workspace/turb/data02_01/zarr/sabl2048b_02_prod/sabl2048b02_003.zarr',\n",
       " '/home/idies/workspace/turb/data09_01/zarr/sabl2048b_09_prod/sabl2048b09_003.zarr',\n",
       " '/home/idies/workspace/turb/data10_01/zarr/sabl2048b_10_prod/sabl2048b10_003.zarr',\n",
       " '/home/idies/workspace/turb/data03_01/zarr/sabl2048b_03_prod/sabl2048b03_003.zarr',\n",
       " '/home/idies/workspace/turb/data04_01/zarr/sabl2048b_04_prod/sabl2048b04_003.zarr',\n",
       " '/home/idies/workspace/turb/data11_01/zarr/sabl2048b_11_prod/sabl2048b11_003.zarr',\n",
       " '/home/idies/workspace/turb/data12_01/zarr/sabl2048b_12_prod/sabl2048b12_003.zarr',\n",
       " '/home/idies/workspace/turb/data05_02/zarr/sabl2048b_17_prod/sabl2048b17_003.zarr',\n",
       " '/home/idies/workspace/turb/data06_02/zarr/sabl2048b_18_prod/sabl2048b18_003.zarr']"
      ]
     },
     "execution_count": 23,
     "metadata": {},
     "output_type": "execute_result"
    }
   ],
   "source": [
    "dests[:10]"
   ]
  },
  {
   "cell_type": "code",
   "execution_count": 21,
   "metadata": {
    "execution": {
     "iopub.execute_input": "2023-09-07T20:20:13.215582Z",
     "iopub.status.busy": "2023-09-07T20:20:13.214857Z",
     "iopub.status.idle": "2023-09-07T20:20:13.234229Z",
     "shell.execute_reply": "2023-09-07T20:20:13.232470Z",
     "shell.execute_reply.started": "2023-09-07T20:20:13.215531Z"
    }
   },
   "outputs": [],
   "source": [
    "vars = list(zarr.open_group(dests[0]).array_keys())\n",
    "vars.remove('velocity')\n",
    "\n",
    "\n",
    "def expand_existing_dims(zarr_path):\n",
    "    zarr_group_512 = zarr.open_group(zarr_path, mode='a')\n",
    "    \n",
    "    for chosen_var in vars:\n",
    "        curr_arr = zarr_group_512[chosen_var][...]\n",
    "        if len(curr_arr.shape) == 3: # Skip if array already has 4 dimensions, somehow\n",
    "            reshaped_data = curr_arr.reshape(zarr_group_512.shape + (1,))\n",
    "            del curr_arr[chosen_var]\n",
    "            curr_arr.create_dataset(chosen_var, data=reshaped_data, chunks=(64, 64, 64, 1), compressor=None)\n",
    "    "
   ]
  },
  {
   "cell_type": "code",
   "execution_count": null,
   "metadata": {},
   "outputs": [],
   "source": [
    "client = Client(n_workers=n_dask_workers, local_directory=dask_local_dir, processes=True)\n",
    "\n",
    "tasks = [dask.delayed(expand_existing_dims)(path) for path in dests]\n",
    "\n",
    "\n",
    "dask.compute(*tasks)\n",
    "\n",
    "client.close()"
   ]
  }
 ],
 "metadata": {
  "kernelspec": {
   "display_name": "Python 3.9 (py39)",
   "language": "python",
   "name": "py39"
  },
  "language_info": {
   "codemirror_mode": {
    "name": "ipython",
    "version": 3
   },
   "file_extension": ".py",
   "mimetype": "text/x-python",
   "name": "python",
   "nbconvert_exporter": "python",
   "pygments_lexer": "ipython3",
   "version": "3.9.7"
  }
 },
 "nbformat": 4,
 "nbformat_minor": 4
}
