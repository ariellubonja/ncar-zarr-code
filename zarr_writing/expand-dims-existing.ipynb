{
 "cells": [
  {
   "cell_type": "code",
   "execution_count": null,
   "metadata": {
    "collapsed": false,
    "jupyter": {
     "outputs_hidden": false
    }
   },
   "outputs": [],
   "source": [
    "%cd /home/idies/workspace/Storage/ariel4/persistent/ncar-zarr-code/zarr_writing"
   ]
  },
  {
   "cell_type": "code",
   "execution_count": null,
   "metadata": {},
   "outputs": [],
   "source": [
    "import os\n",
    "from utils import write_tools\n",
    "import zarr\n",
    "import dask\n",
    "from dask.distributed import Client\n",
    "\n",
    "\n",
    "array_cube_side = 2048\n",
    "desired_cube_side = 512\n",
    "chunk_size = 64\n",
    "raw_ncar_folder_path = '/home/idies/workspace/turb/data02_02/ncar-high-rate-fixed-dt'\n",
    "use_dask = True\n",
    "dest_folder_name = \"sabl2048b\" # B is the high-rate data\n",
    "write_type = \"prod\" # or \"back\" for backup\n",
    "\n",
    "n_dask_workers = 16 # For Dask rechunking\n",
    "\n",
    "# Kernel dies with Sciserver large jobs resources as of Aug 2023. Out of memory IMO\n",
    "num_threads = 8  # For writing to FileDB\n",
    "dask_local_dir = '/home/idies/workspace/turb/data02_02'\n",
    "\n",
    "timestep_nr = 3"
   ]
  },
  {
   "cell_type": "code",
   "execution_count": null,
   "metadata": {
    "collapsed": false,
    "jupyter": {
     "outputs_hidden": false
    }
   },
   "outputs": [],
   "source": [
    "%cd /home/idies/workspace/turb/data02_02/ncar-high-rate-fixed-dt"
   ]
  },
  {
   "cell_type": "code",
   "execution_count": null,
   "metadata": {
    "collapsed": false,
    "jupyter": {
     "outputs_hidden": false
    }
   },
   "outputs": [],
   "source": [
    "folders=write_tools.list_fileDB_folders()\n",
    "\n",
    "# Avoiding 7-2 and 9-2 - they're too full as of May 2023\n",
    "folders.remove(\"/home/idies/workspace/turb/data09_02/zarr/\")\n",
    "folders.remove(\"/home/idies/workspace/turb/data07_02/zarr/\")\n",
    "\n",
    "for i in range(len(folders)):\n",
    "    folders[i] += dest_folder_name + \"_\" + str(i + 1).zfill(2) + \"_\" + write_type + \"/\""
   ]
  },
  {
   "cell_type": "code",
   "execution_count": null,
   "metadata": {
    "collapsed": false,
    "jupyter": {
     "outputs_hidden": false
    }
   },
   "outputs": [],
   "source": [
    "range_list = [] # Where chunks start and end. Needed for Mike's code to find correct chunks to access\n",
    "smaller_size = 512\n",
    "outer_dim = []\n",
    "\n",
    "for i in range(4):\n",
    "    mid_dim = []\n",
    "    for j in range(4):\n",
    "        inner_dim = []\n",
    "\n",
    "        for k in range(4):\n",
    "            a = []\n",
    "            a.append([i * smaller_size, (i + 1) * smaller_size])\n",
    "            a.append([j * smaller_size, (j + 1) * smaller_size])\n",
    "            a.append([k * smaller_size, (k + 1) * smaller_size])\n",
    "\n",
    "            range_list.append(a)\n",
    "\n",
    "        mid_dim.append(inner_dim)\n",
    "\n",
    "    outer_dim.append(mid_dim)"
   ]
  },
  {
   "cell_type": "code",
   "execution_count": null,
   "metadata": {
    "collapsed": false,
    "jupyter": {
     "outputs_hidden": false
    }
   },
   "outputs": [],
   "source": [
    "chunk_morton_mapping = write_tools.get_chunk_morton_mapping(range_list, dest_folder_name)\n",
    "flattened_node_assgn = write_tools.flatten_3d_list(write_tools.node_assignment(4))"
   ]
  },
  {
   "cell_type": "code",
   "execution_count": null,
   "metadata": {
    "collapsed": false,
    "jupyter": {
     "outputs_hidden": false
    }
   },
   "outputs": [],
   "source": [
    "dests = []\n",
    "\n",
    "for i in range(len(range_list)):\n",
    "#     for j in range(4):\n",
    "#         for k in range(4):\n",
    "    min_coord = [a[0] for a in range_list[i]]\n",
    "    max_coord = [a[1] - 1 for a in range_list[i]]\n",
    "\n",
    "    morton = (write_tools.morton_pack(array_cube_side, min_coord[2], min_coord[1], min_coord[0]), write_tools.morton_pack(array_cube_side, max_coord[2], max_coord[1], max_coord[0]))\n",
    "\n",
    "    chunk_name = write_tools.search_dict_by_value(chunk_morton_mapping, morton)\n",
    "\n",
    "    idx = int(chunk_name[-2:].lstrip('0'))\n",
    "\n",
    "    filedb_index = flattened_node_assgn[idx - 1] - 1\n",
    "\n",
    "    destination = os.path.join(folders[filedb_index], dest_folder_name + str(idx).zfill(2) + \"_\" + str(timestep_nr).zfill(3) + \".zarr\")\n",
    "\n",
    "    dests.append(destination)"
   ]
  },
  {
   "cell_type": "code",
   "execution_count": null,
   "metadata": {
    "collapsed": false,
    "jupyter": {
     "outputs_hidden": false
    },
    "scrolled": true,
    "tags": []
   },
   "outputs": [],
   "source": [
    "dests[:10]"
   ]
  },
  {
   "cell_type": "code",
   "execution_count": null,
   "metadata": {},
   "outputs": [],
   "source": [
    "vars = list(zarr.open_group(dests[0]).array_keys())\n",
    "vars.remove('velocity')\n",
    "\n",
    "\n",
    "def expand_existing_dims(zarr_path):\n",
    "    zarr_group_512 = zarr.open_group(zarr_path, mode='a')\n",
    "    \n",
    "    for chosen_var in vars:\n",
    "        curr_arr = curr_arr[chosen_var][...]\n",
    "        if len(curr_arr.shape) == 3: # Skip if array already has 4 dimensions, somehow\n",
    "            reshaped_data = curr_arr.reshape(curr_arr.shape + (1,))\n",
    "            del zarr_group_512[chosen_var]\n",
    "            zarr_group_512.create_dataset(chosen_var, data=reshaped_data, chunks=(64, 64, 64, 1), compressor=None)\n",
    "    "
   ]
  },
  {
   "cell_type": "code",
   "execution_count": null,
   "metadata": {},
   "outputs": [],
   "source": [
    "client = Client(n_workers=n_dask_workers, local_directory=dask_local_dir, processes=True)\n",
    "\n",
    "tasks = [dask.delayed(expand_existing_dims)(path) for path in dests]\n",
    "\n",
    "\n",
    "dask.compute(*tasks)\n",
    "\n",
    "client.close()"
   ]
  }
 ],
 "metadata": {
  "kernelspec": {
   "display_name": "Python 3.8 (py38)",
   "language": "python",
   "name": "py38"
  },
  "language_info": {
   "codemirror_mode": {
    "name": "ipython",
    "version": 3
   },
   "file_extension": ".py",
   "mimetype": "text/x-python",
   "name": "python",
   "nbconvert_exporter": "python",
   "pygments_lexer": "ipython3",
   "version": "3.8.5"
  }
 },
 "nbformat": 4,
 "nbformat_minor": 4
}
