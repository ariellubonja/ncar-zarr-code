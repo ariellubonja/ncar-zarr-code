{
 "cells": [
  {
   "attachments": {},
   "cell_type": "markdown",
   "metadata": {},
   "source": [
    "## Convert all netCDF NCAR timestep files to Zarr 512 arrays, with Grouped Velocity components, with (64,64,64) chunk size, round-robined across FileDB nodes (spatially using Z-order)"
   ]
  },
  {
   "attachments": {},
   "cell_type": "markdown",
   "metadata": {},
   "source": [
    "<font color=\"red\">Old Dask version gives this error https://github.com/dask/distributed/issues/3955</font>"
   ]
  },
  {
   "cell_type": "code",
   "execution_count": 3,
   "metadata": {},
   "outputs": [],
   "source": [
    "desired_cube_side = 512\n",
    "chunk_size = 64\n",
    "raw_ncar_folder_path = '/home/idies/workspace/turb/data02_02/ariel-6-timestep-ncar-netCDF'\n",
    "use_dask = False # Has issues on SciServer Compute\n",
    "dest_folder_name = \"sabl2048a\"\n",
    "# timestep_nr = 1\n",
    "timestep_range = range(5) # Ned's new High-rate fixed-dt has only 5 timesteps"
   ]
  },
  {
   "cell_type": "code",
   "execution_count": null,
   "metadata": {
    "scrolled": true,
    "tags": []
   },
   "outputs": [],
   "source": [
    "!pip install \"dask[complete]\"\n",
    "!pip install \"xarray[complete]\"\n",
    "!pip install morton-py"
   ]
  },
  {
   "cell_type": "code",
   "execution_count": 4,
   "metadata": {},
   "outputs": [
    {
     "name": "stdout",
     "output_type": "stream",
     "text": [
      "/home/idies/workspace/Storage/ariel4/persistent/ncar-zarr-code/zarr_writing\n"
     ]
    }
   ],
   "source": [
    "%cd /home/idies/workspace/Storage/ariel4/persistent/ncar-zarr-code/zarr_writing"
   ]
  },
  {
   "cell_type": "code",
   "execution_count": 5,
   "metadata": {},
   "outputs": [],
   "source": [
    "import xarray as xr\n",
    "import write_tools\n",
    "import dask"
   ]
  },
  {
   "attachments": {},
   "cell_type": "markdown",
   "metadata": {},
   "source": [
    "### Get target Folder list"
   ]
  },
  {
   "cell_type": "code",
   "execution_count": null,
   "metadata": {},
   "outputs": [],
   "source": [
    "folders=write_tools.list_fileDB_folders()\n",
    "\n",
    "# Avoiding 7-2 and 9-2 - they're too full as of May 2023\n",
    "folders.remove(\"/home/idies/workspace/turb/data09_02/zarr/\")\n",
    "folders.remove(\"/home/idies/workspace/turb/data07_02/zarr/\")\n",
    "\n",
    "for i in range(len(folders)):\n",
    "    folders[i] += dest_folder_name + \"_\" + str(i + 1).zfill(2) + \"_prod/\"\n",
    "\n",
    "\n",
    "# Create top-level dirs\n",
    "\n",
    "# for folder_path in folders:\n",
    "#     os.makedirs(folder_path, exist_ok=False)"
   ]
  },
  {
   "attachments": {},
   "cell_type": "markdown",
   "metadata": {},
   "source": [
    "<font color=\"orange\">Don't delete the CD cell!</font>"
   ]
  },
  {
   "cell_type": "code",
   "execution_count": 4,
   "metadata": {},
   "outputs": [
    {
     "name": "stdout",
     "output_type": "stream",
     "text": [
      "/home/idies/workspace/turb/data02_02/ariel-6-timestep-ncar-netCDF\n"
     ]
    }
   ],
   "source": [
    "%cd /home/idies/workspace/turb/data02_02/ariel-6-timestep-ncar-netCDF"
   ]
  },
  {
   "cell_type": "code",
   "execution_count": 9,
   "metadata": {},
   "outputs": [
    {
     "data": {
      "text/plain": [
       "['c', 'b', 'a']"
      ]
     },
     "execution_count": 9,
     "metadata": {},
     "output_type": "execute_result"
    }
   ],
   "source": [
    "a = ['a', 'b', 'c']\n",
    "a.reverse()\n",
    "a"
   ]
  },
  {
   "cell_type": "code",
   "execution_count": 5,
   "metadata": {},
   "outputs": [],
   "source": [
    "for timestep_nr in timestep_range:\n",
    "    data_xr = xr.open_dataset(\"/home/idies/workspace/turb/data02_02/ariel-6-timestep-ncar-netCDF/jhd.00\" + str(timestep_nr) + \".nc\")\n",
    "    \n",
    "    # Group 3 velocity components together\n",
    "    # This fails with Dask bcs. of write permission error on SciServer Job\n",
    "    merged_velocity = write_tools.merge_velocities(data_xr, chunk_size_base=chunk_size, use_dask=False)\n",
    "    \n",
    "    # Unabbreviate 'e', 'p', 't' variable names\n",
    "    merged_velocity = merged_velocity.rename({'e': 'energy', 't': 'temperature', 'p': 'pressure'})\n",
    "    \n",
    "    # Split 2048^3 into smaller 512^3 arrays\n",
    "    dims = [dim for dim in data_xr.dims]\n",
    "    dims.reverse() # I want (nnz, nny, nnx)\n",
    "    smaller_groups = write_tools.split_zarr_group(merged_velocity, desired_cube_side, dims)\n",
    "    \n",
    "    # Given up in favor of Ryan's node coloring technique\n",
    "#     z_order = write_tools.morton_order_cube(cube_side=4)\n",
    "    \n",
    "    node_assignments = write_tools\n",
    "    \n",
    "    \n",
    "    # Distribute them across FileDB\n",
    "    cubes = smaller_groups\n",
    "    \n",
    "    encoding={\n",
    "        \"velocity\": dict(chunks=(chunk_size, chunk_size, chunk_size, 3), compressor=None),\n",
    "        \"pressure\": dict(chunks=(chunk_size, chunk_size, chunk_size, 1), compressor=None),\n",
    "        \"temperature\": dict(chunks=(chunk_size, chunk_size, chunk_size, 1), compressor=None),\n",
    "        \"energy\": dict(chunks=(chunk_size, chunk_size, chunk_size, 1), compressor=None)\n",
    "    }\n",
    "    \n",
    "    tasks = []\n",
    "    for i in range(len(cubes)):\n",
    "        for j in range(len(cubes[i])):\n",
    "            for k in range(len(cubes[i][j])):\n",
    "                filedb_index = z_order[i][j][k] % len(folders)\n",
    "                current_array = cubes[i][j][k]\n",
    "                \n",
    "                dest_groupname = folders[filedb_index] + dest_folder_name + str(z_order[i][j][k] + 1).zfill(2) + \"_\" + str(timestep_nr).zfill(3) + \".zarr\"\n",
    "                if use_dask:\n",
    "                    tasks.append(write_tools.write_to_disk_dask(dest_groupname, current_array, encoding))\n",
    "                else:\n",
    "                    write_tools.write_to_disk(dest_groupname, current_array, encoding)\n",
    "\n",
    "    if use_dask:\n",
    "        dask.compute(*tasks)\n"
   ]
  },
  {
   "cell_type": "code",
   "execution_count": null,
   "metadata": {},
   "outputs": [],
   "source": []
  }
 ],
 "metadata": {
  "kernelspec": {
   "display_name": "Python 3",
   "language": "python",
   "name": "python3"
  },
  "language_info": {
   "codemirror_mode": {
    "name": "ipython",
    "version": 3
   },
   "file_extension": ".py",
   "mimetype": "text/x-python",
   "name": "python",
   "nbconvert_exporter": "python",
   "pygments_lexer": "ipython3",
   "version": "3.9.6"
  }
 },
 "nbformat": 4,
 "nbformat_minor": 4
}
