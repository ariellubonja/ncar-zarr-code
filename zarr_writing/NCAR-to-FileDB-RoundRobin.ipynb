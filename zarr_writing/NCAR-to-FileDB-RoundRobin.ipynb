{
 "cells": [
  {
   "cell_type": "markdown",
   "metadata": {},
   "source": [
    "## Convert all netCDF NCAR timestep files to Zarr 512 arrays, with Grouped Velocity components, with (64,64,64) chunk size, round-robined across FileDB nodes (spatially using Z-order)"
   ]
  },
  {
   "cell_type": "markdown",
   "metadata": {},
   "source": [
    "<font color=\"red\">Old Dask version gives this error https://github.com/dask/distributed/issues/3955</font>\n",
    "\n",
    "<font color='orange'>Note: Careful when Setting Dask `local_directory` to remote server (e.g. Temporary) will HUGELY slow down functions</font>\n",
    "\n",
    "<font color='cyan'>Parallel version needs Large job</font>\n",
    "\n",
    "<font color = 'gold'>TODO fix MemoryError: Unable to allocate 32.0 GiB for an array with shape (2048, 2048, 2048) and data type float32 when looping over multiple timesteps</font>"
   ]
  },
  {
   "cell_type": "code",
   "execution_count": 1,
   "metadata": {
    "execution": {
     "iopub.execute_input": "2023-09-06T18:40:58.030434Z",
     "iopub.status.busy": "2023-09-06T18:40:58.029767Z",
     "iopub.status.idle": "2023-09-06T18:40:58.052741Z",
     "shell.execute_reply": "2023-09-06T18:40:58.051489Z",
     "shell.execute_reply.started": "2023-09-06T18:40:58.030268Z"
    }
   },
   "outputs": [],
   "source": [
    "array_cube_side = 2048\n",
    "desired_cube_side = 512\n",
    "chunk_size = 64\n",
    "raw_ncar_folder_path = '/home/idies/workspace/turb/data02_02/ncar-high-rate-fixed-dt'\n",
    "use_dask = True\n",
    "dest_folder_name = \"sabl2048b\" # B is the high-rate data\n",
    "write_type = \"prod\" # or \"back\" for backup\n",
    "\n",
    "n_dask_workers = 4 # For Dask rechunking\n",
    "num_threads = 34  # For writing to FileDB\n",
    "dask_local_dir = '/home/idies/workspace/turb/data02_02'\n",
    "\n",
    "\n",
    "encoding={\n",
    "    \"velocity\": dict(chunks=(chunk_size, chunk_size, chunk_size, 3), compressor=None),\n",
    "    \"pressure\": dict(chunks=(chunk_size, chunk_size, chunk_size, 1), compressor=None),\n",
    "    \"temperature\": dict(chunks=(chunk_size, chunk_size, chunk_size, 1), compressor=None),\n",
    "    \"energy\": dict(chunks=(chunk_size, chunk_size, chunk_size, 1), compressor=None)\n",
    "}\n",
    "\n",
    "\n",
    "timestep_nr = 0\n",
    "# timestep_range = range(1) # This doesn't work with MemoryError: Unable to allocate 32.0 GiB for an array with shape (2048, 2048, 2048) and data type float32"
   ]
  },
  {
   "cell_type": "code",
   "execution_count": 2,
   "metadata": {
    "execution": {
     "iopub.execute_input": "2023-09-06T18:40:58.776249Z",
     "iopub.status.busy": "2023-09-06T18:40:58.775659Z",
     "iopub.status.idle": "2023-09-06T18:40:58.789119Z",
     "shell.execute_reply": "2023-09-06T18:40:58.787261Z",
     "shell.execute_reply.started": "2023-09-06T18:40:58.776198Z"
    }
   },
   "outputs": [
    {
     "name": "stdout",
     "output_type": "stream",
     "text": [
      "/home/idies/workspace/Storage/ariel4/persistent/ncar-zarr-code/zarr_writing\n"
     ]
    }
   ],
   "source": [
    "%cd /home/idies/workspace/Storage/ariel4/persistent/ncar-zarr-code/zarr_writing"
   ]
  },
  {
   "cell_type": "code",
   "execution_count": 3,
   "metadata": {
    "execution": {
     "iopub.execute_input": "2023-09-06T18:40:58.905680Z",
     "iopub.status.busy": "2023-09-06T18:40:58.905255Z",
     "iopub.status.idle": "2023-09-06T18:41:21.368976Z",
     "shell.execute_reply": "2023-09-06T18:41:21.366480Z",
     "shell.execute_reply.started": "2023-09-06T18:40:58.905636Z"
    }
   },
   "outputs": [
    {
     "name": "stdout",
     "output_type": "stream",
     "text": [
      "Collecting morton-py\n",
      "  Downloading morton-py-1.3.tar.gz (3.9 kB)\n",
      "Building wheels for collected packages: morton-py\n",
      "  Building wheel for morton-py (setup.py): started\n",
      "  Building wheel for morton-py (setup.py): finished with status 'done'\n",
      "  Created wheel for morton-py: filename=morton_py-1.3-py3-none-any.whl size=3477 sha256=9c81fcb23e3584798d8e970e5c1dcb26f3acc2ad3e0c36daef876981b47d2276\n",
      "  Stored in directory: /home/idies/.cache/pip/wheels/58/78/0a/4e99fd2851c29d126fe5eac6661df5da9443a3ea7866ae0ddc\n",
      "Successfully built morton-py\n",
      "Installing collected packages: morton-py\n",
      "Successfully installed morton-py-1.3\n"
     ]
    }
   ],
   "source": [
    "from utils import write_tools\n",
    "import os\n",
    "import threading\n",
    "import queue"
   ]
  },
  {
   "cell_type": "markdown",
   "metadata": {},
   "source": [
    "### Get target Folder list"
   ]
  },
  {
   "cell_type": "code",
   "execution_count": 4,
   "metadata": {
    "execution": {
     "iopub.execute_input": "2023-09-06T18:41:21.378192Z",
     "iopub.status.busy": "2023-09-06T18:41:21.377262Z",
     "iopub.status.idle": "2023-09-06T18:41:21.388916Z",
     "shell.execute_reply": "2023-09-06T18:41:21.387030Z",
     "shell.execute_reply.started": "2023-09-06T18:41:21.378139Z"
    }
   },
   "outputs": [],
   "source": [
    "folders=write_tools.list_fileDB_folders()\n",
    "\n",
    "# Avoiding 7-2 and 9-2 - they're too full as of May 2023\n",
    "folders.remove(\"/home/idies/workspace/turb/data09_02/zarr/\")\n",
    "folders.remove(\"/home/idies/workspace/turb/data07_02/zarr/\")\n",
    "\n",
    "for i in range(len(folders)):\n",
    "    folders[i] += dest_folder_name + \"_\" + str(i + 1).zfill(2) + \"_\" + write_type + \"/\"\n",
    "\n",
    "# folders[:5]\n",
    "\n",
    "# Create top-level dirs\n",
    "\n",
    "# for folder_path in folders:\n",
    "#     os.makedirs(folder_path, exist_ok=False)"
   ]
  },
  {
   "cell_type": "markdown",
   "metadata": {},
   "source": [
    "<font color=\"orange\">Don't delete the CD cell!</font>"
   ]
  },
  {
   "cell_type": "code",
   "execution_count": 5,
   "metadata": {
    "execution": {
     "iopub.execute_input": "2023-09-06T18:41:21.391013Z",
     "iopub.status.busy": "2023-09-06T18:41:21.390626Z",
     "iopub.status.idle": "2023-09-06T18:41:21.405862Z",
     "shell.execute_reply": "2023-09-06T18:41:21.403785Z",
     "shell.execute_reply.started": "2023-09-06T18:41:21.390970Z"
    }
   },
   "outputs": [
    {
     "name": "stdout",
     "output_type": "stream",
     "text": [
      "/home/idies/workspace/turb/data02_02/ncar-high-rate-fixed-dt\n"
     ]
    }
   ],
   "source": [
    "%cd /home/idies/workspace/turb/data02_02/ncar-high-rate-fixed-dt"
   ]
  },
  {
   "cell_type": "code",
   "execution_count": null,
   "metadata": {},
   "outputs": [],
   "source": []
  },
  {
   "cell_type": "code",
   "execution_count": 6,
   "metadata": {},
   "outputs": [
    {
     "name": "stdout",
     "output_type": "stream",
     "text": [
      "Done preparing data. Starting to write...\n"
     ]
    }
   ],
   "source": [
    "cubes, range_list = write_tools.prepare_data(\"jhd.\" + str(timestep_nr).zfill(3) + \".nc\")"
   ]
  },
  {
   "cell_type": "code",
   "execution_count": 15,
   "metadata": {},
   "outputs": [],
   "source": [
    "cubes = write_tools.flatten_3d_list(cubes)\n",
    "flattened_node_assgn = write_tools.flatten_3d_list(write_tools.node_assignment(4))"
   ]
  },
  {
   "cell_type": "code",
   "execution_count": null,
   "metadata": {},
   "outputs": [],
   "source": [
    "chunk_morton_mapping = write_tools.get_chunk_morton_mapping(range_list, dest_folder_name)"
   ]
  },
  {
   "cell_type": "code",
   "execution_count": 16,
   "metadata": {},
   "outputs": [],
   "source": [
    "q = queue.Queue()\n",
    "\n",
    "\n",
    "# Populate the queue with Write to FileDB tasks\n",
    "for i in range(len(range_list)):\n",
    "#     for j in range(4):\n",
    "#         for k in range(4):\n",
    "    min_coord = [a[0] for a in range_list[i]]\n",
    "    max_coord = [a[1] - 1 for a in range_list[i]]\n",
    "    \n",
    "    morton = (write_tools.morton_pack(array_cube_side, min_coord[2], min_coord[1], min_coord[0]), write_tools.morton_pack(array_cube_side, max_coord[2], max_coord[1], max_coord[0]))\n",
    "    \n",
    "    chunk_name = write_tools.search_dict_by_value(chunk_morton_mapping, morton)\n",
    "    \n",
    "    idx = int(chunk_name[-2:].lstrip('0'))\n",
    "    \n",
    "    filedb_index = flattened_node_assgn[idx - 1] - 1\n",
    "    \n",
    "    destination = os.path.join(folders[filedb_index], dest_folder_name + str(idx).zfill(2) + \"_\" + str(timestep_nr).zfill(3) + \".zarr\")\n",
    "    \n",
    "    current_array = cubes[i]\n",
    "            \n",
    "    q.put((current_array, destination, encoding))"
   ]
  },
  {
   "cell_type": "code",
   "execution_count": null,
   "metadata": {},
   "outputs": [],
   "source": [
    "# Create threads and start them\n",
    "\n",
    "threads = []\n",
    "for _ in range(num_threads):\n",
    "    t = threading.Thread(target=write_tools.write_to_disk, args=(q,))\n",
    "    t.start()\n",
    "    threads.append(t)\n",
    "\n",
    "# Wait for all tasks to be processed\n",
    "q.join()\n",
    "\n",
    "# Wait for all threads to finish\n",
    "for t in threads:\n",
    "    t.join()"
   ]
  },
  {
   "cell_type": "code",
   "execution_count": null,
   "metadata": {},
   "outputs": [],
   "source": []
  }
 ],
 "metadata": {
  "kernelspec": {
   "display_name": "Python 3.9 (py39)",
   "language": "python",
   "name": "py39"
  },
  "language_info": {
   "codemirror_mode": {
    "name": "ipython",
    "version": 3
   },
   "file_extension": ".py",
   "mimetype": "text/x-python",
   "name": "python",
   "nbconvert_exporter": "python",
   "pygments_lexer": "ipython3",
   "version": "3.9.7"
  }
 },
 "nbformat": 4,
 "nbformat_minor": 4
}
