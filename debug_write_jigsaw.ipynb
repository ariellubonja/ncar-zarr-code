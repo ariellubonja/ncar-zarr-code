{
 "cells": [
  {
   "cell_type": "code",
   "execution_count": 1,
   "id": "36f84905-495d-4915-ad98-3287013ddebc",
   "metadata": {
    "execution": {
     "iopub.execute_input": "2024-02-21T02:29:25.937963Z",
     "iopub.status.busy": "2024-02-21T02:29:25.937300Z",
     "iopub.status.idle": "2024-02-21T02:29:28.067078Z",
     "shell.execute_reply": "2024-02-21T02:29:28.065129Z",
     "shell.execute_reply.started": "2024-02-21T02:29:25.937810Z"
    },
    "tags": []
   },
   "outputs": [],
   "source": [
    "from src.dataset import NCAR_Dataset"
   ]
  },
  {
   "cell_type": "code",
   "execution_count": null,
   "id": "881f5e4c-c6ee-40d1-844a-399b22515147",
   "metadata": {
    "execution": {
     "iopub.execute_input": "2024-02-21T02:29:28.071987Z",
     "iopub.status.busy": "2024-02-21T02:29:28.071131Z"
    },
    "tags": []
   },
   "outputs": [
    {
     "name": "stdout",
     "output_type": "stream",
     "text": [
      "chunk_morton_mapping name:  {'sabl2048a01': (0, 134217727), 'sabl2048a02': (134217728, 268435455), 'sabl2048a03': (268435456, 402653183), 'sabl2048a04': (402653184, 536870911), 'sabl2048a05': (536870912, 671088639), 'sabl2048a06': (671088640, 805306367), 'sabl2048a07': (805306368, 939524095), 'sabl2048a08': (939524096, 1073741823), 'sabl2048a09': (1073741824, 1207959551), 'sabl2048a10': (1207959552, 1342177279), 'sabl2048a11': (1342177280, 1476395007), 'sabl2048a12': (1476395008, 1610612735), 'sabl2048a13': (1610612736, 1744830463), 'sabl2048a14': (1744830464, 1879048191), 'sabl2048a15': (1879048192, 2013265919), 'sabl2048a16': (2013265920, 2147483647), 'sabl2048a17': (2147483648, 2281701375), 'sabl2048a18': (2281701376, 2415919103), 'sabl2048a19': (2415919104, 2550136831), 'sabl2048a20': (2550136832, 2684354559), 'sabl2048a21': (2684354560, 2818572287), 'sabl2048a22': (2818572288, 2952790015), 'sabl2048a23': (2952790016, 3087007743), 'sabl2048a24': (3087007744, 3221225471), 'sabl2048a25': (3221225472, 3355443199), 'sabl2048a26': (3355443200, 3489660927), 'sabl2048a27': (3489660928, 3623878655), 'sabl2048a28': (3623878656, 3758096383), 'sabl2048a29': (3758096384, 3892314111), 'sabl2048a30': (3892314112, 4026531839), 'sabl2048a31': (4026531840, 4160749567), 'sabl2048a32': (4160749568, 4294967295), 'sabl2048a33': (4294967296, 4429185023), 'sabl2048a34': (4429185024, 4563402751), 'sabl2048a35': (4563402752, 4697620479), 'sabl2048a36': (4697620480, 4831838207), 'sabl2048a37': (4831838208, 4966055935), 'sabl2048a38': (4966055936, 5100273663), 'sabl2048a39': (5100273664, 5234491391), 'sabl2048a40': (5234491392, 5368709119), 'sabl2048a41': (5368709120, 5502926847), 'sabl2048a42': (5502926848, 5637144575), 'sabl2048a43': (5637144576, 5771362303), 'sabl2048a44': (5771362304, 5905580031), 'sabl2048a45': (5905580032, 6039797759), 'sabl2048a46': (6039797760, 6174015487), 'sabl2048a47': (6174015488, 6308233215), 'sabl2048a48': (6308233216, 6442450943), 'sabl2048a49': (6442450944, 6576668671), 'sabl2048a50': (6576668672, 6710886399), 'sabl2048a51': (6710886400, 6845104127), 'sabl2048a52': (6845104128, 6979321855), 'sabl2048a53': (6979321856, 7113539583), 'sabl2048a54': (7113539584, 7247757311), 'sabl2048a55': (7247757312, 7381975039), 'sabl2048a56': (7381975040, 7516192767), 'sabl2048a57': (7516192768, 7650410495), 'sabl2048a58': (7650410496, 7784628223), 'sabl2048a59': (7784628224, 7918845951), 'sabl2048a60': (7918845952, 8053063679), 'sabl2048a61': (8053063680, 8187281407), 'sabl2048a62': (8187281408, 8321499135), 'sabl2048a63': (8321499136, 8455716863), 'sabl2048a64': (8455716864, 8589934591)}\n",
      "Starting write to ['/home/idies/workspace/turb/data02_01/zarr/sabl2048a_02_back/sabl2048a01_001.zarr', '/home/idies/workspace/turb/data06_01/zarr/sabl2048a_06_back/sabl2048a05_001.zarr', '/home/idies/workspace/turb/data12_03/zarr/sabl2048a_00_back/sabl2048a33_001.zarr', '/home/idies/workspace/turb/data04_01/zarr/sabl2048a_04_back/sabl2048a37_001.zarr', '/home/idies/workspace/turb/data04_01/zarr/sabl2048a_04_back/sabl2048a03_001.zarr', '/home/idies/workspace/turb/data08_01/zarr/sabl2048a_08_back/sabl2048a07_001.zarr', '/home/idies/workspace/turb/data02_01/zarr/sabl2048a_02_back/sabl2048a35_001.zarr', '/home/idies/workspace/turb/data06_01/zarr/sabl2048a_06_back/sabl2048a39_001.zarr', '/home/idies/workspace/turb/data06_02/zarr/sabl2048a_18_back/sabl2048a17_001.zarr', '/home/idies/workspace/turb/data12_02/zarr/sabl2048a_22_back/sabl2048a21_001.zarr', '/home/idies/workspace/turb/data04_02/zarr/sabl2048a_16_back/sabl2048a49_001.zarr', '/home/idies/workspace/turb/data10_02/zarr/sabl2048a_20_back/sabl2048a53_001.zarr', '/home/idies/workspace/turb/data10_02/zarr/sabl2048a_20_back/sabl2048a19_001.zarr', '/home/idies/workspace/turb/data02_03/zarr/sabl2048a_24_back/sabl2048a23_001.zarr', '/home/idies/workspace/turb/data06_02/zarr/sabl2048a_18_back/sabl2048a51_001.zarr', '/home/idies/workspace/turb/data12_02/zarr/sabl2048a_22_back/sabl2048a55_001.zarr', '/home/idies/workspace/turb/data03_01/zarr/sabl2048a_03_back/sabl2048a02_001.zarr', '/home/idies/workspace/turb/data07_01/zarr/sabl2048a_07_back/sabl2048a06_001.zarr', '/home/idies/workspace/turb/data01_01/zarr/sabl2048a_01_back/sabl2048a34_001.zarr', '/home/idies/workspace/turb/data05_01/zarr/sabl2048a_05_back/sabl2048a38_001.zarr', '/home/idies/workspace/turb/data05_01/zarr/sabl2048a_05_back/sabl2048a04_001.zarr', '/home/idies/workspace/turb/data09_01/zarr/sabl2048a_09_back/sabl2048a08_001.zarr', '/home/idies/workspace/turb/data03_01/zarr/sabl2048a_03_back/sabl2048a36_001.zarr', '/home/idies/workspace/turb/data07_01/zarr/sabl2048a_07_back/sabl2048a40_001.zarr', '/home/idies/workspace/turb/data08_02/zarr/sabl2048a_19_back/sabl2048a18_001.zarr', '/home/idies/workspace/turb/data01_03/zarr/sabl2048a_23_back/sabl2048a22_001.zarr', '/home/idies/workspace/turb/data05_02/zarr/sabl2048a_17_back/sabl2048a50_001.zarr', '/home/idies/workspace/turb/data11_02/zarr/sabl2048a_21_back/sabl2048a54_001.zarr', '/home/idies/workspace/turb/data11_02/zarr/sabl2048a_21_back/sabl2048a20_001.zarr', '/home/idies/workspace/turb/data03_03/zarr/sabl2048a_25_back/sabl2048a24_001.zarr', '/home/idies/workspace/turb/data08_02/zarr/sabl2048a_19_back/sabl2048a52_001.zarr', '/home/idies/workspace/turb/data01_03/zarr/sabl2048a_23_back/sabl2048a56_001.zarr', '/home/idies/workspace/turb/data10_01/zarr/sabl2048a_10_back/sabl2048a09_001.zarr', '/home/idies/workspace/turb/data02_02/zarr/sabl2048a_14_back/sabl2048a13_001.zarr', '/home/idies/workspace/turb/data08_01/zarr/sabl2048a_08_back/sabl2048a41_001.zarr', '/home/idies/workspace/turb/data12_01/zarr/sabl2048a_12_back/sabl2048a45_001.zarr', '/home/idies/workspace/turb/data12_01/zarr/sabl2048a_12_back/sabl2048a11_001.zarr', '/home/idies/workspace/turb/data04_02/zarr/sabl2048a_16_back/sabl2048a15_001.zarr', '/home/idies/workspace/turb/data10_01/zarr/sabl2048a_10_back/sabl2048a43_001.zarr', '/home/idies/workspace/turb/data02_02/zarr/sabl2048a_14_back/sabl2048a47_001.zarr', '/home/idies/workspace/turb/data04_03/zarr/sabl2048a_26_back/sabl2048a25_001.zarr', '/home/idies/workspace/turb/data08_03/zarr/sabl2048a_30_back/sabl2048a29_001.zarr', '/home/idies/workspace/turb/data02_03/zarr/sabl2048a_24_back/sabl2048a57_001.zarr', '/home/idies/workspace/turb/data06_03/zarr/sabl2048a_28_back/sabl2048a61_001.zarr', '/home/idies/workspace/turb/data06_03/zarr/sabl2048a_28_back/sabl2048a27_001.zarr', '/home/idies/workspace/turb/data10_03/zarr/sabl2048a_32_back/sabl2048a31_001.zarr', '/home/idies/workspace/turb/data04_03/zarr/sabl2048a_26_back/sabl2048a59_001.zarr', '/home/idies/workspace/turb/data08_03/zarr/sabl2048a_30_back/sabl2048a63_001.zarr', '/home/idies/workspace/turb/data11_01/zarr/sabl2048a_11_back/sabl2048a10_001.zarr', '/home/idies/workspace/turb/data03_02/zarr/sabl2048a_15_back/sabl2048a14_001.zarr', '/home/idies/workspace/turb/data09_01/zarr/sabl2048a_09_back/sabl2048a42_001.zarr', '/home/idies/workspace/turb/data01_02/zarr/sabl2048a_13_back/sabl2048a46_001.zarr', '/home/idies/workspace/turb/data01_02/zarr/sabl2048a_13_back/sabl2048a12_001.zarr', '/home/idies/workspace/turb/data05_02/zarr/sabl2048a_17_back/sabl2048a16_001.zarr', '/home/idies/workspace/turb/data11_01/zarr/sabl2048a_11_back/sabl2048a44_001.zarr', '/home/idies/workspace/turb/data03_02/zarr/sabl2048a_15_back/sabl2048a48_001.zarr', '/home/idies/workspace/turb/data05_03/zarr/sabl2048a_27_back/sabl2048a26_001.zarr', '/home/idies/workspace/turb/data09_03/zarr/sabl2048a_31_back/sabl2048a30_001.zarr', '/home/idies/workspace/turb/data03_03/zarr/sabl2048a_25_back/sabl2048a58_001.zarr', '/home/idies/workspace/turb/data07_03/zarr/sabl2048a_29_back/sabl2048a62_001.zarr', '/home/idies/workspace/turb/data07_03/zarr/sabl2048a_29_back/sabl2048a28_001.zarr', '/home/idies/workspace/turb/data11_03/zarr/sabl2048a_33_back/sabl2048a32_001.zarr', '/home/idies/workspace/turb/data05_03/zarr/sabl2048a_27_back/sabl2048a60_001.zarr', '/home/idies/workspace/turb/data09_03/zarr/sabl2048a_31_back/sabl2048a64_001.zarr']...\n",
      "Starting write to {'sabl2048a01': (0, 134217727), 'sabl2048a02': (134217728, 268435455), 'sabl2048a03': (268435456, 402653183), 'sabl2048a04': (402653184, 536870911), 'sabl2048a05': (536870912, 671088639), 'sabl2048a06': (671088640, 805306367), 'sabl2048a07': (805306368, 939524095), 'sabl2048a08': (939524096, 1073741823), 'sabl2048a09': (1073741824, 1207959551), 'sabl2048a10': (1207959552, 1342177279), 'sabl2048a11': (1342177280, 1476395007), 'sabl2048a12': (1476395008, 1610612735), 'sabl2048a13': (1610612736, 1744830463), 'sabl2048a14': (1744830464, 1879048191), 'sabl2048a15': (1879048192, 2013265919), 'sabl2048a16': (2013265920, 2147483647), 'sabl2048a17': (2147483648, 2281701375), 'sabl2048a18': (2281701376, 2415919103), 'sabl2048a19': (2415919104, 2550136831), 'sabl2048a20': (2550136832, 2684354559), 'sabl2048a21': (2684354560, 2818572287), 'sabl2048a22': (2818572288, 2952790015), 'sabl2048a23': (2952790016, 3087007743), 'sabl2048a24': (3087007744, 3221225471), 'sabl2048a25': (3221225472, 3355443199), 'sabl2048a26': (3355443200, 3489660927), 'sabl2048a27': (3489660928, 3623878655), 'sabl2048a28': (3623878656, 3758096383), 'sabl2048a29': (3758096384, 3892314111), 'sabl2048a30': (3892314112, 4026531839), 'sabl2048a31': (4026531840, 4160749567), 'sabl2048a32': (4160749568, 4294967295), 'sabl2048a33': (4294967296, 4429185023), 'sabl2048a34': (4429185024, 4563402751), 'sabl2048a35': (4563402752, 4697620479), 'sabl2048a36': (4697620480, 4831838207), 'sabl2048a37': (4831838208, 4966055935), 'sabl2048a38': (4966055936, 5100273663), 'sabl2048a39': (5100273664, 5234491391), 'sabl2048a40': (5234491392, 5368709119), 'sabl2048a41': (5368709120, 5502926847), 'sabl2048a42': (5502926848, 5637144575), 'sabl2048a43': (5637144576, 5771362303), 'sabl2048a44': (5771362304, 5905580031), 'sabl2048a45': (5905580032, 6039797759), 'sabl2048a46': (6039797760, 6174015487), 'sabl2048a47': (6174015488, 6308233215), 'sabl2048a48': (6308233216, 6442450943), 'sabl2048a49': (6442450944, 6576668671), 'sabl2048a50': (6576668672, 6710886399), 'sabl2048a51': (6710886400, 6845104127), 'sabl2048a52': (6845104128, 6979321855), 'sabl2048a53': (6979321856, 7113539583), 'sabl2048a54': (7113539584, 7247757311), 'sabl2048a55': (7247757312, 7381975039), 'sabl2048a56': (7381975040, 7516192767), 'sabl2048a57': (7516192768, 7650410495), 'sabl2048a58': (7650410496, 7784628223), 'sabl2048a59': (7784628224, 7918845951), 'sabl2048a60': (7918845952, 8053063679), 'sabl2048a61': (8053063680, 8187281407), 'sabl2048a62': (8187281408, 8321499135), 'sabl2048a63': (8321499136, 8455716863), 'sabl2048a64': (8455716864, 8589934591)}...\n"
     ]
    },
    {
     "name": "stderr",
     "output_type": "stream",
     "text": [
      "Exception in thread Thread-5:\n",
      "Traceback (most recent call last):\n",
      "  File \"/home/idies/mambaforge/envs/py39/lib/python3.9/threading.py\", line 980, in _bootstrap_inner\n",
      "    self.run()\n",
      "  File \"/home/idies/mambaforge/envs/py39/lib/python3.9/threading.py\", line 917, in run\n",
      "    self._target(*self._args, **self._kwargs)\n",
      "  File \"/home/idies/workspace/Storage/ariel4/persistent/zarrify-across-network/src/utils/write_utils.py\", line 216, in write_to_disk\n",
      "    chunk.to_zarr(store=dest_groupname, mode=\"w\", encoding=encoding)\n",
      "  File \"/home/idies/mambaforge/envs/py39/lib/python3.9/site-packages/xarray/core/dataset.py\", line 2081, in to_zarr\n",
      "    return to_zarr(  # type: ignore\n",
      "  File \"/home/idies/mambaforge/envs/py39/lib/python3.9/site-packages/xarray/backends/api.py\", line 1617, in to_zarr\n",
      "    zstore = backends.ZarrStore.open_group(\n",
      "  File \"/home/idies/mambaforge/envs/py39/lib/python3.9/site-packages/xarray/backends/zarr.py\", line 402, in open_group\n",
      "    zarr_group = zarr.open_group(store, **open_kwargs)\n",
      "  File \"/home/idies/mambaforge/envs/py39/lib/python3.9/site-packages/zarr/hierarchy.py\", line 1347, in open_group\n",
      "    store = _normalize_store_arg(\n",
      "  File \"/home/idies/mambaforge/envs/py39/lib/python3.9/site-packages/zarr/hierarchy.py\", line 1220, in _normalize_store_arg\n",
      "    return normalize_store_arg(store,\n",
      "  File \"/home/idies/mambaforge/envs/py39/lib/python3.9/site-packages/zarr/storage.py\", line 171, in normalize_store_arg\n",
      "    return normalize_store(store, storage_options, mode)\n",
      "  File \"/home/idies/mambaforge/envs/py39/lib/python3.9/site-packages/zarr/storage.py\", line 155, in _normalize_store_arg_v2\n",
      "    store = Store._ensure_store(store)\n",
      "  File \"/home/idies/mambaforge/envs/py39/lib/python3.9/site-packages/zarr/_storage/store.py\", line 126, in _ensure_store\n",
      "    raise ValueError(\n",
      "ValueError: Starting with Zarr 2.11.0, stores must be subclasses of BaseStore, if your store exposes the MutableMapping interface wrap it in Zarr.storage.KVStore. Got ['/home/idies/workspace/turb/data02_01/zarr/sabl2048a_02_back/sabl2048a01_001.zarr', '/home/idies/workspace/turb/data06_01/zarr/sabl2048a_06_back/sabl2048a05_001.zarr', '/home/idies/workspace/turb/data12_03/zarr/sabl2048a_00_back/sabl2048a33_001.zarr', '/home/idies/workspace/turb/data04_01/zarr/sabl2048a_04_back/sabl2048a37_001.zarr', '/home/idies/workspace/turb/data04_01/zarr/sabl2048a_04_back/sabl2048a03_001.zarr', '/home/idies/workspace/turb/data08_01/zarr/sabl2048a_08_back/sabl2048a07_001.zarr', '/home/idies/workspace/turb/data02_01/zarr/sabl2048a_02_back/sabl2048a35_001.zarr', '/home/idies/workspace/turb/data06_01/zarr/sabl2048a_06_back/sabl2048a39_001.zarr', '/home/idies/workspace/turb/data06_02/zarr/sabl2048a_18_back/sabl2048a17_001.zarr', '/home/idies/workspace/turb/data12_02/zarr/sabl2048a_22_back/sabl2048a21_001.zarr', '/home/idies/workspace/turb/data04_02/zarr/sabl2048a_16_back/sabl2048a49_001.zarr', '/home/idies/workspace/turb/data10_02/zarr/sabl2048a_20_back/sabl2048a53_001.zarr', '/home/idies/workspace/turb/data10_02/zarr/sabl2048a_20_back/sabl2048a19_001.zarr', '/home/idies/workspace/turb/data02_03/zarr/sabl2048a_24_back/sabl2048a23_001.zarr', '/home/idies/workspace/turb/data06_02/zarr/sabl2048a_18_back/sabl2048a51_001.zarr', '/home/idies/workspace/turb/data12_02/zarr/sabl2048a_22_back/sabl2048a55_001.zarr', '/home/idies/workspace/turb/data03_01/zarr/sabl2048a_03_back/sabl2048a02_001.zarr', '/home/idies/workspace/turb/data07_01/zarr/sabl2048a_07_back/sabl2048a06_001.zarr', '/home/idies/workspace/turb/data01_01/zarr/sabl2048a_01_back/sabl2048a34_001.zarr', '/home/idies/workspace/turb/data05_01/zarr/sabl2048a_05_back/sabl2048a38_001.zarr', '/home/idies/workspace/turb/data05_01/zarr/sabl2048a_05_back/sabl2048a04_001.zarr', '/home/idies/workspace/turb/data09_01/zarr/sabl2048a_09_back/sabl2048a08_001.zarr', '/home/idies/workspace/turb/data03_01/zarr/sabl2048a_03_back/sabl2048a36_001.zarr', '/home/idies/workspace/turb/data07_01/zarr/sabl2048a_07_back/sabl2048a40_001.zarr', '/home/idies/workspace/turb/data08_02/zarr/sabl2048a_19_back/sabl2048a18_001.zarr', '/home/idies/workspace/turb/data01_03/zarr/sabl2048a_23_back/sabl2048a22_001.zarr', '/home/idies/workspace/turb/data05_02/zarr/sabl2048a_17_back/sabl2048a50_001.zarr', '/home/idies/workspace/turb/data11_02/zarr/sabl2048a_21_back/sabl2048a54_001.zarr', '/home/idies/workspace/turb/data11_02/zarr/sabl2048a_21_back/sabl2048a20_001.zarr', '/home/idies/workspace/turb/data03_03/zarr/sabl2048a_25_back/sabl2048a24_001.zarr', '/home/idies/workspace/turb/data08_02/zarr/sabl2048a_19_back/sabl2048a52_001.zarr', '/home/idies/workspace/turb/data01_03/zarr/sabl2048a_23_back/sabl2048a56_001.zarr', '/home/idies/workspace/turb/data10_01/zarr/sabl2048a_10_back/sabl2048a09_001.zarr', '/home/idies/workspace/turb/data02_02/zarr/sabl2048a_14_back/sabl2048a13_001.zarr', '/home/idies/workspace/turb/data08_01/zarr/sabl2048a_08_back/sabl2048a41_001.zarr', '/home/idies/workspace/turb/data12_01/zarr/sabl2048a_12_back/sabl2048a45_001.zarr', '/home/idies/workspace/turb/data12_01/zarr/sabl2048a_12_back/sabl2048a11_001.zarr', '/home/idies/workspace/turb/data04_02/zarr/sabl2048a_16_back/sabl2048a15_001.zarr', '/home/idies/workspace/turb/data10_01/zarr/sabl2048a_10_back/sabl2048a43_001.zarr', '/home/idies/workspace/turb/data02_02/zarr/sabl2048a_14_back/sabl2048a47_001.zarr', '/home/idies/workspace/turb/data04_03/zarr/sabl2048a_26_back/sabl2048a25_001.zarr', '/home/idies/workspace/turb/data08_03/zarr/sabl2048a_30_back/sabl2048a29_001.zarr', '/home/idies/workspace/turb/data02_03/zarr/sabl2048a_24_back/sabl2048a57_001.zarr', '/home/idies/workspace/turb/data06_03/zarr/sabl2048a_28_back/sabl2048a61_001.zarr', '/home/idies/workspace/turb/data06_03/zarr/sabl2048a_28_back/sabl2048a27_001.zarr', '/home/idies/workspace/turb/data10_03/zarr/sabl2048a_32_back/sabl2048a31_001.zarr', '/home/idies/workspace/turb/data04_03/zarr/sabl2048a_26_back/sabl2048a59_001.zarr', '/home/idies/workspace/turb/data08_03/zarr/sabl2048a_30_back/sabl2048a63_001.zarr', '/home/idies/workspace/turb/data11_01/zarr/sabl2048a_11_back/sabl2048a10_001.zarr', '/home/idies/workspace/turb/data03_02/zarr/sabl2048a_15_back/sabl2048a14_001.zarr', '/home/idies/workspace/turb/data09_01/zarr/sabl2048a_09_back/sabl2048a42_001.zarr', '/home/idies/workspace/turb/data01_02/zarr/sabl2048a_13_back/sabl2048a46_001.zarr', '/home/idies/workspace/turb/data01_02/zarr/sabl2048a_13_back/sabl2048a12_001.zarr', '/home/idies/workspace/turb/data05_02/zarr/sabl2048a_17_back/sabl2048a16_001.zarr', '/home/idies/workspace/turb/data11_01/zarr/sabl2048a_11_back/sabl2048a44_001.zarr', '/home/idies/workspace/turb/data03_02/zarr/sabl2048a_15_back/sabl2048a48_001.zarr', '/home/idies/workspace/turb/data05_03/zarr/sabl2048a_27_back/sabl2048a26_001.zarr', '/home/idies/workspace/turb/data09_03/zarr/sabl2048a_31_back/sabl2048a30_001.zarr', '/home/idies/workspace/turb/data03_03/zarr/sabl2048a_25_back/sabl2048a58_001.zarr', '/home/idies/workspace/turb/data07_03/zarr/sabl2048a_29_back/sabl2048a62_001.zarr', '/home/idies/workspace/turb/data07_03/zarr/sabl2048a_29_back/sabl2048a28_001.zarr', '/home/idies/workspace/turb/data11_03/zarr/sabl2048a_33_back/sabl2048a32_001.zarr', '/home/idies/workspace/turb/data05_03/zarr/sabl2048a_27_back/sabl2048a60_001.zarr', '/home/idies/workspace/turb/data09_03/zarr/sabl2048a_31_back/sabl2048a64_001.zarr']\n"
     ]
    }
   ],
   "source": [
    "DATASET_NAME = \"sabl2048a\"\n",
    "LOCATION_PATH = \"/home/idies/workspace/turb/data02_02/ncar-low-rate-fixed-dt\"\n",
    "ZARR_CHUNK_SIDE = 64\n",
    "desired_cube_side = 512\n",
    "PROD_OR_BACKUP = \"back\"\n",
    "start_timestep = 1\n",
    "end_timestep = 1\n",
    "\n",
    "\n",
    "ncar_dataset = NCAR_Dataset(name=DATASET_NAME,\n",
    "                            location_path=LOCATION_PATH,\n",
    "                            desired_zarr_chunk_size=ZARR_CHUNK_SIDE,\n",
    "                            desired_zarr_array_length=desired_cube_side,\n",
    "                            prod_or_backup=PROD_OR_BACKUP,\n",
    "                            start_timestep=start_timestep,\n",
    "                            end_timestep=end_timestep)\n",
    "\n",
    "ncar_dataset.distribute_to_filedb()"
   ]
  },
  {
   "cell_type": "code",
   "execution_count": null,
   "id": "9ddb7c12-d03c-4a66-bd41-4c06835fbd77",
   "metadata": {},
   "outputs": [],
   "source": []
  }
 ],
 "metadata": {
  "kernelspec": {
   "display_name": "Python 3.9 (py39)",
   "language": "python",
   "name": "py39"
  },
  "language_info": {
   "codemirror_mode": {
    "name": "ipython",
    "version": 3
   },
   "file_extension": ".py",
   "mimetype": "text/x-python",
   "name": "python",
   "nbconvert_exporter": "python",
   "pygments_lexer": "ipython3",
   "version": "3.9.13"
  }
 },
 "nbformat": 4,
 "nbformat_minor": 5
}
