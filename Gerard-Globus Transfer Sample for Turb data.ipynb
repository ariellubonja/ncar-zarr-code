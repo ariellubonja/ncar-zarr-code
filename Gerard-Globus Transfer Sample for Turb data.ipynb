{
 "cells": [
  {
   "cell_type": "code",
   "execution_count": 4,
   "metadata": {},
   "outputs": [
    {
     "name": "stdout",
     "output_type": "stream",
     "text": [
      "ls: cannot access '~/workspace/turb/data02_02/jhd-001-nc-zarr': No such file or directory\n"
     ]
    }
   ],
   "source": [
    "!ls ~/workspace/turb"
   ]
  },
  {
   "cell_type": "code",
   "execution_count": 2,
   "metadata": {},
   "outputs": [
    {
     "name": "stdout",
     "output_type": "stream",
     "text": [
      "/home/idies/workspace/Storage/ariel4/persistent\n"
     ]
    }
   ],
   "source": [
    "%cd ~/workspace/turb/data01_01"
   ]
  },
  {
   "cell_type": "code",
   "execution_count": null,
   "metadata": {},
   "outputs": [],
   "source": [
    "# creatuple list of folder on filedb to which data should be copied\n",
    "# you may want to change this to avoid certain volumes\n",
    "folders=[f'/home/idies/workspace/turb/data{str(f).zfill(2)}_{str(d).zfill(2)}/zarr/ncar-zarr/'  for f in range(1,13) for d in range(1,4)]\n",
    "folders[:5]"
   ]
  },
  {
   "cell_type": "code",
   "execution_count": null,
   "metadata": {},
   "outputs": [],
   "source": [
    "# Avoiding 7-2 and 9-2 - they're too full as of May 2023\n",
    "# folders.remove(\"/home/idies/workspace/turb/data02_02/zarr/ncar-zarr/\")\n",
    "folders.remove(\"/home/idies/workspace/turb/data09_02/zarr/ncar-zarr/\")\n",
    "folders.remove(\"/home/idies/workspace/turb/data07_02/zarr/ncar-zarr/\") # This is already created"
   ]
  },
  {
   "cell_type": "code",
   "execution_count": null,
   "metadata": {},
   "outputs": [],
   "source": [
    "# # Chatgpt - create folders above - skip if already created\n",
    "\n",
    "# import os\n",
    "\n",
    "# def create_folders(paths):\n",
    "#     for path in paths:\n",
    "#         os.makedirs(path, exist_ok=True)\n",
    "#         print(f\"Folder created at {path}\")\n",
    "\n",
    "# create_folders(folders)\n"
   ]
  },
  {
   "cell_type": "markdown",
   "metadata": {},
   "source": [
    " # Create folders\n"
   ]
  },
  {
   "cell_type": "code",
   "execution_count": 20,
   "metadata": {},
   "outputs": [],
   "source": [
    "# a GlobusAuthorizer is an auxiliary object we use to wrap the token. In\n",
    "# more advanced scenarios, other types of GlobusAuthorizers give us\n",
    "# expressive power\n",
    "authorizer = globus_sdk.AccessTokenAuthorizer(TRANSFER_TOKEN)\n",
    "tc = globus_sdk.TransferClient(authorizer=authorizer)"
   ]
  },
  {
   "cell_type": "code",
   "execution_count": 40,
   "metadata": {},
   "outputs": [],
   "source": [
    "# defining endpoints. Note, these may have to be activated explicitly, can do that through the UI.\n",
    "source_endpoint='jhuidies#dmztest'   # change to your source endpoint at flatiron\n",
    "source=tc.get_endpoint(source_endpoint)"
   ]
  },
  {
   "cell_type": "code",
   "execution_count": 28,
   "metadata": {},
   "outputs": [
    {
     "name": "stdout",
     "output_type": "stream",
     "text": [
      "Endpoint requires manual activation, please open the following URL in a browser to activate the endpoint:\n",
      "https://www.globus.org/app/endpoints/jhuidies#dmztest/activate\n"
     ]
    },
    {
     "name": "stdin",
     "output_type": "stream",
     "text": [
      "Press ENTER after activating the endpoint: \n"
     ]
    }
   ],
   "source": [
    "# f\n",
    "r=tc.endpoint_autoactivate(endpoint_id=target_endpoint)\n",
    "while (r[\"code\"] == \"AutoActivationFailed\"):\n",
    "    print(\"Endpoint requires manual activation, please open \"\n",
    "      \"the following URL in a browser to activate the \"\n",
    "      \"endpoint:\")\n",
    "    print(\"https://www.globus.org/app/endpoints/%s/activate\"% target_endpoint)\n",
    "    input(\"Press ENTER after activating the endpoint:\")\n",
    "    r = tc.endpoint_autoactivate(target_endpoint, if_expires_in=3600)"
   ]
  },
  {
   "cell_type": "code",
   "execution_count": 3,
   "metadata": {
    "scrolled": true
   },
   "outputs": [
    {
     "data": {
      "text/plain": [
       "['/sciserver/filedb01-01/turb/zarr/',\n",
       " '/sciserver/filedb01-02/turb/zarr/',\n",
       " '/sciserver/filedb01-03/turb/zarr/',\n",
       " '/sciserver/filedb02-01/turb/zarr/',\n",
       " '/sciserver/filedb02-02/turb/zarr/']"
      ]
     },
     "execution_count": 3,
     "metadata": {},
     "output_type": "execute_result"
    }
   ],
   "source": [
    "# create list of folder on filedb to which data should be copied\n",
    "# you may want to change this to avoid certain volumes\n",
    "folders=[f'/sciserver/filedb{str(f).zfill(2)}-{str(d).zfill(2)}/turb/zarr/'  for f in range(1,13) for d in range(1,4)]\n",
    "folders[:5]"
   ]
  },
  {
   "cell_type": "code",
   "execution_count": 4,
   "metadata": {},
   "outputs": [],
   "source": [
    "# Avoiding 7-2 and 9-2\n",
    "folders.remove(\"/sciserver/filedb07-02/turb/zarr/\")\n",
    "folders.remove(\"/sciserver/filedb09-02/turb/zarr/\")"
   ]
  },
  {
   "cell_type": "code",
   "execution_count": 7,
   "metadata": {},
   "outputs": [
    {
     "data": {
      "text/plain": [
       "34"
      ]
     },
     "execution_count": 7,
     "metadata": {},
     "output_type": "execute_result"
    }
   ],
   "source": [
    "len(folders)"
   ]
  },
  {
   "cell_type": "markdown",
   "metadata": {},
   "source": [
    "# Write to folders"
   ]
  },
  {
   "cell_type": "code",
   "execution_count": 17,
   "metadata": {},
   "outputs": [
    {
     "name": "stdout",
     "output_type": "stream",
     "text": [
      "task_id = e77304ea-2d09-11ec-95dc-853490a236f9\n"
     ]
    }
   ],
   "source": [
    "# Edited from ChatGPT\n",
    "import os\n",
    "import shutil\n",
    "\n",
    "source_directory = '/home/idies/workspace/turb/data02_02/ariel-6-timestep-ncar-zarr'\n",
    "destination_directory = '/home/idies/workspace/turb/'\n",
    "num_disks = 36\n",
    "\n",
    "# Create destination directories on each disk\n",
    "for i in range(num_disks):\n",
    "    disk_directory = os.path.join(destination_directory, f'disk{i+1}')\n",
    "    os.makedirs(disk_directory, exist_ok=True)\n",
    "\n",
    "# Traverse the source directory and distribute files to destination directories\n",
    "for root, dirs, files in os.walk(source_directory):\n",
    "    for file in files:\n",
    "        source_path = os.path.join(root, file)\n",
    "\n",
    "        # Determine the destination disk\n",
    "        disk_index = sum([ord(c) for c in file]) % num_disks\n",
    "        destination_disk = os.path.join(destination_directory, f'disk{disk_index + 1}')\n",
    "\n",
    "        # Create the corresponding directory structure on the destination disk\n",
    "        destination_path = os.path.join(destination_disk, os.path.relpath(root, source_directory))\n",
    "        os.makedirs(destination_path, exist_ok=True)\n",
    "\n",
    "        # Copy the file to the destination disk\n",
    "        shutil.copy(source_path, destination_path)\n"
   ]
  },
  {
   "cell_type": "markdown",
   "metadata": {},
   "source": [
    "# TODO Fix Zarr Metadata"
   ]
  },
  {
   "cell_type": "code",
   "execution_count": 10,
   "metadata": {},
   "outputs": [
    {
     "data": {
      "text/html": [
       "<table class=\"zarr-info\"><tbody><tr><th style=\"text-align: left\">Name</th><td style=\"text-align: left\">/</td></tr><tr><th style=\"text-align: left\">Type</th><td style=\"text-align: left\">zarr.hierarchy.Group</td></tr><tr><th style=\"text-align: left\">Read-only</th><td style=\"text-align: left\">False</td></tr><tr><th style=\"text-align: left\">Store type</th><td style=\"text-align: left\">zarr.storage.DirectoryStore</td></tr><tr><th style=\"text-align: left\">No. members</th><td style=\"text-align: left\">0</td></tr><tr><th style=\"text-align: left\">No. arrays</th><td style=\"text-align: left\">0</td></tr><tr><th style=\"text-align: left\">No. groups</th><td style=\"text-align: left\">0</td></tr></tbody></table>"
      ],
      "text/plain": [
       "Name        : /\n",
       "Type        : zarr.hierarchy.Group\n",
       "Read-only   : False\n",
       "Store type  : zarr.storage.DirectoryStore\n",
       "No. members : 0\n",
       "No. arrays  : 0\n",
       "No. groups  : 0"
      ]
     },
     "execution_count": 10,
     "metadata": {},
     "output_type": "execute_result"
    }
   ],
   "source": [
    "z = zarr.open(\"/home/idies/workspace/turb/data02_03/zarr/ncar-zarr\")\n",
    "z.info"
   ]
  },
  {
   "cell_type": "code",
   "execution_count": 11,
   "metadata": {},
   "outputs": [
    {
     "ename": "PathNotFoundError",
     "evalue": "nothing found at path ''",
     "output_type": "error",
     "traceback": [
      "\u001b[0;31m\u001b[0m",
      "\u001b[0;31mPathNotFoundError\u001b[0mTraceback (most recent call last)",
      "\u001b[0;32m<ipython-input-11-cf88ff94a950>\u001b[0m in \u001b[0;36m<module>\u001b[0;34m\u001b[0m\n\u001b[0;32m----> 1\u001b[0;31m \u001b[0mzarr\u001b[0m\u001b[0;34m.\u001b[0m\u001b[0mconsolidate_metadata\u001b[0m\u001b[0;34m(\u001b[0m\u001b[0;34m\"/home/idies/workspace/turb/data02_03/zarr/ncar-zarr/e\"\u001b[0m\u001b[0;34m)\u001b[0m\u001b[0;34m\u001b[0m\u001b[0;34m\u001b[0m\u001b[0m\n\u001b[0m",
      "\u001b[0;32m~/miniconda3/envs/py38/lib/python3.8/site-packages/zarr/convenience.py\u001b[0m in \u001b[0;36mconsolidate_metadata\u001b[0;34m(store, metadata_key)\u001b[0m\n\u001b[1;32m   1122\u001b[0m     }\n\u001b[1;32m   1123\u001b[0m     \u001b[0mstore\u001b[0m\u001b[0;34m[\u001b[0m\u001b[0mmetadata_key\u001b[0m\u001b[0;34m]\u001b[0m \u001b[0;34m=\u001b[0m \u001b[0mjson_dumps\u001b[0m\u001b[0;34m(\u001b[0m\u001b[0mout\u001b[0m\u001b[0;34m)\u001b[0m\u001b[0;34m\u001b[0m\u001b[0;34m\u001b[0m\u001b[0m\n\u001b[0;32m-> 1124\u001b[0;31m     \u001b[0;32mreturn\u001b[0m \u001b[0mopen_consolidated\u001b[0m\u001b[0;34m(\u001b[0m\u001b[0mstore\u001b[0m\u001b[0;34m,\u001b[0m \u001b[0mmetadata_key\u001b[0m\u001b[0;34m=\u001b[0m\u001b[0mmetadata_key\u001b[0m\u001b[0;34m)\u001b[0m\u001b[0;34m\u001b[0m\u001b[0;34m\u001b[0m\u001b[0m\n\u001b[0m\u001b[1;32m   1125\u001b[0m \u001b[0;34m\u001b[0m\u001b[0m\n\u001b[1;32m   1126\u001b[0m \u001b[0;34m\u001b[0m\u001b[0m\n",
      "\u001b[0;32m~/miniconda3/envs/py38/lib/python3.8/site-packages/zarr/convenience.py\u001b[0m in \u001b[0;36mopen_consolidated\u001b[0;34m(store, metadata_key, mode, **kwargs)\u001b[0m\n\u001b[1;32m   1180\u001b[0m     \u001b[0;31m# pass through\u001b[0m\u001b[0;34m\u001b[0m\u001b[0;34m\u001b[0m\u001b[0;34m\u001b[0m\u001b[0m\n\u001b[1;32m   1181\u001b[0m     \u001b[0mchunk_store\u001b[0m \u001b[0;34m=\u001b[0m \u001b[0mkwargs\u001b[0m\u001b[0;34m.\u001b[0m\u001b[0mpop\u001b[0m\u001b[0;34m(\u001b[0m\u001b[0;34m'chunk_store'\u001b[0m\u001b[0;34m,\u001b[0m \u001b[0;32mNone\u001b[0m\u001b[0;34m)\u001b[0m \u001b[0;32mor\u001b[0m \u001b[0mstore\u001b[0m\u001b[0;34m\u001b[0m\u001b[0;34m\u001b[0m\u001b[0m\n\u001b[0;32m-> 1182\u001b[0;31m     \u001b[0;32mreturn\u001b[0m \u001b[0mopen\u001b[0m\u001b[0;34m(\u001b[0m\u001b[0mstore\u001b[0m\u001b[0;34m=\u001b[0m\u001b[0mmeta_store\u001b[0m\u001b[0;34m,\u001b[0m \u001b[0mchunk_store\u001b[0m\u001b[0;34m=\u001b[0m\u001b[0mchunk_store\u001b[0m\u001b[0;34m,\u001b[0m \u001b[0mmode\u001b[0m\u001b[0;34m=\u001b[0m\u001b[0mmode\u001b[0m\u001b[0;34m,\u001b[0m \u001b[0;34m**\u001b[0m\u001b[0mkwargs\u001b[0m\u001b[0;34m)\u001b[0m\u001b[0;34m\u001b[0m\u001b[0;34m\u001b[0m\u001b[0m\n\u001b[0m",
      "\u001b[0;32m~/miniconda3/envs/py38/lib/python3.8/site-packages/zarr/convenience.py\u001b[0m in \u001b[0;36mopen\u001b[0;34m(store, mode, **kwargs)\u001b[0m\n\u001b[1;32m     98\u001b[0m             \u001b[0;32mreturn\u001b[0m \u001b[0mopen_group\u001b[0m\u001b[0;34m(\u001b[0m\u001b[0mstore\u001b[0m\u001b[0;34m,\u001b[0m \u001b[0mmode\u001b[0m\u001b[0;34m=\u001b[0m\u001b[0mmode\u001b[0m\u001b[0;34m,\u001b[0m \u001b[0;34m**\u001b[0m\u001b[0mkwargs\u001b[0m\u001b[0;34m)\u001b[0m\u001b[0;34m\u001b[0m\u001b[0;34m\u001b[0m\u001b[0m\n\u001b[1;32m     99\u001b[0m         \u001b[0;32melse\u001b[0m\u001b[0;34m:\u001b[0m\u001b[0;34m\u001b[0m\u001b[0;34m\u001b[0m\u001b[0m\n\u001b[0;32m--> 100\u001b[0;31m             \u001b[0;32mraise\u001b[0m \u001b[0mPathNotFoundError\u001b[0m\u001b[0;34m(\u001b[0m\u001b[0mpath\u001b[0m\u001b[0;34m)\u001b[0m\u001b[0;34m\u001b[0m\u001b[0;34m\u001b[0m\u001b[0m\n\u001b[0m\u001b[1;32m    101\u001b[0m \u001b[0;34m\u001b[0m\u001b[0m\n\u001b[1;32m    102\u001b[0m \u001b[0;34m\u001b[0m\u001b[0m\n",
      "\u001b[0;31mPathNotFoundError\u001b[0m: nothing found at path ''"
     ]
    }
   ],
   "source": [
    "zarr.consolidate_metadata(\"/home/idies/workspace/turb/data02_03/zarr/ncar-zarr/e\")"
   ]
  }
 ],
 "metadata": {
  "kernelspec": {
   "display_name": "Python 3.8 (py38)",
   "language": "python",
   "name": "py38"
  },
  "language_info": {
   "codemirror_mode": {
    "name": "ipython",
    "version": 3
   },
   "file_extension": ".py",
   "mimetype": "text/x-python",
   "name": "python",
   "nbconvert_exporter": "python",
   "pygments_lexer": "ipython3",
   "version": "3.8.5"
  }
 },
 "nbformat": 4,
 "nbformat_minor": 4
}
