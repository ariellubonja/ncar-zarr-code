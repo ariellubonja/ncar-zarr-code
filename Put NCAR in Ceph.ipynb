{
 "cells": [
  {
   "cell_type": "code",
   "execution_count": 1,
   "metadata": {
    "scrolled": true
   },
   "outputs": [
    {
     "name": "stdout",
     "output_type": "stream",
     "text": [
      "Requirement already satisfied: xarray[parallel] in /home/idies/miniconda3/lib/python3.8/site-packages (2023.1.0)\n",
      "Requirement already satisfied: pandas>=1.3 in /home/idies/miniconda3/lib/python3.8/site-packages (from xarray[parallel]) (1.5.3)\n",
      "Requirement already satisfied: numpy>=1.20 in /home/idies/miniconda3/lib/python3.8/site-packages (from xarray[parallel]) (1.24.2)\n",
      "Requirement already satisfied: packaging>=21.3 in /home/idies/miniconda3/lib/python3.8/site-packages (from xarray[parallel]) (23.0)\n",
      "Requirement already satisfied: dask[complete] in /home/idies/miniconda3/lib/python3.8/site-packages (from xarray[parallel]) (2023.1.1)\n",
      "Requirement already satisfied: pytz>=2020.1 in /home/idies/miniconda3/lib/python3.8/site-packages (from pandas>=1.3->xarray[parallel]) (2021.1)\n",
      "Requirement already satisfied: python-dateutil>=2.8.1 in /home/idies/miniconda3/lib/python3.8/site-packages (from pandas>=1.3->xarray[parallel]) (2.8.1)\n",
      "Requirement already satisfied: six>=1.5 in /home/idies/miniconda3/lib/python3.8/site-packages (from python-dateutil>=2.8.1->pandas>=1.3->xarray[parallel]) (1.15.0)\n",
      "Requirement already satisfied: pyyaml>=5.3.1 in /home/idies/miniconda3/lib/python3.8/site-packages (from dask[complete]->xarray[parallel]) (6.0)\n",
      "Requirement already satisfied: toolz>=0.8.2 in /home/idies/miniconda3/lib/python3.8/site-packages (from dask[complete]->xarray[parallel]) (0.12.0)\n",
      "Requirement already satisfied: cloudpickle>=1.1.1 in /home/idies/miniconda3/lib/python3.8/site-packages (from dask[complete]->xarray[parallel]) (2.2.1)\n",
      "Requirement already satisfied: fsspec>=0.6.0 in /home/idies/miniconda3/lib/python3.8/site-packages (from dask[complete]->xarray[parallel]) (2023.1.0)\n",
      "Requirement already satisfied: click>=7.0 in /home/idies/miniconda3/lib/python3.8/site-packages (from dask[complete]->xarray[parallel]) (8.1.3)\n",
      "Requirement already satisfied: partd>=0.3.10 in /home/idies/miniconda3/lib/python3.8/site-packages (from dask[complete]->xarray[parallel]) (1.3.0)\n",
      "Requirement already satisfied: jinja2 in /home/idies/miniconda3/lib/python3.8/site-packages (from dask[complete]->xarray[parallel]) (2.11.2)\n",
      "Requirement already satisfied: bokeh<3,>=2.4.2 in /home/idies/miniconda3/lib/python3.8/site-packages (from dask[complete]->xarray[parallel]) (2.4.3)\n",
      "Requirement already satisfied: distributed==2023.1.1 in /home/idies/miniconda3/lib/python3.8/site-packages (from dask[complete]->xarray[parallel]) (2023.1.1)\n",
      "Requirement already satisfied: sortedcontainers>=2.0.5 in /home/idies/miniconda3/lib/python3.8/site-packages (from distributed==2023.1.1->dask[complete]->xarray[parallel]) (2.4.0)\n",
      "Requirement already satisfied: psutil>=5.7.0 in /home/idies/miniconda3/lib/python3.8/site-packages (from distributed==2023.1.1->dask[complete]->xarray[parallel]) (5.9.4)\n",
      "Requirement already satisfied: tornado>=6.0.3 in /home/idies/miniconda3/lib/python3.8/site-packages (from distributed==2023.1.1->dask[complete]->xarray[parallel]) (6.1)\n",
      "Requirement already satisfied: urllib3>=1.24.3 in /home/idies/miniconda3/lib/python3.8/site-packages (from distributed==2023.1.1->dask[complete]->xarray[parallel]) (1.26.2)\n",
      "Requirement already satisfied: zict>=2.1.0 in /home/idies/miniconda3/lib/python3.8/site-packages (from distributed==2023.1.1->dask[complete]->xarray[parallel]) (2.2.0)\n",
      "Requirement already satisfied: tblib>=1.6.0 in /home/idies/miniconda3/lib/python3.8/site-packages (from distributed==2023.1.1->dask[complete]->xarray[parallel]) (1.7.0)\n",
      "Requirement already satisfied: locket>=1.0.0 in /home/idies/miniconda3/lib/python3.8/site-packages (from distributed==2023.1.1->dask[complete]->xarray[parallel]) (1.0.0)\n",
      "Requirement already satisfied: msgpack>=1.0.0 in /home/idies/miniconda3/lib/python3.8/site-packages (from distributed==2023.1.1->dask[complete]->xarray[parallel]) (1.0.4)\n",
      "Requirement already satisfied: typing-extensions>=3.10.0 in /home/idies/miniconda3/lib/python3.8/site-packages (from bokeh<3,>=2.4.2->dask[complete]->xarray[parallel]) (4.4.0)\n",
      "Requirement already satisfied: pillow>=7.1.0 in /home/idies/miniconda3/lib/python3.8/site-packages (from bokeh<3,>=2.4.2->dask[complete]->xarray[parallel]) (9.4.0)\n",
      "Requirement already satisfied: MarkupSafe>=0.23 in /home/idies/miniconda3/lib/python3.8/site-packages (from jinja2->dask[complete]->xarray[parallel]) (1.1.1)\n",
      "Requirement already satisfied: heapdict in /home/idies/miniconda3/lib/python3.8/site-packages (from zict>=2.1.0->distributed==2023.1.1->dask[complete]->xarray[parallel]) (1.0.1)\n"
     ]
    }
   ],
   "source": [
    "!python -m pip install \"xarray[parallel]\""
   ]
  },
  {
   "cell_type": "code",
   "execution_count": 2,
   "metadata": {
    "scrolled": true,
    "tags": []
   },
   "outputs": [
    {
     "name": "stdout",
     "output_type": "stream",
     "text": [
      "Package                       Version\n",
      "----------------------------- -------------------\n",
      "aiobotocore                   2.4.2\n",
      "aiohttp                       3.8.3\n",
      "aioitertools                  0.11.0\n",
      "aiosignal                     1.3.1\n",
      "anyio                         2.1.0\n",
      "argon2-cffi                   20.1.0\n",
      "async-generator               1.10\n",
      "async-timeout                 4.0.2\n",
      "attrs                         20.3.0\n",
      "Babel                         2.9.0\n",
      "backcall                      0.2.0\n",
      "backports.functools-lru-cache 1.6.1\n",
      "bleach                        3.2.1\n",
      "bokeh                         2.4.3\n",
      "botocore                      1.27.59\n",
      "branca                        0.4.2\n",
      "brotlipy                      0.7.0\n",
      "certifi                       2020.12.5\n",
      "cffi                          1.14.4\n",
      "chardet                       4.0.0\n",
      "charset-normalizer            2.1.1\n",
      "click                         8.1.3\n",
      "cloudpickle                   2.2.1\n",
      "conda                         4.9.2\n",
      "conda-package-handling        1.7.2\n",
      "cryptography                  3.3.1\n",
      "dask                          2023.1.1\n",
      "decorator                     4.4.2\n",
      "defusedxml                    0.6.0\n",
      "distributed                   2023.1.1\n",
      "entrypoints                   0.3\n",
      "frozenlist                    1.3.3\n",
      "fsspec                        2023.1.0\n",
      "HeapDict                      1.0.1\n",
      "idna                          2.10\n",
      "importlib-metadata            3.3.0\n",
      "ipykernel                     5.4.2\n",
      "ipyleaflet                    0.13.6\n",
      "ipython                       7.19.0\n",
      "ipython-genutils              0.2.0\n",
      "ipywidgets                    7.6.2\n",
      "jedi                          0.18.0\n",
      "Jinja2                        2.11.2\n",
      "jmespath                      1.0.1\n",
      "json5                         0.9.5\n",
      "jsonschema                    3.2.0\n",
      "jupyter-client                6.1.7\n",
      "jupyter-console               6.2.0\n",
      "jupyter-core                  4.7.0\n",
      "jupyter-server                1.3.0\n",
      "jupyterlab                    3.0.8\n",
      "jupyterlab-pygments           0.1.2\n",
      "jupyterlab-server             2.2.1\n",
      "jupyterlab-widgets            1.0.0\n",
      "locket                        1.0.0\n",
      "mamba                         0.7.6\n",
      "MarkupSafe                    1.1.1\n",
      "mistune                       0.8.4\n",
      "msgpack                       1.0.4\n",
      "multidict                     6.0.4\n",
      "nbclassic                     0.2.6\n",
      "nbclient                      0.5.1\n",
      "nbconvert                     6.0.7\n",
      "nbformat                      5.0.8\n",
      "nest-asyncio                  1.4.3\n",
      "notebook                      6.1.6\n",
      "numpy                         1.24.2\n",
      "packaging                     23.0\n",
      "pandas                        1.5.3\n",
      "pandocfilters                 1.4.2\n",
      "parso                         0.8.1\n",
      "partd                         1.3.0\n",
      "pexpect                       4.8.0\n",
      "pickleshare                   0.7.5\n",
      "Pillow                        9.4.0\n",
      "pip                           20.3.3\n",
      "plotly                        4.14.3\n",
      "prometheus-client             0.9.0\n",
      "prompt-toolkit                3.0.8\n",
      "psutil                        5.9.4\n",
      "ptyprocess                    0.6.0\n",
      "pycosat                       0.6.3\n",
      "pycparser                     2.20\n",
      "Pygments                      2.7.3\n",
      "pyOpenSSL                     20.0.1\n",
      "pyparsing                     2.4.7\n",
      "pyrsistent                    0.17.3\n",
      "PySocks                       1.7.1\n",
      "python-dateutil               2.8.1\n",
      "pytz                          2021.1\n",
      "PyYAML                        6.0\n",
      "pyzmq                         20.0.0\n",
      "qtconsole                     5.0.1\n",
      "QtPy                          1.9.0\n",
      "requests                      2.25.1\n",
      "retrying                      1.3.3\n",
      "ruamel-yaml                   0.15.87\n",
      "s3fs                          2023.1.0\n",
      "Send2Trash                    1.5.0\n",
      "setuptools                    51.0.0.post20201207\n",
      "Shapely                       1.7.1\n",
      "sip                           4.19.13\n",
      "six                           1.15.0\n",
      "sniffio                       1.2.0\n",
      "sortedcontainers              2.4.0\n",
      "tblib                         1.7.0\n",
      "terminado                     0.9.1\n",
      "testpath                      0.4.4\n",
      "toolz                         0.12.0\n",
      "tornado                       6.1\n",
      "tqdm                          4.55.0\n",
      "traitlets                     5.0.5\n",
      "traittypes                    0.2.1\n",
      "typing-extensions             4.4.0\n",
      "urllib3                       1.26.2\n",
      "wcwidth                       0.2.5\n",
      "webencodings                  0.5.1\n",
      "wheel                         0.36.2\n",
      "widgetsnbextension            3.5.1\n",
      "wrapt                         1.14.1\n",
      "xarray                        2023.1.0\n",
      "yarl                          1.8.2\n",
      "zict                          2.2.0\n",
      "zipp                          3.4.0\n"
     ]
    }
   ],
   "source": [
    "!pip list"
   ]
  },
  {
   "cell_type": "code",
   "execution_count": 3,
   "metadata": {},
   "outputs": [],
   "source": [
    "import xarray as xr"
   ]
  },
  {
   "cell_type": "code",
   "execution_count": 4,
   "metadata": {},
   "outputs": [
    {
     "name": "stdout",
     "output_type": "stream",
     "text": [
      "'Put NCAR in Ceph.ipynb'   con_stats.mod   read_ncar.f\n",
      " a.out\t\t\t   go_compile\t   sciserver-experimental\n",
      " ariel\t\t\t   jhd.100.nc\t   turbulence_output\n",
      " ceph_s3_creds.txt\t   jobs\t\t   turbulence_pickled_zarr_test\n",
      " con_data.mod\t\t   pars.mod\t   vars.mod\n"
     ]
    }
   ],
   "source": [
    "!ls"
   ]
  },
  {
   "cell_type": "code",
   "execution_count": 5,
   "metadata": {},
   "outputs": [],
   "source": [
    "ds = xr.open_dataset(\"./jhd.100.nc\", chunks=\"auto\")"
   ]
  },
  {
   "cell_type": "code",
   "execution_count": 6,
   "metadata": {},
   "outputs": [],
   "source": [
    "# Ryan's Ceph code\n",
    "data_xr = ds"
   ]
  },
  {
   "cell_type": "code",
   "execution_count": 7,
   "metadata": {},
   "outputs": [
    {
     "name": "stdout",
     "output_type": "stream",
     "text": [
      "[########################################] | 100% Completed |  1hr 54min 57.7s\n"
     ]
    }
   ],
   "source": [
    "import os\n",
    " \n",
    "import numpy as np\n",
    "import s3fs\n",
    "import zarr\n",
    "import xarray as xr\n",
    "import dask\n",
    " \n",
    " \n",
    "# sets s3 login env variables\n",
    "with open(\"ceph_s3_creds.txt\", \"r\") as f:\n",
    "    for l in f.readlines():\n",
    "        k, v = l.strip().split(\"=\")\n",
    "        os.environ[k] = v\n",
    " \n",
    " \n",
    "# get your data from where\n",
    "# data = np.zeros([512, 512, 512, 3])\n",
    "\n",
    "s3fs.S3FileSystem.connect_timeout = 0.1\n",
    " \n",
    " \n",
    "# sample 1\n",
    "# SAVING WITH XARRAY vvvvvvvvvvvvvvvvvvvvvvvvvvvvvvvvvvvvvvvvvvvvvvvvvvvvvvvvvv\n",
    "s3 = s3fs.S3FileSystem(\n",
    "    anon=False,\n",
    "    client_kwargs=dict(\n",
    "        endpoint_url='https://rgw.idies.jhu.edu',\n",
    "    )\n",
    ")\n",
    " \n",
    "# this is a made up key that will act like a path to the zarr files\n",
    "path_key = \"sciserver-experimental/ariel/tests\"\n",
    " \n",
    "store = zarr.storage.FSStore(\n",
    "    path_key,\n",
    "    mode=\"w\",\n",
    "    fs=s3\n",
    ")\n",
    " \n",
    "# data_xr = xr.DataArray(\n",
    "#     data,\n",
    "#     dims=(\"z\", \"y\", \"x\", \"c\"),\n",
    "#     name=variable,\n",
    "# ).to_dataset()\n",
    "\n",
    "# data_xr = data_xr.to_dataset()\n",
    "\n",
    "# tqdm to check progress\n",
    "# data_xr.to_zarr(\n",
    "#      store=store,\n",
    "#      mode=\"w\"#,\n",
    "# #      encoding={\n",
    "# #         variable: dict(chunks=(64, 64, 64, 3), compressor=None)\n",
    "# #      }\n",
    "# )\n",
    "\n",
    "# https://docs.dask.org/en/stable/diagnostics-local.html\n",
    "from dask.diagnostics import ProgressBar\n",
    "\n",
    "# https://github.com/pangeo-data/pangeo/issues/150\n",
    "# with dask.config.set(get=dask.threaded.get):\n",
    "with ProgressBar():\n",
    "    data_xr.to_zarr(store=store, mode=\"w\")# overwrite if exists"
   ]
  }
 ],
 "metadata": {
  "kernelspec": {
   "display_name": "Python 3.8 (py38)",
   "language": "python",
   "name": "py38"
  },
  "language_info": {
   "codemirror_mode": {
    "name": "ipython",
    "version": 3
   },
   "file_extension": ".py",
   "mimetype": "text/x-python",
   "name": "python",
   "nbconvert_exporter": "python",
   "pygments_lexer": "ipython3",
   "version": "3.8.5"
  }
 },
 "nbformat": 4,
 "nbformat_minor": 4
}
